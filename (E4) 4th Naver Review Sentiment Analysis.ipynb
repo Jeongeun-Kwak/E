{
 "cells": [
  {
   "cell_type": "markdown",
   "metadata": {},
   "source": [
    "# E4 네이버 영화리뷰 감성분석 도전하기\n",
    "일시: 2020년 1월 14일 목요일"
   ]
  },
  {
   "cell_type": "markdown",
   "metadata": {},
   "source": [
    "# Step 1. 데이터 준비와 확인"
   ]
  },
  {
   "cell_type": "markdown",
   "metadata": {},
   "source": [
    "**1. 네이버 영화의 댓글을 모아 구성된 [Naver sentiment movie corpus](https://github.com/e9t/nsmc)를 다운받아줍니다.**"
   ]
  },
  {
   "cell_type": "markdown",
   "metadata": {},
   "source": [
    "```\n",
    "$ wget https://raw.githubusercontent.com/e9t/nsmc/master/ratings_train.txt\n",
    "$ wget https://raw.githubusercontent.com/e9t/nsmc/master/ratings_test.txt\n",
    "$ mv ratings_*.txt ~/aiffel/sentiment_classification\n",
    "```"
   ]
  },
  {
   "cell_type": "code",
   "execution_count": 1,
   "metadata": {},
   "outputs": [
    {
     "data": {
      "text/html": [
       "<div>\n",
       "<style scoped>\n",
       "    .dataframe tbody tr th:only-of-type {\n",
       "        vertical-align: middle;\n",
       "    }\n",
       "\n",
       "    .dataframe tbody tr th {\n",
       "        vertical-align: top;\n",
       "    }\n",
       "\n",
       "    .dataframe thead th {\n",
       "        text-align: right;\n",
       "    }\n",
       "</style>\n",
       "<table border=\"1\" class=\"dataframe\">\n",
       "  <thead>\n",
       "    <tr style=\"text-align: right;\">\n",
       "      <th></th>\n",
       "      <th>id</th>\n",
       "      <th>document</th>\n",
       "      <th>label</th>\n",
       "    </tr>\n",
       "  </thead>\n",
       "  <tbody>\n",
       "    <tr>\n",
       "      <th>0</th>\n",
       "      <td>9976970</td>\n",
       "      <td>아 더빙.. 진짜 짜증나네요 목소리</td>\n",
       "      <td>0</td>\n",
       "    </tr>\n",
       "    <tr>\n",
       "      <th>1</th>\n",
       "      <td>3819312</td>\n",
       "      <td>흠...포스터보고 초딩영화줄....오버연기조차 가볍지 않구나</td>\n",
       "      <td>1</td>\n",
       "    </tr>\n",
       "    <tr>\n",
       "      <th>2</th>\n",
       "      <td>10265843</td>\n",
       "      <td>너무재밓었다그래서보는것을추천한다</td>\n",
       "      <td>0</td>\n",
       "    </tr>\n",
       "    <tr>\n",
       "      <th>3</th>\n",
       "      <td>9045019</td>\n",
       "      <td>교도소 이야기구먼 ..솔직히 재미는 없다..평점 조정</td>\n",
       "      <td>0</td>\n",
       "    </tr>\n",
       "    <tr>\n",
       "      <th>4</th>\n",
       "      <td>6483659</td>\n",
       "      <td>사이몬페그의 익살스런 연기가 돋보였던 영화!스파이더맨에서 늙어보이기만 했던 커스틴 ...</td>\n",
       "      <td>1</td>\n",
       "    </tr>\n",
       "  </tbody>\n",
       "</table>\n",
       "</div>"
      ],
      "text/plain": [
       "         id                                           document  label\n",
       "0   9976970                                아 더빙.. 진짜 짜증나네요 목소리      0\n",
       "1   3819312                  흠...포스터보고 초딩영화줄....오버연기조차 가볍지 않구나      1\n",
       "2  10265843                                  너무재밓었다그래서보는것을추천한다      0\n",
       "3   9045019                      교도소 이야기구먼 ..솔직히 재미는 없다..평점 조정      0\n",
       "4   6483659  사이몬페그의 익살스런 연기가 돋보였던 영화!스파이더맨에서 늙어보이기만 했던 커스틴 ...      1"
      ]
     },
     "execution_count": 1,
     "metadata": {},
     "output_type": "execute_result"
    }
   ],
   "source": [
    "import pandas as pd\n",
    "import urllib.request\n",
    "%matplotlib inline\n",
    "import matplotlib.pyplot as plt\n",
    "import re\n",
    "from konlpy.tag import Okt\n",
    "from tensorflow import keras\n",
    "from tensorflow.keras.preprocessing.text import Tokenizer\n",
    "import numpy as np\n",
    "from tensorflow.keras.preprocessing.sequence import pad_sequences\n",
    "from collections import Counter\n",
    "\n",
    "# 데이터를 읽어봅시다. \n",
    "train_data = pd.read_table('~/aiffel/sentiment_classification/ratings_train.txt')\n",
    "test_data = pd.read_table('~/aiffel/sentiment_classification/ratings_test.txt')\n",
    "\n",
    "train_data.head()"
   ]
  },
  {
   "cell_type": "markdown",
   "metadata": {},
   "source": [
    "# Step 2. 데이터로더 구성"
   ]
  },
  {
   "cell_type": "markdown",
   "metadata": {},
   "source": [
    "- 데이터의 중복 제거\n",
    "- NaN 결측치 제거\n",
    "- 한국어 토크나이저로 토큰화\n",
    "- 불용어(Stopwords) 제거\n",
    "- 사전word_to_index 구성\n",
    "- 텍스트 스트링을 사전 인덱스 스트링으로 변환\n",
    "- X_train, y_train, X_test, y_test, word_to_index 리턴"
   ]
  },
  {
   "cell_type": "markdown",
   "metadata": {},
   "source": [
    "**2. 위 작업으로 데이터 로더를 구성합니다.**"
   ]
  },
  {
   "cell_type": "code",
   "execution_count": 2,
   "metadata": {},
   "outputs": [],
   "source": [
    "from konlpy.tag import Mecab\n",
    "tokenizer = Mecab()\n",
    "stopwords = ['의','가','이','은','들','는','좀','잘','걍','과','도','를','으로','자','에','와','한','하다']\n",
    "\n",
    "def load_data(train_data, test_data, num_words=10000):\n",
    "    train_data.drop_duplicates(subset=['document'], inplace=True)\n",
    "    train_data = train_data.dropna(how = 'any') \n",
    "    test_data.drop_duplicates(subset=['document'], inplace=True)\n",
    "    test_data = test_data.dropna(how = 'any') \n",
    "\n",
    "    X_train = []\n",
    "    for sentence in train_data['document']:\n",
    "        temp_X = tokenizer.morphs(sentence) # 토큰화\n",
    "        temp_X = [word for word in temp_X if not word in stopwords] # 불용어 제거\n",
    "        X_train.append(temp_X)\n",
    "\n",
    "    X_test = []\n",
    "    for sentence in test_data['document']:\n",
    "        temp_X = tokenizer.morphs(sentence) # 토큰화\n",
    "        temp_X = [word for word in temp_X if not word in stopwords] # 불용어 제거\n",
    "        X_test.append(temp_X)\n",
    "\n",
    "    words = np.concatenate(X_train).tolist()\n",
    "    counter = Counter(words)\n",
    "    counter = counter.most_common(10000-4)\n",
    "    vocab = ['<PAD>', '<BOS>', '<UNK>', '<UNUSED>'] + [key for key, _ in counter]\n",
    "    word_to_index = {word:index for index, word in enumerate(vocab)}\n",
    "\n",
    "    def wordlist_to_indexlist(wordlist):\n",
    "        return [word_to_index[word] if word in word_to_index else word_to_index['<UNK>'] for word in wordlist]\n",
    "\n",
    "    X_train = list(map(wordlist_to_indexlist, X_train))\n",
    "    X_test = list(map(wordlist_to_indexlist, X_test))\n",
    "\n",
    "    return X_train, np.array(list(train_data['label'])), X_test, np.array(list(test_data['label'])), word_to_index\n",
    "\n",
    "X_train, y_train, X_test, y_test, word_to_index = load_data(train_data, test_data) "
   ]
  },
  {
   "cell_type": "code",
   "execution_count": 3,
   "metadata": {},
   "outputs": [],
   "source": [
    "index_to_word = {index:word for word, index in word_to_index.items()}"
   ]
  },
  {
   "cell_type": "code",
   "execution_count": 4,
   "metadata": {},
   "outputs": [],
   "source": [
    "# 문장 1개를 활용할 딕셔너리와 함께 주면, 단어 인덱스 리스트 벡터로 변환해 주는 함수\n",
    "def get_encoded_sentence(sentence, word_to_index):\n",
    "    return [word_to_index['<BOS>']]+[word_to_index[word] if word in word_to_index else word_to_index['<UNK>'] for word in sentence.split()]\n",
    "\n",
    "# 여러 개의 문장 리스트를 한꺼번에 단어 인덱스 리스트 벡터로 encode해 주는 함수\n",
    "def get_encoded_sentences(sentences, word_to_index):\n",
    "    return [get_encoded_sentence(sentence, word_to_index) for sentence in sentences]\n",
    "\n",
    "# 숫자 벡터로 encode된 문장을 원래대로 decode하는 함수\n",
    "def get_decoded_sentence(encoded_sentence, index_to_word):\n",
    "    return ' '.join(index_to_word[index] if index in index_to_word else '<UNK>' for index in encoded_sentence[1:])  #[1:]를 통해 <BOS>를 제외\n",
    "\n",
    "# 여러개의 숫자 벡터로 encode된 문장을 한꺼번에 원래대로 decode하는 함수\n",
    "def get_decoded_sentences(encoded_sentences, index_to_word):\n",
    "    return [get_decoded_sentence(encoded_sentence, index_to_word) for encoded_sentence in encoded_sentences]"
   ]
  },
  {
   "cell_type": "markdown",
   "metadata": {},
   "source": [
    "# Step 3. 모델구성을 위한 데이터 분석 및 가공"
   ]
  },
  {
   "cell_type": "code",
   "execution_count": 5,
   "metadata": {},
   "outputs": [
    {
     "name": "stdout",
     "output_type": "stream",
     "text": [
      "훈련 샘플 개수: 146182, 테스트 개수: 49157\n"
     ]
    }
   ],
   "source": [
    "print(\"훈련 샘플 개수: {}, 테스트 개수: {}\".format(len(X_train), len(X_test)))"
   ]
  },
  {
   "cell_type": "markdown",
   "metadata": {},
   "source": [
    "**3. 데이터셋 내 문장 길이 분포를 파악합니다.** "
   ]
  },
  {
   "cell_type": "code",
   "execution_count": 6,
   "metadata": {},
   "outputs": [
    {
     "name": "stdout",
     "output_type": "stream",
     "text": [
      "[32, 74, 919, 4, 4, 39, 228, 20, 33, 748]\n",
      "라벨:  0\n",
      "1번째 리뷰 문장 길이:  10\n",
      "2번째 리뷰 문장 길이:  17\n"
     ]
    }
   ],
   "source": [
    "print(X_train[0])  # 1번째 리뷰데이터\n",
    "print('라벨: ', y_train[0])  # 1번째 리뷰데이터의 라벨\n",
    "print('1번째 리뷰 문장 길이: ', len(X_train[0]))\n",
    "print('2번째 리뷰 문장 길이: ', len(X_train[1]))"
   ]
  },
  {
   "cell_type": "code",
   "execution_count": 7,
   "metadata": {},
   "outputs": [
    {
     "name": "stdout",
     "output_type": "stream",
     "text": [
      "더 빙 . . 진짜 짜증 나 네요 목소리\n",
      "라벨:  0\n"
     ]
    }
   ],
   "source": [
    "print(get_decoded_sentence(X_train[0], index_to_word))\n",
    "print('라벨: ', y_train[0])  # 1번째 리뷰데이터의 라벨"
   ]
  },
  {
   "cell_type": "markdown",
   "metadata": {},
   "source": [
    "**4. 적절한 최대 문장 길이를 지정합니다.**"
   ]
  },
  {
   "cell_type": "code",
   "execution_count": 8,
   "metadata": {},
   "outputs": [
    {
     "name": "stdout",
     "output_type": "stream",
     "text": [
      "문장길이 평균 :  15.96940191154864\n",
      "문장길이 최대 :  116\n",
      "문장길이 표준편차 :  12.843571191092\n",
      "pad_sequences maxlen :  41\n",
      "전체 문장의 0.9342988343341575%가 maxlen 설정값 이내에 포함됩니다. \n"
     ]
    }
   ],
   "source": [
    "total_data_text = list(X_train) + list(X_test)\n",
    "# 텍스트데이터 문장길이의 리스트를 생성\n",
    "num_tokens = [len(tokens) for tokens in total_data_text]\n",
    "num_tokens = np.array(num_tokens)\n",
    "\n",
    "print('문장길이 평균 : ', np.mean(num_tokens))\n",
    "print('문장길이 최대 : ', np.max(num_tokens))\n",
    "print('문장길이 표준편차 : ', np.std(num_tokens))\n",
    "\n",
    "# 최대 길이를 (평균 + 2*표준편차)로 설정  \n",
    "max_tokens = np.mean(num_tokens) + 2 * np.std(num_tokens)\n",
    "maxlen = int(max_tokens)\n",
    "print('pad_sequences maxlen : ', maxlen)\n",
    "print('전체 문장의 {}%가 maxlen 설정값 이내에 포함됩니다. '.format(np.sum(num_tokens < max_tokens) / len(num_tokens)))"
   ]
  },
  {
   "cell_type": "markdown",
   "metadata": {},
   "source": [
    "**5. ```keras.preprocessing.sequence.pad_sequences```을 활용한 패딩 추가합니다.**"
   ]
  },
  {
   "cell_type": "code",
   "execution_count": 9,
   "metadata": {},
   "outputs": [
    {
     "name": "stdout",
     "output_type": "stream",
     "text": [
      "(146182, 41)\n"
     ]
    }
   ],
   "source": [
    "X_train = keras.preprocessing.sequence.pad_sequences(X_train,\n",
    "                                                        value=word_to_index[\"<PAD>\"],\n",
    "                                                        padding='pre', # 혹은 'pre'\n",
    "                                                        maxlen=maxlen)\n",
    "\n",
    "X_test = keras.preprocessing.sequence.pad_sequences(X_test,\n",
    "                                                       value=word_to_index[\"<PAD>\"],\n",
    "                                                       padding='pre', # 혹은 'pre'\n",
    "                                                       maxlen=maxlen)\n",
    "\n",
    "print(X_train.shape)"
   ]
  },
  {
   "cell_type": "markdown",
   "metadata": {},
   "source": [
    "# Step 4. 모델 구성 및 validation set 구성"
   ]
  },
  {
   "cell_type": "markdown",
   "metadata": {},
   "source": [
    "**6. RNN, 1-D Convolution Neural Network(1-D CNN), GlobalMaxPooling1D() 레이어 하나만 사용하는 방법을 가지고 3가지 모델을 구성합니다.**"
   ]
  },
  {
   "cell_type": "markdown",
   "metadata": {},
   "source": [
    "## (1) RNN"
   ]
  },
  {
   "cell_type": "code",
   "execution_count": 10,
   "metadata": {},
   "outputs": [
    {
     "name": "stdout",
     "output_type": "stream",
     "text": [
      "Model: \"sequential\"\n",
      "_________________________________________________________________\n",
      "Layer (type)                 Output Shape              Param #   \n",
      "=================================================================\n",
      "embedding (Embedding)        (None, None, 16)          160000    \n",
      "_________________________________________________________________\n",
      "lstm (LSTM)                  (None, 8)                 800       \n",
      "_________________________________________________________________\n",
      "dense (Dense)                (None, 8)                 72        \n",
      "_________________________________________________________________\n",
      "dense_1 (Dense)              (None, 1)                 9         \n",
      "=================================================================\n",
      "Total params: 160,881\n",
      "Trainable params: 160,881\n",
      "Non-trainable params: 0\n",
      "_________________________________________________________________\n"
     ]
    }
   ],
   "source": [
    "import numpy as np\n",
    "import tensorflow as tf\n",
    "from tensorflow import keras\n",
    "\n",
    "vocab_size = 10000    \n",
    "word_vector_dim = 16  \n",
    "\n",
    "model_rnn = keras.Sequential()\n",
    "model_rnn.add(keras.layers.Embedding(vocab_size, word_vector_dim, input_shape=(None,)))\n",
    "model_rnn.add(keras.layers.LSTM(8))   \n",
    "model_rnn.add(keras.layers.Dense(8, activation='relu'))\n",
    "model_rnn.add(keras.layers.Dense(1, activation='sigmoid'))  \n",
    "\n",
    "model_rnn.summary()"
   ]
  },
  {
   "cell_type": "markdown",
   "metadata": {},
   "source": [
    "## (2) 1-D Convolution Neural Network(1-D CNN)"
   ]
  },
  {
   "cell_type": "code",
   "execution_count": 11,
   "metadata": {},
   "outputs": [
    {
     "name": "stdout",
     "output_type": "stream",
     "text": [
      "Model: \"sequential_1\"\n",
      "_________________________________________________________________\n",
      "Layer (type)                 Output Shape              Param #   \n",
      "=================================================================\n",
      "embedding_1 (Embedding)      (None, None, 16)          160000    \n",
      "_________________________________________________________________\n",
      "conv1d (Conv1D)              (None, None, 16)          1808      \n",
      "_________________________________________________________________\n",
      "max_pooling1d (MaxPooling1D) (None, None, 16)          0         \n",
      "_________________________________________________________________\n",
      "conv1d_1 (Conv1D)            (None, None, 16)          1808      \n",
      "_________________________________________________________________\n",
      "global_max_pooling1d (Global (None, 16)                0         \n",
      "_________________________________________________________________\n",
      "dense_2 (Dense)              (None, 8)                 136       \n",
      "_________________________________________________________________\n",
      "dense_3 (Dense)              (None, 1)                 9         \n",
      "=================================================================\n",
      "Total params: 163,761\n",
      "Trainable params: 163,761\n",
      "Non-trainable params: 0\n",
      "_________________________________________________________________\n"
     ]
    }
   ],
   "source": [
    "import numpy as np\n",
    "import tensorflow as tf\n",
    "from tensorflow import keras\n",
    "\n",
    "vocab_size = 10000 \n",
    "word_vector_dim = 16 \n",
    "\n",
    "model_oned = keras.Sequential()\n",
    "model_oned.add(keras.layers.Embedding(vocab_size, word_vector_dim, input_shape=(None,)))\n",
    "model_oned.add(keras.layers.Conv1D(16, 7, activation='relu'))\n",
    "model_oned.add(keras.layers.MaxPooling1D(5))\n",
    "model_oned.add(keras.layers.Conv1D(16, 7, activation='relu'))\n",
    "model_oned.add(keras.layers.GlobalMaxPooling1D())\n",
    "model_oned.add(keras.layers.Dense(8, activation='relu'))\n",
    "model_oned.add(keras.layers.Dense(1, activation='sigmoid'))  \n",
    "\n",
    "model_oned.summary()"
   ]
  },
  {
   "cell_type": "markdown",
   "metadata": {},
   "source": [
    "## (3) GlobalMaxPooling1D() 레이어 하나만 사용하는 방법"
   ]
  },
  {
   "cell_type": "code",
   "execution_count": 12,
   "metadata": {},
   "outputs": [
    {
     "name": "stdout",
     "output_type": "stream",
     "text": [
      "Model: \"sequential_2\"\n",
      "_________________________________________________________________\n",
      "Layer (type)                 Output Shape              Param #   \n",
      "=================================================================\n",
      "embedding_2 (Embedding)      (None, None, 16)          160000    \n",
      "_________________________________________________________________\n",
      "global_max_pooling1d_1 (Glob (None, 16)                0         \n",
      "_________________________________________________________________\n",
      "dense_4 (Dense)              (None, 8)                 136       \n",
      "_________________________________________________________________\n",
      "dense_5 (Dense)              (None, 1)                 9         \n",
      "=================================================================\n",
      "Total params: 160,145\n",
      "Trainable params: 160,145\n",
      "Non-trainable params: 0\n",
      "_________________________________________________________________\n"
     ]
    }
   ],
   "source": [
    "vocab_size = 10000  \n",
    "word_vector_dim = 16   \n",
    "\n",
    "model_max = keras.Sequential()\n",
    "model_max.add(keras.layers.Embedding(vocab_size, word_vector_dim, input_shape=(None,)))\n",
    "model_max.add(keras.layers.GlobalMaxPooling1D())\n",
    "model_max.add(keras.layers.Dense(8, activation='relu'))\n",
    "model_max.add(keras.layers.Dense(1, activation='sigmoid'))  \n",
    "\n",
    "model_max.summary()"
   ]
  },
  {
   "cell_type": "markdown",
   "metadata": {},
   "source": [
    "**7. Training set과 validation set을 구성합니다.**"
   ]
  },
  {
   "cell_type": "code",
   "execution_count": 13,
   "metadata": {},
   "outputs": [
    {
     "name": "stdout",
     "output_type": "stream",
     "text": [
      "(96182, 41)\n",
      "(96182,)\n"
     ]
    }
   ],
   "source": [
    "# validation set 20000건 분리\n",
    "X_val = X_train[:50000]   \n",
    "y_val = y_train[:50000]\n",
    "\n",
    "# validation set을 제외한 나머지 30000건\n",
    "partial_X_train = X_train[50000:]  \n",
    "partial_y_train = y_train[50000:]\n",
    "\n",
    "print(partial_X_train.shape)\n",
    "print(partial_y_train.shape)"
   ]
  },
  {
   "cell_type": "markdown",
   "metadata": {},
   "source": [
    "# Step 5. 모델 훈련 개시 "
   ]
  },
  {
   "cell_type": "markdown",
   "metadata": {},
   "source": [
    "**8. 구성한 3가지 모델을 각자 훈련시켜 줍니다.**"
   ]
  },
  {
   "cell_type": "markdown",
   "metadata": {},
   "source": [
    "## (1) RNN"
   ]
  },
  {
   "cell_type": "code",
   "execution_count": 14,
   "metadata": {},
   "outputs": [
    {
     "name": "stdout",
     "output_type": "stream",
     "text": [
      "Epoch 1/13\n",
      "188/188 [==============================] - 3s 18ms/step - loss: 0.5325 - accuracy: 0.7575 - val_loss: 0.3846 - val_accuracy: 0.8330\n",
      "Epoch 2/13\n",
      "188/188 [==============================] - 3s 16ms/step - loss: 0.3466 - accuracy: 0.8541 - val_loss: 0.3512 - val_accuracy: 0.8479\n",
      "Epoch 3/13\n",
      "188/188 [==============================] - 3s 16ms/step - loss: 0.3177 - accuracy: 0.8686 - val_loss: 0.3524 - val_accuracy: 0.8470\n",
      "Epoch 4/13\n",
      "188/188 [==============================] - 3s 16ms/step - loss: 0.3024 - accuracy: 0.8763 - val_loss: 0.3491 - val_accuracy: 0.8495\n",
      "Epoch 5/13\n",
      "188/188 [==============================] - 3s 16ms/step - loss: 0.2884 - accuracy: 0.8826 - val_loss: 0.3538 - val_accuracy: 0.8485\n",
      "Epoch 6/13\n",
      "188/188 [==============================] - 3s 16ms/step - loss: 0.2768 - accuracy: 0.8881 - val_loss: 0.3626 - val_accuracy: 0.8461\n",
      "Epoch 7/13\n",
      "188/188 [==============================] - 3s 16ms/step - loss: 0.2662 - accuracy: 0.8934 - val_loss: 0.3630 - val_accuracy: 0.8473\n",
      "Epoch 8/13\n",
      "188/188 [==============================] - 3s 16ms/step - loss: 0.2573 - accuracy: 0.8971 - val_loss: 0.3718 - val_accuracy: 0.8466\n",
      "Epoch 9/13\n",
      "188/188 [==============================] - 3s 16ms/step - loss: 0.2479 - accuracy: 0.9018 - val_loss: 0.3745 - val_accuracy: 0.8457\n",
      "Epoch 10/13\n",
      "188/188 [==============================] - 3s 16ms/step - loss: 0.2396 - accuracy: 0.9052 - val_loss: 0.3791 - val_accuracy: 0.8446\n",
      "Epoch 11/13\n",
      "188/188 [==============================] - 3s 16ms/step - loss: 0.2315 - accuracy: 0.9100 - val_loss: 0.3950 - val_accuracy: 0.8440\n",
      "Epoch 12/13\n",
      "188/188 [==============================] - 3s 17ms/step - loss: 0.2234 - accuracy: 0.9133 - val_loss: 0.4073 - val_accuracy: 0.8435\n",
      "Epoch 13/13\n",
      "188/188 [==============================] - 3s 17ms/step - loss: 0.2166 - accuracy: 0.9165 - val_loss: 0.4083 - val_accuracy: 0.8422\n"
     ]
    }
   ],
   "source": [
    "model_rnn.compile(optimizer='adam',\n",
    "              loss='binary_crossentropy',\n",
    "              metrics=['accuracy'])\n",
    "              \n",
    "epochs = 13\n",
    "\n",
    "history_rnn = model_rnn.fit(partial_X_train,\n",
    "                    partial_y_train,\n",
    "                    epochs=epochs,\n",
    "                    batch_size=512,\n",
    "                    validation_data=(X_val, y_val),\n",
    "                    verbose=1)"
   ]
  },
  {
   "cell_type": "markdown",
   "metadata": {},
   "source": [
    "## (2) 1-D Convolution Neural Network(1-D CNN)"
   ]
  },
  {
   "cell_type": "code",
   "execution_count": 15,
   "metadata": {},
   "outputs": [
    {
     "name": "stdout",
     "output_type": "stream",
     "text": [
      "Epoch 1/13\n",
      "188/188 [==============================] - 1s 7ms/step - loss: 0.5066 - accuracy: 0.7469 - val_loss: 0.3620 - val_accuracy: 0.8419\n",
      "Epoch 2/13\n",
      "188/188 [==============================] - 1s 6ms/step - loss: 0.3329 - accuracy: 0.8579 - val_loss: 0.3456 - val_accuracy: 0.8506\n",
      "Epoch 3/13\n",
      "188/188 [==============================] - 1s 6ms/step - loss: 0.2956 - accuracy: 0.8767 - val_loss: 0.3475 - val_accuracy: 0.8499\n",
      "Epoch 4/13\n",
      "188/188 [==============================] - 1s 6ms/step - loss: 0.2648 - accuracy: 0.8933 - val_loss: 0.3562 - val_accuracy: 0.8489\n",
      "Epoch 5/13\n",
      "188/188 [==============================] - 1s 7ms/step - loss: 0.2302 - accuracy: 0.9105 - val_loss: 0.3675 - val_accuracy: 0.8480\n",
      "Epoch 6/13\n",
      "188/188 [==============================] - 1s 6ms/step - loss: 0.1923 - accuracy: 0.9283 - val_loss: 0.3966 - val_accuracy: 0.8449\n",
      "Epoch 7/13\n",
      "188/188 [==============================] - 1s 6ms/step - loss: 0.1569 - accuracy: 0.9449 - val_loss: 0.4408 - val_accuracy: 0.8388\n",
      "Epoch 8/13\n",
      "188/188 [==============================] - 1s 7ms/step - loss: 0.1267 - accuracy: 0.9584 - val_loss: 0.4734 - val_accuracy: 0.8374\n",
      "Epoch 9/13\n",
      "188/188 [==============================] - 1s 7ms/step - loss: 0.1021 - accuracy: 0.9674 - val_loss: 0.5196 - val_accuracy: 0.8330\n",
      "Epoch 10/13\n",
      "188/188 [==============================] - 1s 7ms/step - loss: 0.0844 - accuracy: 0.9741 - val_loss: 0.5784 - val_accuracy: 0.8284\n",
      "Epoch 11/13\n",
      "188/188 [==============================] - 1s 7ms/step - loss: 0.0705 - accuracy: 0.9794 - val_loss: 0.6156 - val_accuracy: 0.8278\n",
      "Epoch 12/13\n",
      "188/188 [==============================] - 1s 6ms/step - loss: 0.0598 - accuracy: 0.9829 - val_loss: 0.6649 - val_accuracy: 0.8238\n",
      "Epoch 13/13\n",
      "188/188 [==============================] - 1s 7ms/step - loss: 0.0523 - accuracy: 0.9855 - val_loss: 0.7009 - val_accuracy: 0.8225\n"
     ]
    }
   ],
   "source": [
    "model_oned.compile(optimizer='adam',\n",
    "              loss='binary_crossentropy',\n",
    "              metrics=['accuracy'])\n",
    "              \n",
    "epochs = 13\n",
    "\n",
    "history_oned = model_oned.fit(partial_X_train,\n",
    "                    partial_y_train,\n",
    "                    epochs=epochs,\n",
    "                    batch_size=512,\n",
    "                    validation_data=(X_val, y_val),\n",
    "                    verbose=1)"
   ]
  },
  {
   "cell_type": "markdown",
   "metadata": {},
   "source": [
    "## (3) GlobalMaxPooling1D() 레이어 하나만 사용하는 방법"
   ]
  },
  {
   "cell_type": "code",
   "execution_count": 16,
   "metadata": {},
   "outputs": [
    {
     "name": "stdout",
     "output_type": "stream",
     "text": [
      "Epoch 1/13\n",
      "188/188 [==============================] - 1s 3ms/step - loss: 0.6047 - accuracy: 0.7461 - val_loss: 0.4638 - val_accuracy: 0.8142\n",
      "Epoch 2/13\n",
      "188/188 [==============================] - 1s 3ms/step - loss: 0.3971 - accuracy: 0.8337 - val_loss: 0.3720 - val_accuracy: 0.8356\n",
      "Epoch 3/13\n",
      "188/188 [==============================] - 1s 3ms/step - loss: 0.3352 - accuracy: 0.8580 - val_loss: 0.3567 - val_accuracy: 0.8419\n",
      "Epoch 4/13\n",
      "188/188 [==============================] - 1s 3ms/step - loss: 0.3039 - accuracy: 0.8738 - val_loss: 0.3541 - val_accuracy: 0.8439\n",
      "Epoch 5/13\n",
      "188/188 [==============================] - 1s 3ms/step - loss: 0.2807 - accuracy: 0.8854 - val_loss: 0.3574 - val_accuracy: 0.8449\n",
      "Epoch 6/13\n",
      "188/188 [==============================] - 1s 3ms/step - loss: 0.2621 - accuracy: 0.8936 - val_loss: 0.3645 - val_accuracy: 0.8439\n",
      "Epoch 7/13\n",
      "188/188 [==============================] - 1s 3ms/step - loss: 0.2457 - accuracy: 0.9013 - val_loss: 0.3730 - val_accuracy: 0.8427\n",
      "Epoch 8/13\n",
      "188/188 [==============================] - 1s 3ms/step - loss: 0.2315 - accuracy: 0.9082 - val_loss: 0.3833 - val_accuracy: 0.8423\n",
      "Epoch 9/13\n",
      "188/188 [==============================] - 1s 3ms/step - loss: 0.2189 - accuracy: 0.9137 - val_loss: 0.3947 - val_accuracy: 0.8400\n",
      "Epoch 10/13\n",
      "188/188 [==============================] - 1s 3ms/step - loss: 0.2073 - accuracy: 0.9198 - val_loss: 0.4070 - val_accuracy: 0.8382\n",
      "Epoch 11/13\n",
      "188/188 [==============================] - 1s 3ms/step - loss: 0.1969 - accuracy: 0.9249 - val_loss: 0.4192 - val_accuracy: 0.8366\n",
      "Epoch 12/13\n",
      "188/188 [==============================] - 1s 3ms/step - loss: 0.1870 - accuracy: 0.9295 - val_loss: 0.4323 - val_accuracy: 0.8355\n",
      "Epoch 13/13\n",
      "188/188 [==============================] - 1s 3ms/step - loss: 0.1784 - accuracy: 0.9337 - val_loss: 0.4472 - val_accuracy: 0.8338\n"
     ]
    }
   ],
   "source": [
    "model_max.compile(optimizer='adam',\n",
    "              loss='binary_crossentropy',\n",
    "              metrics=['accuracy'])\n",
    "              \n",
    "epochs = 13\n",
    "\n",
    "history_max = model_max.fit(partial_X_train,\n",
    "                    partial_y_train,\n",
    "                    epochs=epochs,\n",
    "                    batch_size=512,\n",
    "                    validation_data=(X_val, y_val),\n",
    "                    verbose=1)"
   ]
  },
  {
   "cell_type": "markdown",
   "metadata": {},
   "source": [
    "# Step 6. Loss, Accuracy 그래프 시각화"
   ]
  },
  {
   "cell_type": "markdown",
   "metadata": {},
   "source": [
    "**9. 각 모델의 성능평가를 하고, 각 결과에 대한 히스토리를 참고하여, Traing과 validation set에 대한 Loss와 Accuracy에 대한 그래프를 그립니다.    \n",
    "그래프를 통해 몇 에포크까지의 트레이닝 적정한지 최적점을 추정해볼 수 있습니다.** "
   ]
  },
  {
   "cell_type": "markdown",
   "metadata": {},
   "source": [
    "## (1) RNN"
   ]
  },
  {
   "cell_type": "code",
   "execution_count": 17,
   "metadata": {},
   "outputs": [
    {
     "name": "stdout",
     "output_type": "stream",
     "text": [
      "1537/1537 - 3s - loss: 0.4182 - accuracy: 0.8364\n",
      "[0.4182337522506714, 0.8364017605781555]\n"
     ]
    }
   ],
   "source": [
    "results_rnn = model_rnn.evaluate(X_test,  y_test, verbose=2)\n",
    "\n",
    "print(results_rnn)"
   ]
  },
  {
   "cell_type": "code",
   "execution_count": 18,
   "metadata": {},
   "outputs": [
    {
     "name": "stdout",
     "output_type": "stream",
     "text": [
      "dict_keys(['loss', 'accuracy', 'val_loss', 'val_accuracy'])\n"
     ]
    }
   ],
   "source": [
    "history_dict_rnn = history_rnn.history\n",
    "print(history_dict_rnn.keys()) # epoch에 따른 그래프를 그려볼 수 있는 항목들"
   ]
  },
  {
   "cell_type": "markdown",
   "metadata": {},
   "source": [
    "### - Training과 validation의 Loss"
   ]
  },
  {
   "cell_type": "code",
   "execution_count": 19,
   "metadata": {},
   "outputs": [
    {
     "data": {
      "image/png": "[encoded data removed]",
      "text/plain": [
       "<Figure size 432x288 with 1 Axes>"
      ]
     },
     "metadata": {
      "needs_background": "light"
     },
     "output_type": "display_data"
    }
   ],
   "source": [
    "import matplotlib.pyplot as plt\n",
    "\n",
    "acc_rnn = history_dict_rnn['accuracy']\n",
    "val_acc_rnn = history_dict_rnn['val_accuracy']\n",
    "loss_rnn = history_dict_rnn['loss']\n",
    "val_loss_rnn = history_dict_rnn['val_loss']\n",
    "\n",
    "epochs_rnn = range(1, len(acc_rnn) + 1)\n",
    "\n",
    "# \"bo\"는 \"파란색 점\"입니다\n",
    "plt.plot(epochs_rnn, loss_rnn, 'bo', label='Training loss')\n",
    "# b는 \"파란 실선\"입니다\n",
    "plt.plot(epochs_rnn, val_loss_rnn, 'b', label='Validation loss')\n",
    "plt.title('RNN\\'s Training & validation loss')\n",
    "plt.xlabel('Epochs')\n",
    "plt.ylabel('Loss')\n",
    "plt.legend()\n",
    "\n",
    "plt.show()"
   ]
  },
  {
   "cell_type": "markdown",
   "metadata": {},
   "source": [
    "### - Training과 validation의 Accuracy"
   ]
  },
  {
   "cell_type": "code",
   "execution_count": 20,
   "metadata": {},
   "outputs": [
    {
     "data": {
      "image/png": "[encoded data removed]",
      "text/plain": [
       "<Figure size 432x288 with 1 Axes>"
      ]
     },
     "metadata": {
      "needs_background": "light"
     },
     "output_type": "display_data"
    }
   ],
   "source": [
    "plt.clf()  \n",
    "\n",
    "plt.plot(epochs_rnn, acc_rnn, 'bo', label='Training acc')\n",
    "plt.plot(epochs_rnn, val_acc_rnn, 'b', label='Validation acc')\n",
    "plt.title('RNN\\'s Training and validation accuracy')\n",
    "plt.xlabel('Epochs')\n",
    "plt.ylabel('Accuracy')\n",
    "plt.legend()\n",
    "\n",
    "plt.show()"
   ]
  },
  {
   "cell_type": "markdown",
   "metadata": {},
   "source": [
    "## (2) 1-D Convolution Neural Network(1-D CNN)"
   ]
  },
  {
   "cell_type": "code",
   "execution_count": 21,
   "metadata": {},
   "outputs": [
    {
     "name": "stdout",
     "output_type": "stream",
     "text": [
      "1537/1537 - 1s - loss: 0.7118 - accuracy: 0.8199\n",
      "[0.7118107676506042, 0.8199239373207092]\n"
     ]
    }
   ],
   "source": [
    "results_oned = model_oned.evaluate(X_test,  y_test, verbose=2)\n",
    "\n",
    "print(results_oned)"
   ]
  },
  {
   "cell_type": "code",
   "execution_count": 22,
   "metadata": {},
   "outputs": [
    {
     "name": "stdout",
     "output_type": "stream",
     "text": [
      "dict_keys(['loss', 'accuracy', 'val_loss', 'val_accuracy'])\n"
     ]
    }
   ],
   "source": [
    "history_dict_oned = history_oned.history\n",
    "print(history_dict_oned.keys()) "
   ]
  },
  {
   "cell_type": "markdown",
   "metadata": {},
   "source": [
    "### - Training과 validation의 Loss"
   ]
  },
  {
   "cell_type": "code",
   "execution_count": 23,
   "metadata": {},
   "outputs": [
    {
     "data": {
      "image/png": "[encoded data removed]",
      "text/plain": [
       "<Figure size 432x288 with 1 Axes>"
      ]
     },
     "metadata": {
      "needs_background": "light"
     },
     "output_type": "display_data"
    }
   ],
   "source": [
    "import matplotlib.pyplot as plt\n",
    "\n",
    "acc_oned = history_dict_oned['accuracy']\n",
    "val_acc_oned = history_dict_oned['val_accuracy']\n",
    "loss_oned = history_dict_oned['loss']\n",
    "val_loss_oned = history_dict_oned['val_loss']\n",
    "\n",
    "epochs_oned = range(1, len(acc_oned) + 1)\n",
    "\n",
    "# \"bo\"는 \"파란색 점\"입니다\n",
    "plt.plot(epochs_oned, loss_oned, 'bo', label='Training loss')\n",
    "# b는 \"파란 실선\"입니다\n",
    "plt.plot(epochs_oned, val_loss_oned, 'b', label='Validation loss')\n",
    "plt.title('1-D CNN\\'s Training & validation loss')\n",
    "plt.xlabel('Epochs')\n",
    "plt.ylabel('Loss')\n",
    "plt.legend()\n",
    "\n",
    "plt.show()"
   ]
  },
  {
   "cell_type": "markdown",
   "metadata": {},
   "source": [
    "### - Training과 validation의 Accuracy"
   ]
  },
  {
   "cell_type": "code",
   "execution_count": 24,
   "metadata": {},
   "outputs": [
    {
     "data": {
      "image/png": "[encoded data removed]",
      "text/plain": [
       "<Figure size 432x288 with 1 Axes>"
      ]
     },
     "metadata": {
      "needs_background": "light"
     },
     "output_type": "display_data"
    }
   ],
   "source": [
    "plt.clf()   # 그림을 초기화\n",
    "\n",
    "plt.plot(epochs_oned, acc_oned, 'bo', label='Training acc')\n",
    "plt.plot(epochs_oned, val_acc_oned, 'b', label='Validation acc')\n",
    "plt.title('1-D CNN\\'s Training and validation accuracy')\n",
    "plt.xlabel('Epochs')\n",
    "plt.ylabel('Accuracy')\n",
    "plt.legend()\n",
    "\n",
    "plt.show()"
   ]
  },
  {
   "cell_type": "markdown",
   "metadata": {},
   "source": [
    "## (3) GlobalMaxPooling1D() 레이어 하나만 사용하는 방법"
   ]
  },
  {
   "cell_type": "code",
   "execution_count": 25,
   "metadata": {},
   "outputs": [
    {
     "name": "stdout",
     "output_type": "stream",
     "text": [
      "1537/1537 - 1s - loss: 0.4544 - accuracy: 0.8308\n",
      "[0.4543643295764923, 0.8307870626449585]\n"
     ]
    }
   ],
   "source": [
    "results_max = model_max.evaluate(X_test,  y_test, verbose=2)\n",
    "\n",
    "print(results_max)"
   ]
  },
  {
   "cell_type": "code",
   "execution_count": 26,
   "metadata": {},
   "outputs": [
    {
     "name": "stdout",
     "output_type": "stream",
     "text": [
      "dict_keys(['loss', 'accuracy', 'val_loss', 'val_accuracy'])\n"
     ]
    }
   ],
   "source": [
    "history_dict_max = history_max.history\n",
    "print(history_dict_max.keys()) "
   ]
  },
  {
   "cell_type": "markdown",
   "metadata": {},
   "source": [
    "### - Training과 validation의 Loss"
   ]
  },
  {
   "cell_type": "code",
   "execution_count": 27,
   "metadata": {},
   "outputs": [
    {
     "data": {
      "image/png": "[encoded data removed]",
      "text/plain": [
       "<Figure size 432x288 with 1 Axes>"
      ]
     },
     "metadata": {
      "needs_background": "light"
     },
     "output_type": "display_data"
    }
   ],
   "source": [
    "import matplotlib.pyplot as plt\n",
    "\n",
    "acc_max= history_dict_max['accuracy']\n",
    "val_acc_max = history_dict_max['val_accuracy']\n",
    "loss_max = history_dict_max['loss']\n",
    "val_loss_max = history_dict_max['val_loss']\n",
    "\n",
    "epochs_max = range(1, len(acc_max) + 1)\n",
    "\n",
    "# \"bo\"는 \"파란색 점\"입니다\n",
    "plt.plot(epochs_max, loss_max, 'bo', label='Training loss')\n",
    "# b는 \"파란 실선\"입니다\n",
    "plt.plot(epochs_max, val_loss_max, 'b', label='Validation loss')\n",
    "plt.title('GMPD-1\\'s Training & validation loss')\n",
    "plt.xlabel('Epochs')\n",
    "plt.ylabel('Loss')\n",
    "plt.legend()\n",
    "\n",
    "plt.show()"
   ]
  },
  {
   "cell_type": "markdown",
   "metadata": {},
   "source": [
    "### - Training과 validation의 Accuracy"
   ]
  },
  {
   "cell_type": "code",
   "execution_count": 28,
   "metadata": {},
   "outputs": [
    {
     "data": {
      "image/png": "[encoded data removed]",
      "text/plain": [
       "<Figure size 432x288 with 1 Axes>"
      ]
     },
     "metadata": {
      "needs_background": "light"
     },
     "output_type": "display_data"
    }
   ],
   "source": [
    "plt.clf()  \n",
    "\n",
    "plt.plot(epochs_max, acc_max, 'bo', label='Training acc')\n",
    "plt.plot(epochs_max, val_acc_max, 'b', label='Validation acc')\n",
    "plt.title('GMPD-1\\'s Training and validation accuracy')\n",
    "plt.xlabel('Epochs')\n",
    "plt.ylabel('Accuracy')\n",
    "plt.legend()\n",
    "\n",
    "plt.show()"
   ]
  },
  {
   "cell_type": "markdown",
   "metadata": {},
   "source": [
    "# Step 7. 학습된 임베딩 레이어 분석"
   ]
  },
  {
   "cell_type": "markdown",
   "metadata": {},
   "source": [
    "**10. 모델에 사용한 임베딩레이어에 학습된 워드 벡터들이 의미 공간상에 유의미한 형태로 학습되었는지 각 모델별로 확인해봅니다.**"
   ]
  },
  {
   "cell_type": "markdown",
   "metadata": {},
   "source": [
    "**11. 워드 벡터 파일을 저장할 디렉토리를 먼저 설치하고, 워드 벡터를 다루는데 유용한 ```gensim```패키지를 설치합니다.**"
   ]
  },
  {
   "cell_type": "markdown",
   "metadata": {},
   "source": [
    "```\n",
    "$ mkdir -p ~/aiffel/sentiment_classification \n",
    "$ pip install gensim\n",
    "```"
   ]
  },
  {
   "cell_type": "markdown",
   "metadata": {},
   "source": [
    "## (1) RNN"
   ]
  },
  {
   "cell_type": "code",
   "execution_count": 29,
   "metadata": {},
   "outputs": [
    {
     "name": "stdout",
     "output_type": "stream",
     "text": [
      "(10000, 16)\n"
     ]
    }
   ],
   "source": [
    "embedding_layer_rnn = model_rnn.layers[0]\n",
    "weights_rnn = embedding_layer_rnn.get_weights()[0]\n",
    "print(weights_rnn.shape)    # shape: (vocab_size, embedding_dim)"
   ]
  },
  {
   "cell_type": "code",
   "execution_count": 30,
   "metadata": {},
   "outputs": [],
   "source": [
    "import os\n",
    "\n",
    "# 학습한 Embedding 파라미터를 새로운 파일에 써서 저장\n",
    "word2vec_rnn_file_path = os.getenv('HOME')+'/aiffel/sentiment_classification/word2vec_rnn.txt'\n",
    "f_rnn = open(word2vec_rnn_file_path, 'w')\n",
    "f_rnn.write('{} {}\\n'.format(vocab_size-4, word_vector_dim))  # 몇 개의 벡터를 얼마 사이즈로 기재할지 타이틀을 작성\n",
    "\n",
    "# 단어 개수에서 특수문자 4개는 제외하고, 그 만큼 워드 벡터를 파일에 기록 \n",
    "vectors_rnn = model_rnn.get_weights()[0]\n",
    "for i in range(4,vocab_size):\n",
    "    f_rnn.write('{} {}\\n'.format(index_to_word[i], ' '.join(map(str, list(vectors_rnn[i, :])))))\n",
    "f_rnn.close()"
   ]
  },
  {
   "cell_type": "markdown",
   "metadata": {},
   "source": [
    "**12. ```gensim```패키지를 이용해 위에 저장해둔 임베딩 파라미터를 읽어서 word vector로 활용합니다.**"
   ]
  },
  {
   "cell_type": "code",
   "execution_count": 31,
   "metadata": {},
   "outputs": [
    {
     "data": {
      "text/plain": [
       "array([-0.00642731, -0.10118901, -0.05817578,  0.01980067, -0.012681  ,\n",
       "       -0.01039419, -0.00219101,  0.01381662, -0.00521243,  0.00991647,\n",
       "       -0.05073854,  0.06537293, -0.16604538,  0.05279299, -0.01637626,\n",
       "       -0.08041219], dtype=float32)"
      ]
     },
     "execution_count": 31,
     "metadata": {},
     "output_type": "execute_result"
    }
   ],
   "source": [
    "from gensim.models.keyedvectors import Word2VecKeyedVectors\n",
    "\n",
    "word_vectors_rnn = Word2VecKeyedVectors.load_word2vec_format(word2vec_rnn_file_path, binary=False)\n",
    "vector_rnn = word_vectors_rnn['연기']\n",
    "vector_rnn"
   ]
  },
  {
   "cell_type": "markdown",
   "metadata": {},
   "source": [
    "**13. 학습된 워드 벡터들이 의미 공간 상에 유의미하게 학습되었는지 보기 위해 단어를 하나 주고, 해당 단어와 가장 유사한 단어와 유사도를 함께 확인해봅니다.**"
   ]
  },
  {
   "cell_type": "code",
   "execution_count": 32,
   "metadata": {},
   "outputs": [
    {
     "data": {
      "text/plain": [
       "[('코난', 0.8944461345672607),\n",
       " ('촌', 0.8943742513656616),\n",
       " ('미흡', 0.8893980979919434),\n",
       " ('애국', 0.8848956823348999),\n",
       " ('\\\\', 0.8783154487609863),\n",
       " ('저절로', 0.876048743724823),\n",
       " ('심야', 0.8725833892822266),\n",
       " ('청소년', 0.8716872930526733),\n",
       " ('-;', 0.8701269030570984),\n",
       " ('애매', 0.866844892501831)]"
      ]
     },
     "execution_count": 32,
     "metadata": {},
     "output_type": "execute_result"
    }
   ],
   "source": [
    "word_vectors_rnn.similar_by_word(\"더빙\")"
   ]
  },
  {
   "cell_type": "markdown",
   "metadata": {},
   "source": [
    "**- RNN의 경우, 유사도는 높지만 유사한 단어를 잘 찾진 못한 것 같습니다. 감성분류 태스크를 짧게 학습하여 워드 벡터가 정교하게 학습되지 않은 것 같습니다.**"
   ]
  },
  {
   "cell_type": "markdown",
   "metadata": {},
   "source": [
    "**14. 나머지 모델들도 같은 작업을 반복하여 의미 공간에 워드 벡터들이 유의미하게 학습됐는지 평가해봅니다.**"
   ]
  },
  {
   "cell_type": "markdown",
   "metadata": {},
   "source": [
    "## (2) 1-D Convolution Neural Network(1-D CNN)"
   ]
  },
  {
   "cell_type": "code",
   "execution_count": 33,
   "metadata": {},
   "outputs": [
    {
     "name": "stdout",
     "output_type": "stream",
     "text": [
      "(10000, 16)\n"
     ]
    }
   ],
   "source": [
    "embedding_layer_oned = model_oned.layers[0]\n",
    "weights_oned = embedding_layer_oned.get_weights()[0]\n",
    "print(weights_oned.shape)    # shape: (vocab_size, embedding_dim)"
   ]
  },
  {
   "cell_type": "code",
   "execution_count": 34,
   "metadata": {},
   "outputs": [],
   "source": [
    "import os\n",
    "\n",
    "# 학습한 Embedding 파라미터를 새로운 파일에 써서 저장\n",
    "word2vec_oned_file_path = os.getenv('HOME')+'/aiffel/sentiment_classification/word2vec_oned.txt'\n",
    "f_oned = open(word2vec_oned_file_path, 'w')\n",
    "f_oned.write('{} {}\\n'.format(vocab_size-4, word_vector_dim))  # 몇 개의 벡터를 얼마 사이즈로 기재할지 타이틀을 작성\n",
    "\n",
    "# 단어 개수에서 특수문자 4개는 제외하고, 그 만큼 워드 벡터를 파일에 기록 \n",
    "vectors_oned = model_oned.get_weights()[0]\n",
    "for i in range(4,vocab_size):\n",
    "    f_oned.write('{} {}\\n'.format(index_to_word[i], ' '.join(map(str, list(vectors_oned[i, :])))))\n",
    "f_oned.close()"
   ]
  },
  {
   "cell_type": "code",
   "execution_count": 35,
   "metadata": {},
   "outputs": [
    {
     "data": {
      "text/plain": [
       "array([ 0.01948173,  0.09163849,  0.02444379, -0.05861961,  0.00273084,\n",
       "       -0.01205542, -0.01800368, -0.00393381, -0.09545224,  0.06202898,\n",
       "       -0.00873462, -0.02659951, -0.02645925,  0.0171994 , -0.07349576,\n",
       "        0.01159025], dtype=float32)"
      ]
     },
     "execution_count": 35,
     "metadata": {},
     "output_type": "execute_result"
    }
   ],
   "source": [
    "from gensim.models.keyedvectors import Word2VecKeyedVectors\n",
    "\n",
    "word_vectors_oned = Word2VecKeyedVectors.load_word2vec_format(word2vec_oned_file_path, binary=False)\n",
    "vector_oned = word_vectors_oned['연기']\n",
    "vector_oned"
   ]
  },
  {
   "cell_type": "code",
   "execution_count": 36,
   "metadata": {},
   "outputs": [
    {
     "data": {
      "text/plain": [
       "[('전반', 0.7031528353691101),\n",
       " ('사례', 0.6973624229431152),\n",
       " ('일으키', 0.6899771094322205),\n",
       " ('프랑스', 0.6876668930053711),\n",
       " ('떵', 0.6661902666091919),\n",
       " ('기반', 0.6497173309326172),\n",
       " ('류', 0.6438673734664917),\n",
       " ('돌려도', 0.6406442523002625),\n",
       " ('성형', 0.6295326948165894),\n",
       " ('위원회', 0.6291210055351257)]"
      ]
     },
     "execution_count": 36,
     "metadata": {},
     "output_type": "execute_result"
    }
   ],
   "source": [
    "word_vectors_oned.similar_by_word(\"더빙\")"
   ]
  },
  {
   "cell_type": "markdown",
   "metadata": {},
   "source": [
    "**- 출력된 단어들을 보니 역시 그닥 연관있는 단어를 찾아냈다는 생각이 들지 않습니다. 심지어 유사도도 RNN보다 전반적으로 낮습니다.**"
   ]
  },
  {
   "cell_type": "markdown",
   "metadata": {},
   "source": [
    "## (3) GlobalMaxPooling1D() 레이어 하나만 사용하는 방법"
   ]
  },
  {
   "cell_type": "code",
   "execution_count": 37,
   "metadata": {},
   "outputs": [
    {
     "name": "stdout",
     "output_type": "stream",
     "text": [
      "(10000, 16)\n"
     ]
    }
   ],
   "source": [
    "embedding_layer_max = model_max.layers[0]\n",
    "weights_max = embedding_layer_max.get_weights()[0]\n",
    "print(weights_max.shape)    # shape: (vocab_size, embedding_dim)"
   ]
  },
  {
   "cell_type": "code",
   "execution_count": 38,
   "metadata": {},
   "outputs": [],
   "source": [
    "import os\n",
    "\n",
    "# 학습한 Embedding 파라미터를 새로운 파일에 써서 저장\n",
    "word2vec_max_file_path = os.getenv('HOME')+'/aiffel/sentiment_classification/word2vec_max.txt'\n",
    "f_max = open(word2vec_max_file_path, 'w')\n",
    "f_max.write('{} {}\\n'.format(vocab_size-4, word_vector_dim))  # 몇 개의 벡터를 얼마 사이즈로 기재할지 타이틀을 작성\n",
    "\n",
    "# 단어 개수에서 특수문자 4개는 제외하고, 그 만큼 워드 벡터를 파일에 기록 \n",
    "vectors_max = model_max.get_weights()[0]\n",
    "for i in range(4,vocab_size):\n",
    "    f_max.write('{} {}\\n'.format(index_to_word[i], ' '.join(map(str, list(vectors_max[i, :])))))\n",
    "f_max.close()"
   ]
  },
  {
   "cell_type": "code",
   "execution_count": 39,
   "metadata": {},
   "outputs": [
    {
     "data": {
      "text/plain": [
       "array([-0.07225871, -0.16507478, -0.1238968 , -0.09631079, -0.15903309,\n",
       "       -0.17126913, -0.13083518, -0.04388511,  0.13419177, -0.05268682,\n",
       "       -0.03858693, -0.02866168, -0.16525193, -0.113308  , -0.15127529,\n",
       "       -0.02325885], dtype=float32)"
      ]
     },
     "execution_count": 39,
     "metadata": {},
     "output_type": "execute_result"
    }
   ],
   "source": [
    "from gensim.models.keyedvectors import Word2VecKeyedVectors\n",
    "\n",
    "word_vectors_max = Word2VecKeyedVectors.load_word2vec_format(word2vec_max_file_path, binary=False)\n",
    "vector_max = word_vectors_max['연기']\n",
    "vector_max"
   ]
  },
  {
   "cell_type": "code",
   "execution_count": 40,
   "metadata": {},
   "outputs": [
    {
     "data": {
      "text/plain": [
       "[('바보', 0.8962305188179016),\n",
       " ('기괴', 0.8789158463478088),\n",
       " ('맙소사', 0.8720240592956543),\n",
       " ('짬뽕', 0.8674640655517578),\n",
       " ('하아', 0.8664179444313049),\n",
       " ('식', 0.865066647529602),\n",
       " ('잖아', 0.861068844795227),\n",
       " ('이치', 0.8559722900390625),\n",
       " ('살인', 0.8529903888702393),\n",
       " ('버려', 0.8523539304733276)]"
      ]
     },
     "execution_count": 40,
     "metadata": {},
     "output_type": "execute_result"
    }
   ],
   "source": [
    "word_vectors_max.similar_by_word(\"더빙\")"
   ]
  },
  {
   "cell_type": "markdown",
   "metadata": {},
   "source": [
    "**- 1-D CNN보다 유사도는 전반적으로 높지만 사람인 제가 봤을 땐 단어의 유사성이 크게 보이지 않습니다.**"
   ]
  },
  {
   "cell_type": "markdown",
   "metadata": {},
   "source": [
    "# Step 8. 한국어 word2vec 임베딩을 활용하여 성능개선"
   ]
  },
  {
   "cell_type": "markdown",
   "metadata": {},
   "source": [
    "**15. 사전 학습된 한국어 word2Vec 모델을 가져와 적용해 봅니다. [한국어 word2vec](https://github.com/Kyubyong/wordvectors)에서 ```Pre-trained models```챕터로 가서 ```Korean```을 찾습니다. 2가지 선택지가 있을 텐데 ```f```을 눌러서 구글 드라이브 안으로 들어갑니다. 500MB이상의 파일을 다운받아줍니다.**      \n",
    "**- 해당 한국어 word2vec은 벡터사이즈가 200이고, 코퍼스 사이즈가 339M이며, 단어 사이즈가 30185입니다.**"
   ]
  },
  {
   "cell_type": "markdown",
   "metadata": {},
   "source": [
    "**16. 다운받은 파일이 다운로드에 들어가있을테니 ```sentiment_classification```디렉토리를 옮겨줍니다. 그리고 압축을 풀어줍니다.**"
   ]
  },
  {
   "cell_type": "markdown",
   "metadata": {},
   "source": [
    "**17. word2vec모델을 가져와 적용해봅니다. 구글의 word2vec모델보다는 단어 수가 적으니 limit을 풀어줍니다.** "
   ]
  },
  {
   "cell_type": "code",
   "execution_count": 41,
   "metadata": {},
   "outputs": [
    {
     "name": "stdout",
     "output_type": "stream",
     "text": [
      "(200,)\n"
     ]
    }
   ],
   "source": [
    "from gensim.models import KeyedVectors\n",
    "\n",
    "kor_word2vec_path = os.getenv('HOME')+'/aiffel/sentiment_classification/ko/ko.vec'\n",
    "kor_word2vec = KeyedVectors.load_word2vec_format(kor_word2vec_path, binary=False, limit=None)\n",
    "kor_vector = kor_word2vec['연기']\n",
    "kor_vector\n",
    "print(kor_vector.shape)"
   ]
  },
  {
   "cell_type": "markdown",
   "metadata": {},
   "source": [
    "**18. 워드 벡터들끼리 의미적 유사도가 가까운지 한번 확인해봅니다. 정말 사전학습이 잘됐군요!**"
   ]
  },
  {
   "cell_type": "code",
   "execution_count": 42,
   "metadata": {},
   "outputs": [
    {
     "data": {
      "text/plain": [
       "[('연기자', 0.5190777778625488),\n",
       " ('조연', 0.5179136991500854),\n",
       " ('배역', 0.5166990756988525),\n",
       " ('성우', 0.4867153763771057),\n",
       " ('주연', 0.47795748710632324),\n",
       " ('연출', 0.4733768105506897),\n",
       " ('여배우', 0.4732450544834137),\n",
       " ('각본', 0.46500182151794434),\n",
       " ('극본', 0.45965006947517395),\n",
       " ('주연상', 0.4530304968357086)]"
      ]
     },
     "execution_count": 42,
     "metadata": {},
     "output_type": "execute_result"
    }
   ],
   "source": [
    "kor_word2vec.similar_by_word(\"연기\")"
   ]
  },
  {
   "cell_type": "markdown",
   "metadata": {},
   "source": [
    "# Step 9. 임베딩 레이어 교체"
   ]
  },
  {
   "cell_type": "markdown",
   "metadata": {},
   "source": [
    "**19. 더 좋은 임베딩 레이어를 얻으니 임베링 레이어를 좋은 것으로 교체해줍니다.**"
   ]
  },
  {
   "cell_type": "code",
   "execution_count": 43,
   "metadata": {},
   "outputs": [],
   "source": [
    "vocab_size = 10000    \n",
    "word_vector_dim = 200  # 워드 벡터의 차원수\n",
    "\n",
    "embedding_matrix = np.random.rand(vocab_size, word_vector_dim)\n",
    "\n",
    "# embedding_matrix에 Word2Vec 워드벡터를 단어 하나씩마다 차례차례 카피\n",
    "for i in range(4,vocab_size):\n",
    "    if index_to_word[i] in kor_word2vec:\n",
    "        embedding_matrix[i] = kor_word2vec[index_to_word[i]]"
   ]
  },
  {
   "cell_type": "markdown",
   "metadata": {},
   "source": [
    "**20. 위에서 구현했던 모델 3가지의 레이어를 바꿔서 다시 시도해봅니다.**"
   ]
  },
  {
   "cell_type": "markdown",
   "metadata": {},
   "source": [
    "## (1) RNN"
   ]
  },
  {
   "cell_type": "markdown",
   "metadata": {},
   "source": [
    "**- 모델 구성하기**"
   ]
  },
  {
   "cell_type": "code",
   "execution_count": 53,
   "metadata": {},
   "outputs": [
    {
     "name": "stdout",
     "output_type": "stream",
     "text": [
      "Model: \"sequential_6\"\n",
      "_________________________________________________________________\n",
      "Layer (type)                 Output Shape              Param #   \n",
      "=================================================================\n",
      "embedding_6 (Embedding)      (None, 41, 200)           2000000   \n",
      "_________________________________________________________________\n",
      "lstm_2 (LSTM)                (None, 8)                 6688      \n",
      "_________________________________________________________________\n",
      "dense_12 (Dense)             (None, 8)                 72        \n",
      "_________________________________________________________________\n",
      "dense_13 (Dense)             (None, 1)                 9         \n",
      "=================================================================\n",
      "Total params: 2,006,769\n",
      "Trainable params: 2,006,769\n",
      "Non-trainable params: 0\n",
      "_________________________________________________________________\n"
     ]
    }
   ],
   "source": [
    "import numpy as np\n",
    "import tensorflow as tf\n",
    "from tensorflow import keras\n",
    "from tensorflow.keras.initializers import Constant\n",
    "\n",
    "vocab_size = 10000    \n",
    "word_vector_dim = 200\n",
    "\n",
    "model_rnn = keras.Sequential()\n",
    "model_rnn.add(keras.layers.Embedding(vocab_size, \n",
    "                                 word_vector_dim, \n",
    "                                 embeddings_initializer=Constant(embedding_matrix),  # 카피한 임베딩을 여기서 활용\n",
    "                                 input_length=maxlen, \n",
    "                                 trainable=True))   # trainable을 True로 주면 Fine-tuning\n",
    "model_rnn.add(keras.layers.LSTM(8))   # 가장 널리 쓰이는 RNN인 LSTM 레이어를 사용하였습니다. 이때 LSTM state 벡터의 차원수는 8\n",
    "model_rnn.add(keras.layers.Dense(8, activation='relu'))\n",
    "model_rnn.add(keras.layers.Dense(1, activation='sigmoid'))  \n",
    "\n",
    "model_rnn.summary()"
   ]
  },
  {
   "cell_type": "markdown",
   "metadata": {},
   "source": [
    "**- 모델 훈련하기**"
   ]
  },
  {
   "cell_type": "code",
   "execution_count": 54,
   "metadata": {},
   "outputs": [
    {
     "name": "stdout",
     "output_type": "stream",
     "text": [
      "Epoch 1/12\n",
      "188/188 [==============================] - 10s 54ms/step - loss: 0.4880 - accuracy: 0.7692 - val_loss: 0.3799 - val_accuracy: 0.8346\n",
      "Epoch 2/12\n",
      "188/188 [==============================] - 9s 50ms/step - loss: 0.3464 - accuracy: 0.8550 - val_loss: 0.3515 - val_accuracy: 0.8485\n",
      "Epoch 3/12\n",
      "188/188 [==============================] - 9s 51ms/step - loss: 0.3089 - accuracy: 0.8737 - val_loss: 0.3514 - val_accuracy: 0.8498\n",
      "Epoch 4/12\n",
      "188/188 [==============================] - 9s 50ms/step - loss: 0.2842 - accuracy: 0.8846 - val_loss: 0.3489 - val_accuracy: 0.8516\n",
      "Epoch 5/12\n",
      "188/188 [==============================] - 9s 50ms/step - loss: 0.2643 - accuracy: 0.8940 - val_loss: 0.3608 - val_accuracy: 0.8457\n",
      "Epoch 6/12\n",
      "188/188 [==============================] - 9s 50ms/step - loss: 0.2472 - accuracy: 0.9029 - val_loss: 0.3627 - val_accuracy: 0.8524\n",
      "Epoch 7/12\n",
      "188/188 [==============================] - 9s 50ms/step - loss: 0.2294 - accuracy: 0.9104 - val_loss: 0.3726 - val_accuracy: 0.8509\n",
      "Epoch 8/12\n",
      "188/188 [==============================] - 10s 51ms/step - loss: 0.2126 - accuracy: 0.9188 - val_loss: 0.3842 - val_accuracy: 0.8493\n",
      "Epoch 9/12\n",
      "188/188 [==============================] - 10s 51ms/step - loss: 0.1995 - accuracy: 0.9244 - val_loss: 0.3893 - val_accuracy: 0.8492\n",
      "Epoch 10/12\n",
      "188/188 [==============================] - 10s 51ms/step - loss: 0.1871 - accuracy: 0.9301 - val_loss: 0.4029 - val_accuracy: 0.8475\n",
      "Epoch 11/12\n",
      "188/188 [==============================] - 10s 51ms/step - loss: 0.1782 - accuracy: 0.9334 - val_loss: 0.4472 - val_accuracy: 0.8439\n",
      "Epoch 12/12\n",
      "188/188 [==============================] - 10s 51ms/step - loss: 0.1652 - accuracy: 0.9396 - val_loss: 0.4493 - val_accuracy: 0.8455\n"
     ]
    }
   ],
   "source": [
    "model_rnn.compile(optimizer='adam',\n",
    "              loss='binary_crossentropy',\n",
    "              metrics=['accuracy'])\n",
    "              \n",
    "epochs = 12\n",
    "\n",
    "history_rnn = model_rnn.fit(partial_X_train,\n",
    "                    partial_y_train,\n",
    "                    epochs=epochs,\n",
    "                    batch_size=512,\n",
    "                    validation_data=(X_val, y_val),\n",
    "                    verbose=1)"
   ]
  },
  {
   "cell_type": "markdown",
   "metadata": {},
   "source": [
    "**- 모델 평가하기**"
   ]
  },
  {
   "cell_type": "code",
   "execution_count": 55,
   "metadata": {},
   "outputs": [
    {
     "name": "stdout",
     "output_type": "stream",
     "text": [
      "1537/1537 - 3s - loss: 0.4578 - accuracy: 0.8405\n",
      "[0.4577912986278534, 0.8405110239982605]\n"
     ]
    }
   ],
   "source": [
    "results_rnn = model_rnn.evaluate(X_test,  y_test, verbose=2)\n",
    "\n",
    "print(results_rnn)"
   ]
  },
  {
   "cell_type": "markdown",
   "metadata": {},
   "source": [
    "## (2) 1-D Convolution Neural Network(1-D CNN)"
   ]
  },
  {
   "cell_type": "markdown",
   "metadata": {},
   "source": [
    "**- 모델 구성하기**"
   ]
  },
  {
   "cell_type": "code",
   "execution_count": 56,
   "metadata": {},
   "outputs": [
    {
     "name": "stdout",
     "output_type": "stream",
     "text": [
      "Model: \"sequential_7\"\n",
      "_________________________________________________________________\n",
      "Layer (type)                 Output Shape              Param #   \n",
      "=================================================================\n",
      "embedding_7 (Embedding)      (None, 41, 200)           2000000   \n",
      "_________________________________________________________________\n",
      "conv1d_4 (Conv1D)            (None, 35, 16)            22416     \n",
      "_________________________________________________________________\n",
      "max_pooling1d_2 (MaxPooling1 (None, 7, 16)             0         \n",
      "_________________________________________________________________\n",
      "conv1d_5 (Conv1D)            (None, 1, 16)             1808      \n",
      "_________________________________________________________________\n",
      "global_max_pooling1d_4 (Glob (None, 16)                0         \n",
      "_________________________________________________________________\n",
      "dense_14 (Dense)             (None, 8)                 136       \n",
      "_________________________________________________________________\n",
      "dense_15 (Dense)             (None, 1)                 9         \n",
      "=================================================================\n",
      "Total params: 2,024,369\n",
      "Trainable params: 2,024,369\n",
      "Non-trainable params: 0\n",
      "_________________________________________________________________\n"
     ]
    }
   ],
   "source": [
    "import numpy as np\n",
    "import tensorflow as tf\n",
    "from tensorflow import keras\n",
    "from tensorflow.keras.initializers import Constant\n",
    "\n",
    "vocab_size = 10000 \n",
    "word_vector_dim = 200  \n",
    "\n",
    "model_oned = keras.Sequential()\n",
    "model_oned.add(keras.layers.Embedding(vocab_size, \n",
    "                                 word_vector_dim, \n",
    "                                 embeddings_initializer=Constant(embedding_matrix),  # 카피한 임베딩을 여기서 활용\n",
    "                                 input_length=maxlen, \n",
    "                                 trainable=True))   # trainable을 True로 주면 Fine-tuning\n",
    "model_oned.add(keras.layers.Conv1D(16, 7, activation='relu'))\n",
    "model_oned.add(keras.layers.MaxPooling1D(5))\n",
    "model_oned.add(keras.layers.Conv1D(16, 7, activation='relu'))\n",
    "model_oned.add(keras.layers.GlobalMaxPooling1D())\n",
    "model_oned.add(keras.layers.Dense(8, activation='relu'))\n",
    "model_oned.add(keras.layers.Dense(1, activation='sigmoid'))  # 최종 출력은 긍정/부정을 나타내는 1dim 입니다.\n",
    "\n",
    "model_oned.summary()"
   ]
  },
  {
   "cell_type": "markdown",
   "metadata": {},
   "source": [
    "**- 모델 훈련하기**"
   ]
  },
  {
   "cell_type": "code",
   "execution_count": 57,
   "metadata": {},
   "outputs": [
    {
     "name": "stdout",
     "output_type": "stream",
     "text": [
      "Epoch 1/12\n",
      "188/188 [==============================] - 10s 53ms/step - loss: 0.5396 - accuracy: 0.7058 - val_loss: 0.3906 - val_accuracy: 0.8253\n",
      "Epoch 2/12\n",
      "188/188 [==============================] - 11s 57ms/step - loss: 0.3552 - accuracy: 0.8458 - val_loss: 0.3581 - val_accuracy: 0.8443\n",
      "Epoch 3/12\n",
      "188/188 [==============================] - 11s 56ms/step - loss: 0.3086 - accuracy: 0.8713 - val_loss: 0.3520 - val_accuracy: 0.8480\n",
      "Epoch 4/12\n",
      "188/188 [==============================] - 10s 55ms/step - loss: 0.2737 - accuracy: 0.8885 - val_loss: 0.3540 - val_accuracy: 0.8516\n",
      "Epoch 5/12\n",
      "188/188 [==============================] - 10s 55ms/step - loss: 0.2380 - accuracy: 0.9073 - val_loss: 0.3707 - val_accuracy: 0.8501\n",
      "Epoch 6/12\n",
      "188/188 [==============================] - 10s 55ms/step - loss: 0.2010 - accuracy: 0.9255 - val_loss: 0.4150 - val_accuracy: 0.8364\n",
      "Epoch 7/12\n",
      "188/188 [==============================] - 10s 55ms/step - loss: 0.1615 - accuracy: 0.9432 - val_loss: 0.4235 - val_accuracy: 0.8425\n",
      "Epoch 8/12\n",
      "188/188 [==============================] - 10s 55ms/step - loss: 0.1253 - accuracy: 0.9590 - val_loss: 0.4701 - val_accuracy: 0.8383\n",
      "Epoch 9/12\n",
      "188/188 [==============================] - 10s 55ms/step - loss: 0.0970 - accuracy: 0.9704 - val_loss: 0.5195 - val_accuracy: 0.8354\n",
      "Epoch 10/12\n",
      "188/188 [==============================] - 10s 55ms/step - loss: 0.0801 - accuracy: 0.9755 - val_loss: 0.5919 - val_accuracy: 0.8342\n",
      "Epoch 11/12\n",
      "188/188 [==============================] - 10s 55ms/step - loss: 0.0627 - accuracy: 0.9811 - val_loss: 0.6262 - val_accuracy: 0.8317\n",
      "Epoch 12/12\n",
      "188/188 [==============================] - 10s 55ms/step - loss: 0.0526 - accuracy: 0.9843 - val_loss: 0.6757 - val_accuracy: 0.8304\n"
     ]
    }
   ],
   "source": [
    "model_oned.compile(optimizer='adam',\n",
    "              loss='binary_crossentropy',\n",
    "              metrics=['accuracy'])\n",
    "              \n",
    "epochs = 12\n",
    "\n",
    "history_oned = model_oned.fit(partial_X_train,\n",
    "                    partial_y_train,\n",
    "                    epochs=epochs,\n",
    "                    batch_size=512,\n",
    "                    validation_data=(X_val, y_val),\n",
    "                    verbose=1)"
   ]
  },
  {
   "cell_type": "markdown",
   "metadata": {},
   "source": [
    "**- 모델 평가하기**"
   ]
  },
  {
   "cell_type": "code",
   "execution_count": 58,
   "metadata": {},
   "outputs": [
    {
     "name": "stdout",
     "output_type": "stream",
     "text": [
      "1537/1537 - 1s - loss: 0.7082 - accuracy: 0.8228\n",
      "[0.7081843018531799, 0.8227515816688538]\n"
     ]
    }
   ],
   "source": [
    "results_oned = model_oned.evaluate(X_test,  y_test, verbose=2)\n",
    "\n",
    "print(results_oned)"
   ]
  },
  {
   "cell_type": "markdown",
   "metadata": {},
   "source": [
    "## (3) GlobalMaxPooling1D() 레이어 하나만 사용하는 방법"
   ]
  },
  {
   "cell_type": "markdown",
   "metadata": {},
   "source": [
    "**- 모델 구성하기**"
   ]
  },
  {
   "cell_type": "code",
   "execution_count": 59,
   "metadata": {},
   "outputs": [
    {
     "name": "stdout",
     "output_type": "stream",
     "text": [
      "Model: \"sequential_8\"\n",
      "_________________________________________________________________\n",
      "Layer (type)                 Output Shape              Param #   \n",
      "=================================================================\n",
      "embedding_8 (Embedding)      (None, 41, 200)           2000000   \n",
      "_________________________________________________________________\n",
      "global_max_pooling1d_5 (Glob (None, 200)               0         \n",
      "_________________________________________________________________\n",
      "dense_16 (Dense)             (None, 8)                 1608      \n",
      "_________________________________________________________________\n",
      "dense_17 (Dense)             (None, 1)                 9         \n",
      "=================================================================\n",
      "Total params: 2,001,617\n",
      "Trainable params: 2,001,617\n",
      "Non-trainable params: 0\n",
      "_________________________________________________________________\n"
     ]
    }
   ],
   "source": [
    "import numpy as np\n",
    "import tensorflow as tf\n",
    "from tensorflow import keras\n",
    "from tensorflow.keras.initializers import Constant\n",
    " \n",
    "vocab_size = 10000  \n",
    "word_vector_dim = 200  \n",
    "\n",
    "model_max = keras.Sequential()\n",
    "model_max.add(keras.layers.Embedding(vocab_size, \n",
    "                                 word_vector_dim, \n",
    "                                 embeddings_initializer=Constant(embedding_matrix),  # 카피한 임베딩을 여기서 활용\n",
    "                                 input_length=maxlen, \n",
    "                                 trainable=True))   # trainable을 True로 주면 Fine-tuning\n",
    "model_max.add(keras.layers.GlobalMaxPooling1D())\n",
    "model_max.add(keras.layers.Dense(8, activation='relu'))\n",
    "model_max.add(keras.layers.Dense(1, activation='sigmoid'))\n",
    "\n",
    "model_max.summary()"
   ]
  },
  {
   "cell_type": "markdown",
   "metadata": {},
   "source": [
    "**- 모델 학습하기**"
   ]
  },
  {
   "cell_type": "code",
   "execution_count": 60,
   "metadata": {},
   "outputs": [
    {
     "name": "stdout",
     "output_type": "stream",
     "text": [
      "Epoch 1/12\n",
      "188/188 [==============================] - 5s 25ms/step - loss: 0.6474 - accuracy: 0.6339 - val_loss: 0.5806 - val_accuracy: 0.7262\n",
      "Epoch 2/12\n",
      "188/188 [==============================] - 5s 25ms/step - loss: 0.5142 - accuracy: 0.7666 - val_loss: 0.4728 - val_accuracy: 0.7784\n",
      "Epoch 3/12\n",
      "188/188 [==============================] - 5s 25ms/step - loss: 0.4169 - accuracy: 0.8155 - val_loss: 0.4204 - val_accuracy: 0.8047\n",
      "Epoch 4/12\n",
      "188/188 [==============================] - 5s 26ms/step - loss: 0.3630 - accuracy: 0.8436 - val_loss: 0.4008 - val_accuracy: 0.8168\n",
      "Epoch 5/12\n",
      "188/188 [==============================] - 5s 25ms/step - loss: 0.3297 - accuracy: 0.8601 - val_loss: 0.3969 - val_accuracy: 0.8208\n",
      "Epoch 6/12\n",
      "188/188 [==============================] - 5s 25ms/step - loss: 0.3042 - accuracy: 0.8739 - val_loss: 0.3910 - val_accuracy: 0.8258\n",
      "Epoch 7/12\n",
      "188/188 [==============================] - 5s 25ms/step - loss: 0.2822 - accuracy: 0.8847 - val_loss: 0.3929 - val_accuracy: 0.8277\n",
      "Epoch 8/12\n",
      "188/188 [==============================] - 5s 25ms/step - loss: 0.2626 - accuracy: 0.8943 - val_loss: 0.3965 - val_accuracy: 0.8291\n",
      "Epoch 9/12\n",
      "188/188 [==============================] - 5s 26ms/step - loss: 0.2428 - accuracy: 0.9046 - val_loss: 0.4032 - val_accuracy: 0.8297\n",
      "Epoch 10/12\n",
      "188/188 [==============================] - 5s 25ms/step - loss: 0.2243 - accuracy: 0.9138 - val_loss: 0.4101 - val_accuracy: 0.8292\n",
      "Epoch 11/12\n",
      "188/188 [==============================] - 5s 26ms/step - loss: 0.2067 - accuracy: 0.9224 - val_loss: 0.4209 - val_accuracy: 0.8277\n",
      "Epoch 12/12\n",
      "188/188 [==============================] - 5s 25ms/step - loss: 0.1901 - accuracy: 0.9297 - val_loss: 0.4371 - val_accuracy: 0.8250\n"
     ]
    }
   ],
   "source": [
    "model_max.compile(optimizer='adam',\n",
    "              loss='binary_crossentropy',\n",
    "              metrics=['accuracy'])\n",
    "              \n",
    "epochs = 12\n",
    "\n",
    "history_max = model_max.fit(partial_X_train,\n",
    "                    partial_y_train,\n",
    "                    epochs=epochs,\n",
    "                    batch_size=512,\n",
    "                    validation_data=(X_val, y_val),\n",
    "                    verbose=1)"
   ]
  },
  {
   "cell_type": "markdown",
   "metadata": {},
   "source": [
    "**- 모델 평가하기**"
   ]
  },
  {
   "cell_type": "code",
   "execution_count": 61,
   "metadata": {},
   "outputs": [
    {
     "name": "stdout",
     "output_type": "stream",
     "text": [
      "1537/1537 - 1s - loss: 0.4404 - accuracy: 0.8233\n",
      "[0.44044798612594604, 0.823300838470459]\n"
     ]
    }
   ],
   "source": [
    "results_max = model_max.evaluate(X_test,  y_test, verbose=2)\n",
    "\n",
    "print(results_max)"
   ]
  },
  {
   "cell_type": "code",
   "execution_count": null,
   "metadata": {},
   "outputs": [],
   "source": []
  }
 ],
 "metadata": {
  "kernelspec": {
   "display_name": "aiffel",
   "language": "python",
   "name": "aiffel"
  },
  "language_info": {
   "codemirror_mode": {
    "name": "ipython",
    "version": 3
   },
   "file_extension": ".py",
   "mimetype": "text/x-python",
   "name": "python",
   "nbconvert_exporter": "python",
   "pygments_lexer": "ipython3",
   "version": "3.7.9"
  }
 },
 "nbformat": 4,
 "nbformat_minor": 4
}

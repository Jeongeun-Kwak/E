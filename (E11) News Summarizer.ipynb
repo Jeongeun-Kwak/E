{
 "cells": [
  {
   "cell_type": "markdown",
   "id": "pressing-indication",
   "metadata": {},
   "source": [
    "# (E11) 뉴스 요약 해보기"
   ]
  },
  {
   "cell_type": "markdown",
   "id": "fifty-campaign",
   "metadata": {},
   "source": [
    "- 일시: 2021.02.18"
   ]
  },
  {
   "cell_type": "markdown",
   "id": "geological-object",
   "metadata": {},
   "source": [
    "*****"
   ]
  },
  {
   "cell_type": "markdown",
   "id": "professional-spread",
   "metadata": {},
   "source": [
    "## seq2seq 모델을 통해서 Abstractive summarization 방식의 텍스트 요약기를 만들어보자!"
   ]
  },
  {
   "cell_type": "markdown",
   "id": "dried-dispute",
   "metadata": {},
   "source": [
    "*****"
   ]
  },
  {
   "cell_type": "markdown",
   "id": "veterinary-satin",
   "metadata": {},
   "source": [
    "## Text Summarization(텍스트 요약)\n",
    "- **긴 길이의 문서 원물을 핵심 주제만으로 구성된 짧은 요약 문장들로 변환하는 것.**        \n",
    "- **요약 전후에 정보 손실량이 최소화가 관건. --> 원문의 정보를 최대한 보존해야 함.**    \n",
    "\n",
    "## Extractive summarization(추출적 요약)\n",
    "- **원문에서 문장들을 추출해서 요약하는 방식.**        \n",
    "- **원문에서 중요 문장을 그대로 끌어오기 때문에 문장들의 연결이 자연스럽지 않을 수 있음.**        \n",
    "- **딥러닝보다는 머신러닝 방식의 일종인 '텍스트랭크'와 같은 알고리즘을 통해 이 방법을 사용.**\n",
    "- **원문에서 요약문에 들어갈 핵시 문장을 판별하기 때문에 Text Classification 문제로 볼 수 있음.**    \n",
    "## Abstractive summarization(추상적 요약)\n",
    "- **원문으로부터 내용이 요약된 원래 없던 새로운 문장을 생성해 해는 것. --> 자연어 생성(NLG)**    \n",
    " \n",
    "> **<RNN으로 Abstractive summarization 방식을 구현할 때 문제점>**     \n",
    "> - **RNN은 학습 데이터의 길이가 길어질수록 먼 과거 정보를 현재에 전달하기 어려움.**    \n",
    ">  **--> Vanishing gradient와 Long-term dependencies(장기 의존성) 문제 발생.**    \n",
    ">  **--> LSTM과 GRU가 등장하고, Attention 메커니즘도 등장.** \n",
    "\n",
    "## Seq2Seq\n",
    "- **두 개의 RNN 아키텍처를 사용하여 입력 시퀀스로부터 출력 시퀀스를 생성해내는 자연어 생성 모델.**     \n",
    " **--> 인코더, 디코더로 구성된 딥러닝 아키텍처**\n",
    "- **주로 뉴럴 기계번역에 사용되는 모델.**\n",
    "\n",
    "> **1. 첫번째 RNN인 인코더에 원문 입력**     \n",
    " **2. 인코더가 원문을 고정된 벡터로 변환(이때 벡터는 문맥정보를 가진 context vector)**    **3. 두번째 RNN인 디코더가 context vector를 전달받아 한 단어 씩 생성해서 요약 문장 완성.**\n",
    " \n",
    "- **이때 인코더/ 디코더로는 LSTM 사용.**    \n",
    " **--> 바닐라 RNN과 LSTM의 차이점은 다음 time step 셀에 hidden state 뿐만 아니라,\n",
    " cell state도 함께 전달.**    \n",
    " **--> 인코더/ 디코더에 전달하는 context vector도 hidden state(h), cell state(c)가 존재해야 함.**\n",
    " \n",
    "\n",
    "- **seq2seq 구조에서 디코더는 시작토큰 SOS가 입력되면, 각 지점마다 단어를 생성.**\n",
    "- **종료토큰 EOS를 예측하는 순간에 생성을 멈춤.**    \n",
    " **-->훈련 데이터의 예측 대산 시퀀스 앞, 뒤에 SOS와 EOS를 넣어주는 전처리가 필요.**\n",
    " \n",
    "### Attention Machanism\n",
    "> **기존의 seq2seq는 인코더의 마지막 time step의 hidden state를 context vector로 사용.**    \n",
    " **--> RNN 계열 인공 신경망의 한계로 해당 context vector에는 입력 시퀀스의 상당 정보가 손실된 상태임.**\n",
    "\n",
    "- **Attention Machanism은 인코더의 모든 step의 hidden state의 정보가 context vector에 전부 반영되도록 하는 방식.**\n",
    "- **다만, 인코더의 모든 hidden state가 동일한 비중으로 반영되는 것이 아닌, 디코더의 현재 time step의 예측에 인코더의 각 step이 얼마나 영향을 미치는지에 따른 가중합으로 계산되는 방식.** \n",
    "\n",
    "\n",
    "- **주의점: context vector를 구성하기 위한 인코더 hidden state의 가중치 값은 디코더의 현재 step이 어디냐에 따라 계속 달라진다는 것.**     \n",
    " **--> 디코더의 현재 문장 생성 부위가 S인지, V인지, O인지 등에 따라 인코더가 입력 데이터를 해석한 context vector가 다른 값이 됨.** "
   ]
  },
  {
   "cell_type": "markdown",
   "id": "proved-fusion",
   "metadata": {},
   "source": [
    "*****"
   ]
  },
  {
   "cell_type": "markdown",
   "id": "aging-delicious",
   "metadata": {},
   "source": [
    "# Step 1. 데이터 수집"
   ]
  },
  {
   "cell_type": "markdown",
   "id": "sharing-furniture",
   "metadata": {},
   "source": [
    "## 데이터 준비"
   ]
  },
  {
   "cell_type": "code",
   "execution_count": 4,
   "id": "voluntary-newspaper",
   "metadata": {},
   "outputs": [
    {
     "name": "stderr",
     "output_type": "stream",
     "text": [
      "[nltk_data] Downloading package stopwords to /home/aiffel-\n",
      "[nltk_data]     dj20/nltk_data...\n",
      "[nltk_data]   Package stopwords is already up-to-date!\n"
     ]
    }
   ],
   "source": [
    "# 라이브러리 준비.\n",
    "import nltk\n",
    "nltk.download('stopwords') # 의미 요약엔 관계없는 단어들 제거에 사용.\n",
    "\n",
    "import numpy as np\n",
    "import pandas as pd\n",
    "import os\n",
    "import re\n",
    "import matplotlib.pyplot as plt\n",
    "from nltk.corpus import stopwords\n",
    "from bs4 import BeautifulSoup \n",
    "from tensorflow.keras.preprocessing.text import Tokenizer \n",
    "from tensorflow.keras.preprocessing.sequence import pad_sequences\n",
    "import urllib.request"
   ]
  },
  {
   "cell_type": "code",
   "execution_count": 8,
   "id": "christian-council",
   "metadata": {},
   "outputs": [],
   "source": [
    "# 뉴스 기사 데이터 준비.\n",
    "urllib.request.urlretrieve(\"https://raw.githubusercontent.com/sunnysai12345/News_Summary/master/news_summary_more.csv\", filename=\"news_summary_more.csv\")\n",
    "data = pd.read_csv('news_summary_more.csv', encoding='iso-8859-1')"
   ]
  },
  {
   "cell_type": "code",
   "execution_count": 11,
   "id": "divine-spiritual",
   "metadata": {},
   "outputs": [
    {
     "data": {
      "text/html": [
       "<div>\n",
       "<style scoped>\n",
       "    .dataframe tbody tr th:only-of-type {\n",
       "        vertical-align: middle;\n",
       "    }\n",
       "\n",
       "    .dataframe tbody tr th {\n",
       "        vertical-align: top;\n",
       "    }\n",
       "\n",
       "    .dataframe thead th {\n",
       "        text-align: right;\n",
       "    }\n",
       "</style>\n",
       "<table border=\"1\" class=\"dataframe\">\n",
       "  <thead>\n",
       "    <tr style=\"text-align: right;\">\n",
       "      <th></th>\n",
       "      <th>headlines</th>\n",
       "      <th>text</th>\n",
       "    </tr>\n",
       "  </thead>\n",
       "  <tbody>\n",
       "    <tr>\n",
       "      <th>44462</th>\n",
       "      <td>Nothing suspicious in Sridevi's death, says ME...</td>\n",
       "      <td>The Ministry of External Affairs (MEA) spokesp...</td>\n",
       "    </tr>\n",
       "    <tr>\n",
       "      <th>48371</th>\n",
       "      <td>Essential services can't be denied on lack of ...</td>\n",
       "      <td>Citing the Aadhaar Act 2016, the UIDAI on Satu...</td>\n",
       "    </tr>\n",
       "    <tr>\n",
       "      <th>1844</th>\n",
       "      <td>Hirani one of the most decent people I've met ...</td>\n",
       "      <td>Lyricist Javed Akhtar has defended filmmaker R...</td>\n",
       "    </tr>\n",
       "    <tr>\n",
       "      <th>96544</th>\n",
       "      <td>World's largest capstone found at burial site ...</td>\n",
       "      <td>The Archaeology Department of Telangana has di...</td>\n",
       "    </tr>\n",
       "    <tr>\n",
       "      <th>60002</th>\n",
       "      <td>Pilot assembles aircraft on rooftop, names it ...</td>\n",
       "      <td>Pilot Amol Yadav has assembled a six-seater ai...</td>\n",
       "    </tr>\n",
       "    <tr>\n",
       "      <th>84565</th>\n",
       "      <td>Former NASA engineer claims to have made 'nice...</td>\n",
       "      <td>Former NASA engineer Mark Rober claims to have...</td>\n",
       "    </tr>\n",
       "    <tr>\n",
       "      <th>34135</th>\n",
       "      <td>Sehwag wishes umpire Dharmasena by taking dig ...</td>\n",
       "      <td>Former Indian cricketer Virender Sehwag wished...</td>\n",
       "    </tr>\n",
       "    <tr>\n",
       "      <th>41914</th>\n",
       "      <td>Court allows ED to question those arrested in ...</td>\n",
       "      <td>A special CBI court has allowed Enforcement Di...</td>\n",
       "    </tr>\n",
       "    <tr>\n",
       "      <th>39774</th>\n",
       "      <td>Brazilian teen dies after shark bites off his ...</td>\n",
       "      <td>A Brazilian teen passed away on Monday after a...</td>\n",
       "    </tr>\n",
       "    <tr>\n",
       "      <th>95900</th>\n",
       "      <td>Longest kiss in Indian cinema was seen in 1933...</td>\n",
       "      <td>A four-minute kiss between real-life couple De...</td>\n",
       "    </tr>\n",
       "  </tbody>\n",
       "</table>\n",
       "</div>"
      ],
      "text/plain": [
       "                                               headlines  \\\n",
       "44462  Nothing suspicious in Sridevi's death, says ME...   \n",
       "48371  Essential services can't be denied on lack of ...   \n",
       "1844   Hirani one of the most decent people I've met ...   \n",
       "96544  World's largest capstone found at burial site ...   \n",
       "60002  Pilot assembles aircraft on rooftop, names it ...   \n",
       "84565  Former NASA engineer claims to have made 'nice...   \n",
       "34135  Sehwag wishes umpire Dharmasena by taking dig ...   \n",
       "41914  Court allows ED to question those arrested in ...   \n",
       "39774  Brazilian teen dies after shark bites off his ...   \n",
       "95900  Longest kiss in Indian cinema was seen in 1933...   \n",
       "\n",
       "                                                    text  \n",
       "44462  The Ministry of External Affairs (MEA) spokesp...  \n",
       "48371  Citing the Aadhaar Act 2016, the UIDAI on Satu...  \n",
       "1844   Lyricist Javed Akhtar has defended filmmaker R...  \n",
       "96544  The Archaeology Department of Telangana has di...  \n",
       "60002  Pilot Amol Yadav has assembled a six-seater ai...  \n",
       "84565  Former NASA engineer Mark Rober claims to have...  \n",
       "34135  Former Indian cricketer Virender Sehwag wished...  \n",
       "41914  A special CBI court has allowed Enforcement Di...  \n",
       "39774  A Brazilian teen passed away on Monday after a...  \n",
       "95900  A four-minute kiss between real-life couple De...  "
      ]
     },
     "execution_count": 11,
     "metadata": {},
     "output_type": "execute_result"
    }
   ],
   "source": [
    "data.sample(10)"
   ]
  },
  {
   "cell_type": "code",
   "execution_count": 12,
   "id": "proud-pharmacology",
   "metadata": {},
   "outputs": [
    {
     "name": "stdout",
     "output_type": "stream",
     "text": [
      "전체 샘플수 : 98401\n"
     ]
    }
   ],
   "source": [
    "print('전체 샘플수 :',(len(data)))"
   ]
  },
  {
   "cell_type": "markdown",
   "id": "daily-actor",
   "metadata": {},
   "source": [
    "추상적 요약: 텍스트는 본문, 헤드라인은 요약문으로// 추출적 요약은 텍스트만 사용."
   ]
  },
  {
   "cell_type": "markdown",
   "id": "nervous-caution",
   "metadata": {},
   "source": [
    "*****"
   ]
  },
  {
   "cell_type": "markdown",
   "id": "psychological-steps",
   "metadata": {},
   "source": [
    "# Step 2. 데이터 전처리"
   ]
  },
  {
   "cell_type": "markdown",
   "id": "beneficial-snapshot",
   "metadata": {},
   "source": [
    "## 중복, 결측치 제거"
   ]
  },
  {
   "cell_type": "code",
   "execution_count": 13,
   "id": "equal-crossing",
   "metadata": {},
   "outputs": [
    {
     "name": "stdout",
     "output_type": "stream",
     "text": [
      "Text 열에서 중복을 배제한 유일한 샘플의 수 : 98360\n",
      "Summary 열에서 중복을 배제한 유일한 샘플의 수 : 98280\n"
     ]
    }
   ],
   "source": [
    "print('Text 열에서 중복을 배제한 유일한 샘플의 수 :', data['text'].nunique())\n",
    "print('Summary 열에서 중복을 배제한 유일한 샘플의 수 :', data['headlines'].nunique())"
   ]
  },
  {
   "cell_type": "code",
   "execution_count": 15,
   "id": "manual-interaction",
   "metadata": {},
   "outputs": [
    {
     "name": "stdout",
     "output_type": "stream",
     "text": [
      "전체 샘플수 : 98360\n"
     ]
    }
   ],
   "source": [
    "# 중복 샘플 제거.\n",
    "data.drop_duplicates(subset = ['text'], inplace = True)\n",
    "print('전체 샘플수 :',(len(data)))"
   ]
  },
  {
   "cell_type": "code",
   "execution_count": 17,
   "id": "continent-sacramento",
   "metadata": {},
   "outputs": [
    {
     "name": "stdout",
     "output_type": "stream",
     "text": [
      "headlines    0\n",
      "text         0\n",
      "dtype: int64\n"
     ]
    }
   ],
   "source": [
    "# 결측치 확인.\n",
    "print(data.isnull().sum())"
   ]
  },
  {
   "cell_type": "markdown",
   "id": "constitutional-fantasy",
   "metadata": {},
   "source": [
    "## text normalization와 stopwords 제거    \n",
    "- **text normalization: 같은 의미인데 다른 표현으로 쓰이는 표현를 제거하여 연산량을 줄이는 것.**    \n",
    "- **stopwords: 자주 나오지만 NLP에는 별 도움이 안되는 단어.**"
   ]
  },
  {
   "cell_type": "code",
   "execution_count": 99,
   "id": "verbal-insured",
   "metadata": {},
   "outputs": [
    {
     "name": "stdout",
     "output_type": "stream",
     "text": [
      "정규화 사전의 수:  120\n"
     ]
    }
   ],
   "source": [
    "# text normalization 사전 구성.\n",
    "contractions = {\"ain't\": \"is not\", \"aren't\": \"are not\",\"can't\": \"cannot\", \"'cause\": \"because\", \"could've\": \"could have\", \"couldn't\": \"could not\",\n",
    "                           \"didn't\": \"did not\",  \"doesn't\": \"does not\", \"don't\": \"do not\", \"hadn't\": \"had not\", \"hasn't\": \"has not\", \"haven't\": \"have not\",\n",
    "                           \"he'd\": \"he would\",\"he'll\": \"he will\", \"he's\": \"he is\", \"how'd\": \"how did\", \"how'd'y\": \"how do you\", \"how'll\": \"how will\", \"how's\": \"how is\",\n",
    "                           \"I'd\": \"I would\", \"I'd've\": \"I would have\", \"I'll\": \"I will\", \"I'll've\": \"I will have\",\"I'm\": \"I am\", \"I've\": \"I have\", \"i'd\": \"i would\",\n",
    "                           \"i'd've\": \"i would have\", \"i'll\": \"i will\",  \"i'll've\": \"i will have\",\"i'm\": \"i am\", \"i've\": \"i have\", \"isn't\": \"is not\", \"it'd\": \"it would\",\n",
    "                           \"it'd've\": \"it would have\", \"it'll\": \"it will\", \"it'll've\": \"it will have\",\"it's\": \"it is\", \"let's\": \"let us\", \"ma'am\": \"madam\",\n",
    "                           \"mayn't\": \"may not\", \"might've\": \"might have\",\"mightn't\": \"might not\",\"mightn't've\": \"might not have\", \"must've\": \"must have\",\n",
    "                           \"mustn't\": \"must not\", \"mustn't've\": \"must not have\", \"needn't\": \"need not\", \"needn't've\": \"need not have\",\"o'clock\": \"of the clock\",\n",
    "                           \"oughtn't\": \"ought not\", \"oughtn't've\": \"ought not have\", \"shan't\": \"shall not\", \"sha'n't\": \"shall not\", \"shan't've\": \"shall not have\",\n",
    "                           \"she'd\": \"she would\", \"she'd've\": \"she would have\", \"she'll\": \"she will\", \"she'll've\": \"she will have\", \"she's\": \"she is\",\n",
    "                           \"should've\": \"should have\", \"shouldn't\": \"should not\", \"shouldn't've\": \"should not have\", \"so've\": \"so have\",\"so's\": \"so as\",\n",
    "                           \"this's\": \"this is\",\"that'd\": \"that would\", \"that'd've\": \"that would have\", \"that's\": \"that is\", \"there'd\": \"there would\",\n",
    "                           \"there'd've\": \"there would have\", \"there's\": \"there is\", \"here's\": \"here is\",\"they'd\": \"they would\", \"they'd've\": \"they would have\",\n",
    "                           \"they'll\": \"they will\", \"they'll've\": \"they will have\", \"they're\": \"they are\", \"they've\": \"they have\", \"to've\": \"to have\",\n",
    "                           \"wasn't\": \"was not\", \"we'd\": \"we would\", \"we'd've\": \"we would have\", \"we'll\": \"we will\", \"we'll've\": \"we will have\", \"we're\": \"we are\",\n",
    "                           \"we've\": \"we have\", \"weren't\": \"were not\", \"what'll\": \"what will\", \"what'll've\": \"what will have\", \"what're\": \"what are\",\n",
    "                           \"what's\": \"what is\", \"what've\": \"what have\", \"when's\": \"when is\", \"when've\": \"when have\", \"where'd\": \"where did\", \"where's\": \"where is\",\n",
    "                           \"where've\": \"where have\", \"who'll\": \"who will\", \"who'll've\": \"who will have\", \"who's\": \"who is\", \"who've\": \"who have\",\n",
    "                           \"why's\": \"why is\", \"why've\": \"why have\", \"will've\": \"will have\", \"won't\": \"will not\", \"won't've\": \"will not have\",\n",
    "                           \"would've\": \"would have\", \"wouldn't\": \"would not\", \"wouldn't've\": \"would not have\", \"y'all\": \"you all\",\n",
    "                           \"y'all'd\": \"you all would\",\"y'all'd've\": \"you all would have\",\"y'all're\": \"you all are\",\"y'all've\": \"you all have\",\n",
    "                           \"you'd\": \"you would\", \"you'd've\": \"you would have\", \"you'll\": \"you will\", \"you'll've\": \"you will have\",\n",
    "                           \"you're\": \"you are\", \"you've\": \"you have\"}\n",
    "\n",
    "print(\"정규화 사전의 수: \",len(contractions))"
   ]
  },
  {
   "cell_type": "code",
   "execution_count": 21,
   "id": "defensive-consolidation",
   "metadata": {},
   "outputs": [
    {
     "name": "stdout",
     "output_type": "stream",
     "text": [
      "불용어 개수 : 179\n",
      "['i', 'me', 'my', 'myself', 'we', 'our', 'ours', 'ourselves', 'you', \"you're\", \"you've\", \"you'll\", \"you'd\", 'your', 'yours', 'yourself', 'yourselves', 'he', 'him', 'his', 'himself', 'she', \"she's\", 'her', 'hers', 'herself', 'it', \"it's\", 'its', 'itself', 'they', 'them', 'their', 'theirs', 'themselves', 'what', 'which', 'who', 'whom', 'this', 'that', \"that'll\", 'these', 'those', 'am', 'is', 'are', 'was', 'were', 'be', 'been', 'being', 'have', 'has', 'had', 'having', 'do', 'does', 'did', 'doing', 'a', 'an', 'the', 'and', 'but', 'if', 'or', 'because', 'as', 'until', 'while', 'of', 'at', 'by', 'for', 'with', 'about', 'against', 'between', 'into', 'through', 'during', 'before', 'after', 'above', 'below', 'to', 'from', 'up', 'down', 'in', 'out', 'on', 'off', 'over', 'under', 'again', 'further', 'then', 'once', 'here', 'there', 'when', 'where', 'why', 'how', 'all', 'any', 'both', 'each', 'few', 'more', 'most', 'other', 'some', 'such', 'no', 'nor', 'not', 'only', 'own', 'same', 'so', 'than', 'too', 'very', 's', 't', 'can', 'will', 'just', 'don', \"don't\", 'should', \"should've\", 'now', 'd', 'll', 'm', 'o', 're', 've', 'y', 'ain', 'aren', \"aren't\", 'couldn', \"couldn't\", 'didn', \"didn't\", 'doesn', \"doesn't\", 'hadn', \"hadn't\", 'hasn', \"hasn't\", 'haven', \"haven't\", 'isn', \"isn't\", 'ma', 'mightn', \"mightn't\", 'mustn', \"mustn't\", 'needn', \"needn't\", 'shan', \"shan't\", 'shouldn', \"shouldn't\", 'wasn', \"wasn't\", 'weren', \"weren't\", 'won', \"won't\", 'wouldn', \"wouldn't\"]\n"
     ]
    }
   ],
   "source": [
    "# NLTK의 불용어 리스트 확인.\n",
    "print('불용어 개수 :', len(stopwords.words('english') ))\n",
    "print(stopwords.words('english'))"
   ]
  },
  {
   "cell_type": "code",
   "execution_count": 22,
   "id": "frequent-relation",
   "metadata": {},
   "outputs": [],
   "source": [
    "# 문장부호, 격 표현 제거, 소문자화 등의 데이터 전처리 함수 생성.\n",
    "def preprocess_sentence(sentence, remove_stopwords=True):\n",
    "    sentence = sentence.lower() # 텍스트 소문자화.\n",
    "    sentence = BeautifulSoup(sentence, \"lxml\").text # <html 태그 제거.\n",
    "    sentence = re.sub(r'\\([^)]*\\)', '', sentence) # 괄호로 닫힌 문자열 제거.\n",
    "    sentence = re.sub('\"','', sentence) # 쌍따옴표 제거.\n",
    "    sentence = ' '.join([contractions[t] if t in contractions else t for t in sentence.split(\" \")]) # 약어 정규화.\n",
    "    sentence = re.sub(r\"'s\\b\",\"\",sentence) # 소유격 제거.\n",
    "    sentence = re.sub(\"[^a-zA-Z]\", \" \", sentence) # 영어 외 문자(숫자, 특수문자 등) 공백으로 변환.\n",
    "    sentence = re.sub('[m]{2,}', 'mm', sentence) # m이 3개 이상이면 2개로 변경.\n",
    "    \n",
    "    # 불용어 제거 (Text).\n",
    "    if remove_stopwords:\n",
    "        tokens = ' '.join(word for word in sentence.split() if not word in stopwords.words('english') if len(word) > 1)\n",
    "    # 불용어 미제거 (Summary).\n",
    "    else:\n",
    "        tokens = ' '.join(word for word in sentence.split() if len(word) > 1)\n",
    "    return tokens"
   ]
  },
  {
   "cell_type": "code",
   "execution_count": 24,
   "id": "greek-showcase",
   "metadata": {},
   "outputs": [
    {
     "data": {
      "text/plain": [
       "['saurav kant alumnus upgrad iiit pg program machine learning artificial intelligence sr systems engineer infosys almost years work experience program upgrad degree career support helped transition data scientist tech mahindra salary hike upgrad online power learning powered lakh careers',\n",
       " 'kunal shah credit card bill payment platform cred gave users chance win free food swiggy one year pranav kaushik delhi techie bagged reward spending cred coins users get one cred coin per rupee bill paid used avail rewards brands like ixigo bookmyshow ubereats cult fit',\n",
       " 'new zealand defeated india wickets fourth odi hamilton thursday win first match five match odi series india lost international match rohit sharma captaincy consecutive victories dating back march match witnessed india getting seventh lowest total odi cricket history',\n",
       " 'aegon life iterm insurance plan customers enjoy tax benefits premiums paid save taxes plan provides life cover age years also customers options insure critical illnesses disability accidental death benefit rider life cover age years',\n",
       " 'speaking sexual harassment allegations rajkumar hirani sonam kapoor said known hirani many years true metoo movement get derailed metoo movement always believe woman case need reserve judgment added hirani accused assistant worked sanju']"
      ]
     },
     "execution_count": 24,
     "metadata": {},
     "output_type": "execute_result"
    }
   ],
   "source": [
    "# 전체 Text 데이터에 대한 전처리.\n",
    "clean_text = []\n",
    "\n",
    "for s in data['text']:\n",
    "    clean_text.append(preprocess_sentence(s))\n",
    "\n",
    "# 전처리 후 출력\n",
    "clean_text[:5]"
   ]
  },
  {
   "cell_type": "code",
   "execution_count": 25,
   "id": "vulnerable-graph",
   "metadata": {},
   "outputs": [
    {
     "data": {
      "text/plain": [
       "['upgrad learner switches to career in ml al with salary hike',\n",
       " 'delhi techie wins free food from swiggy for one year on cred',\n",
       " 'new zealand end rohit sharma led india match winning streak',\n",
       " 'aegon life iterm insurance plan helps customers save tax',\n",
       " 'have known hirani for yrs what if metoo claims are not true sonam']"
      ]
     },
     "execution_count": 25,
     "metadata": {},
     "output_type": "execute_result"
    }
   ],
   "source": [
    "# 전체 Summary 데이터에 대한 전처리.\n",
    "clean_summary = []\n",
    "\n",
    "for s in data['headlines']:\n",
    "    clean_summary.append(preprocess_sentence(s, False))\n",
    "\n",
    "clean_summary[:5]"
   ]
  },
  {
   "cell_type": "code",
   "execution_count": 27,
   "id": "infectious-ceremony",
   "metadata": {},
   "outputs": [],
   "source": [
    "# 전체 데이터 전처리 과정에서 모든 단언가 사라진 빈 샘플이 생겼는지 확인.\n",
    "data['text'] = clean_text\n",
    "data['headlines'] = clean_summary\n",
    "\n",
    "# 빈 값을 Null 값으로 변환.\n",
    "data.replace('', np.nan, inplace=True)"
   ]
  },
  {
   "cell_type": "code",
   "execution_count": 28,
   "id": "working-bracelet",
   "metadata": {},
   "outputs": [
    {
     "data": {
      "text/plain": [
       "headlines    0\n",
       "text         0\n",
       "dtype: int64"
      ]
     },
     "execution_count": 28,
     "metadata": {},
     "output_type": "execute_result"
    }
   ],
   "source": [
    "# Null값이 얼마나 생겼는지 확인.\n",
    "data.isnull().sum()"
   ]
  },
  {
   "cell_type": "markdown",
   "id": "pointed-battle",
   "metadata": {},
   "source": [
    "## 샘플 최대 길이 결정"
   ]
  },
  {
   "cell_type": "code",
   "execution_count": 29,
   "id": "general-latino",
   "metadata": {},
   "outputs": [
    {
     "name": "stdout",
     "output_type": "stream",
     "text": [
      "텍스트의 최소 길이 : 1\n",
      "텍스트의 최대 길이 : 60\n",
      "텍스트의 평균 길이 : 35.09968483123221\n",
      "요약의 최소 길이 : 1\n",
      "요약의 최대 길이 : 16\n",
      "요약의 평균 길이 : 9.299532330215534\n"
     ]
    },
    {
     "data": {
      "image/png": "[encoded data removed]",
      "text/plain": [
       "<Figure size 432x288 with 2 Axes>"
      ]
     },
     "metadata": {
      "needs_background": "light"
     },
     "output_type": "display_data"
    },
    {
     "data": {
      "image/png": "[encoded data removed]",
      "text/plain": [
       "<Figure size 432x288 with 1 Axes>"
      ]
     },
     "metadata": {
      "needs_background": "light"
     },
     "output_type": "display_data"
    },
    {
     "data": {
      "image/png": "[encoded data removed]",
      "text/plain": [
       "<Figure size 432x288 with 1 Axes>"
      ]
     },
     "metadata": {
      "needs_background": "light"
     },
     "output_type": "display_data"
    }
   ],
   "source": [
    "# 길이 분포 출력\n",
    "text_len = [len(s.split()) for s in data['text']]\n",
    "summary_len = [len(s.split()) for s in data['headlines']]\n",
    "\n",
    "print('텍스트의 최소 길이 : {}'.format(np.min(text_len)))\n",
    "print('텍스트의 최대 길이 : {}'.format(np.max(text_len)))\n",
    "print('텍스트의 평균 길이 : {}'.format(np.mean(text_len)))\n",
    "print('요약의 최소 길이 : {}'.format(np.min(summary_len)))\n",
    "print('요약의 최대 길이 : {}'.format(np.max(summary_len)))\n",
    "print('요약의 평균 길이 : {}'.format(np.mean(summary_len)))\n",
    "\n",
    "# 요약과 실제 텍스트의 길이 분포. \n",
    "plt.subplot(1,2,1)\n",
    "plt.boxplot(summary_len)\n",
    "plt.title('Summary')\n",
    "plt.subplot(1,2,2)\n",
    "plt.boxplot(text_len)\n",
    "plt.title('Text')\n",
    "plt.tight_layout()\n",
    "plt.show()\n",
    "\n",
    "# 요약본 샘플 길이별 갯수.\n",
    "plt.title('Summary')\n",
    "plt.hist(summary_len, bins = 40)\n",
    "plt.xlabel('length of samples')\n",
    "plt.ylabel('number of samples')\n",
    "plt.show()\n",
    "\n",
    "# 실제 텍스트 샘플 길이별 갯수.\n",
    "plt.title('Text')\n",
    "plt.hist(text_len, bins = 40)\n",
    "plt.xlabel('length of samples')\n",
    "plt.ylabel('number of samples')\n",
    "plt.show()"
   ]
  },
  {
   "cell_type": "code",
   "execution_count": 39,
   "id": "metropolitan-harvard",
   "metadata": {},
   "outputs": [],
   "source": [
    "# 최대 길이 임의 설정.\n",
    "text_max_len = 45\n",
    "summary_max_len = 12"
   ]
  },
  {
   "cell_type": "code",
   "execution_count": 52,
   "id": "foreign-klein",
   "metadata": {},
   "outputs": [],
   "source": [
    "# 임의로 설정한 길이로 얼마나 샘플들을 자르지 않고 포함할 수 있는지 확인하는 함수.\n",
    "def below_threshold_len(max_len, nested_list):\n",
    "  cnt = 0\n",
    "  for s in nested_list:\n",
    "    if(len(s.split()) <= max_len):\n",
    "        cnt = cnt + 1\n",
    "  print('전체 샘플 중 길이가 %s 이하인 샘플의 비율: %s'%(max_len, (cnt / len(nested_list))))"
   ]
  },
  {
   "cell_type": "code",
   "execution_count": 53,
   "id": "operational-consultancy",
   "metadata": {},
   "outputs": [
    {
     "name": "stdout",
     "output_type": "stream",
     "text": [
      "전체 샘플 중 길이가 45 이하인 샘플의 비율: 1.0\n",
      "전체 샘플 중 길이가 12 이하인 샘플의 비율: 1.0\n"
     ]
    }
   ],
   "source": [
    "# 임의 설정한 길이로 몇 퍼센트의 샘플까지 포함하나?\n",
    "below_threshold_len(text_max_len, data['text'])\n",
    "below_threshold_len(summary_max_len,  data['headlines'])"
   ]
  },
  {
   "cell_type": "code",
   "execution_count": 54,
   "id": "surface-hunter",
   "metadata": {},
   "outputs": [
    {
     "name": "stdout",
     "output_type": "stream",
     "text": [
      "전체 샘플수 : 96871\n"
     ]
    }
   ],
   "source": [
    "# 설정한 길이보다 길면 제외하는 방법으로 데이터 정제.\n",
    "data = data[data['text'].apply(lambda x: len(x.split()) <= text_max_len)]\n",
    "data = data[data['headlines'].apply(lambda x: len(x.split()) <= summary_max_len)]\n",
    "print('전체 샘플수 :',(len(data)))"
   ]
  },
  {
   "cell_type": "markdown",
   "id": "beneficial-vintage",
   "metadata": {},
   "source": [
    "## SOS와 EOS 추가하기"
   ]
  },
  {
   "cell_type": "code",
   "execution_count": 55,
   "id": "loaded-respondent",
   "metadata": {},
   "outputs": [
    {
     "data": {
      "text/html": [
       "<div>\n",
       "<style scoped>\n",
       "    .dataframe tbody tr th:only-of-type {\n",
       "        vertical-align: middle;\n",
       "    }\n",
       "\n",
       "    .dataframe tbody tr th {\n",
       "        vertical-align: top;\n",
       "    }\n",
       "\n",
       "    .dataframe thead th {\n",
       "        text-align: right;\n",
       "    }\n",
       "</style>\n",
       "<table border=\"1\" class=\"dataframe\">\n",
       "  <thead>\n",
       "    <tr style=\"text-align: right;\">\n",
       "      <th></th>\n",
       "      <th>headlines</th>\n",
       "      <th>text</th>\n",
       "      <th>decoder_input</th>\n",
       "      <th>decoder_target</th>\n",
       "    </tr>\n",
       "  </thead>\n",
       "  <tbody>\n",
       "    <tr>\n",
       "      <th>0</th>\n",
       "      <td>upgrad learner switches to career in ml al wit...</td>\n",
       "      <td>saurav kant alumnus upgrad iiit pg program mac...</td>\n",
       "      <td>sostoken upgrad learner switches to career in ...</td>\n",
       "      <td>upgrad learner switches to career in ml al wit...</td>\n",
       "    </tr>\n",
       "    <tr>\n",
       "      <th>1</th>\n",
       "      <td>delhi techie wins free food from swiggy for on...</td>\n",
       "      <td>kunal shah credit card bill payment platform c...</td>\n",
       "      <td>sostoken delhi techie wins free food from swig...</td>\n",
       "      <td>delhi techie wins free food from swiggy for on...</td>\n",
       "    </tr>\n",
       "    <tr>\n",
       "      <th>2</th>\n",
       "      <td>new zealand end rohit sharma led india match w...</td>\n",
       "      <td>new zealand defeated india wickets fourth odi ...</td>\n",
       "      <td>sostoken new zealand end rohit sharma led indi...</td>\n",
       "      <td>new zealand end rohit sharma led india match w...</td>\n",
       "    </tr>\n",
       "    <tr>\n",
       "      <th>3</th>\n",
       "      <td>aegon life iterm insurance plan helps customer...</td>\n",
       "      <td>aegon life iterm insurance plan customers enjo...</td>\n",
       "      <td>sostoken aegon life iterm insurance plan helps...</td>\n",
       "      <td>aegon life iterm insurance plan helps customer...</td>\n",
       "    </tr>\n",
       "    <tr>\n",
       "      <th>5</th>\n",
       "      <td>rahat fateh ali khan denies getting notice for...</td>\n",
       "      <td>pakistani singer rahat fateh ali khan denied r...</td>\n",
       "      <td>sostoken rahat fateh ali khan denies getting n...</td>\n",
       "      <td>rahat fateh ali khan denies getting notice for...</td>\n",
       "    </tr>\n",
       "  </tbody>\n",
       "</table>\n",
       "</div>"
      ],
      "text/plain": [
       "                                           headlines  \\\n",
       "0  upgrad learner switches to career in ml al wit...   \n",
       "1  delhi techie wins free food from swiggy for on...   \n",
       "2  new zealand end rohit sharma led india match w...   \n",
       "3  aegon life iterm insurance plan helps customer...   \n",
       "5  rahat fateh ali khan denies getting notice for...   \n",
       "\n",
       "                                                text  \\\n",
       "0  saurav kant alumnus upgrad iiit pg program mac...   \n",
       "1  kunal shah credit card bill payment platform c...   \n",
       "2  new zealand defeated india wickets fourth odi ...   \n",
       "3  aegon life iterm insurance plan customers enjo...   \n",
       "5  pakistani singer rahat fateh ali khan denied r...   \n",
       "\n",
       "                                       decoder_input  \\\n",
       "0  sostoken upgrad learner switches to career in ...   \n",
       "1  sostoken delhi techie wins free food from swig...   \n",
       "2  sostoken new zealand end rohit sharma led indi...   \n",
       "3  sostoken aegon life iterm insurance plan helps...   \n",
       "5  sostoken rahat fateh ali khan denies getting n...   \n",
       "\n",
       "                                      decoder_target  \n",
       "0  upgrad learner switches to career in ml al wit...  \n",
       "1  delhi techie wins free food from swiggy for on...  \n",
       "2  new zealand end rohit sharma led india match w...  \n",
       "3  aegon life iterm insurance plan helps customer...  \n",
       "5  rahat fateh ali khan denies getting notice for...  "
      ]
     },
     "execution_count": 55,
     "metadata": {},
     "output_type": "execute_result"
    }
   ],
   "source": [
    "#요약 데이터에 시작 토큰(decoder_input), 종료 토큰(decoder_target) 추가.\n",
    "data['decoder_input'] = data['headlines'].apply(lambda x : 'sostoken '+ x)\n",
    "data['decoder_target'] = data['headlines'].apply(lambda x : x + ' eostoken')\n",
    "data.head()"
   ]
  },
  {
   "cell_type": "code",
   "execution_count": 56,
   "id": "careful-element",
   "metadata": {},
   "outputs": [],
   "source": [
    "# 인코더 입력, 디코코더의 입력과 출력을 각각 Numpy 타입으로 저장.\n",
    "encoder_input = np.array(data['text']) # 인코더의 입력\n",
    "decoder_input = np.array(data['decoder_input']) # 디코더의 입력\n",
    "decoder_target = np.array(data['decoder_target']) # 디코더의 레이블"
   ]
  },
  {
   "cell_type": "markdown",
   "id": "emotional-channel",
   "metadata": {},
   "source": [
    "## 훈련/ 시험 데이터 분리"
   ]
  },
  {
   "cell_type": "code",
   "execution_count": 74,
   "id": "perceived-hierarchy",
   "metadata": {},
   "outputs": [
    {
     "name": "stdout",
     "output_type": "stream",
     "text": [
      "훈련 데이터의 개수 : 77497\n",
      "훈련 레이블의 개수 : 77497\n",
      "테스트 데이터의 개수 : 19374\n",
      "테스트 레이블의 개수 : 19374\n"
     ]
    }
   ],
   "source": [
    "# 인코더 입력 데이터와 같은 셔플된 정수 시퀀스 생성.\n",
    "indices = np.arange(encoder_input.shape[0])\n",
    "np.random.shuffle(indices)\n",
    "\n",
    "# 위 정수 시퀀스를 이용해 데이터의 샘플 순서를 정의. --> 샘플이 섞임.\n",
    "encoder_input = encoder_input[indices]\n",
    "decoder_input = decoder_input[indices]\n",
    "decoder_target = decoder_target[indices]\n",
    "\n",
    "# 시험 데이터의 크기 0.2로 정하기. --> 훈련 데이터는 자동으로 0.8.\n",
    "n_of_val = int(len(encoder_input)*0.2)\n",
    "\n",
    "# 전체 데이터 양분하기.\n",
    "encoder_input_train = encoder_input[:-n_of_val]\n",
    "decoder_input_train = decoder_input[:-n_of_val]\n",
    "decoder_target_train = decoder_target[:-n_of_val]\n",
    "\n",
    "encoder_input_test = encoder_input[-n_of_val:]\n",
    "decoder_input_test = decoder_input[-n_of_val:]\n",
    "decoder_target_test = decoder_target[-n_of_val:]\n",
    "\n",
    "print('훈련 데이터의 개수 :', len(encoder_input_train))\n",
    "print('훈련 레이블의 개수 :',len(decoder_input_train))\n",
    "print('테스트 데이터의 개수 :',len(encoder_input_test))\n",
    "print('테스트 레이블의 개수 :',len(decoder_input_test))"
   ]
  },
  {
   "cell_type": "markdown",
   "id": "mature-connecticut",
   "metadata": {},
   "source": [
    "## vocaburary 만들기 및 정수 인코딩\n",
    "- **기계가 텍스트를 숫자로 처리할 수 있도록 훈련/ 시험 데이터의 단어를 모두 정수로 치환.**    \n",
    " **--> 각 단어를 고유한 정수로 맵핑하는 작업 = vocaburary 만들기**"
   ]
  },
  {
   "cell_type": "code",
   "execution_count": 75,
   "id": "retained-escape",
   "metadata": {},
   "outputs": [],
   "source": [
    "src_tokenizer = Tokenizer() # 토크나이저 정의.\n",
    "src_tokenizer.fit_on_texts(encoder_input_train) # 인코더 입력 데이터로부터 단어 집합 생성."
   ]
  },
  {
   "cell_type": "code",
   "execution_count": 76,
   "id": "stock-pickup",
   "metadata": {},
   "outputs": [
    {
     "name": "stdout",
     "output_type": "stream",
     "text": [
      "단어 집합(vocabulary)의 크기 : 69133\n",
      "등장 빈도가 6번 이하인 희귀 단어의 수: 47111\n",
      "단어 집합에서 희귀 단어를 제외시킬 경우의 단어 집합의 크기 22022\n",
      "단어 집합에서 희귀 단어의 비율: 68.14545875341732\n",
      "전체 등장 빈도에서 희귀 단어 등장 빈도 비율: 3.51802948255225\n"
     ]
    }
   ],
   "source": [
    "# 인코더 입력 데이터에서 등장 빈도가 7 미만인 단어는 얼마나 비중을 차지하나?\n",
    "threshold = 7\n",
    "total_cnt = len(src_tokenizer.word_index) # 단어의 수\n",
    "rare_cnt = 0 # 등장 빈도수가 threshold보다 작은 단어의 개수를 카운트\n",
    "total_freq = 0 # 훈련 데이터의 전체 단어 빈도수 총 합\n",
    "rare_freq = 0 # 등장 빈도수가 threshold보다 작은 단어의 등장 빈도수의 총 합\n",
    "\n",
    "# 단어와 빈도수의 쌍(pair)을 key와 value로 받는다.\n",
    "for key, value in src_tokenizer.word_counts.items():\n",
    "    total_freq = total_freq + value\n",
    "\n",
    "    # 단어의 등장 빈도수가 threshold보다 작으면\n",
    "    if(value < threshold):\n",
    "        rare_cnt = rare_cnt + 1\n",
    "        rare_freq = rare_freq + value\n",
    "\n",
    "print('단어 집합(vocabulary)의 크기 :',total_cnt)\n",
    "print('등장 빈도가 %s번 이하인 희귀 단어의 수: %s'%(threshold - 1, rare_cnt))\n",
    "print('단어 집합에서 희귀 단어를 제외시킬 경우의 단어 집합의 크기 %s'%(total_cnt - rare_cnt))\n",
    "print(\"단어 집합에서 희귀 단어의 비율:\", (rare_cnt / total_cnt)*100)\n",
    "print(\"전체 등장 빈도에서 희귀 단어 등장 빈도 비율:\", (rare_freq / total_freq)*100)"
   ]
  },
  {
   "cell_type": "code",
   "execution_count": 77,
   "id": "accurate-recording",
   "metadata": {},
   "outputs": [],
   "source": [
    "# 등장 빈도가 7회 미만인 단어는 정수 인코딩 과정에서 제외하고 훈련 데이터에서 제거.\n",
    "src_vocab = 20000\n",
    "src_tokenizer = Tokenizer(num_words = src_vocab) # 단어 집합의 크기를 제한.\n",
    "src_tokenizer.fit_on_texts(encoder_input_train) # 단어 집합 재생성."
   ]
  },
  {
   "cell_type": "code",
   "execution_count": 78,
   "id": "hispanic-bridge",
   "metadata": {},
   "outputs": [
    {
     "name": "stdout",
     "output_type": "stream",
     "text": [
      "[[28, 2042, 109, 2, 759, 6412, 3302, 1, 1875, 6473, 2042, 8, 116, 956, 1303, 3178, 351, 109, 1875, 116, 383, 116, 383, 1155, 26, 4, 599, 1177, 697, 263, 8, 3302, 1], [1427, 9, 1063, 28, 10630, 460, 5502, 9211, 6275, 635, 2287, 259, 941, 2129, 1436, 9399, 2927, 2502, 2585, 469, 440, 1074, 85, 41, 259, 5235, 2300, 2585, 255, 2892, 1583, 9211, 480, 461, 399, 9, 1177], [497, 1246, 515, 2259, 307, 4139, 73, 13246, 12470, 82, 69, 1501, 5356, 4763, 2082, 9, 2288, 12829, 243, 2484, 75, 9212, 1, 4, 5618, 816]]\n"
     ]
    }
   ],
   "source": [
    "# 텍스트 시퀀스를 정수 시퀀스로 변환.\n",
    "encoder_input_train = src_tokenizer.texts_to_sequences(encoder_input_train) \n",
    "encoder_input_test = src_tokenizer.texts_to_sequences(encoder_input_test)\n",
    "\n",
    "#잘 진행되었는지 샘플 출력.\n",
    "print(encoder_input_train[:3])"
   ]
  },
  {
   "cell_type": "code",
   "execution_count": 79,
   "id": "powerful-annex",
   "metadata": {},
   "outputs": [],
   "source": [
    "tar_tokenizer = Tokenizer() # 토크나이저 정의.\n",
    "tar_tokenizer.fit_on_texts(decoder_input_train) # 디코더 입력 데이터로부터 단어 집합 생성."
   ]
  },
  {
   "cell_type": "code",
   "execution_count": 80,
   "id": "physical-pocket",
   "metadata": {},
   "outputs": [
    {
     "name": "stdout",
     "output_type": "stream",
     "text": [
      "단어 집합(vocabulary)의 크기 : 29914\n",
      "등장 빈도가 5번 이하인 희귀 단어의 수: 19527\n",
      "단어 집합에서 희귀 단어를 제외시킬 경우의 단어 집합의 크기 10387\n",
      "단어 집합에서 희귀 단어의 비율: 65.27712776626329\n",
      "전체 등장 빈도에서 희귀 단어 등장 빈도 비율: 4.683603736510785\n"
     ]
    }
   ],
   "source": [
    "# 디코더 입력 데이터에서 등장 빈도가 6 미만인 단어는 얼마나 비중을 차지하나?\n",
    "threshold = 6\n",
    "total_cnt = len(tar_tokenizer.word_index) # 단어의 수\n",
    "rare_cnt = 0 # 등장 빈도수가 threshold보다 작은 단어의 개수를 카운트\n",
    "total_freq = 0 # 훈련 데이터의 전체 단어 빈도수 총 합\n",
    "rare_freq = 0 # 등장 빈도수가 threshold보다 작은 단어의 등장 빈도수의 총 합\n",
    "\n",
    "# 단어와 빈도수의 쌍(pair)을 key와 value로 받는다.\n",
    "for key, value in tar_tokenizer.word_counts.items():\n",
    "    total_freq = total_freq + value\n",
    "\n",
    "    # 단어의 등장 빈도수가 threshold보다 작으면\n",
    "    if(value < threshold):\n",
    "        rare_cnt = rare_cnt + 1\n",
    "        rare_freq = rare_freq + value\n",
    "\n",
    "print('단어 집합(vocabulary)의 크기 :',total_cnt)\n",
    "print('등장 빈도가 %s번 이하인 희귀 단어의 수: %s'%(threshold - 1, rare_cnt))\n",
    "print('단어 집합에서 희귀 단어를 제외시킬 경우의 단어 집합의 크기 %s'%(total_cnt - rare_cnt))\n",
    "print(\"단어 집합에서 희귀 단어의 비율:\", (rare_cnt / total_cnt)*100)\n",
    "print(\"전체 등장 빈도에서 희귀 단어 등장 빈도 비율:\", (rare_freq / total_freq)*100)"
   ]
  },
  {
   "cell_type": "code",
   "execution_count": 81,
   "id": "exempt-davis",
   "metadata": {},
   "outputs": [
    {
     "name": "stdout",
     "output_type": "stream",
     "text": [
      "<input>\n",
      "input  [[1, 2131, 6, 5850, 4110, 82, 181, 345, 1608, 2941, 1983], [1, 61, 3750, 49, 6772, 105, 2981, 5, 3369, 201, 623], [1, 32, 408, 3, 878, 5349, 2709, 2597, 106, 4654, 7613], [1, 337, 47, 4512, 1148, 6455, 7, 2760, 8, 976], [1, 396, 100, 53, 5, 1922, 3885, 5, 18, 811, 54, 4]]\n",
      "<target>\n",
      "decoder  [[2131, 6, 5850, 4110, 82, 181, 345, 1608, 2941, 1983, 2], [61, 3750, 49, 6772, 105, 2981, 5, 3369, 201, 623, 2], [32, 408, 3, 878, 5349, 2709, 2597, 106, 4654, 7613, 2], [337, 47, 4512, 1148, 6455, 7, 2760, 8, 976, 2], [396, 100, 53, 5, 1922, 3885, 5, 18, 811, 54, 4, 2]]\n"
     ]
    }
   ],
   "source": [
    "# 등장 빈도가 6회 미만인 단어는 정수 인코딩 과정에서 제외하고 훈련 데이터에서 제거.\n",
    "tar_vocab = 10000\n",
    "tar_tokenizer = Tokenizer(num_words = tar_vocab) # 단어 집합의 크기 제한.\n",
    "tar_tokenizer.fit_on_texts(decoder_input_train) # 단어 집합 재생성.\n",
    "tar_tokenizer.fit_on_texts(decoder_target_train) # 단어 집합 재생성.\n",
    "\n",
    "# 텍스트 시퀀스를 정수 시퀀스로 변환.\n",
    "decoder_input_train = tar_tokenizer.texts_to_sequences(decoder_input_train) \n",
    "decoder_target_train = tar_tokenizer.texts_to_sequences(decoder_target_train)\n",
    "decoder_input_test = tar_tokenizer.texts_to_sequences(decoder_input_test)\n",
    "decoder_target_test = tar_tokenizer.texts_to_sequences(decoder_target_test)\n",
    "\n",
    "#잘 변환되었는지 확인.\n",
    "print('<input>')\n",
    "print('input ',decoder_input_train[:5])\n",
    "print('<target>')\n",
    "print('decoder ',decoder_target_train[:5])"
   ]
  },
  {
   "cell_type": "code",
   "execution_count": 82,
   "id": "fatal-future",
   "metadata": {},
   "outputs": [
    {
     "name": "stdout",
     "output_type": "stream",
     "text": [
      "삭제할 훈련 데이터의 개수 : 0\n",
      "삭제할 테스트 데이터의 개수 : 0\n"
     ]
    }
   ],
   "source": [
    "# 낮은 빈도수의 단어가 삭제됨으로써 빈 샘플이 생겼는지 확인.\n",
    "drop_train = [index for index, sentence in enumerate(decoder_input_train) if len(sentence) == 1]\n",
    "drop_test = [index for index, sentence in enumerate(decoder_input_test) if len(sentence) == 1]\n",
    "\n",
    "print('삭제할 훈련 데이터의 개수 :',len(drop_train))\n",
    "print('삭제할 테스트 데이터의 개수 :',len(drop_test))"
   ]
  },
  {
   "cell_type": "markdown",
   "id": "harmful-context",
   "metadata": {},
   "source": [
    "## 패딩하기\n",
    "- **서로 다른 길이의 샘플들을 병렬처리하기 위한 작업.**"
   ]
  },
  {
   "cell_type": "code",
   "execution_count": 83,
   "id": "offshore-brief",
   "metadata": {},
   "outputs": [],
   "source": [
    "# 위에서 설정한 최대 길이로 패딩하되, 최대 길이보다 땂은 데이터는 post에 0을 패딩. \n",
    "encoder_input_train = pad_sequences(encoder_input_train, maxlen = text_max_len, padding='post')\n",
    "encoder_input_test = pad_sequences(encoder_input_test, maxlen = text_max_len, padding='post')\n",
    "decoder_input_train = pad_sequences(decoder_input_train, maxlen = summary_max_len, padding='post')\n",
    "decoder_target_train = pad_sequences(decoder_target_train, maxlen = summary_max_len, padding='post')\n",
    "decoder_input_test = pad_sequences(decoder_input_test, maxlen = summary_max_len, padding='post')\n",
    "decoder_target_test = pad_sequences(decoder_target_test, maxlen = summary_max_len, padding='post')"
   ]
  },
  {
   "cell_type": "markdown",
   "id": "happy-iraqi",
   "metadata": {},
   "source": [
    "*****"
   ]
  },
  {
   "cell_type": "markdown",
   "id": "happy-priest",
   "metadata": {},
   "source": [
    "# Step 2. Attention Machanism을 활용한 모델 설계"
   ]
  },
  {
   "cell_type": "code",
   "execution_count": 85,
   "id": "administrative-transparency",
   "metadata": {},
   "outputs": [
    {
     "name": "stdout",
     "output_type": "stream",
     "text": [
      "WARNING:tensorflow:Layer lstm_3 will not use cuDNN kernel since it doesn't meet the cuDNN kernel criteria. It will use generic GPU kernel as fallback when running on GPU\n",
      "WARNING:tensorflow:Layer lstm_4 will not use cuDNN kernel since it doesn't meet the cuDNN kernel criteria. It will use generic GPU kernel as fallback when running on GPU\n",
      "WARNING:tensorflow:Layer lstm_5 will not use cuDNN kernel since it doesn't meet the cuDNN kernel criteria. It will use generic GPU kernel as fallback when running on GPU\n"
     ]
    }
   ],
   "source": [
    "from tensorflow.keras.layers import Input, LSTM, Embedding, Dense, Concatenate\n",
    "from tensorflow.keras.models import Model\n",
    "from tensorflow.keras.callbacks import EarlyStopping, ModelCheckpoint\n",
    "\n",
    "\n",
    "# 인코더 설계 시작.\n",
    "embedding_dim = 128\n",
    "hidden_size = 256 # LSTM에서 얼마만큼의 수용력을 가질지 정하는 파라미터\n",
    "\n",
    "# 인코더.\n",
    "encoder_inputs = Input(shape=(text_max_len,))\n",
    "\n",
    "# 인코더의 임베딩 층.\n",
    "enc_emb = Embedding(src_vocab, embedding_dim)(encoder_inputs)\n",
    "\n",
    "# 인코더의 LSTM 1.\n",
    "encoder_lstm1 = LSTM(hidden_size, return_sequences=True, return_state=True ,dropout = 0.4, recurrent_dropout = 0.4)\n",
    "encoder_output1, state_h1, state_c1 = encoder_lstm1(enc_emb)\n",
    "\n",
    "# 인코더의 LSTM 2.\n",
    "encoder_lstm2 = LSTM(hidden_size, return_sequences=True, return_state=True, dropout=0.4, recurrent_dropout=0.4)\n",
    "encoder_output2, state_h2, state_c2 = encoder_lstm2(encoder_output1)\n",
    "\n",
    "# 인코더의 LSTM 3.\n",
    "encoder_lstm3 = LSTM(hidden_size, return_state=True, return_sequences=True, dropout=0.4, recurrent_dropout=0.4)\n",
    "encoder_outputs, state_h, state_c= encoder_lstm3(encoder_output2)"
   ]
  },
  {
   "cell_type": "code",
   "execution_count": 86,
   "id": "dangerous-improvement",
   "metadata": {},
   "outputs": [
    {
     "name": "stdout",
     "output_type": "stream",
     "text": [
      "WARNING:tensorflow:Layer lstm_6 will not use cuDNN kernel since it doesn't meet the cuDNN kernel criteria. It will use generic GPU kernel as fallback when running on GPU\n"
     ]
    }
   ],
   "source": [
    "# 디코더 설계 시작.\n",
    "decoder_inputs = Input(shape=(None,))\n",
    "\n",
    "# 디코더의 임베딩 층.\n",
    "dec_emb_layer = Embedding(tar_vocab, embedding_dim)\n",
    "dec_emb = dec_emb_layer(decoder_inputs)\n",
    "\n",
    "# 디코더의 LSTM.\n",
    "decoder_lstm = LSTM(hidden_size, return_sequences = True, return_state = True, dropout = 0.4, recurrent_dropout=0.2)\n",
    "decoder_outputs, _, _ = decoder_lstm(dec_emb, initial_state = [state_h, state_c])"
   ]
  },
  {
   "cell_type": "code",
   "execution_count": 87,
   "id": "utility-syntax",
   "metadata": {},
   "outputs": [
    {
     "name": "stdout",
     "output_type": "stream",
     "text": [
      "Model: \"model\"\n",
      "__________________________________________________________________________________________________\n",
      "Layer (type)                    Output Shape         Param #     Connected to                     \n",
      "==================================================================================================\n",
      "input_2 (InputLayer)            [(None, 45)]         0                                            \n",
      "__________________________________________________________________________________________________\n",
      "embedding_1 (Embedding)         (None, 45, 128)      2560000     input_2[0][0]                    \n",
      "__________________________________________________________________________________________________\n",
      "lstm_3 (LSTM)                   [(None, 45, 256), (N 394240      embedding_1[0][0]                \n",
      "__________________________________________________________________________________________________\n",
      "input_3 (InputLayer)            [(None, None)]       0                                            \n",
      "__________________________________________________________________________________________________\n",
      "lstm_4 (LSTM)                   [(None, 45, 256), (N 525312      lstm_3[0][0]                     \n",
      "__________________________________________________________________________________________________\n",
      "embedding_2 (Embedding)         (None, None, 128)    1280000     input_3[0][0]                    \n",
      "__________________________________________________________________________________________________\n",
      "lstm_5 (LSTM)                   [(None, 45, 256), (N 525312      lstm_4[0][0]                     \n",
      "__________________________________________________________________________________________________\n",
      "lstm_6 (LSTM)                   [(None, None, 256),  394240      embedding_2[0][0]                \n",
      "                                                                 lstm_5[0][1]                     \n",
      "                                                                 lstm_5[0][2]                     \n",
      "__________________________________________________________________________________________________\n",
      "attention_layer (AttentionLayer ((None, None, 256),  131328      lstm_5[0][0]                     \n",
      "                                                                 lstm_6[0][0]                     \n",
      "__________________________________________________________________________________________________\n",
      "concat_layer (Concatenate)      (None, None, 512)    0           lstm_6[0][0]                     \n",
      "                                                                 attention_layer[0][0]            \n",
      "__________________________________________________________________________________________________\n",
      "dense (Dense)                   (None, None, 10000)  5130000     concat_layer[0][0]               \n",
      "==================================================================================================\n",
      "Total params: 10,940,432\n",
      "Trainable params: 10,940,432\n",
      "Non-trainable params: 0\n",
      "__________________________________________________________________________________________________\n"
     ]
    }
   ],
   "source": [
    "# Attention 함수 다운로드.\n",
    "urllib.request.urlretrieve(\"https://raw.githubusercontent.com/thushv89/attention_keras/master/src/layers/attention.py\", filename=\"attention.py\")\n",
    "from attention import AttentionLayer\n",
    "\n",
    "# Attention 층(Attention 함수).\n",
    "attn_layer = AttentionLayer(name='attention_layer')\n",
    "\n",
    "# 인코더와 디코더의 모든 time step의 hidden state를 Attention 층에 전달하고 결과를 리턴.\n",
    "attn_out, attn_states = attn_layer([encoder_outputs, decoder_outputs])\n",
    "\n",
    "# 어텐션의 결과와 디코더의 hidden state들을 연결.\n",
    "decoder_concat_input = Concatenate(axis = -1, name='concat_layer')([decoder_outputs, attn_out])\n",
    "\n",
    "# 디코더의 출력층.\n",
    "decoder_softmax_layer = Dense(tar_vocab, activation='softmax')\n",
    "decoder_softmax_outputs = decoder_softmax_layer(decoder_concat_input)\n",
    "\n",
    "# 모델 정의.\n",
    "model = Model([encoder_inputs, decoder_inputs], decoder_softmax_outputs)\n",
    "model.summary()"
   ]
  },
  {
   "cell_type": "markdown",
   "id": "improved-proportion",
   "metadata": {},
   "source": [
    "*****"
   ]
  },
  {
   "cell_type": "markdown",
   "id": "experienced-martial",
   "metadata": {},
   "source": [
    "# Step 3. 모델 훈련하기"
   ]
  },
  {
   "cell_type": "code",
   "execution_count": 88,
   "id": "tired-subscriber",
   "metadata": {},
   "outputs": [
    {
     "name": "stdout",
     "output_type": "stream",
     "text": [
      "Epoch 1/50\n",
      "303/303 [==============================] - 111s 368ms/step - loss: 5.5991 - val_loss: 5.1766\n",
      "Epoch 2/50\n",
      "303/303 [==============================] - 111s 367ms/step - loss: 5.0382 - val_loss: 4.8024\n",
      "Epoch 3/50\n",
      "303/303 [==============================] - 112s 368ms/step - loss: 4.6796 - val_loss: 4.5244\n",
      "Epoch 4/50\n",
      "303/303 [==============================] - 111s 368ms/step - loss: 4.4154 - val_loss: 4.3379\n",
      "Epoch 5/50\n",
      "303/303 [==============================] - 112s 369ms/step - loss: 4.2088 - val_loss: 4.1995\n",
      "Epoch 6/50\n",
      "303/303 [==============================] - 112s 370ms/step - loss: 4.0392 - val_loss: 4.0840\n",
      "Epoch 7/50\n",
      "303/303 [==============================] - 112s 371ms/step - loss: 3.8926 - val_loss: 3.9893\n",
      "Epoch 8/50\n",
      "303/303 [==============================] - 112s 370ms/step - loss: 3.7640 - val_loss: 3.9064\n",
      "Epoch 9/50\n",
      "303/303 [==============================] - 112s 371ms/step - loss: 3.6500 - val_loss: 3.8476\n",
      "Epoch 10/50\n",
      "303/303 [==============================] - 113s 371ms/step - loss: 3.5497 - val_loss: 3.8001\n",
      "Epoch 11/50\n",
      "303/303 [==============================] - 112s 371ms/step - loss: 3.4608 - val_loss: 3.7491\n",
      "Epoch 12/50\n",
      "303/303 [==============================] - 113s 372ms/step - loss: 3.3813 - val_loss: 3.7135\n",
      "Epoch 13/50\n",
      "303/303 [==============================] - 113s 372ms/step - loss: 3.3076 - val_loss: 3.6815\n",
      "Epoch 14/50\n",
      "303/303 [==============================] - 113s 371ms/step - loss: 3.2392 - val_loss: 3.6561\n",
      "Epoch 15/50\n",
      "303/303 [==============================] - 113s 372ms/step - loss: 3.1747 - val_loss: 3.6354\n",
      "Epoch 16/50\n",
      "303/303 [==============================] - 112s 370ms/step - loss: 3.1192 - val_loss: 3.6179\n",
      "Epoch 17/50\n",
      "303/303 [==============================] - 113s 372ms/step - loss: 3.0698 - val_loss: 3.5998\n",
      "Epoch 18/50\n",
      "303/303 [==============================] - 113s 372ms/step - loss: 3.0217 - val_loss: 3.5892\n",
      "Epoch 19/50\n",
      "303/303 [==============================] - 112s 371ms/step - loss: 2.9765 - val_loss: 3.5797\n",
      "Epoch 20/50\n",
      "303/303 [==============================] - 113s 372ms/step - loss: 2.9342 - val_loss: 3.5668\n",
      "Epoch 21/50\n",
      "303/303 [==============================] - 113s 372ms/step - loss: 2.8920 - val_loss: 3.5575\n",
      "Epoch 22/50\n",
      "303/303 [==============================] - 113s 372ms/step - loss: 2.8565 - val_loss: 3.5464\n",
      "Epoch 23/50\n",
      "303/303 [==============================] - 113s 372ms/step - loss: 2.8197 - val_loss: 3.5407\n",
      "Epoch 24/50\n",
      "303/303 [==============================] - 113s 374ms/step - loss: 2.7869 - val_loss: 3.5371\n",
      "Epoch 25/50\n",
      "303/303 [==============================] - 113s 371ms/step - loss: 2.7528 - val_loss: 3.5267\n",
      "Epoch 26/50\n",
      "303/303 [==============================] - 113s 373ms/step - loss: 2.7234 - val_loss: 3.5277\n",
      "Epoch 27/50\n",
      "303/303 [==============================] - 113s 374ms/step - loss: 2.6932 - val_loss: 3.5185\n",
      "Epoch 28/50\n",
      "303/303 [==============================] - 113s 373ms/step - loss: 2.6640 - val_loss: 3.5228\n",
      "Epoch 29/50\n",
      "303/303 [==============================] - 113s 372ms/step - loss: 2.6343 - val_loss: 3.5196\n",
      "Epoch 00029: early stopping\n"
     ]
    }
   ],
   "source": [
    "model.compile(optimizer='rmsprop', loss='sparse_categorical_crossentropy')\n",
    "es = EarlyStopping(monitor='val_loss', mode='min', verbose=1, patience = 2) # 조기 종료.\n",
    "history = model.fit(x = [encoder_input_train, decoder_input_train], y = decoder_target_train, \\\n",
    "          validation_data = ([encoder_input_test, decoder_input_test], decoder_target_test),\n",
    "          batch_size = 256, callbacks=[es], epochs = 50)"
   ]
  },
  {
   "cell_type": "code",
   "execution_count": 89,
   "id": "manufactured-universal",
   "metadata": {},
   "outputs": [
    {
     "data": {
      "image/png": "[encoded data removed]",
      "text/plain": [
       "<Figure size 432x288 with 1 Axes>"
      ]
     },
     "metadata": {
      "needs_background": "light"
     },
     "output_type": "display_data"
    }
   ],
   "source": [
    "# 훈련 데이터의 손실과 검증 데이터의 손실이 줄어드는 과정 시각화.\n",
    "plt.plot(history.history['loss'], label='train')\n",
    "plt.plot(history.history['val_loss'], label='test')\n",
    "plt.legend()\n",
    "plt.show()"
   ]
  },
  {
   "cell_type": "markdown",
   "id": "elegant-shuttle",
   "metadata": {},
   "source": [
    "*****"
   ]
  },
  {
   "cell_type": "markdown",
   "id": "automated-glasgow",
   "metadata": {},
   "source": [
    "# Step 4. 인퍼런스 모델 구현\n",
    "- **seq2seq는 훈련할 때와 실제 동작할 때 방식이 달라 그에 맞에 별개 모델 설계 진행 필요.**\n",
    "- **정답 문장이 없는 인퍼런스 단계에서는 생성해야 할 문장의 길이만큼 디코더가 반복 구조로 동작해야 해서 인코더/ 디코더를 분리한 인퍼런스 모델을 별도 설계해야 함.**"
   ]
  },
  {
   "cell_type": "code",
   "execution_count": 94,
   "id": "pressed-jamaica",
   "metadata": {},
   "outputs": [],
   "source": [
    "# 시험 단께에서는 정수 인코딩한 것을 다시 텍스트 데이터로 복원해야 함.\n",
    "src_index_to_word = src_tokenizer.index_word # 원문 단어 집합에서 정수 -> 단어를 얻음.\n",
    "tar_word_to_index = tar_tokenizer.word_index # 요약 단어 집합에서 단어 -> 정수를 얻음.\n",
    "tar_index_to_word = tar_tokenizer.index_word # 요약 단어 집합에서 정수 -> 단어를 얻음."
   ]
  },
  {
   "cell_type": "code",
   "execution_count": 95,
   "id": "another-laundry",
   "metadata": {},
   "outputs": [],
   "source": [
    "# 인코더 설계.\n",
    "encoder_model = Model(inputs=encoder_inputs, outputs=[encoder_outputs, state_h, state_c])\n",
    "\n",
    "# 이전 시점의 상태들을 저장하는 텐서.\n",
    "decoder_state_input_h = Input(shape=(hidden_size,))\n",
    "decoder_state_input_c = Input(shape=(hidden_size,))\n",
    "\n",
    "dec_emb2 = dec_emb_layer(decoder_inputs)\n",
    "# 문장의 다음 단어를 예측하기 위해서 초기 상태(initial_state)를 이전 시점의 상태로 사용. 이는 뒤의 함수 decode_sequence()에 구현.\n",
    "# 훈련 과정에서와 달리 LSTM의 리턴하는 은닉 상태와 셀 상태인 state_h와 state_c를 버리지 않음.\n",
    "decoder_outputs2, state_h2, state_c2 = decoder_lstm(dec_emb2, initial_state=[decoder_state_input_h, decoder_state_input_c])"
   ]
  },
  {
   "cell_type": "code",
   "execution_count": 96,
   "id": "natural-postage",
   "metadata": {},
   "outputs": [],
   "source": [
    "# Attention 함수.\n",
    "decoder_hidden_state_input = Input(shape=(text_max_len, hidden_size))\n",
    "attn_out_inf, attn_states_inf = attn_layer([decoder_hidden_state_input, decoder_outputs2])\n",
    "decoder_inf_concat = Concatenate(axis=-1, name='concat')([decoder_outputs2, attn_out_inf])\n",
    "\n",
    "# 디코더의 출력층.\n",
    "decoder_outputs2 = decoder_softmax_layer(decoder_inf_concat) \n",
    "\n",
    "# 최종 디코더 모델.\n",
    "decoder_model = Model(\n",
    "    [decoder_inputs] + [decoder_hidden_state_input,decoder_state_input_h, decoder_state_input_c],\n",
    "    [decoder_outputs2] + [state_h2, state_c2])"
   ]
  },
  {
   "cell_type": "code",
   "execution_count": 97,
   "id": "available-engineer",
   "metadata": {},
   "outputs": [],
   "source": [
    "# 인퍼런스 단꼐에서 단어 시퀀스를 완성하는 함수.\n",
    "def decode_sequence(input_seq):\n",
    "    # 입력으로부터 인코더의 상태를 얻음.\n",
    "    e_out, e_h, e_c = encoder_model.predict(input_seq)\n",
    "\n",
    "     # <SOS>에 해당하는 토큰 생성.\n",
    "    target_seq = np.zeros((1,1))\n",
    "    target_seq[0, 0] = tar_word_to_index['sostoken']\n",
    "\n",
    "    stop_condition = False\n",
    "    decoded_sentence = ''\n",
    "    while not stop_condition: # stop_condition이 True가 될 때까지 루프 반복.\n",
    "\n",
    "        output_tokens, h, c = decoder_model.predict([target_seq] + [e_out, e_h, e_c])\n",
    "        sampled_token_index = np.argmax(output_tokens[0, -1, :])\n",
    "        sampled_token = tar_index_to_word[sampled_token_index]\n",
    "\n",
    "        if(sampled_token!='eostoken'):\n",
    "            decoded_sentence += ' '+sampled_token\n",
    "\n",
    "        #  <eos>에 도달하거나 최대 길이를 넘으면 중단.\n",
    "        if (sampled_token == 'eostoken'  or len(decoded_sentence.split()) >= (summary_max_len-1)):\n",
    "            stop_condition = True\n",
    "\n",
    "        # 길이가 1인 타겟 시퀀스를 업데이트.\n",
    "        target_seq = np.zeros((1,1))\n",
    "        target_seq[0, 0] = sampled_token_index\n",
    "\n",
    "        # 상태를 업데이트.\n",
    "        e_h, e_c = h, c\n",
    "\n",
    "    return decoded_sentence"
   ]
  },
  {
   "cell_type": "markdown",
   "id": "cheap-generator",
   "metadata": {},
   "source": [
    "*****"
   ]
  },
  {
   "cell_type": "markdown",
   "id": "coordinated-discussion",
   "metadata": {},
   "source": [
    "# Step 5. 실제 결과와 요약문 비교하기"
   ]
  },
  {
   "cell_type": "code",
   "execution_count": 99,
   "id": "wrapped-intro",
   "metadata": {},
   "outputs": [],
   "source": [
    "# 원문의 정수 시퀀스를 텍스트 시퀀스로 변환. --> 패딩에 사용한 0은 제외.\n",
    "def seq2text(input_seq):\n",
    "    temp=''\n",
    "    for i in input_seq:\n",
    "        if(i!=0):\n",
    "            temp = temp + src_index_to_word[i]+' '\n",
    "    return temp\n",
    "\n",
    "# 요약문의 정수 시퀀스를 텍스트 시퀀스로 변환. --> 숫자 0, 시작 토큰, 종료토큰은 제외.\n",
    "def seq2summary(input_seq):\n",
    "    temp=''\n",
    "    for i in input_seq:\n",
    "        if((i!=0 and i!=tar_word_to_index['sostoken']) and i!=tar_word_to_index['eostoken']):\n",
    "            temp = temp + tar_index_to_word[i] + ' '\n",
    "    return temp"
   ]
  },
  {
   "cell_type": "code",
   "execution_count": 100,
   "id": "large-dallas",
   "metadata": {},
   "outputs": [
    {
     "name": "stdout",
     "output_type": "stream",
     "text": [
      "원문 : us based ai startup observe ai tech team bengaluru raised million series funding led nexus venture partners round saw participation liquid ventures hack vc along existing investors ventures combinator founded observe ai assists call centre workers range tasks \n",
      "실제 요약 : ai startup observe ai raises mn funding led by nexus \n",
      "예측 요약 :  ai startup ai startup raises million\n",
      "\n",
      "\n",
      "원문 : rjd chief lalu prasad yadav saturday tweeted rather practising bjp simple rule follow us fix die happily fixing social justice harmony equality said think everyone like nitish comes lalu sentenced years jail fodder scam case \n",
      "실제 요약 : will die fixing self lalu post fodder scam sentence \n",
      "예측 요약 :  lalu ban on lalu yadav not down lalu prasad\n",
      "\n",
      "\n",
      "원문 : pakistan prime minister imran khan thursday offered humanitarian assistance flood hit kerala behalf people pakistan send prayers best wishes devastated floods kerala tweeted nearly people died one million relief camps due floods nnn \n",
      "실제 요약 : pak pm offers assistance for flood hit kerala \n",
      "예측 요약 :  pak pm imran khan donates lakh to kerala flood victims\n",
      "\n",
      "\n",
      "원문 : cbi court awarded life sentence three main accused rohtak shelter apna ghar sexual abuse case came light three girls escaped shelter alleged sexual assault convicts include devi ran apna ghar shelter son law driver inmates rescued shelter \n",
      "실제 요약 : main accused in apna ghar sexual abuse case get life term \n",
      "예측 요약 :  cbi sentenced to life in sexual assault case\n",
      "\n",
      "\n",
      "원문 : germany based researchers developed artificial intelligence system create high definition version low resolution images team applied ai algorithm low resolution images improve result ai gives pixel perfect reconstruction aims researchers said \n",
      "실제 요약 : ai to create hd version of low resolution images developed \n",
      "예측 요약 :  ai based system using ai based on ai\n",
      "\n",
      "\n",
      "원문 : praising jharkhand government coming haj house project facilitate haj pilgrimage president pranab mukherjee sunday said haj pilgrimage mecca lifetime dream muslims along haj house president mukherjee also laid foundation stone bhawan state capital ranchi \n",
      "실제 요약 : performing haj is lifetime dream for muslim prez \n",
      "예측 요약 :  no non bailable for all time in prez pranab mukherjee\n",
      "\n",
      "\n",
      "원문 : india fiscal deficit april november period stood lakh crore budgeted target current financial year gap government revenue expenditure stood november last year finance minister arun jaitley assured government track meet fiscal deficit target gdp \n",
      "실제 요약 : april november fiscal deficit touches of fy target \n",
      "예측 요약 :  india gdp deficit to crore in fy\n",
      "\n",
      "\n",
      "원문 : southeast asia ride hailing major grab raised billion funding valuation around billion billion figure includes billion investment toyota announced earlier june includes investors like capital asset among others startup aims expand geographic reach move services like food delivery payments \n",
      "실제 요약 : ride hailing major grab raises bn at bn valuation \n",
      "예측 요약 :  chinese ride hailing startup raises billion\n",
      "\n",
      "\n",
      "원문 : class student delivered baby tribal residential school hostel bathroom odisha district sunday eight months raped police said authorities dismissed six hostel employees failure report matter police said girl allegedly raped year old village gone home vacations \n",
      "실제 요약 : class girl raped months ago gives birth in hostel bathroom \n",
      "예측 요약 :  class girl thrashed by girl in bihar school\n",
      "\n",
      "\n",
      "원문 : bengaluru traffic constable arrested sunday allegedly assaulted metro security guard influence alcohol metro guard assaulted asked constable go security scanners police officials said treat accused like criminal added \n",
      "실제 요약 : drunk bengaluru traffic cop assaults metro security guard \n",
      "예측 요약 :  bengaluru cop arrested for molesting constable in mumbai\n",
      "\n",
      "\n",
      "원문 : researchers studying various nose shapes globally found nose shape strongly location temperature humidity rather genetic traits wider common warm common cold dry nose purpose condition air warm researchers said \n",
      "실제 요약 : nose shape affected by climate also not just genes study \n",
      "예측 요약 :  scientists claim how to be known as ice\n",
      "\n",
      "\n",
      "원문 : al qaeda suspect lodged delhi tihar jail written complaint five security personnel accusing sexually harassing rahman british national also accused security personnel inhuman behaviour towards rahman arrested september allegedly recruiting rohingya muslims al qaeda training fight myanmar army \n",
      "실제 요약 : al qaeda suspect alleges sexual harassment in tihar jail \n",
      "예측 요약 :  al qaeda accused of harassing sexual harassment in mumbai\n",
      "\n",
      "\n",
      "원문 : pictures priyanka chopra nick jonas sonam kapoor anand ahuja italy surfaced online couples earlier attended engagement party mukesh ambani daughter isha ambani anand piramal lake como italy priyanka brother siddharth chopra also seen pictures \n",
      "실제 요약 : priyanka nick spotted with sonam anand in italy \n",
      "예측 요약 :  priyanka nick to anand together at isha ambani anand report\n",
      "\n",
      "\n",
      "원문 : residents bengaluru new bamboo bazaar sunday staged protest proposed shift cantonment metro station bbmp playground located near station protesters claimed move children elderly space available also alleged justification provided bengaluru metro officials \n",
      "실제 요약 : residents protest against proposal to shift metro station \n",
      "예측 요약 :  bengaluru residents protest against metro\n",
      "\n",
      "\n",
      "원문 : karnataka government wednesday launched provide subsidised tour packages promoting religious tourism state tour packages cater pilgrims religions subsidy actual fare tourism minister priyank kharge said scheme offers several tour packages ranging day seven nights trip including transport accommodation \n",
      "실제 요약 : karnataka govt launches subsidised religious tourism scheme \n",
      "예측 요약 :  karnataka launches its new tourism campaign\n",
      "\n",
      "\n",
      "원문 : man claiming resident pakistan hacked official instagram account upcoming film veere di wedding demanding role film hacker changed account display picture monkey bio read bhai film team retrieved control account minutes \n",
      "실제 요약 : pak man hacks veere di wedding instagram wants role in film \n",
      "예측 요약 :  man who got fake news account gets trolled for sharing pics\n",
      "\n",
      "\n",
      "원문 : actress kangana ranaut speaking critics said feel people saying good things film shut mouths watching film people saying good things mouths cannot shut anyone added kangana seen portraying rani laxmibai film \n",
      "실제 요약 : critics will shut their after watching manikarnika kangana \n",
      "예측 요약 :  kangana is like kangana ranaut\n",
      "\n",
      "\n",
      "원문 : cathay pacific mistakenly sold one way first class flight tickets portugal hong kong originally valued economy rates two weeks ago hong kong based airline mistakenly sold business class return tickets costing vietnam new york airline said would still give premium services customers tickets \n",
      "실제 요약 : pacific sells ticket for nd time in weeks \n",
      "예측 요약 :  hackers to sell gold in bag at world\n",
      "\n",
      "\n",
      "원문 : first uk based researchers developed prosthetic hand fitted camera see object grip analysing shape size hand responds automatically pointed right direction without requiring user think aim develop prosthetics allowing two way communications brain researchers said \n",
      "실제 요약 : uk researchers develop first ever hand that sees \n",
      "예측 요약 :  scientists make look like robotic arm\n",
      "\n",
      "\n",
      "원문 : south african internet media conglomerate naspers invested million flipkart april taking holdings commerce startup naspers annual filing revealed naspers first invested flipkart series round billion series round earlier year flipkart raised billion led tencent \n",
      "실제 요약 : naspers puts mn in flipkart to increase stake to \n",
      "예측 요약 :  amazon invests in amazon startup for billion\n",
      "\n",
      "\n",
      "원문 : uae claimed qatari fighter jets intercepted civilian aircraft qatar foreign ministry dismissed claims completely false uae condemned alleged qatari action serious threat safety civil aviation clear violation international law comes amid diplomatic stand involving qatar gulf nations \n",
      "실제 요약 : qatar denies uae claims that it civilian flights \n",
      "예측 요약 :  uae denies qatar that it is biggest act qatar\n",
      "\n",
      "\n",
      "원문 : brazil government abolished national reserve covering around million hectares amazon open area mining objective measure attract new investments generating wealth country employment income society government said area believed rich gold iron minerals deposits \n",
      "실제 요약 : brazil national reserve opens it to mining \n",
      "예측 요약 :  brazil to give billion to billion\n",
      "\n",
      "\n",
      "원문 : walmart india wednesday appointed sameer aggarwal former executive american fast food chain kfc executive vice president chief strategy administrative officer lead finance technology legal audit strategy functions company aggarwal appointment effective april report krish iyer president ceo walmart india \n",
      "실제 요약 : walmart india appoints kfc executive as strategy head \n"
     ]
    },
    {
     "name": "stdout",
     "output_type": "stream",
     "text": [
      "예측 요약 :  flipkart ceo quits as walmart head\n",
      "\n",
      "\n",
      "원문 : many lakh bank employees across india go two day strike tomorrow protest nominal wage hike national organisation bank workers said provisions towards non performing assets banks booked losses bank employees responsible united forum bank unions said \n",
      "실제 요약 : lakh bank employees to go on day strike from tomorrow \n",
      "예측 요약 :  lakh bank employees go on strike in protest\n",
      "\n",
      "\n",
      "원문 : brazilian footballer retired football monday last footballer win ballon cristiano ronaldo lionel messi since ronaldo messi trophy time record five times lifted world cup ballon following champions league triumph ac milan \n",
      "실제 요약 : was the last ballon or winner before ronaldo messi \n",
      "예측 요약 :  ronaldo scores ronaldo record of ronaldo goals\n",
      "\n",
      "\n",
      "원문 : us president donald trump wednesday said islamic state run soon wiped syria iraq trump statement comes iraqi forces declared victory militant group mosul full control country second largest city three years seized \n",
      "실제 요약 : islamic state on the run will soon be wiped out trump \n",
      "예측 요약 :  trump will be in syria after syria trump\n",
      "\n",
      "\n",
      "원문 : electric carmaker tesla ceo elon musk revealed company model car go kmph seconds musk also claimed model top speed kmph km range musk said company working two separate versions car called driving feel amazing \n",
      "실제 요약 : musk reveals tesla model can go from kmph in sec \n",
      "예측 요약 :  tesla car km to be fastest to kmph in km elon\n",
      "\n",
      "\n",
      "원문 : maharashtra state excise department monday imposed fine lakh deepak bandra hill following complaints liquor home delivered night without proper license excise officer said liquor worth lakh sold without records unregistered employees used delivering liquor \n",
      "실제 요약 : mumbai bar fined lakh over home delivery of alcohol \n",
      "예측 요약 :  maharashtra govt fined lakh for fine for poor\n",
      "\n",
      "\n",
      "원문 : indian economy likely expand according united nations report outlook india remains largely positive robust private consumption public investment well ongoing structural reforms report said however report added performance private investment remains key concern \n",
      "실제 요약 : india gdp growth to rise to in un report \n",
      "예측 요약 :  india may be in india to reach un report\n",
      "\n",
      "\n",
      "원문 : less lakh eligible farmers opted interim loan maharashtra state offered interim loan facilitate kharif crops actual farm loan waiver announced noting poor response interim waiver scheme advertisements also published newspapers urging farmers avail loan \n",
      "실제 요약 : only of lakh farmers seek interim loan of \n",
      "예측 요약 :  farmers farmers protest against farmers in maharashtra\n",
      "\n",
      "\n",
      "원문 : ex india captain sunil gavaskar said ms dhoni ball england second odi reminded ball england lord world cup dhoni struggle confronted impossible situation options get limited mind becomes negative gavaskar said dhoni booed spectators slow innings \n",
      "실제 요약 : dhoni ball me of my ball gavaskar \n",
      "예측 요약 :  odi cricket is like ball tampering sachin gavaskar\n",
      "\n",
      "\n",
      "원문 : chinese commerce giant alibaba group sued dubai based firm behind cryptocurrency trademark infringement alibaba said firm prominent repeated intentionally misleading use intended confuse consumers foundation already raised million funding first round token sale \n",
      "실제 요약 : alibaba sues dubai firm over cryptocurrency \n",
      "예측 요약 :  alibaba founder buys alibaba startup for mn\n",
      "\n",
      "\n",
      "원문 : sri lankan captain dinesh chandimal junior tamper ball without pre planning windies case australia leadership group involved youngster cameron bancroft change ball condition south africa australians involved given stricter punishments country board \n",
      "실제 요약 : how is sl captain ball tampering different from australia \n",
      "예측 요약 :  sl captain fined for ball tampering\n",
      "\n",
      "\n",
      "원문 : per reports rajinikanth starrer kaala set get eid release also release date salman khan race kaala earlier scheduled release april reportedly postponed due ongoing strike called tamil film producers council tamil films releasing state theatres \n",
      "실제 요약 : release of rajinikanth kaala to clash with race report \n",
      "예측 요약 :  rajinikanth kaala to release in rajinikanth kaala reports\n",
      "\n",
      "\n",
      "원문 : india japan signed pact thursday start postal service help japanese people living india order food japan saying japan become third largest investor india pm narendra modi added food delivery service called cool box service help improve people people ties two countries \n",
      "실제 요약 : postal service to order food from japan to india announced \n",
      "예측 요약 :  japan japan sign world largest restaurant to japan\n",
      "\n",
      "\n",
      "원문 : telecom major bharti airtel filed appeal advertising standards council india seeking review decision sought modification withdrawal company fastest network advertisement april earlier reliance jio contested ad claim moved asci asci told airtel officially fastest network claim misleading \n",
      "실제 요약 : airtel appeals against order to remove fastest network ad \n",
      "예측 요약 :  airtel sues airtel for airtel jio as jio moves\n",
      "\n",
      "\n",
      "원문 : reacting reports priyanka chopra getting engaged rumoured boyfriend nick jonas actress kangana ranaut said upset tell kangana said priyanka close friend priyanka recently cited engagement reason quitting salman khan starrer bharat per film co producer nikhil \n",
      "실제 요약 : am upset priyanka did not tell me about engagement kangana \n",
      "예측 요약 :  sonam slams deepika for her st time to her wedding\n",
      "\n",
      "\n",
      "원문 : johnson johnson monday said plans buy back billion stock billion market value wiped two days comes recent report suggested company known baby powder contained cancer causing asbestos shares company ended tuesday \n",
      "실제 요약 : announces bn share buyback after losing bn cap \n",
      "예측 요약 :  to bn bn bn value since bn value\n",
      "\n",
      "\n",
      "원문 : cbi questioned officials foreign branches indian banks billion pnb fraud two officials canara bank branch bahrain one bank india belgium branch questioned branches extended credit facilities nirav modi mehul choksi firms basis letters undertaking pnb brady house branch mumbai \n",
      "실제 요약 : indian banks forex branch officials questioned in pnb fraud \n",
      "예측 요약 :  cbi books banks of bn in pnb fraud case\n",
      "\n",
      "\n",
      "원문 : england test captain joe root got married longtime girlfriend carrie sheffield saturday joe root arrived venue white rolls royce father matt best man brother billy root also cricketer year old proposed carrie travelling india world twenty \n",
      "실제 요약 : england captain joe root gets married to girlfriend carrie \n",
      "예측 요약 :  england captain marries girlfriend at the same time\n",
      "\n",
      "\n",
      "원문 : reacting actress priyanka chopra met gala look user tweeted queen india came another tweet read priyanka look like assassin creed come take fancy catholic church gala referring hair user wrote priyanka chopra completely owned tel wali every aspect \n",
      "실제 요약 : twitter users react to priyanka look at met gala \n",
      "예측 요약 :  priyanka nick jonas priyanka nick jonas on priyanka nick jonas\n",
      "\n",
      "\n",
      "원문 : ahead gujarat assembly elections chirag patel former close aide hardik patel joined bjp thursday talking recently leaked alleged sex tape hardik chirag said blot patidar community chirag among six patidar leaders sedition case filed agitation \n",
      "실제 요약 : hardik patel former aide joins bjp ahead of guj elections \n",
      "예측 요약 :  hardik patel files complaint against hardik patel\n",
      "\n",
      "\n",
      "원문 : twitter users slammed chennai super kings uploaded picture suresh raina sachin tendulkar caption ramesh suresh think post seriously come ramesh sachin father could user wrote dear never expected things another tweet read \n",
      "실제 요약 : csk slammed for sachin pic ramesh and suresh \n",
      "예측 요약 :  twitter reacts to user tendulkar batting at his th birthday\n",
      "\n",
      "\n",
      "원문 : helicopter crash leicester city owner four others killed caused controlling tail became disconnected investigators said aircraft turned right crashing near team stadium helicopter agustawestland made four successful flights october last ascent \n",
      "실제 요약 : faulty chopper caused crash that killed city owner \n",
      "예측 요약 :  plane crashes into plane with plane crashes in crash\n",
      "\n",
      "\n",
      "원문 : salman khan performed new delhi sunday part delhi edition da tour bollywood celebrities including sonakshi sinha kriti sanon daisy shah paul prabhu also performed event actor earlier performed internationally cities like auckland hong kong melbourne part tour \n",
      "실제 요약 : salman khan performs in delhi as part of his da tour \n",
      "예측 요약 :  salman khan to launch delhi show in delhi\n",
      "\n",
      "\n",
      "원문 : ecuadorian president lenin moreno visit uk reportedly meet british officials finalise agreement hand wikileaks founder julian assange uk agreement ecuador withdraw asylum protection assange place since eject ecuadorian embassy london \n",
      "실제 요약 : ecuador prez to hand assange over to uk during visit report \n"
     ]
    },
    {
     "name": "stdout",
     "output_type": "stream",
     "text": [
      "예측 요약 :  ecuador to pay brexit over brexit deal\n",
      "\n",
      "\n",
      "원문 : panchkula court dropped sedition attempt murder charges dera sacha sauda followers officials connection panchkula riots last year court observed merely pelting distance could considered attempt murder clashes broken conviction dera chief ram rahim rape case \n",
      "실제 요약 : attempt to murder charges against dera followers dropped \n",
      "예측 요약 :  dera murder accused in court\n",
      "\n",
      "\n",
      "원문 : malaysian university slammed contest convert gay students bring back nature organised muslim students association muslim students association member said want close lgbt people influence via islam meanwhile rights groups called contest latest example growing intolerance towards malaysia gay community \n",
      "실제 요약 : malaysian varsity contest to convert gay students slammed \n",
      "예측 요약 :  indian origin boys to get boys in dress code\n",
      "\n",
      "\n",
      "원문 : accusing us trying intervene socialist government sovereignty venezuelan president nicol maduro asked us president donald trump get pig hands comes trump administration imposed fresh sanctions eight members venezuela supreme court punishment opposition led congress earlier year \n",
      "실제 요약 : get your pig hands out of here venezuelan prez to trump \n",
      "예측 요약 :  trump calls trump for us president trump\n",
      "\n",
      "\n",
      "원문 : hrd minister prakash javadekar informed rajya sabha government plans remove rabindranath tagore school textbooks javadekar responding query raised opposition regarding rss affiliated organisation recommendations removing thoughts tagore textbooks classes mp raised issue also gave javadekar three books tagore reading \n",
      "실제 요약 : no plans to remove tagore from school books hrd minister \n",
      "예측 요약 :  govt to make students hostel imprisonment for hostel\n",
      "\n",
      "\n"
     ]
    }
   ],
   "source": [
    "# 주의 50개 출력.\n",
    "for i in range(50, 100):\n",
    "    print(\"원문 :\", seq2text(encoder_input_test[i]))\n",
    "    print(\"실제 요약 :\", seq2summary(decoder_input_test[i]))\n",
    "    print(\"예측 요약 :\", decode_sequence(encoder_input_test[i].reshape(1, text_max_len)))\n",
    "    print(\"\\n\")"
   ]
  },
  {
   "cell_type": "markdown",
   "id": "instructional-shock",
   "metadata": {},
   "source": [
    "*****"
   ]
  },
  {
   "cell_type": "markdown",
   "id": "compliant-atlas",
   "metadata": {},
   "source": [
    "# Step 6. Summa로 Extractive summarization 해보기\n",
    "- **Summa에서는 Extractive summarization을 위한 모듈인 summarize를 제공.**"
   ]
  },
  {
   "cell_type": "code",
   "execution_count": 5,
   "id": "accurate-frame",
   "metadata": {},
   "outputs": [],
   "source": [
    "import requests\n",
    "from summa.summarizer import summarize\n",
    "from summa import summarizer\n",
    "from summa import keywords"
   ]
  },
  {
   "cell_type": "code",
   "execution_count": 6,
   "id": "common-massage",
   "metadata": {},
   "outputs": [],
   "source": [
    "urllib.request.urlretrieve(\"https://raw.githubusercontent.com/sunnysai12345/News_Summary/master/news_summary_more.csv\", filename=\"news_summary_more.csv\")\n",
    "data_news = pd.read_csv('news_summary_more.csv', encoding='iso-8859-1')"
   ]
  },
  {
   "cell_type": "code",
   "execution_count": 7,
   "id": "integral-cathedral",
   "metadata": {},
   "outputs": [
    {
     "name": "stdout",
     "output_type": "stream",
     "text": [
      "전체 샘플수 : 98360\n"
     ]
    }
   ],
   "source": [
    "data_news.drop_duplicates(subset = ['text'], inplace = True)\n",
    "print('전체 샘플수 :',(len(data_news)))"
   ]
  },
  {
   "cell_type": "code",
   "execution_count": 21,
   "id": "controlled-intermediate",
   "metadata": {},
   "outputs": [],
   "source": [
    "text_1 = data_news['text'][0]"
   ]
  },
  {
   "cell_type": "code",
   "execution_count": 22,
   "id": "solved-facing",
   "metadata": {},
   "outputs": [
    {
     "name": "stdout",
     "output_type": "stream",
     "text": [
      "Saurav Kant, an alumnus of upGrad and IIIT-B's PG Program in Machine learning and Artificial Intelligence, was a Sr Systems Engineer at Infosys with almost 5 years of work experience. The program and upGrad's 360-degree career support helped him transition to a Data Scientist at Tech Mahindra with 90% salary hike. upGrad's Online Power Learning has powered 3 lakh+ careers.\n"
     ]
    }
   ],
   "source": [
    "print(text_1)"
   ]
  },
  {
   "cell_type": "code",
   "execution_count": 24,
   "id": "conscious-glasgow",
   "metadata": {},
   "outputs": [
    {
     "name": "stdout",
     "output_type": "stream",
     "text": [
      "The program and upGrad's 360-degree career support helped him transition to a Data Scientist at Tech Mahindra with 90% salary hike.\n",
      "upGrad's Online Power Learning has powered 3 lakh+ careers.\n"
     ]
    }
   ],
   "source": [
    "print(summarizer.summarize(text_1, ratio=0.7))"
   ]
  },
  {
   "cell_type": "code",
   "execution_count": 25,
   "id": "developing-gibraltar",
   "metadata": {},
   "outputs": [
    {
     "name": "stdout",
     "output_type": "stream",
     "text": [
      "upGrad's Online Power Learning has powered 3 lakh+ careers.\n"
     ]
    }
   ],
   "source": [
    "print(summarizer.summarize(text_1, ratio=0.6))"
   ]
  },
  {
   "cell_type": "markdown",
   "id": "retired-frontier",
   "metadata": {},
   "source": [
    "- **미세한 ratio 조정에도 요약문이 2줄이 되고 1줄이 되는 것이 보임. --> ratio에 민감함.**"
   ]
  },
  {
   "cell_type": "markdown",
   "id": "numeric-netherlands",
   "metadata": {},
   "source": [
    "*****"
   ]
  },
  {
   "cell_type": "markdown",
   "id": "german-background",
   "metadata": {},
   "source": [
    " # Step 7. Abstractive summarization과 Extractive summarization 결과 비교"
   ]
  },
  {
   "cell_type": "markdown",
   "id": "literary-nickname",
   "metadata": {},
   "source": [
    "## 간이 검색창\n",
    "- **Abstractive summarization이 쓰인 요약은 불용어 제거 등의 단어 정규화가 일어난 상태인데, Extractive summarization은 불용어가 있는 것이 마땅하다고 사료됨. 허나 Abstractive summarization에 쓰인 데이터는 임의의 난수로 한번 셔플되었기에 그 인덱스를 찾기 힘들어 키워드를 검색해서 같은 원문을 찾아내겠음.**"
   ]
  },
  {
   "cell_type": "code",
   "execution_count": 65,
   "id": "assumed-dividend",
   "metadata": {},
   "outputs": [
    {
     "name": "stdout",
     "output_type": "stream",
     "text": [
      "                                               headlines  \\\n",
      "10669  Astronomers find pairs of black holes in colli...   \n",
      "24752  Sony unveils world's first 48-megapixel smartp...   \n",
      "63322  AI to create HD version of low-resolution imag...   \n",
      "73554  Astronomers make 'best ever' images of a star ...   \n",
      "81265  ISRO satellites may monitor land encroachments...   \n",
      "92864  NASA's probe captures detailed images of Mars'...   \n",
      "\n",
      "                                                    text  \n",
      "10669  A team of astronomers has discovered pairs of ...  \n",
      "24752  Japanese multinational Sony has unveiled the I...  \n",
      "63322  Germany-based researchers have developed an ar...  \n",
      "73554  Astronomers using the Chile-based Very Large T...  \n",
      "81265  The Delhi Development Authority (DDA) has prop...  \n",
      "92864  NASA's Mars Reconnaissance Orbiter (MRO) has c...  \n"
     ]
    }
   ],
   "source": [
    "search = data_news[data_news['text'].str.contains('resolution images', case = False)]\n",
    "print(search)"
   ]
  },
  {
   "cell_type": "code",
   "execution_count": 66,
   "id": "weird-starter",
   "metadata": {},
   "outputs": [
    {
     "name": "stdout",
     "output_type": "stream",
     "text": [
      "AI to create HD version of low-resolution images developed\n",
      "Germany-based researchers have developed an artificial intelligence (AI) system that can create a high-definition (HD) version of low resolution images. The team applied AI and an adaptive algorithm for upsampling the low resolution images to improve the result. The AI gives up on 'pixel-perfect reconstruction' and aims for faithful texture synthesis, the researchers said.\n"
     ]
    }
   ],
   "source": [
    "print(data_news['headlines'][63322])\n",
    "print(data_news['text'][63322])"
   ]
  },
  {
   "cell_type": "markdown",
   "id": "clinical-highway",
   "metadata": {},
   "source": [
    "*****"
   ]
  },
  {
   "cell_type": "markdown",
   "id": "endless-fundamentals",
   "metadata": {},
   "source": [
    "## 상위 5개의 요약문을 비교해보자."
   ]
  },
  {
   "cell_type": "markdown",
   "id": "female-ratio",
   "metadata": {},
   "source": [
    "### 1번째 뉴스"
   ]
  },
  {
   "cell_type": "code",
   "execution_count": 73,
   "id": "italian-trout",
   "metadata": {},
   "outputs": [
    {
     "name": "stdout",
     "output_type": "stream",
     "text": [
      "원문:  US-based AI startup Observe.AI, which has a tech team in Bengaluru, has raised $8 million in Series A funding led by Nexus Venture Partners. The round saw participation from MGV, Liquid 2 Ventures, and Hack VC along with existing investors Emergent Ventures and Y Combinator. Founded in 2017, Observe.AI assists call centre workers by automating a range of tasks.\n",
      "\n",
      "\n",
      "실제 요약:  AI startup Observe.AI raises $8 mn funding led by Nexus\n",
      "\n",
      "\n",
      "추상 요약: ai startup ai startup raises million\n",
      "\n",
      "\n",
      "추출 요약:  US-based AI startup Observe.AI, which has a tech team in Bengaluru, has raised $8 million in Series A funding led by Nexus Venture Partners.\n"
     ]
    }
   ],
   "source": [
    "print('원문: ', data_news['text'][21670])\n",
    "print('\\n')\n",
    "print('실제 요약: ', data_news['headlines'][21670])\n",
    "print('\\n')\n",
    "print('추상 요약: ai startup ai startup raises million')\n",
    "print('\\n')\n",
    "t1= data_news['text'][21670]\n",
    "print('추출 요약: ', summarizer.summarize(t1, ratio=0.6))"
   ]
  },
  {
   "cell_type": "markdown",
   "id": "obvious-swimming",
   "metadata": {},
   "source": [
    "- **추상 요약은 ai 스타트업 기업의 이름을 제대로 파악하지 못했고, raises million이라는 표현을 사용해 funding으로 투자받은 것이 아닌 매출로 잘못 해석될 여지가 있음.**     \n",
    "- **추출 요약은 문장이 길지만 중요한 문장을 잘 뽑아낸 것으로 보임.**"
   ]
  },
  {
   "cell_type": "markdown",
   "id": "hearing-outreach",
   "metadata": {},
   "source": [
    "### 2번째 뉴스"
   ]
  },
  {
   "cell_type": "code",
   "execution_count": 74,
   "id": "returning-signal",
   "metadata": {},
   "outputs": [
    {
     "name": "stdout",
     "output_type": "stream",
     "text": [
      "원문:  RJD chief Lalu Prasad Yadav on Saturday tweeted, \"Rather than practising BJP's Simple Rule - 'Follow us or We will Fix you'. I will die happily fixing myself for Social justice, harmony and equality.\" He further said, \"You think everyone is like Nitish.\" This comes after Lalu was sentenced to 3.5 years in jail in the fodder scam case.\n",
      "\n",
      "\n",
      "실제 요약:  Will die happily fixing self: Lalu post fodder scam sentence\n",
      "\n",
      "\n",
      "추상 요약: lalu ban on lalu yadav not down lalu prasad\n",
      "\n",
      "\n",
      "추출 요약:  RJD chief Lalu Prasad Yadav on Saturday tweeted, \"Rather than practising BJP's Simple Rule - 'Follow us or We will Fix you'.\n"
     ]
    }
   ],
   "source": [
    "print('원문: ', data_news['text'][53408])\n",
    "print('\\n')\n",
    "print('실제 요약: ', data_news['headlines'][53408])\n",
    "print('\\n')\n",
    "print('추상 요약: lalu ban on lalu yadav not down lalu prasad')\n",
    "print('\\n')\n",
    "t1= data_news['text'][53408]\n",
    "print('추출 요약: ', summarizer.summarize(t1, ratio=0.6))"
   ]
  },
  {
   "cell_type": "markdown",
   "id": "catholic-sunday",
   "metadata": {},
   "source": [
    "- **Lalu Prasad Yadav는 RJD(Rashtriya Janata Dal)이라는 인도 정당의 수장 이름입니다. 추상 요약에서는 lalu라는 이름이 제대로 이름의 기능을 하는지 의심스러우며 문법적으로도 맞지 않음.**\n",
    "- **추출 요약은 그나마 주제와 가까운 문장을 뽑아냈지만 다음 문장을 뽑아냈으면 주제를 명확하게 들어낼 수 있지 않았나하는 아쉬움이 있음.**"
   ]
  },
  {
   "cell_type": "markdown",
   "id": "boolean-christian",
   "metadata": {},
   "source": [
    "### 3번째 뉴스"
   ]
  },
  {
   "cell_type": "code",
   "execution_count": 76,
   "id": "narrow-debate",
   "metadata": {},
   "outputs": [
    {
     "name": "stdout",
     "output_type": "stream",
     "text": [
      "원문:  Pakistan Prime Minister Imran Khan onÃ¢ÂÂThursday offered humanitarian assistance to flood-hit Kerala. \"On behalf of the people of Pakistan, we send our prayers and best wishes to those who have been devastated by the floods in Kerala,\" he tweeted. Nearly 400 people have died and one million are in relief camps due to the floods.nnn\n",
      "\n",
      "\n",
      "실제 요약:  Pak PM offers humanitarian assistance for flood-hit Kerala\n",
      "\n",
      "\n",
      "추상 요약: pak pm imran khan donates lakh to kerala flood victims\n",
      "\n",
      "\n",
      "추출 요약:  \"On behalf of the people of Pakistan, we send our prayers and best wishes to those who have been devastated by the floods in Kerala,\" he tweeted.\n"
     ]
    }
   ],
   "source": [
    "print('원문: ', data_news['text'][20365])\n",
    "print('\\n')\n",
    "print('실제 요약: ', data_news['headlines'][20365])\n",
    "print('\\n')\n",
    "print('추상 요약: pak pm imran khan donates lakh to kerala flood victims')\n",
    "print('\\n')\n",
    "t1= data_news['text'][20365]\n",
    "print('추출 요약: ', summarizer.summarize(t1, ratio=0.6))"
   ]
  },
  {
   "cell_type": "markdown",
   "id": "colored-religion",
   "metadata": {},
   "source": [
    "- **추상 요약은 주체인 파키스탄 총리 임란 칸을 잘 뽑아냈으며 지원을 받는 대상이 케랄라 수해민이라는 것도 잘 요약했다고 판단함.**    \n",
    "- **추출 요약은 트위터 문장을 그대로 보여줌. 지원을 했다는 주요 주제가 들어있지만 주체가 잘 들어나있지 않아 부족한 요약문이라고 판단됨.**"
   ]
  },
  {
   "cell_type": "markdown",
   "id": "amazing-conservative",
   "metadata": {},
   "source": [
    "### 4번째 뉴스"
   ]
  },
  {
   "cell_type": "code",
   "execution_count": 79,
   "id": "spiritual-idaho",
   "metadata": {},
   "outputs": [
    {
     "name": "stdout",
     "output_type": "stream",
     "text": [
      "원문:  A CBI court has awarded life sentence to three main accused in the Rohtak shelter Apna Ghar sexual abuse case, which came to light in 2012 after three girls escaped the shelter and alleged sexual assault. The convicts include Jaswanti Devi, who ran the Apna Ghar shelter, her son-in-law and a driver. Over 100 inmates were rescued from the shelter.\n",
      "\n",
      "\n",
      "실제 요약:  3 main accused in Apna Ghar sexual abuse case get life term\n",
      "\n",
      "\n",
      "추상 요약: cbi sentenced to life in sexual assault case\n",
      "\n",
      "\n",
      "추출 요약:  The convicts include Jaswanti Devi, who ran the Apna Ghar shelter, her son-in-law and a driver.\n"
     ]
    }
   ],
   "source": [
    "print('원문: ', data_news['text'][33556])\n",
    "print('\\n')\n",
    "print('실제 요약: ', data_news['headlines'][33556])\n",
    "print('\\n')\n",
    "print('추상 요약: cbi sentenced to life in sexual assault case')\n",
    "print('\\n')\n",
    "t1= data_news['text'][33556]\n",
    "print('추출 요약: ', summarizer.summarize(t1, ratio=0.6))"
   ]
  },
  {
   "cell_type": "markdown",
   "id": "twenty-gathering",
   "metadata": {},
   "source": [
    "- **추상 요약은 성폭력 사건 범죄자들에게 무기징역이 선고되었음을 잘 표현했으나 Apna Ghar에 대해 더 요약되었으면 좋았을 것 같음.**\n",
    "- **추출 요약은 무기징역을 받은 범죄자의 신상 정보만을 알려주어 어떤 사건에 가담된 것인지 알수 없는 아쉬움이 있음.**"
   ]
  },
  {
   "cell_type": "markdown",
   "id": "level-recruitment",
   "metadata": {},
   "source": [
    "### 5번째 뉴스"
   ]
  },
  {
   "cell_type": "code",
   "execution_count": 78,
   "id": "hired-liberal",
   "metadata": {},
   "outputs": [
    {
     "name": "stdout",
     "output_type": "stream",
     "text": [
      "원문:  Germany-based researchers have developed an artificial intelligence (AI) system that can create a high-definition (HD) version of low resolution images. The team applied AI and an adaptive algorithm for upsampling the low resolution images to improve the result. The AI gives up on 'pixel-perfect reconstruction' and aims for faithful texture synthesis, the researchers said.\n",
      "\n",
      "\n",
      "실제 요약:  AI to create HD version of low-resolution images developed\n",
      "\n",
      "\n",
      "추상 요약: ai based system using ai based on ai\n",
      "\n",
      "\n",
      "추출 요약:  Germany-based researchers have developed an artificial intelligence (AI) system that can create a high-definition (HD) version of low resolution images.\n"
     ]
    }
   ],
   "source": [
    "print('원문: ', data_news['text'][63322])\n",
    "print('\\n')\n",
    "print('실제 요약: ', data_news['headlines'][63322])\n",
    "print('\\n')\n",
    "print('추상 요약: ai based system using ai based on ai')\n",
    "print('\\n')\n",
    "t1= data_news['text'][63322]\n",
    "print('추출 요약: ', summarizer.summarize(t1, ratio=0.6))"
   ]
  },
  {
   "cell_type": "markdown",
   "id": "hybrid-protection",
   "metadata": {},
   "source": [
    "- **추상 요약은 ai라는 단어를 반복적으로 사용하여 실속없는 문장을 만들어 냄. 주제를 알 수 없음.**\n",
    "- **추출 요약은 주제와 가까운 문장을 잘 뽑아냄.**"
   ]
  },
  {
   "cell_type": "markdown",
   "id": "overall-equality",
   "metadata": {},
   "source": [
    "# 루브릭 평가"
   ]
  },
  {
   "cell_type": "markdown",
   "id": "pharmaceutical-iraqi",
   "metadata": {},
   "source": [
    "|평가문항|상세기준|\n",
    "|:------|:------|\n",
    "|1. Abstractive 모델 구성을 위한 텍스트 전처리 단계가 체계적으로 진행되었다.|분석단계, 정제단계, 정규화와 불용어 제거, 데이터셋 분리, 인코딩 과정이 빠짐없이 체계적으로 진행되었다.|\n",
    "|2. 텍스트 요약모델이 성공적으로 학습되었음을 확인하였다.|모델학습이 안정적으로 수렴되었음을 그래프를 통해 확인하였으며, 실제 요약문과 유사한 요약문장을 얻을 수 있었다.|\n",
    "|3. Extractive 요약을 시도해 보고 Abstractive 요약 결과과 함께 비교해 보았다.|두 요약 결과를 문법완성도 측면과 핵심단어 포함 측면으로 나누어 비교분석 결과를 제시하였다.|"
   ]
  },
  {
   "cell_type": "markdown",
   "id": "intermediate-binding",
   "metadata": {},
   "source": [
    "**1. Abstractive 모델 구성을 위한 전처리는 상세기준의 모든 기준을 만족시키며 제대로 수행했다. 하지만 불용어를 제외하는 것이 연산에는 도움이 되어라도 나중에 도출된 요약문을 이해하는 데엔는 방해가 됨을 알게 되었다.**\n",
    "\n",
    "**2. 텍스트 요약 모델이 성공적으로 학습되어 그래프를 통해 안정적인 수렴을 확인할 수 있었고, 실제 요약과 비슷한 요약문을 얻을 수 있었다. 모델 학습에만 족히 1시간이 걸린 것 같다.**\n",
    "\n",
    "**3. 추상 요약과 추출 요약을 5개 찾아서 비교해보았다. 정확한 비교를 위해 직접 원문에서 검색해서 요약문의 원문을 찾았다. 추출 요약에는 summa의 summarize 함수를 사용했는데 ratio가 중요하다는 것을 깨달았다. 또한 추상 요약에만 인코더/ 디코더 용 데이터를 사용하고 추출 요약에는 뉴스 기사 원문을 사용했다.**"
   ]
  },
  {
   "cell_type": "markdown",
   "id": "collected-lloyd",
   "metadata": {},
   "source": [
    "# 회고"
   ]
  },
  {
   "cell_type": "markdown",
   "id": "loose-ensemble",
   "metadata": {},
   "source": [
    "**이번 노드는 내가 자연어 처리반을 고르게 해준 데에 큰 영향을 미쳤다. 근데 Summarization을 하면서 자연어 처리에 흥미가 생겼냐고 묻는다면 아니라고 말하고 싶다. 사실 기술이 재밌는 것이 아니라 도메인에 대한 흥미와 언어 자체의 재미가 있었다.**    \n",
    "\n",
    "**이번에 사용한 데이터는 뉴스 기사 데이터였다. 그런데 인도 관련 기사가 굉장히 많았다. 아직 뉴스의 소스를 찾아보지 않았지만 The Hindu, Times of India, The Indian Express(한겨레나 동아일보 만큼 유명한 신문사)에서 가져온 것이 아닌가 추측해본다. 왜냐하면 해당 국가 신문이 아닌 이상 해당 국가에서 발생한 범죄나 야당을 제외한 정당의 정치가에 대해 디테일한 기사를 싣지 않기 때문이다.**  \n",
    "\n",
    "**재작년에 인도에서 6개월 간 600개 이상의 기사를 번역하면서 내가 체감한 사실이었다. 그래서 이번 프로젝트는 옛 기억을 불러일으켜 참 재밌었다. 친숙한 도메인이라 원문을 찾고 요약문과 비교하기가 수월했던 것 같다. 게다가 요약문이 문법적으로 맞지 않는 것도 있어, 문법적으로 정확한 요약문을 만들려면 어떻게 해야 할지 생각해보는 것도 재밌겠다는 생각이 들었다.**"
   ]
  }
 ],
 "metadata": {
  "kernelspec": {
   "display_name": "aiffel",
   "language": "python",
   "name": "aiffel"
  },
  "language_info": {
   "codemirror_mode": {
    "name": "ipython",
    "version": 3
   },
   "file_extension": ".py",
   "mimetype": "text/x-python",
   "name": "python",
   "nbconvert_exporter": "python",
   "pygments_lexer": "ipython3",
   "version": "3.7.9"
  }
 },
 "nbformat": 4,
 "nbformat_minor": 5
}

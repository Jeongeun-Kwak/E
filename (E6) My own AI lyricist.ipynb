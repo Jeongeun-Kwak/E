{
 "cells": [
  {
   "cell_type": "markdown",
   "id": "expired-brake",
   "metadata": {},
   "source": [
    "# E6 멋진 작사가 만들기"
   ]
  },
  {
   "cell_type": "markdown",
   "id": "grateful-miniature",
   "metadata": {},
   "source": [
    "일시: 2020.01.26"
   ]
  },
  {
   "cell_type": "markdown",
   "id": "editorial-shirt",
   "metadata": {},
   "source": [
    "# Step 1. 데이터 다운로드"
   ]
  },
  {
   "cell_type": "markdown",
   "id": "assumed-cooling",
   "metadata": {},
   "source": [
    "- 파일을 다운로드 받아 압축을 풀어줍니다."
   ]
  },
  {
   "cell_type": "markdown",
   "id": "dangerous-addiction",
   "metadata": {},
   "source": [
    "```\n",
    "$ wget https://aiffelstaticprd.blob.core.windows.net/media/documents/song_lyrics.zip\n",
    "$ unzip song_lyrics.zip -d ~/aiffel/lyricist/data/lyrics\n",
    "```"
   ]
  },
  {
   "cell_type": "markdown",
   "id": "hispanic-avenue",
   "metadata": {},
   "source": [
    "# Step 2. 데이터 읽어오기"
   ]
  },
  {
   "cell_type": "markdown",
   "id": "naked-google",
   "metadata": {},
   "source": [
    "- glob 를 활용하여 모든 txt 파일을 읽어온 후, raw_corpus 리스트에 문장 단위로 저장합니다."
   ]
  },
  {
   "cell_type": "code",
   "execution_count": 1,
   "id": "demographic-found",
   "metadata": {},
   "outputs": [
    {
     "name": "stdout",
     "output_type": "stream",
     "text": [
      "데이터 크기: 187088\n",
      "Examples:\n",
      " ['I. LIFE.', '', '']\n"
     ]
    }
   ],
   "source": [
    "import glob\n",
    "import os\n",
    "\n",
    "txt_file_path = os.getenv('HOME')+'/aiffel/lyricist/data/lyrics/*'\n",
    "\n",
    "txt_list = glob.glob(txt_file_path)\n",
    "\n",
    "raw_corpus = []\n",
    "\n",
    "# 여러 개의 txt 파일을 모두 읽어서 raw_corpus에 담기.\n",
    "for txt_file in txt_list:\n",
    "    with open(txt_file, \"r\") as f:\n",
    "        raw = f.read().splitlines()\n",
    "        raw_corpus.extend(raw)\n",
    "\n",
    "print(\"데이터 크기:\", len(raw_corpus))\n",
    "print(\"Examples:\\n\", raw_corpus[:3])"
   ]
  },
  {
   "cell_type": "markdown",
   "id": "false-vertex",
   "metadata": {},
   "source": [
    "# Step 3. 데이터 정제"
   ]
  },
  {
   "cell_type": "code",
   "execution_count": 2,
   "id": "moral-seller",
   "metadata": {},
   "outputs": [
    {
     "name": "stdout",
     "output_type": "stream",
     "text": [
      "I. LIFE.\n",
      "I.\n",
      "SUCCESS.\n"
     ]
    }
   ],
   "source": [
    "for idx, sentence in enumerate(raw_corpus):\n",
    "    if len(sentence) == 0: continue   # 길이가 0인 문장은 건너뜀.\n",
    "\n",
    "    if idx > 9: break   # 10개 문장 확인.\n",
    "        \n",
    "    print(sentence)"
   ]
  },
  {
   "cell_type": "code",
   "execution_count": 3,
   "id": "romance-tissue",
   "metadata": {},
   "outputs": [
    {
     "name": "stdout",
     "output_type": "stream",
     "text": [
      "<start> this is sample sentence . <end>\n"
     ]
    }
   ],
   "source": [
    "import re\n",
    "\n",
    "def preprocess_sentence(sentence):\n",
    "    sentence = sentence.lower().strip() # 소문자로 변경, 양쪽 공백 삭제.\n",
    "  \n",
    "    sentence = re.sub(r\"([?.!,¿])\", r\" \\1 \", sentence) # 패턴의 특수문자를 만나면 특수문자 양쪽에 공백 추가.\n",
    "    sentence = re.sub(r'[\" \"]+', \" \", sentence) # 공백 패턴을 만나면 스페이스 1개로 치환.\n",
    "    sentence = re.sub(r\"[^a-zA-Z?.!,¿]+\", \" \", sentence) # a-zA-Z?.!,¿ 패턴을 제외한 모든 문자(공백문자까지도)를 스페이스 1개로 치환.\n",
    "\n",
    "    sentence = sentence.strip()\n",
    "\n",
    "    sentence = '<start> ' + sentence + ' <end>'\n",
    "    \n",
    "    return sentence\n",
    "\n",
    "print(preprocess_sentence(\"This @_is ;;;sample        sentence.\"))   # 이 문장으로 필터링 확인."
   ]
  },
  {
   "cell_type": "code",
   "execution_count": 4,
   "id": "yellow-constitution",
   "metadata": {},
   "outputs": [
    {
     "data": {
      "text/plain": [
       "['<start> i . life . <end>',\n",
       " '<start> i . <end>',\n",
       " '<start> success . <end>',\n",
       " '<start> published in a masque of poets <end>',\n",
       " '<start> at the request of h . h . , the author s <end>',\n",
       " '<start> fellow townswoman and friend . <end>',\n",
       " '<start> success is counted sweetest <end>',\n",
       " '<start> by those who ne er succeed . <end>',\n",
       " '<start> to comprehend a nectar <end>',\n",
       " '<start> requires sorest need . <end>']"
      ]
     },
     "execution_count": 4,
     "metadata": {},
     "output_type": "execute_result"
    }
   ],
   "source": [
    "corpus = []\n",
    "\n",
    "for sentence in raw_corpus:\n",
    "    if len(sentence) == 0: continue\n",
    "        \n",
    "    corpus.append(preprocess_sentence(sentence))\n",
    "\n",
    "corpus[:10]"
   ]
  },
  {
   "cell_type": "markdown",
   "id": "studied-gentleman",
   "metadata": {},
   "source": [
    "- ```tokenize()```함수로 데이터를 Tensor로 변환합니다."
   ]
  },
  {
   "cell_type": "code",
   "execution_count": 5,
   "id": "sonic-restaurant",
   "metadata": {},
   "outputs": [
    {
     "name": "stdout",
     "output_type": "stream",
     "text": [
      "[[   2    5   20 ...    0    0    0]\n",
      " [   2    5   20 ...    0    0    0]\n",
      " [   2 2762   20 ...    0    0    0]\n",
      " ...\n",
      " [   2  240    1 ...    0    0    0]\n",
      " [   2   10  502 ...    0    0    0]\n",
      " [   2  129   21 ...    0    0    0]] <keras_preprocessing.text.Tokenizer object at 0x7f9d36b066d0>\n",
      "(175986, 16)\n"
     ]
    }
   ],
   "source": [
    "import tensorflow as tf \n",
    "from tensorflow import keras\n",
    "from tensorflow.keras.preprocessing.text import Tokenizer\n",
    "from tensorflow.keras.preprocessing.sequence import pad_sequences\n",
    "import numpy as np\n",
    "\n",
    "def tokenize(corpus):\n",
    "    # 텐서플로우에서 제공하는 Tokenizer 패키지 생성.\n",
    "    tokenizer = tf.keras.preprocessing.text.Tokenizer(\n",
    "        num_words = 12000, # 전체 단어의 개수. \n",
    "        filters = ' ', # 별도 전처리 로직 없음.\n",
    "        oov_token = \"<unk>\"  # out-of-vocabulary.\n",
    "    )\n",
    "    tokenizer.fit_on_texts(corpus) # 구축한 corpus로부터 Tokenizer가 사전을 자동구축.\n",
    "\n",
    "    # 이후 tokenizer를 활용하여 모델에 입력할 데이터셋을 구축.\n",
    "    tensor = tokenizer.texts_to_sequences(corpus)   \n",
    "    # tokenizer는 구축한 사전으로부터 corpus를 해석해 Tensor로 변환.\n",
    "\n",
    "    # 입력 데이터의 시퀀스 길이를 일정하게 맞추기 위한 padding 메소드를 제공.\n",
    "    # maxlen는 start와 end가 빠질 것을 감안하여 16개로 지정.\n",
    "    tensor = tf.keras.preprocessing.sequence.pad_sequences(tensor, padding = 'post', maxlen = 16, truncating = 'post')  \n",
    "\n",
    "    print(tensor,tokenizer)\n",
    "    return tensor, tokenizer\n",
    "\n",
    "tensor, tokenizer = tokenize(corpus)\n",
    "print(tensor.shape)"
   ]
  },
  {
   "cell_type": "code",
   "execution_count": 6,
   "id": "controversial-hawaiian",
   "metadata": {},
   "outputs": [
    {
     "name": "stdout",
     "output_type": "stream",
     "text": [
      "[[   2    5   20  102   20    3    0    0    0    0]\n",
      " [   2    5   20    3    0    0    0    0    0    0]\n",
      " [   2 2762   20    3    0    0    0    0    0    0]]\n"
     ]
    }
   ],
   "source": [
    "print(tensor[:3, :10]) # 확인용."
   ]
  },
  {
   "cell_type": "code",
   "execution_count": 7,
   "id": "surprising-incident",
   "metadata": {},
   "outputs": [
    {
     "name": "stdout",
     "output_type": "stream",
     "text": [
      "1 : <unk>\n",
      "2 : <start>\n",
      "3 : <end>\n",
      "4 : ,\n",
      "5 : i\n",
      "6 : the\n",
      "7 : you\n",
      "8 : and\n",
      "9 : a\n",
      "10 : to\n"
     ]
    }
   ],
   "source": [
    "for idx in tokenizer.index_word: # 인덱스 확인.\n",
    "    print(idx, \":\", tokenizer.index_word[idx])\n",
    "\n",
    "    if idx >= 10: break "
   ]
  },
  {
   "cell_type": "code",
   "execution_count": 8,
   "id": "expanded-georgia",
   "metadata": {},
   "outputs": [
    {
     "name": "stdout",
     "output_type": "stream",
     "text": [
      "[  2   5  20 102  20   3   0   0   0   0   0   0   0   0   0]\n",
      "[  5  20 102  20   3   0   0   0   0   0   0   0   0   0   0]\n"
     ]
    }
   ],
   "source": [
    "src_input = tensor[:, :-1]  # tensor에서 마지막 토큰을 잘라내 소스 문장을 생성.\n",
    "tgt_input = tensor[:, 1:]    # tensor에서 <start>를 잘라내서 타겟 문장을 생성.\n",
    "\n",
    "print(src_input[0])\n",
    "print(tgt_input[0])"
   ]
  },
  {
   "cell_type": "markdown",
   "id": "understood-compact",
   "metadata": {},
   "source": [
    "# Step 4. 평가 데이터셋 분리"
   ]
  },
  {
   "cell_type": "markdown",
   "id": "catholic-disease",
   "metadata": {},
   "source": [
    "- ```sklearn```모듈의 train_test_split() 함수를 사용해 훈련 데이터와 평가 데이터를 분리합니다."
   ]
  },
  {
   "cell_type": "code",
   "execution_count": 9,
   "id": "generic-petite",
   "metadata": {},
   "outputs": [
    {
     "name": "stdout",
     "output_type": "stream",
     "text": [
      "Source Train: (140788, 15)\n",
      "Target Train: (140788, 15)\n"
     ]
    }
   ],
   "source": [
    "from sklearn.model_selection import train_test_split\n",
    "\n",
    "enc_train, enc_val, dec_train, dec_val = train_test_split(src_input, tgt_input, test_size = 0.2)\n",
    "\n",
    "print(\"Source Train:\", enc_train.shape)\n",
    "print(\"Target Train:\", dec_train.shape)"
   ]
  },
  {
   "cell_type": "markdown",
   "id": "acting-exchange",
   "metadata": {},
   "source": [
    "- 텐서로 ```tf.data.Dataset```객체를 생성합니다. ```tf.data.Dataset.from_tensor_slices()```메소드를 사용합니다. "
   ]
  },
  {
   "cell_type": "code",
   "execution_count": 10,
   "id": "unavailable-balloon",
   "metadata": {},
   "outputs": [
    {
     "name": "stdout",
     "output_type": "stream",
     "text": [
      "<BatchDataset shapes: ((256, 15), (256, 15)), types: (tf.int32, tf.int32)>\n",
      "<BatchDataset shapes: ((256, 15), (256, 15)), types: (tf.int32, tf.int32)>\n"
     ]
    }
   ],
   "source": [
    "BUFFER_SIZE = len(src_input)\n",
    "BATCH_SIZE = 256\n",
    "steps_per_epoch = len(src_input) // BATCH_SIZE\n",
    "\n",
    "VOCAB_SIZE = tokenizer.num_words + 1    # tokenizer가 구축한 단어사전 내 12000개와, 여기 포함되지 않은 0:<pad>를 포함하여 12001개\n",
    "\n",
    "train_dataset = tf.data.Dataset.from_tensor_slices((enc_train, dec_train)).shuffle(BUFFER_SIZE)\n",
    "train_dataset = train_dataset.batch(BATCH_SIZE, drop_remainder=True)\n",
    "val_dataset = tf.data.Dataset.from_tensor_slices((enc_val, dec_val)).shuffle(BUFFER_SIZE)\n",
    "val_dataset = val_dataset.batch(BATCH_SIZE, drop_remainder=True)\n",
    "print(train_dataset)\n",
    "print(val_dataset)"
   ]
  },
  {
   "cell_type": "markdown",
   "id": "ranking-diary",
   "metadata": {},
   "source": [
    "# Step 5. 인공지능 만들기 "
   ]
  },
  {
   "cell_type": "code",
   "execution_count": 11,
   "id": "stuffed-panel",
   "metadata": {},
   "outputs": [],
   "source": [
    "class TextGenerator(tf.keras.Model):\n",
    "    def __init__(self, vocab_size, embedding_size, hidden_size):\n",
    "        super(TextGenerator, self).__init__()\n",
    "        \n",
    "        self.embedding = tf.keras.layers.Embedding(vocab_size, embedding_size)\n",
    "        self.rnn_1 = tf.keras.layers.LSTM(hidden_size, return_sequences=True)\n",
    "        self.rnn_2 = tf.keras.layers.LSTM(hidden_size, return_sequences=True)\n",
    "        self.linear = tf.keras.layers.Dense(vocab_size)\n",
    "        \n",
    "    def call(self, x):\n",
    "        out = self.embedding(x)\n",
    "        out = self.rnn_1(out)\n",
    "        out = self.rnn_2(out)\n",
    "        out = self.linear(out)\n",
    "        \n",
    "        return out\n",
    "    \n",
    "embedding_size = 512 # 조절가능\n",
    "hidden_size = 2048 # 조절가능\n",
    "model = TextGenerator(tokenizer.num_words + 1, embedding_size , hidden_size)"
   ]
  },
  {
   "cell_type": "markdown",
   "id": "afraid-publication",
   "metadata": {},
   "source": [
    "- 모델의 최종 출력은 shape = (256, 15, 12001)입니다."
   ]
  },
  {
   "cell_type": "code",
   "execution_count": 12,
   "id": "genetic-growth",
   "metadata": {},
   "outputs": [
    {
     "data": {
      "text/plain": [
       "<tf.Tensor: shape=(256, 15, 12001), dtype=float32, numpy=\n",
       "array([[[ 1.45721351e-05, -9.88059837e-05, -1.07282598e-04, ...,\n",
       "         -4.75916750e-04,  2.47447606e-04, -1.42766567e-05],\n",
       "        [-4.47218808e-05, -2.42553451e-05,  8.75681653e-05, ...,\n",
       "         -8.53255682e-04,  2.36173713e-04, -1.17513744e-04],\n",
       "        [-3.46969551e-04,  1.34194503e-04, -9.31650502e-05, ...,\n",
       "         -1.15912838e-03,  4.54906753e-04,  4.14822804e-04],\n",
       "        ...,\n",
       "        [ 1.63266412e-03, -8.79908097e-04,  1.64310652e-04, ...,\n",
       "         -5.90977725e-05,  3.00545042e-04, -4.41536286e-05],\n",
       "        [ 2.06640363e-03, -1.39321969e-03,  3.14098783e-04, ...,\n",
       "          2.72786448e-04,  3.28425056e-04, -4.02136357e-05],\n",
       "        [ 2.43392796e-03, -1.82875548e-03,  5.05866134e-04, ...,\n",
       "          5.78969892e-04,  3.38637707e-04,  8.01623028e-05]],\n",
       "\n",
       "       [[ 1.45721351e-05, -9.88059837e-05, -1.07282598e-04, ...,\n",
       "         -4.75916750e-04,  2.47447606e-04, -1.42766567e-05],\n",
       "        [-1.10995818e-04,  6.68799476e-05, -1.50198146e-04, ...,\n",
       "         -5.65592782e-04,  2.47166841e-04, -1.49232772e-04],\n",
       "        [-4.84046264e-04,  2.87089060e-04, -2.50306475e-04, ...,\n",
       "         -1.84807563e-04, -8.15352832e-05, -2.40707333e-04],\n",
       "        ...,\n",
       "        [ 2.17961962e-03, -2.17396184e-03,  1.71768153e-03, ...,\n",
       "          1.11768709e-03, -2.19958092e-04,  6.79434976e-04],\n",
       "        [ 2.42296583e-03, -2.08794046e-03,  1.91959913e-03, ...,\n",
       "          1.21353893e-03, -1.39211552e-04,  9.17535392e-04],\n",
       "        [ 2.61592492e-03, -1.95196585e-03,  2.10121972e-03, ...,\n",
       "          1.28554588e-03, -6.02634464e-05,  1.15091773e-03]],\n",
       "\n",
       "       [[ 1.45721351e-05, -9.88059837e-05, -1.07282598e-04, ...,\n",
       "         -4.75916750e-04,  2.47447606e-04, -1.42766567e-05],\n",
       "        [-1.59888194e-04, -2.51077181e-05,  8.83844405e-05, ...,\n",
       "         -7.86859076e-04,  6.42682207e-05, -1.61015269e-04],\n",
       "        [ 5.78763284e-05, -1.03299899e-05,  6.59942525e-05, ...,\n",
       "         -7.88834586e-04, -1.67717895e-04, -7.22251774e-04],\n",
       "        ...,\n",
       "        [ 1.27859553e-03, -2.03493005e-03,  1.37782563e-03, ...,\n",
       "          5.13251813e-04, -3.01752996e-04, -2.80394597e-04],\n",
       "        [ 1.48238498e-03, -2.23981915e-03,  1.60348497e-03, ...,\n",
       "          7.08284613e-04, -3.11557582e-04,  1.25016913e-05],\n",
       "        [ 1.68747909e-03, -2.31854781e-03,  1.81507505e-03, ...,\n",
       "          8.76992766e-04, -3.06033733e-04,  3.06479080e-04]],\n",
       "\n",
       "       ...,\n",
       "\n",
       "       [[ 1.45721351e-05, -9.88059837e-05, -1.07282598e-04, ...,\n",
       "         -4.75916750e-04,  2.47447606e-04, -1.42766567e-05],\n",
       "        [-1.36890434e-04, -1.19047523e-04, -3.87201173e-04, ...,\n",
       "         -7.46661099e-04,  2.66159215e-04,  2.87294795e-04],\n",
       "        [-4.46648977e-04,  6.43603198e-05, -1.98938025e-04, ...,\n",
       "         -1.00800744e-03,  1.96102294e-04,  6.81200996e-04],\n",
       "        ...,\n",
       "        [ 1.86255854e-03, -2.14495184e-03,  1.11671409e-03, ...,\n",
       "          2.27783504e-03, -8.96450831e-04,  6.02692598e-04],\n",
       "        [ 2.24009226e-03, -2.13668169e-03,  1.35775562e-03, ...,\n",
       "          2.34056870e-03, -7.66906946e-04,  7.76146713e-04],\n",
       "        [ 2.54966738e-03, -2.04927265e-03,  1.57934055e-03, ...,\n",
       "          2.35631713e-03, -6.32546144e-04,  9.68961511e-04]],\n",
       "\n",
       "       [[ 1.45721351e-05, -9.88059837e-05, -1.07282598e-04, ...,\n",
       "         -4.75916750e-04,  2.47447606e-04, -1.42766567e-05],\n",
       "        [-2.48499255e-05,  3.61115344e-05, -3.11364362e-04, ...,\n",
       "         -9.21154802e-04,  6.24663488e-04, -3.72583250e-04],\n",
       "        [-8.88417781e-05,  3.32771684e-04, -5.78431136e-05, ...,\n",
       "         -8.07745615e-04,  6.70414418e-04, -5.94138866e-04],\n",
       "        ...,\n",
       "        [-1.67388178e-03,  1.90886634e-03,  1.49951840e-04, ...,\n",
       "          6.74193700e-07, -8.21069698e-04, -1.02292537e-03],\n",
       "        [-1.92316610e-03,  2.04673596e-03,  2.33637940e-04, ...,\n",
       "         -1.56968890e-04, -7.65954494e-04, -6.29521906e-04],\n",
       "        [-1.50311401e-03,  2.06292421e-03,  2.05841177e-04, ...,\n",
       "         -3.66643770e-04, -6.81741629e-04, -7.76872621e-04]],\n",
       "\n",
       "       [[ 1.45721351e-05, -9.88059837e-05, -1.07282598e-04, ...,\n",
       "         -4.75916750e-04,  2.47447606e-04, -1.42766567e-05],\n",
       "        [ 1.83900062e-04, -1.90633982e-05,  5.47077179e-05, ...,\n",
       "         -6.54560688e-04,  2.09377089e-04,  2.35220505e-05],\n",
       "        [ 2.99217354e-04,  2.68317614e-04,  3.40064347e-04, ...,\n",
       "         -3.95271549e-04,  7.44823192e-05, -9.61033802e-05],\n",
       "        ...,\n",
       "        [ 9.89942346e-05, -1.02244294e-03,  6.94406801e-04, ...,\n",
       "          1.00184849e-03,  7.37025519e-04, -4.71646228e-04],\n",
       "        [ 7.48730614e-04, -1.16409955e-03,  7.83183496e-04, ...,\n",
       "          1.00847241e-03,  6.67283486e-04, -4.28386993e-04],\n",
       "        [ 1.29771826e-03, -1.36602693e-03,  9.14532167e-04, ...,\n",
       "          1.08181778e-03,  6.20969920e-04, -3.11571377e-04]]],\n",
       "      dtype=float32)>"
      ]
     },
     "execution_count": 12,
     "metadata": {},
     "output_type": "execute_result"
    }
   ],
   "source": [
    "for src_sample, tgt_sample in train_dataset.take(1): break\n",
    "model(src_sample)"
   ]
  },
  {
   "cell_type": "code",
   "execution_count": 13,
   "id": "fallen-amber",
   "metadata": {},
   "outputs": [
    {
     "name": "stdout",
     "output_type": "stream",
     "text": [
      "Model: \"text_generator\"\n",
      "_________________________________________________________________\n",
      "Layer (type)                 Output Shape              Param #   \n",
      "=================================================================\n",
      "embedding (Embedding)        multiple                  6144512   \n",
      "_________________________________________________________________\n",
      "lstm (LSTM)                  multiple                  20979712  \n",
      "_________________________________________________________________\n",
      "lstm_1 (LSTM)                multiple                  33562624  \n",
      "_________________________________________________________________\n",
      "dense (Dense)                multiple                  24590049  \n",
      "=================================================================\n",
      "Total params: 85,276,897\n",
      "Trainable params: 85,276,897\n",
      "Non-trainable params: 0\n",
      "_________________________________________________________________\n"
     ]
    }
   ],
   "source": [
    "model.summary()"
   ]
  },
  {
   "cell_type": "code",
   "execution_count": 14,
   "id": "spatial-nowhere",
   "metadata": {},
   "outputs": [
    {
     "name": "stdout",
     "output_type": "stream",
     "text": [
      "Epoch 1/10\n",
      "549/549 [==============================] - 247s 451ms/step - loss: 3.3208 - val_loss: 2.9469\n",
      "Epoch 2/10\n",
      "549/549 [==============================] - 240s 436ms/step - loss: 2.7718 - val_loss: 2.6915\n",
      "Epoch 3/10\n",
      "549/549 [==============================] - 242s 441ms/step - loss: 2.4730 - val_loss: 2.5090\n",
      "Epoch 4/10\n",
      "549/549 [==============================] - 243s 443ms/step - loss: 2.1855 - val_loss: 2.3766\n",
      "Epoch 5/10\n",
      "549/549 [==============================] - 246s 449ms/step - loss: 1.9096 - val_loss: 2.2773\n",
      "Epoch 6/10\n",
      "549/549 [==============================] - 244s 444ms/step - loss: 1.6544 - val_loss: 2.2106\n",
      "Epoch 7/10\n",
      "549/549 [==============================] - 247s 450ms/step - loss: 1.4329 - val_loss: 2.1733\n",
      "Epoch 8/10\n",
      "549/549 [==============================] - 249s 454ms/step - loss: 1.2514 - val_loss: 2.1630\n",
      "Epoch 9/10\n",
      "549/549 [==============================] - 267s 486ms/step - loss: 1.1143 - val_loss: 2.1734\n",
      "Epoch 10/10\n",
      "549/549 [==============================] - 275s 501ms/step - loss: 1.0234 - val_loss: 2.1910\n"
     ]
    }
   ],
   "source": [
    "optimizer = tf.keras.optimizers.Adam()\n",
    "loss = tf.keras.losses.SparseCategoricalCrossentropy(\n",
    "    from_logits=True,\n",
    "    reduction='none'\n",
    ")\n",
    "\n",
    "model.compile(loss=tf.keras.losses.SparseCategoricalCrossentropy(\n",
    "    from_logits=True, reduction='none'), optimizer=optimizer)\n",
    "\n",
    "history = model.fit(train_dataset, epochs = 10, validation_data = val_dataset, verbose = 1) # 10번 시도에 val_loss 2.2 이하 만들기"
   ]
  },
  {
   "cell_type": "markdown",
   "id": "coral-vampire",
   "metadata": {},
   "source": [
    "# 평가하기"
   ]
  },
  {
   "cell_type": "code",
   "execution_count": 15,
   "id": "incorrect-sessions",
   "metadata": {},
   "outputs": [],
   "source": [
    "def generate_text(model, tokenizer, init_sentence=\"<start>\", max_len=20):\n",
    "    # 테스트를 위해서 입력받은 init_sentence도 일단 텐서로 변환.\n",
    "    test_input = tokenizer.texts_to_sequences([init_sentence])\n",
    "    test_tensor = tf.convert_to_tensor(test_input, dtype=tf.int64)\n",
    "    end_token = tokenizer.word_index[\"<end>\"]\n",
    "\n",
    "    # 텍스트를 실제로 생성할때는 루프를 돌면서 단어 하나씩 생성해야 함. \n",
    "    while True:\n",
    "        predict = model(test_tensor)  # 입력받은 문장의 텐서를 입력. \n",
    "        predict_word = tf.argmax(tf.nn.softmax(predict, axis=-1), axis=-1)[:, -1]   \n",
    "        # 우리 모델이 예측한 마지막 단어가 새롭게 생성한 단어가 됨.\n",
    "\n",
    "        # 우리 모델이 새롭게 예측한 단어를 입력 문장의 뒤에 붙여줌.\n",
    "        test_tensor = tf.concat([test_tensor, tf.expand_dims(predict_word, axis=0)], axis=-1)\n",
    "\n",
    "        # 우리 모델이 <end>를 예측했거나, max_len에 도달하지 않았다면  while 루프를 또 돌면서 다음 단어를 예측해야 합니다.\n",
    "        if predict_word.numpy()[0] == end_token: break\n",
    "        if test_tensor.shape[1] >= max_len: break\n",
    "\n",
    "    generated = \"\"\n",
    "    # 생성된 tensor 안에 있는 word index를 tokenizer.index_word 사전을 통해 실제 단어로 하나씩 변환합니다. \n",
    "    for word_index in test_tensor[0].numpy():\n",
    "        generated += tokenizer.index_word[word_index] + \" \"\n",
    "\n",
    "    return generated   # 이것이 최종적으로 모델이 생성한 자연어 문장입니다."
   ]
  },
  {
   "cell_type": "markdown",
   "id": "fossil-regular",
   "metadata": {},
   "source": [
    "- 하이퍼파라미터 embedding_size = 256, hidden_size = 1024일 때, val_loss는 2.54였습니다. "
   ]
  },
  {
   "cell_type": "markdown",
   "id": "concerned-criticism",
   "metadata": {},
   "source": [
    "- 하이퍼파라미터 embedding_size = 512, hidden_size = 2048일 때, val_loss는 2.19였습니다. 결과는 아래와 같습니다. "
   ]
  },
  {
   "cell_type": "code",
   "execution_count": 16,
   "id": "correct-title",
   "metadata": {},
   "outputs": [
    {
     "data": {
      "text/plain": [
       "'<start> i love it when they call me big poppa <end> '"
      ]
     },
     "execution_count": 16,
     "metadata": {},
     "output_type": "execute_result"
    }
   ],
   "source": [
    "generate_text(model, tokenizer, init_sentence = \"<start> i love\", max_len = 20)"
   ]
  },
  {
   "cell_type": "code",
   "execution_count": 17,
   "id": "friendly-toronto",
   "metadata": {},
   "outputs": [
    {
     "data": {
      "text/plain": [
       "'<start> hey , hey , hey , bobby mcghee , yeah son of a preacher man talkin bout a rock '"
      ]
     },
     "execution_count": 17,
     "metadata": {},
     "output_type": "execute_result"
    }
   ],
   "source": [
    "generate_text(model, tokenizer, init_sentence = \"<start> hey\", max_len = 20)"
   ]
  },
  {
   "cell_type": "code",
   "execution_count": 18,
   "id": "acquired-ladder",
   "metadata": {},
   "outputs": [
    {
     "data": {
      "text/plain": [
       "'<start> you know i m bad , i m bad you know it <end> '"
      ]
     },
     "execution_count": 18,
     "metadata": {},
     "output_type": "execute_result"
    }
   ],
   "source": [
    "generate_text(model, tokenizer, init_sentence = \"<start> you\", max_len = 20)"
   ]
  },
  {
   "cell_type": "code",
   "execution_count": 19,
   "id": "documentary-subscriber",
   "metadata": {},
   "outputs": [
    {
     "data": {
      "text/plain": [
       "'<start> keep on with the force don t stop <end> '"
      ]
     },
     "execution_count": 19,
     "metadata": {},
     "output_type": "execute_result"
    }
   ],
   "source": [
    "generate_text(model, tokenizer, init_sentence = \"<start> keep\", max_len = 20)"
   ]
  },
  {
   "cell_type": "markdown",
   "id": "collected-measure",
   "metadata": {},
   "source": [
    "# 루브릭 평가"
   ]
  },
  {
   "cell_type": "markdown",
   "id": "attended-health",
   "metadata": {},
   "source": [
    "**1. 가사 텍스트 생성 모델이 정상적으로 동작하는가? 텍스트 제너레이션 결과가 그럴듯한 문장으로 생성되는가?**"
   ]
  },
  {
   "cell_type": "markdown",
   "id": "concerned-imperial",
   "metadata": {},
   "source": [
    "도출된 문장은 다음과 같습니다. \n",
    "\n",
    "```'<start> i love it when they call me big poppa <end>'```\n",
    "\n",
    "하이퍼파라미터 embedding_size = 256, hidden_size = 1024로 두고 epoch를 1번 돌렸을 때 문장은 ```'<start> i love you <end>'```였습니다. 짧게 학습해서 도출한 문장보다는 확실히 길고 어휘가 다양해짐을 확인할 수 있었습니다. 문장 길이를 더 길게 둔다면 노래 한 곡을 쓰는 건 일도 아닐 것 같습니다. "
   ]
  },
  {
   "cell_type": "markdown",
   "id": "superb-relief",
   "metadata": {},
   "source": [
    "**2. 데이터의 전처리와 데이터셋 구성 과정이 체계적으로 진행되었는가? 특수문자 제거, 토크나이저 생성, 패딩 처리 등의 과정이 빠짐없이 진행되었는가?**"
   ]
  },
  {
   "cell_type": "markdown",
   "id": "infinite-brooks",
   "metadata": {},
   "source": [
    "전처리와 데이터셋 구성 과정은 체계적으로 진행되었다고 생각합니다. 아직 코드를 짜라고 하라면 못짜지면, 코드를 보면 대략 작동 흐름은 알겠습니다. 저 위 3가지 고려 사항보다 제가 이해하는 데에 시간이 많이 걸렸던 것은 ```tf.data.Dataset``` 객체 생성 부분이었습니다.      \n",
    "\n",
    "저는 계속 ```tf.data.Dataset``` 객체를 생성 과정이 ```train_test_split()```로 데이터셋을 분리하는 과정보다 앞이라고 생각했습니다. 그러니 dataset을 기껏 만들어놨것만, 훈련 데이터와 시험 데이터로 분리하는 데에 사용하지 않아서 dataset를 어디에 써야 하는 것인지 고민을 많이 했습니다. 다행히 조원의 도움으로 ```tf.data.Dataset``` 객체를 생성 과정 데이터셋 분류 뒤에 일어나는 일임을 알게 되어 분류한 데이터셋을 텐서로 잘 바꿀 수 있었습니다."
   ]
  },
  {
   "cell_type": "markdown",
   "id": "shaped-finish",
   "metadata": {},
   "source": [
    "**3. 텍스트 생성모델이 안정적으로 학습되었는가? 텍스트 생성모델의 validation loss가 2.2 이하로 낮아졌는가?**"
   ]
  },
  {
   "cell_type": "markdown",
   "id": "broadband-addiction",
   "metadata": {},
   "source": [
    "처음 embedding_size = 256, hidden_size = 1024로 두고 모델을 학습시켰을 때 val_loss는 2.54였습니다. 제한된 epoch 10번 안에서 val_loss를 낮추기 위해 embedding_size와 hidden_size를 각각 2배씩 상향 조정하여 embedding_size = 512, hidden_size = 2048로 두고 모델을 재학습시켰습니다. 결과적으로 val_loss는 2.19까지 내려가게 되었습니다. "
   ]
  },
  {
   "cell_type": "markdown",
   "id": "dominican-penguin",
   "metadata": {},
   "source": [
    "# 회고"
   ]
  },
  {
   "cell_type": "markdown",
   "id": "insured-freedom",
   "metadata": {},
   "source": [
    "일을 미뤄서 하면 안된다는 것을 배운 프로젝트였습니다. 나름 저번주 할 때는 굉장히 재밌었고, 또 응용해볼만한 좋은 노드라고 생각했습니다. 그리고 다른 것들보다 쉽다고 생각했습니다. 그게 큰 실수였던 것 같습니다. 제출시간이 다됐는데, epoch가 도는 시간을 미처 예상하지 못해서 모델을 채 돌리기도 전에 제출합니다! 모델 훈련 시간을 줄이는 방법... 앞으로는 연구해서 꼭 학습이 빨리 끝나는 모델을 만들겁니다.    \n",
    "\n",
    "제출하고 다음날 미처 돌리지 못한 모델 학습을 진행시켰습니다. 밤새 컴퓨터 작동이 없어서 그런지 1 epoch를 도는 시간이 굉장히 짧았습니다. 어제 밤에는 1 eopch에 17분이 걸렸는데 오늘은 5분 정도 걸렸던 것 같습니다. 이로 컴퓨터에 적당한 휴식을 주는 것이 학습 시간을 줄일 수 있는 방법 중에 하나라는 것을 깨달았습니다.    \n",
    "\n",
    "모델 학습을 끝내고 문장 생성을 해보니 문법에도 거의 맞는 문장들이 나와서 놀랐습니다. 더 다양한 가사를 학습시키면 어휘가 풍부해질지 궁금합니다. 개인적으로는 인도 노래를 학습시키고 싶은데, 노랫말 모으는 것도 일이고 문법에 맞는지 검사하는 것도 일일 것 같네요."
   ]
  },
  {
   "cell_type": "code",
   "execution_count": null,
   "id": "worst-bronze",
   "metadata": {},
   "outputs": [],
   "source": []
  }
 ],
 "metadata": {
  "kernelspec": {
   "display_name": "Python 3",
   "language": "python",
   "name": "python3"
  },
  "language_info": {
   "codemirror_mode": {
    "name": "ipython",
    "version": 3
   },
   "file_extension": ".py",
   "mimetype": "text/x-python",
   "name": "python",
   "nbconvert_exporter": "python",
   "pygments_lexer": "ipython3",
   "version": "3.7.9"
  }
 },
 "nbformat": 4,
 "nbformat_minor": 5
}

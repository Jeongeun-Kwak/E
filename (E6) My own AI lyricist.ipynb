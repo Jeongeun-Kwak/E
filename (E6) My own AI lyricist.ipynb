{
 "cells": [
  {
   "cell_type": "markdown",
   "id": "difficult-staff",
   "metadata": {},
   "source": [
    "# E6 멋진 작사가 만들기"
   ]
  },
  {
   "cell_type": "markdown",
   "id": "simplified-space",
   "metadata": {},
   "source": [
    "# Step 1. 데이터 다운로드"
   ]
  },
  {
   "cell_type": "markdown",
   "id": "minor-equity",
   "metadata": {},
   "source": [
    "```\n",
    "$ wget https://aiffelstaticprd.blob.core.windows.net/media/documents/song_lyrics.zip\n",
    "$ unzip song_lyrics.zip -d ~/aiffel/lyricist/data/lyrics\n",
    "```"
   ]
  },
  {
   "cell_type": "markdown",
   "id": "powered-ownership",
   "metadata": {},
   "source": [
    "# Step 2. 데이터 읽어오기"
   ]
  },
  {
   "cell_type": "markdown",
   "id": "coupled-april",
   "metadata": {},
   "source": [
    "glob 모듈을 사용하면 파일을 읽어오는 작업을 하기가 아주 용이.      \n",
    "glob 를 활용하여 모든 txt 파일을 읽어온 후, raw_corpus 리스트에 문장 단위로 저장."
   ]
  },
  {
   "cell_type": "code",
   "execution_count": 1,
   "id": "ready-minister",
   "metadata": {},
   "outputs": [
    {
     "name": "stdout",
     "output_type": "stream",
     "text": [
      "데이터 크기: 187088\n",
      "Examples:\n",
      " ['I. LIFE.', '', '']\n"
     ]
    }
   ],
   "source": [
    "import glob\n",
    "import os\n",
    "\n",
    "txt_file_path = os.getenv('HOME')+'/aiffel/lyricist/data/lyrics/*'\n",
    "\n",
    "txt_list = glob.glob(txt_file_path)\n",
    "\n",
    "raw_corpus = []\n",
    "\n",
    "# 여러개의 txt 파일을 모두 읽어서 raw_corpus 에 담습니다.\n",
    "for txt_file in txt_list:\n",
    "    with open(txt_file, \"r\") as f:\n",
    "        raw = f.read().splitlines()\n",
    "        raw_corpus.extend(raw)\n",
    "\n",
    "print(\"데이터 크기:\", len(raw_corpus))\n",
    "print(\"Examples:\\n\", raw_corpus[:3])"
   ]
  },
  {
   "cell_type": "markdown",
   "id": "round-princeton",
   "metadata": {},
   "source": [
    "# Step 3. 데이터 정제"
   ]
  },
  {
   "cell_type": "code",
   "execution_count": 41,
   "id": "stupid-respect",
   "metadata": {},
   "outputs": [
    {
     "name": "stdout",
     "output_type": "stream",
     "text": [
      "I. LIFE.\n",
      "I.\n",
      "SUCCESS.\n"
     ]
    }
   ],
   "source": [
    "for idx, sentence in enumerate(raw_corpus):\n",
    "    if len(sentence) == 0: continue   # 길이가 0인 문장은 건너뜁니다.\n",
    "\n",
    "    if idx > 9: break   # 일단 문장 10개만 확인해 볼 겁니다.\n",
    "        \n",
    "    print(sentence)"
   ]
  },
  {
   "cell_type": "code",
   "execution_count": 3,
   "id": "political-demographic",
   "metadata": {},
   "outputs": [
    {
     "name": "stdout",
     "output_type": "stream",
     "text": [
      "<start> this is sample sentence . <end>\n"
     ]
    }
   ],
   "source": [
    "import re\n",
    "\n",
    "def preprocess_sentence(sentence):\n",
    "    sentence = sentence.lower().strip()       # 소문자로 바꾸고 양쪽 공백을 삭제\n",
    "  \n",
    "    # 아래 3단계를 거쳐 sentence는 스페이스 1개를 delimeter로 하는 소문자 단어 시퀀스로 바뀝니다.\n",
    "    sentence = re.sub(r\"([?.!,¿])\", r\" \\1 \", sentence)        # 패턴의 특수문자를 만나면 특수문자 양쪽에 공백을 추가\n",
    "    sentence = re.sub(r'[\" \"]+', \" \", sentence)                  # 공백 패턴을 만나면 스페이스 1개로 치환\n",
    "    sentence = re.sub(r\"[^a-zA-Z?.!,¿]+\", \" \", sentence)  # a-zA-Z?.!,¿ 패턴을 제외한 모든 문자(공백문자까지도)를 스페이스 1개로 치환\n",
    "\n",
    "    sentence = sentence.strip()\n",
    "\n",
    "    sentence = '<start> ' + sentence + ' <end>'      # 이전 스텝에서 본 것처럼 문장 앞뒤로 <start>와 <end>를 단어처럼 붙여 줍니다\n",
    "    \n",
    "    return sentence\n",
    "\n",
    "print(preprocess_sentence(\"This @_is ;;;sample        sentence.\"))   # 이 문장이 어떻게 필터링되는지 확인해 보세요."
   ]
  },
  {
   "cell_type": "markdown",
   "id": "recognized-state",
   "metadata": {},
   "source": [
    "자연어처리 분야에서 모델의 입력이 되는 문장을 소스 문장, 정답 역할을 하게 될 모델의 출력 문장을 타겟 문장이라고 관례적으로 부르며 각각 트레인 X, 트레인 Y에 해당함."
   ]
  },
  {
   "cell_type": "code",
   "execution_count": 34,
   "id": "entertaining-context",
   "metadata": {},
   "outputs": [
    {
     "data": {
      "text/plain": [
       "['<start> i . life . <end>',\n",
       " '<start> i . <end>',\n",
       " '<start> success . <end>',\n",
       " '<start> published in a masque of poets <end>',\n",
       " '<start> at the request of h . h . , the author s <end>',\n",
       " '<start> fellow townswoman and friend . <end>',\n",
       " '<start> success is counted sweetest <end>',\n",
       " '<start> by those who ne er succeed . <end>',\n",
       " '<start> to comprehend a nectar <end>',\n",
       " '<start> requires sorest need . <end>']"
      ]
     },
     "execution_count": 34,
     "metadata": {},
     "output_type": "execute_result"
    }
   ],
   "source": [
    "corpus = []\n",
    "\n",
    "for sentence in raw_corpus:\n",
    "    if len(sentence) == 0: continue\n",
    "        \n",
    "    corpus.append(preprocess_sentence(sentence))\n",
    "        \n",
    "corpus[:10]"
   ]
  },
  {
   "cell_type": "code",
   "execution_count": 57,
   "id": "introductory-employment",
   "metadata": {},
   "outputs": [
    {
     "name": "stdout",
     "output_type": "stream",
     "text": [
      "[[   2    5   20 ...    0    0    0]\n",
      " [   2    5   20 ...    0    0    0]\n",
      " [   2 2762   20 ...    0    0    0]\n",
      " ...\n",
      " [   2  240    1 ...    0    0    0]\n",
      " [   2   10  502 ...    0    0    0]\n",
      " [   2  129   21 ...    0    0    0]] <keras_preprocessing.text.Tokenizer object at 0x7fed3970f910>\n",
      "(175986, 15)\n"
     ]
    }
   ],
   "source": [
    "import tensorflow as tf \n",
    "from tensorflow import keras\n",
    "from tensorflow.keras.preprocessing.text import Tokenizer\n",
    "from tensorflow.keras.preprocessing.sequence import pad_sequences\n",
    "import numpy as np\n",
    "\n",
    "def tokenize(corpus):\n",
    "    # 텐서플로우에서 제공하는 Tokenizer 패키지를 생성\n",
    "    tokenizer = tf.keras.preprocessing.text.Tokenizer(\n",
    "        num_words=12000,  # 전체 단어의 개수 \n",
    "        filters=' ',    # 별도로 전처리 로직을 추가할 수 있습니다. 이번에는 사용하지 않겠습니다.\n",
    "        oov_token=\"<unk>\"  # out-of-vocabulary, 사전에 없었던 단어는 어떤 토큰으로 대체할지\n",
    "    )\n",
    "    tokenizer.fit_on_texts(corpus)   # 우리가 구축한 corpus로부터 Tokenizer가 사전을 자동구축하게 됩니다.\n",
    "\n",
    "    # 이후 tokenizer를 활용하여 모델에 입력할 데이터셋을 구축하게 됩니다.\n",
    "    tensor = tokenizer.texts_to_sequences(corpus)   # tokenizer는 구축한 사전으로부터 corpus를 해석해 Tensor로 변환합니다.\n",
    "\n",
    "    # 입력 데이터의 시퀀스 길이를 일정하게 맞추기 위한 padding  메소드를 제공합니다.\n",
    "    # maxlen의 디폴트값은 None입니다. 이 경우 corpus의 가장 긴 문장을 기준으로 시퀀스 길이가 맞춰집니다.\n",
    "    tensor = tf.keras.preprocessing.sequence.pad_sequences(tensor, padding='post', maxlen=15, truncating='post')  \n",
    "\n",
    "    print(tensor,tokenizer)\n",
    "    return tensor, tokenizer\n",
    "\n",
    "tensor, tokenizer = tokenize(corpus)\n",
    "print(tensor.shape)"
   ]
  },
  {
   "cell_type": "code",
   "execution_count": 36,
   "id": "medieval-mauritius",
   "metadata": {},
   "outputs": [
    {
     "name": "stdout",
     "output_type": "stream",
     "text": [
      "[[   2    5   20  102   20    3    0    0    0    0]\n",
      " [   2    5   20    3    0    0    0    0    0    0]\n",
      " [   2 2762   20    3    0    0    0    0    0    0]]\n"
     ]
    }
   ],
   "source": [
    "print(tensor[:3, :10])"
   ]
  },
  {
   "cell_type": "code",
   "execution_count": 37,
   "id": "cooperative-correction",
   "metadata": {},
   "outputs": [
    {
     "name": "stdout",
     "output_type": "stream",
     "text": [
      "1 : <unk>\n",
      "2 : <start>\n",
      "3 : <end>\n",
      "4 : ,\n",
      "5 : i\n",
      "6 : the\n",
      "7 : you\n",
      "8 : and\n",
      "9 : a\n",
      "10 : to\n"
     ]
    }
   ],
   "source": [
    "for idx in tokenizer.index_word:\n",
    "    print(idx, \":\", tokenizer.index_word[idx])\n",
    "\n",
    "    if idx >= 10: break"
   ]
  },
  {
   "cell_type": "code",
   "execution_count": 38,
   "id": "married-default",
   "metadata": {},
   "outputs": [
    {
     "name": "stdout",
     "output_type": "stream",
     "text": [
      "[  2   5  20 102  20   3   0   0   0   0   0   0   0   0]\n",
      "[  5  20 102  20   3   0   0   0   0   0   0   0   0   0]\n"
     ]
    }
   ],
   "source": [
    "src_input = tensor[:, :-1]  # tensor에서 마지막 토큰을 잘라내서 소스 문장을 생성합니다. 마지막 토큰은 <end>가 아니라 <pad>일 가능성이 높습니다.\n",
    "tgt_input = tensor[:, 1:]    # tensor에서 <start>를 잘라내서 타겟 문장을 생성합니다.\n",
    "\n",
    "print(src_input[0])\n",
    "print(tgt_input[0])"
   ]
  },
  {
   "cell_type": "code",
   "execution_count": 39,
   "id": "plain-initial",
   "metadata": {},
   "outputs": [
    {
     "data": {
      "text/plain": [
       "<BatchDataset shapes: ((256, 14), (256, 14)), types: (tf.int32, tf.int32)>"
      ]
     },
     "execution_count": 39,
     "metadata": {},
     "output_type": "execute_result"
    }
   ],
   "source": [
    "BUFFER_SIZE = len(src_input)\n",
    "BATCH_SIZE = 256\n",
    "steps_per_epoch = len(src_input) // BATCH_SIZE\n",
    "\n",
    "VOCAB_SIZE = tokenizer.num_words + 1    # tokenizer가 구축한 단어사전 내 12000개와, 여기 포함되지 않은 0:<pad>를 포함하여 12001개\n",
    "\n",
    "dataset = tf.data.Dataset.from_tensor_slices((src_input, tgt_input)).shuffle(BUFFER_SIZE)\n",
    "dataset = dataset.batch(BATCH_SIZE, drop_remainder=True)\n",
    "dataset"
   ]
  },
  {
   "cell_type": "markdown",
   "id": "smooth-consciousness",
   "metadata": {},
   "source": [
    "# Step 4. 평가 데이터셋 분리"
   ]
  },
  {
   "cell_type": "code",
   "execution_count": 40,
   "id": "dutch-patch",
   "metadata": {},
   "outputs": [
    {
     "name": "stdout",
     "output_type": "stream",
     "text": [
      "Source Train: (140788, 14)\n",
      "Target Train: (140788, 14)\n"
     ]
    }
   ],
   "source": [
    "from sklearn.model_selection import train_test_split\n",
    "\n",
    "enc_train, enc_val, dec_train, dec_val = train_test_split(src_input, tgt_input, test_size=0.2)\n",
    "\n",
    "print(\"Source Train:\", enc_train.shape)\n",
    "print(\"Target Train:\", dec_train.shape)"
   ]
  },
  {
   "cell_type": "markdown",
   "id": "oriented-hampton",
   "metadata": {},
   "source": [
    "# Step 5. 인공지능 만들기 "
   ]
  },
  {
   "cell_type": "code",
   "execution_count": 15,
   "id": "orange-majority",
   "metadata": {},
   "outputs": [],
   "source": [
    "class TextGenerator(tf.keras.Model):\n",
    "    def __init__(self, vocab_size, embedding_size, hidden_size):\n",
    "        super(TextGenerator, self).__init__()\n",
    "        \n",
    "        self.embedding = tf.keras.layers.Embedding(vocab_size, embedding_size)\n",
    "        self.rnn_1 = tf.keras.layers.LSTM(hidden_size, return_sequences=True)\n",
    "        self.rnn_2 = tf.keras.layers.LSTM(hidden_size, return_sequences=True)\n",
    "        self.linear = tf.keras.layers.Dense(vocab_size)\n",
    "        \n",
    "    def call(self, x):\n",
    "        out = self.embedding(x)\n",
    "        out = self.rnn_1(out)\n",
    "        out = self.rnn_2(out)\n",
    "        out = self.linear(out)\n",
    "        \n",
    "        return out\n",
    "    \n",
    "embedding_size = 256\n",
    "hidden_size = 1024\n",
    "model = TextGenerator(tokenizer.num_words + 1, embedding_size , hidden_size)"
   ]
  },
  {
   "cell_type": "code",
   "execution_count": 16,
   "id": "reflected-swaziland",
   "metadata": {},
   "outputs": [
    {
     "data": {
      "text/plain": [
       "<tf.Tensor: shape=(256, 14, 12001), dtype=float32, numpy=\n",
       "array([[[-2.25756667e-04,  1.94375199e-04,  4.82449104e-05, ...,\n",
       "         -2.54986546e-04,  1.14461931e-04, -4.72471656e-05],\n",
       "        [-5.25779556e-04,  1.82836593e-04,  8.33956874e-05, ...,\n",
       "         -5.86420392e-05,  7.28993473e-05,  7.58719543e-05],\n",
       "        [-5.07521559e-04, -8.46756011e-05,  1.31224573e-04, ...,\n",
       "         -1.26129773e-04,  6.08720002e-05,  2.20389658e-04],\n",
       "        ...,\n",
       "        [-6.45519642e-04,  3.04294692e-04,  9.10357980e-04, ...,\n",
       "          2.31030805e-04,  2.01972362e-04, -1.55145943e-04],\n",
       "        [-4.52674052e-04,  2.93127290e-04,  5.46384661e-04, ...,\n",
       "          2.07235353e-04, -1.10665242e-05, -1.05095307e-04],\n",
       "        [-3.88535467e-04, -2.00101174e-04,  5.55376231e-04, ...,\n",
       "          5.12648330e-05, -4.62158350e-04, -6.73904069e-05]],\n",
       "\n",
       "       [[-1.84910343e-04,  9.04126282e-05,  4.22029188e-06, ...,\n",
       "          1.84239165e-04, -4.42496967e-05,  1.58090421e-04],\n",
       "        [-5.20511065e-04,  1.16736199e-04,  1.25081482e-04, ...,\n",
       "          1.78361763e-04, -2.28987352e-04,  3.38383194e-04],\n",
       "        [-9.52577277e-04,  1.66517028e-04,  1.73228545e-04, ...,\n",
       "         -6.42477171e-05, -3.79806879e-04,  6.02362037e-04],\n",
       "        ...,\n",
       "        [-5.43882081e-04,  6.14128483e-04,  7.31570064e-04, ...,\n",
       "          3.43513064e-04,  1.66093887e-04, -5.61984547e-04],\n",
       "        [-8.27647338e-04,  5.04116644e-04,  4.39152907e-04, ...,\n",
       "          2.80210428e-04,  2.51496618e-04, -7.88782141e-04],\n",
       "        [-8.74392688e-04,  4.00031800e-04,  4.69479710e-04, ...,\n",
       "          1.34198010e-04,  2.92661629e-04, -6.00193976e-04]],\n",
       "\n",
       "       [[-2.25756667e-04,  1.94375199e-04,  4.82449104e-05, ...,\n",
       "         -2.54986546e-04,  1.14461931e-04, -4.72471656e-05],\n",
       "        [-6.47602661e-04,  3.98123986e-04, -4.01510852e-06, ...,\n",
       "         -2.57855048e-04,  9.30914830e-05,  1.31319379e-04],\n",
       "        [-9.18980979e-04,  4.71000996e-04,  6.48251080e-05, ...,\n",
       "         -1.94107110e-04,  7.76637899e-05,  1.56116934e-04],\n",
       "        ...,\n",
       "        [-1.03608973e-03,  6.87201282e-06, -2.33352155e-04, ...,\n",
       "         -2.53309787e-04, -2.10596423e-04,  2.96011392e-04],\n",
       "        [-1.00908452e-03,  4.11710171e-05, -5.62069938e-04, ...,\n",
       "         -5.48266053e-06, -2.81146640e-04,  2.73093639e-04],\n",
       "        [-1.02779723e-03, -4.33315901e-04, -4.72938264e-04, ...,\n",
       "         -2.94112033e-05, -6.80639932e-04,  2.09315738e-04]],\n",
       "\n",
       "       ...,\n",
       "\n",
       "       [[-2.25756667e-04,  1.94375199e-04,  4.82449104e-05, ...,\n",
       "         -2.54986546e-04,  1.14461931e-04, -4.72471656e-05],\n",
       "        [-2.67808209e-04,  4.35908412e-04,  6.88926593e-05, ...,\n",
       "         -3.03597597e-04,  1.30301254e-04, -5.61312299e-05],\n",
       "        [-2.99514038e-04,  6.01708249e-04, -8.21634167e-05, ...,\n",
       "         -3.15200014e-05,  2.29791316e-04, -1.00224490e-04],\n",
       "        ...,\n",
       "        [ 8.10300990e-04,  1.89904691e-04, -9.41778417e-04, ...,\n",
       "          7.15941365e-04, -3.45458597e-04,  1.01357477e-03],\n",
       "        [ 6.95428171e-04, -2.16095723e-04, -6.86116691e-04, ...,\n",
       "          7.63202203e-04, -5.49436256e-04,  9.70216643e-04],\n",
       "        [ 4.75506793e-04, -8.68815579e-04, -3.09559255e-04, ...,\n",
       "          6.82317303e-04, -9.06068890e-04,  8.12613056e-04]],\n",
       "\n",
       "       [[-2.25756667e-04,  1.94375199e-04,  4.82449104e-05, ...,\n",
       "         -2.54986546e-04,  1.14461931e-04, -4.72471656e-05],\n",
       "        [-2.63673108e-04,  2.58624059e-04,  1.48862222e-04, ...,\n",
       "         -4.34683461e-04,  9.39890379e-05, -1.40311531e-04],\n",
       "        [-2.89589894e-04,  3.05206428e-04,  1.17291875e-05, ...,\n",
       "         -4.51579050e-04,  3.75286800e-05, -2.46311014e-04],\n",
       "        ...,\n",
       "        [-1.36989797e-03, -3.48944287e-03,  1.28398009e-03, ...,\n",
       "         -6.28341513e-04, -1.72522571e-03, -1.14148692e-03],\n",
       "        [-1.49477890e-03, -3.84202180e-03,  1.45905325e-03, ...,\n",
       "         -7.20150303e-04, -1.97383412e-03, -1.11402816e-03],\n",
       "        [-1.61258713e-03, -4.09069331e-03,  1.58158131e-03, ...,\n",
       "         -7.84989737e-04, -2.16969219e-03, -1.08380767e-03]],\n",
       "\n",
       "       [[-2.25756667e-04,  1.94375199e-04,  4.82449104e-05, ...,\n",
       "         -2.54986546e-04,  1.14461931e-04, -4.72471656e-05],\n",
       "        [-1.55126356e-04,  5.66776085e-04,  1.24851285e-04, ...,\n",
       "         -2.05543838e-04,  2.63568218e-04, -1.07194748e-04],\n",
       "        [-1.02616228e-04,  9.75953124e-04,  1.09376328e-04, ...,\n",
       "         -1.22442390e-04,  3.53455660e-04, -1.73233188e-04],\n",
       "        ...,\n",
       "        [-5.22974413e-04, -2.70763435e-03,  6.38927042e-04, ...,\n",
       "         -7.51567655e-04, -1.96435256e-03, -7.89159094e-04],\n",
       "        [-7.26068334e-04, -3.21808225e-03,  9.23019543e-04, ...,\n",
       "         -8.34189472e-04, -2.24910281e-03, -8.05148040e-04],\n",
       "        [-9.25448956e-04, -3.60868825e-03,  1.14221906e-03, ...,\n",
       "         -8.93243705e-04, -2.46005948e-03, -8.13688035e-04]]],\n",
       "      dtype=float32)>"
      ]
     },
     "execution_count": 16,
     "metadata": {},
     "output_type": "execute_result"
    }
   ],
   "source": [
    "for src_sample, tgt_sample in dataset.take(1): break\n",
    "model(src_sample)"
   ]
  },
  {
   "cell_type": "code",
   "execution_count": 17,
   "id": "previous-association",
   "metadata": {},
   "outputs": [
    {
     "name": "stdout",
     "output_type": "stream",
     "text": [
      "Model: \"text_generator\"\n",
      "_________________________________________________________________\n",
      "Layer (type)                 Output Shape              Param #   \n",
      "=================================================================\n",
      "embedding (Embedding)        multiple                  3072256   \n",
      "_________________________________________________________________\n",
      "lstm (LSTM)                  multiple                  5246976   \n",
      "_________________________________________________________________\n",
      "lstm_1 (LSTM)                multiple                  8392704   \n",
      "_________________________________________________________________\n",
      "dense (Dense)                multiple                  12301025  \n",
      "=================================================================\n",
      "Total params: 29,012,961\n",
      "Trainable params: 29,012,961\n",
      "Non-trainable params: 0\n",
      "_________________________________________________________________\n"
     ]
    }
   ],
   "source": [
    "model.summary()"
   ]
  },
  {
   "cell_type": "code",
   "execution_count": 18,
   "id": "naughty-australia",
   "metadata": {},
   "outputs": [
    {
     "name": "stdout",
     "output_type": "stream",
     "text": [
      "686/686 [==============================] - 100s 145ms/step - loss: 3.5981\n"
     ]
    },
    {
     "data": {
      "text/plain": [
       "<tensorflow.python.keras.callbacks.History at 0x7fed3adfd350>"
      ]
     },
     "execution_count": 18,
     "metadata": {},
     "output_type": "execute_result"
    }
   ],
   "source": [
    "optimizer = tf.keras.optimizers.Adam()\n",
    "loss = tf.keras.losses.SparseCategoricalCrossentropy(\n",
    "    from_logits=True,\n",
    "    reduction='none'\n",
    ")\n",
    "\n",
    "model.compile(loss=tf.keras.losses.SparseCategoricalCrossentropy(\n",
    "    from_logits=True, reduction='none'), optimizer=optimizer)\n",
    "model.fit(dataset, epochs=1)"
   ]
  },
  {
   "cell_type": "markdown",
   "id": "specified-target",
   "metadata": {},
   "source": [
    "# 평가하기"
   ]
  },
  {
   "cell_type": "code",
   "execution_count": 19,
   "id": "hungry-windows",
   "metadata": {},
   "outputs": [],
   "source": [
    "def generate_text(model, tokenizer, init_sentence=\"<start>\", max_len=20):\n",
    "    # 테스트를 위해서 입력받은 init_sentence도 일단 텐서로 변환합니다.\n",
    "    test_input = tokenizer.texts_to_sequences([init_sentence])\n",
    "    test_tensor = tf.convert_to_tensor(test_input, dtype=tf.int64)\n",
    "    end_token = tokenizer.word_index[\"<end>\"]\n",
    "\n",
    "    # 텍스트를 실제로 생성할때는 루프를 돌면서 단어 하나씩 생성해야 합니다. \n",
    "    while True:\n",
    "        predict = model(test_tensor)  # 입력받은 문장의 텐서를 입력합니다. \n",
    "        predict_word = tf.argmax(tf.nn.softmax(predict, axis=-1), axis=-1)[:, -1]   # 우리 모델이 예측한 마지막 단어가 바로 새롭게 생성한 단어가 됩니다. \n",
    "\n",
    "        # 우리 모델이 새롭게 예측한 단어를 입력 문장의 뒤에 붙여 줍니다. \n",
    "        test_tensor = tf.concat([test_tensor, tf.expand_dims(predict_word, axis=0)], axis=-1)\n",
    "\n",
    "        # 우리 모델이 <end>를 예측했거나, max_len에 도달하지 않았다면  while 루프를 또 돌면서 다음 단어를 예측해야 합니다.\n",
    "        if predict_word.numpy()[0] == end_token: break\n",
    "        if test_tensor.shape[1] >= max_len: break\n",
    "\n",
    "    generated = \"\"\n",
    "    # 생성된 tensor 안에 있는 word index를 tokenizer.index_word 사전을 통해 실제 단어로 하나씩 변환합니다. \n",
    "    for word_index in test_tensor[0].numpy():\n",
    "        generated += tokenizer.index_word[word_index] + \" \"\n",
    "\n",
    "    return generated   # 이것이 최종적으로 모델이 생성한 자연어 문장입니다."
   ]
  },
  {
   "cell_type": "code",
   "execution_count": 20,
   "id": "recreational-cambodia",
   "metadata": {},
   "outputs": [
    {
     "data": {
      "text/plain": [
       "'<start> i love you <end> '"
      ]
     },
     "execution_count": 20,
     "metadata": {},
     "output_type": "execute_result"
    }
   ],
   "source": [
    "generate_text(model, tokenizer, init_sentence=\"<start> i love\", max_len=20)"
   ]
  },
  {
   "cell_type": "markdown",
   "id": "average-audit",
   "metadata": {},
   "source": [
    "# 루브릭 평가"
   ]
  },
  {
   "cell_type": "markdown",
   "id": "unlimited-profession",
   "metadata": {},
   "source": [
    "1. 가사 텍스트 생성 모델이 정상적으로 동작하는가?\n",
    "- 텍스트 제너레이션 결과가 그럴듯한 문장으로 생성되는가?"
   ]
  },
  {
   "cell_type": "markdown",
   "id": "mexican-cleanup",
   "metadata": {},
   "source": [
    "2. 데이터의 전처리와 데이터셋 구성 과정이 체계적으로 진행되었는가?\n",
    "- 특수문자 제거, 토크나이저 생성, 패딩 처리 등의 과정이 빠짐없이 진행되었는가?"
   ]
  },
  {
   "cell_type": "markdown",
   "id": "expanded-group",
   "metadata": {},
   "source": [
    "3. 텍스트 생성모델이 안정적으로 학습되었는가?\n",
    "- 텍스트 생성모델의 validation loss가 2.2 이하로 낮아졌는가?"
   ]
  },
  {
   "cell_type": "markdown",
   "id": "careful-hawaiian",
   "metadata": {},
   "source": [
    "# 회고"
   ]
  },
  {
   "cell_type": "code",
   "execution_count": null,
   "id": "everyday-necessity",
   "metadata": {},
   "outputs": [],
   "source": []
  }
 ],
 "metadata": {
  "kernelspec": {
   "display_name": "Python 3",
   "language": "python",
   "name": "python3"
  },
  "language_info": {
   "codemirror_mode": {
    "name": "ipython",
    "version": 3
   },
   "file_extension": ".py",
   "mimetype": "text/x-python",
   "name": "python",
   "nbconvert_exporter": "python",
   "pygments_lexer": "ipython3",
   "version": "3.7.9"
  }
 },
 "nbformat": 4,
 "nbformat_minor": 5
}

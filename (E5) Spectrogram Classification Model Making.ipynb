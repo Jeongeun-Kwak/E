{
 "cells": [
  {
   "cell_type": "markdown",
   "id": "intellectual-railway",
   "metadata": {},
   "source": [
    "# E5 Spectrogram classification 모델 구현"
   ]
  },
  {
   "cell_type": "markdown",
   "id": "frank-green",
   "metadata": {},
   "source": [
    "사람이 말하는 단어를 인공지능 모델로 구분해보자!"
   ]
  },
  {
   "cell_type": "markdown",
   "id": "recovered-czech",
   "metadata": {},
   "source": [
    "# Step 1. 데이터 처리와 분류"
   ]
  },
  {
   "cell_type": "markdown",
   "id": "wooden-trinidad",
   "metadata": {},
   "source": [
    "- 라벨 데이터 처리하기\n",
    "- sklearn의 train_test_split함수를 이용하여 train, test 분리"
   ]
  },
  {
   "cell_type": "code",
   "execution_count": 1,
   "id": "geographic-prague",
   "metadata": {},
   "outputs": [],
   "source": [
    "import numpy as np\n",
    "import os\n",
    "\n",
    "data_path = os.getenv(\"HOME\")+'/aiffel/speech_recognition/data/speech_wav_8000.npz'\n",
    "speech_data = np.load(data_path)"
   ]
  },
  {
   "cell_type": "markdown",
   "id": "verbal-upgrade",
   "metadata": {},
   "source": [
    "데이터셋 살펴보기"
   ]
  },
  {
   "cell_type": "code",
   "execution_count": 2,
   "id": "brown-median",
   "metadata": {},
   "outputs": [
    {
     "name": "stdout",
     "output_type": "stream",
     "text": [
      "Wave data shape :  (50620, 8000)\n",
      "Label data shape :  (50620, 1)\n",
      "✅\n"
     ]
    }
   ],
   "source": [
    "print(\"Wave data shape : \", speech_data[\"wav_vals\"].shape) # 1초 길이의 오디오 음성데이터 50620개/ 샘플레이트를 8000으로 재조정\n",
    "print(\"Label data shape : \", speech_data[\"label_vals\"].shape)\n",
    "print(\"✅\")"
   ]
  },
  {
   "cell_type": "code",
   "execution_count": 4,
   "id": "pointed-lying",
   "metadata": {},
   "outputs": [
    {
     "name": "stdout",
     "output_type": "stream",
     "text": [
      "rand num :  24750\n",
      "Wave data shape :  (8000,)\n",
      "label :  ['go']\n"
     ]
    },
    {
     "data": {
      "text/html": [
       "\n",
       "                <audio  controls=\"controls\" >\n",
       "                    <source src=\"data:audio/wav;base64,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\" type=\"audio/wav\" />\n",
       "                    Your browser does not support the audio element.\n",
       "                </audio>\n",
       "              "
      ],
      "text/plain": [
       "<IPython.lib.display.Audio object>"
      ]
     },
     "execution_count": 4,
     "metadata": {},
     "output_type": "execute_result"
    }
   ],
   "source": [
    "import IPython.display as ipd\n",
    "import random\n",
    "\n",
    "# 데이터 선택 (랜덤하게 선택하고 있으니, 여러번 실행해 보세요)\n",
    "rand = random.randint(0, len(speech_data[\"wav_vals\"]))\n",
    "print(\"rand num : \", rand)\n",
    "\n",
    "sr = 8000 # 1초동안 재생되는 샘플의 갯수\n",
    "data = speech_data[\"wav_vals\"][rand]\n",
    "print(\"Wave data shape : \", data.shape)\n",
    "print(\"label : \", speech_data[\"label_vals\"][rand])\n",
    "\n",
    "ipd.Audio(data, rate=sr)"
   ]
  },
  {
   "cell_type": "markdown",
   "id": "excited-addiction",
   "metadata": {},
   "source": [
    "Label data 처리: 단어 정답은 텍스트 형태"
   ]
  },
  {
   "cell_type": "code",
   "execution_count": 6,
   "id": "formed-event",
   "metadata": {},
   "outputs": [
    {
     "name": "stdout",
     "output_type": "stream",
     "text": [
      "LABEL :  ['yes', 'no', 'up', 'down', 'left', 'right', 'on', 'off', 'stop', 'go', 'unknown', 'silence']\n",
      "Indexed LABEL :  {'yes': 0, 'no': 1, 'up': 2, 'down': 3, 'left': 4, 'right': 5, 'on': 6, 'off': 7, 'stop': 8, 'go': 9, 'unknown': 10, 'silence': 11}\n"
     ]
    }
   ],
   "source": [
    "target_list = ['yes', 'no', 'up', 'down', 'left', 'right', 'on', 'off', 'stop', 'go']\n",
    "\n",
    "label_value = target_list\n",
    "label_value.append('unknown')\n",
    "label_value.append('silence')\n",
    "\n",
    "print('LABEL : ', label_value)\n",
    "\n",
    "new_label_value = dict()\n",
    "for i, l in enumerate(label_value):\n",
    "    new_label_value[l] = i\n",
    "label_value = new_label_value\n",
    "\n",
    "print('Indexed LABEL : ', new_label_value)"
   ]
  },
  {
   "cell_type": "markdown",
   "id": "available-gazette",
   "metadata": {},
   "source": [
    "텍스트 형의 라벨 데이터를 학습에 사용하기 위해 인덱스 형태로 바꿔주기 "
   ]
  },
  {
   "cell_type": "code",
   "execution_count": 7,
   "id": "excessive-tradition",
   "metadata": {},
   "outputs": [
    {
     "data": {
      "text/plain": [
       "array([ 3,  3,  3, ..., 11, 11, 11])"
      ]
     },
     "execution_count": 7,
     "metadata": {},
     "output_type": "execute_result"
    }
   ],
   "source": [
    "temp = []\n",
    "for v in speech_data[\"label_vals\"]:\n",
    "    temp.append(label_value[v[0]])\n",
    "label_data = np.array(temp)\n",
    "\n",
    "label_data"
   ]
  },
  {
   "cell_type": "markdown",
   "id": "voluntary-spokesman",
   "metadata": {},
   "source": [
    "학습을 위한 데이터 분리"
   ]
  },
  {
   "cell_type": "code",
   "execution_count": 9,
   "id": "communist-joint",
   "metadata": {},
   "outputs": [
    {
     "name": "stdout",
     "output_type": "stream",
     "text": [
      "[[ 1.01608486e-04  1.75380308e-04  3.08555173e-04 ...  9.74092254e-05\n",
      "   2.05253120e-04  1.87803438e-04]\n",
      " [ 3.24528525e-03  4.86054178e-03  2.37491593e-04 ...  2.56886939e-03\n",
      "   1.99823058e-03 -1.91366696e-03]\n",
      " [ 3.40051344e-03  4.84208483e-03  2.08958867e-04 ...  2.39678030e-03\n",
      "   1.86608324e-03 -2.17993045e-03]\n",
      " ...\n",
      " [ 2.71860936e-05  1.03743783e-04 -2.74146645e-04 ... -4.30538566e-05\n",
      "  -2.98737777e-05 -1.02644473e-04]\n",
      " [ 2.48308759e-03  2.30404618e-03  3.05005163e-03 ... -2.61422992e-03\n",
      "  -2.99635599e-03 -3.32306139e-03]\n",
      " [ 3.29758250e-03  4.72782506e-03  1.16946110e-04 ...  8.75733420e-02\n",
      "   9.84001905e-02  1.05232939e-01]]\n",
      "✅\n"
     ]
    }
   ],
   "source": [
    "from sklearn.model_selection import train_test_split\n",
    "\n",
    "sr = 8000\n",
    "train_wav, test_wav, train_label, test_label = train_test_split(speech_data[\"wav_vals\"], \n",
    "                                                                label_data, \n",
    "                                                                test_size=0.1,\n",
    "                                                                shuffle=True)\n",
    "print(train_wav)\n",
    "\n",
    "train_wav = train_wav.reshape([-1, sr, 1]) # add channel for CNN\n",
    "test_wav = test_wav.reshape([-1, sr, 1])\n",
    "print(\"✅\")"
   ]
  },
  {
   "cell_type": "markdown",
   "id": "painted-temple",
   "metadata": {},
   "source": [
    "나눠진 데이터셋 확인"
   ]
  },
  {
   "cell_type": "code",
   "execution_count": 10,
   "id": "cellular-internship",
   "metadata": {},
   "outputs": [
    {
     "name": "stdout",
     "output_type": "stream",
     "text": [
      "train data :  (45558, 8000, 1)\n",
      "train labels :  (45558,)\n",
      "test data :  (5062, 8000, 1)\n",
      "test labels :  (5062,)\n",
      "✅\n"
     ]
    }
   ],
   "source": [
    "print(\"train data : \", train_wav.shape)\n",
    "print(\"train labels : \", train_label.shape)\n",
    "print(\"test data : \", test_wav.shape)\n",
    "print(\"test labels : \", test_label.shape)\n",
    "print(\"✅\")"
   ]
  },
  {
   "cell_type": "markdown",
   "id": "adult-million",
   "metadata": {},
   "source": [
    "# Step 2. 학습을 위한 하이퍼파라미터 설정"
   ]
  },
  {
   "cell_type": "markdown",
   "id": "tutorial-federation",
   "metadata": {},
   "source": [
    "모델 체크포인트 저장을 위한 체크포인트 경로 설정"
   ]
  },
  {
   "cell_type": "code",
   "execution_count": 11,
   "id": "curious-awareness",
   "metadata": {},
   "outputs": [
    {
     "data": {
      "text/plain": [
       "'/home/aiffel-dj20/aiffel/speech_recognition/models/wav'"
      ]
     },
     "execution_count": 11,
     "metadata": {},
     "output_type": "execute_result"
    }
   ],
   "source": [
    "batch_size = 32\n",
    "max_epochs = 10\n",
    "\n",
    "# the save point\n",
    "checkpoint_dir = os.getenv('HOME')+'/aiffel/speech_recognition/models/wav'\n",
    "\n",
    "checkpoint_dir"
   ]
  },
  {
   "cell_type": "markdown",
   "id": "perceived-wages",
   "metadata": {},
   "source": [
    "# Step 3. 데이터셋 구성"
   ]
  },
  {
   "cell_type": "markdown",
   "id": "duplicate-accent",
   "metadata": {},
   "source": [
    "- ```tf.data.Dataset```을 이용\n",
    "- from_tensor_slices 함수에 return 받길 원하는 데이터를 튜플 (data, label) 형태로 넣어서 사용\n",
    "- map과 batch를 이용한 데이터 전처리\n",
    "map함수는 데이터셋이 데이터를 불러올 때마다 동작시킬 데이터 전처리 함수를 매핑해주는 역할.\n",
    "첫번째 map함수는 from_tensor_slices에 입력한 튜플 형태로 데이터를 받으며 리턴 값으로 어떤 데이터를 반환할 지 결정. map함수는 중첩해서 사용가능.\n",
    "\n",
    "- 주의 : waveform을 spectrogram으로 변환하기 위해 추가로 사용하는 메모리 때문에 이후 메모리 부족 현상을 겪게 될수도 있습니다. tf.data.Dataset이 생성된 이후, 아래 예시와 같이 wav 데이터나 spectrogram 데이터를 담아둔 메모리 버퍼를 비워 주면 도움이 됩니다."
   ]
  },
  {
   "cell_type": "code",
   "execution_count": 13,
   "id": "front-reading",
   "metadata": {},
   "outputs": [
    {
     "name": "stdout",
     "output_type": "stream",
     "text": [
      "✅\n"
     ]
    }
   ],
   "source": [
    "def one_hot_label(wav, label):\n",
    "    label = tf.one_hot(label, depth=12)\n",
    "    return wav, label\n",
    "print(\"✅\")"
   ]
  },
  {
   "cell_type": "markdown",
   "id": "rapid-promotion",
   "metadata": {},
   "source": [
    "batch는 데이터셋에서 제공하는 튜플 형태의 데이터를 얼마나 가져올지 결정하는 함수."
   ]
  },
  {
   "cell_type": "code",
   "execution_count": 14,
   "id": "dense-romania",
   "metadata": {},
   "outputs": [
    {
     "name": "stdout",
     "output_type": "stream",
     "text": [
      "<BatchDataset shapes: ((None, 8000, 1), (None, 12)), types: (tf.float32, tf.float32)>\n",
      "<BatchDataset shapes: ((None, 8000, 1), (None, 12)), types: (tf.float32, tf.float32)>\n",
      "✅\n"
     ]
    }
   ],
   "source": [
    "import tensorflow as tf\n",
    "\n",
    "# for train\n",
    "train_dataset = tf.data.Dataset.from_tensor_slices((train_wav, train_label))\n",
    "train_dataset = train_dataset.map(one_hot_label)\n",
    "train_dataset = train_dataset.repeat().batch(batch_size=batch_size)\n",
    "print(train_dataset)\n",
    "\n",
    "# for test\n",
    "test_dataset = tf.data.Dataset.from_tensor_slices((test_wav, test_label))\n",
    "test_dataset = test_dataset.map(one_hot_label)\n",
    "test_dataset = test_dataset.batch(batch_size=batch_size)\n",
    "print(test_dataset)\n",
    "print(\"✅\")"
   ]
  },
  {
   "cell_type": "markdown",
   "id": "apparent-reservoir",
   "metadata": {},
   "source": [
    "# Step 4. 2차원 Spectrogram 데이터를 처리하는 모델 구성"
   ]
  },
  {
   "cell_type": "markdown",
   "id": "pursuant-dance",
   "metadata": {},
   "source": [
    "- 2차원 Spectrogram 데이터의 시간축 방향으로 Conv1D layer를 적용, 혹은 Conv2D layer를 적용 가능\n",
    "- batchnorm, dropout, dense layer 등을 이용\n",
    "- 12개의 단어 class를 구분하는 loss를 사용하고 Adam optimizer를 사용\n",
    "- 모델 가중치를 저장하는 checkpoint callback 함수 추가\n",
    "- 다양한 모델의 실험을 진행해 보시기 바랍니다."
   ]
  },
  {
   "cell_type": "markdown",
   "id": "aboriginal-league",
   "metadata": {},
   "source": [
    "## 1. Conv1D layer 적용"
   ]
  },
  {
   "cell_type": "code",
   "execution_count": 16,
   "id": "private-murray",
   "metadata": {},
   "outputs": [
    {
     "name": "stdout",
     "output_type": "stream",
     "text": [
      "Model: \"model_1\"\n",
      "_________________________________________________________________\n",
      "Layer (type)                 Output Shape              Param #   \n",
      "=================================================================\n",
      "input_2 (InputLayer)         [(None, 8000, 1)]         0         \n",
      "_________________________________________________________________\n",
      "conv1d_10 (Conv1D)           (None, 8000, 32)          320       \n",
      "_________________________________________________________________\n",
      "conv1d_11 (Conv1D)           (None, 8000, 32)          9248      \n",
      "_________________________________________________________________\n",
      "max_pooling1d_4 (MaxPooling1 (None, 4000, 32)          0         \n",
      "_________________________________________________________________\n",
      "conv1d_12 (Conv1D)           (None, 4000, 64)          18496     \n",
      "_________________________________________________________________\n",
      "conv1d_13 (Conv1D)           (None, 4000, 64)          36928     \n",
      "_________________________________________________________________\n",
      "max_pooling1d_5 (MaxPooling1 (None, 2000, 64)          0         \n",
      "_________________________________________________________________\n",
      "conv1d_14 (Conv1D)           (None, 2000, 128)         73856     \n",
      "_________________________________________________________________\n",
      "conv1d_15 (Conv1D)           (None, 2000, 128)         147584    \n",
      "_________________________________________________________________\n",
      "conv1d_16 (Conv1D)           (None, 2000, 128)         147584    \n",
      "_________________________________________________________________\n",
      "max_pooling1d_6 (MaxPooling1 (None, 1000, 128)         0         \n",
      "_________________________________________________________________\n",
      "conv1d_17 (Conv1D)           (None, 1000, 256)         295168    \n",
      "_________________________________________________________________\n",
      "conv1d_18 (Conv1D)           (None, 1000, 256)         590080    \n",
      "_________________________________________________________________\n",
      "conv1d_19 (Conv1D)           (None, 1000, 256)         590080    \n",
      "_________________________________________________________________\n",
      "max_pooling1d_7 (MaxPooling1 (None, 500, 256)          0         \n",
      "_________________________________________________________________\n",
      "dropout_1 (Dropout)          (None, 500, 256)          0         \n",
      "_________________________________________________________________\n",
      "flatten_1 (Flatten)          (None, 128000)            0         \n",
      "_________________________________________________________________\n",
      "dense_2 (Dense)              (None, 256)               32768256  \n",
      "_________________________________________________________________\n",
      "batch_normalization_1 (Batch (None, 256)               1024      \n",
      "_________________________________________________________________\n",
      "activation_1 (Activation)    (None, 256)               0         \n",
      "_________________________________________________________________\n",
      "dense_3 (Dense)              (None, 12)                3084      \n",
      "=================================================================\n",
      "Total params: 34,681,708\n",
      "Trainable params: 34,681,196\n",
      "Non-trainable params: 512\n",
      "_________________________________________________________________\n"
     ]
    }
   ],
   "source": [
    "from tensorflow.keras import layers\n",
    "\n",
    "input_tensor = layers.Input(shape=(sr, 1))\n",
    "\n",
    "x = layers.Conv1D(32, 9, padding='same', activation='relu')(input_tensor)\n",
    "x = layers.Conv1D(32, 9, padding='same', activation='relu')(x)\n",
    "x = layers.MaxPool1D()(x)\n",
    "\n",
    "x = layers.Conv1D(64, 9, padding='same', activation='relu')(x)\n",
    "x = layers.Conv1D(64, 9, padding='same', activation='relu')(x)\n",
    "x = layers.MaxPool1D()(x)\n",
    "\n",
    "x = layers.Conv1D(128, 9, padding='same', activation='relu')(x)\n",
    "x = layers.Conv1D(128, 9, padding='same', activation='relu')(x)\n",
    "x = layers.Conv1D(128, 9, padding='same', activation='relu')(x)\n",
    "x = layers.MaxPool1D()(x)\n",
    "\n",
    "x = layers.Conv1D(256, 9, padding='same', activation='relu')(x)\n",
    "x = layers.Conv1D(256, 9, padding='same', activation='relu')(x)\n",
    "x = layers.Conv1D(256, 9, padding='same', activation='relu')(x)\n",
    "x = layers.MaxPool1D()(x)\n",
    "x = layers.Dropout(0.3)(x)\n",
    "\n",
    "x = layers.Flatten()(x)\n",
    "x = layers.Dense(256)(x)\n",
    "x = layers.BatchNormalization()(x)\n",
    "x = layers.Activation('relu')(x)\n",
    "\n",
    "output_tensor = layers.Dense(12)(x)\n",
    "\n",
    "model_wav = tf.keras.Model(input_tensor, output_tensor)\n",
    "\n",
    "model_wav.summary()"
   ]
  },
  {
   "cell_type": "markdown",
   "id": "straight-massage",
   "metadata": {},
   "source": [
    "현재 라벨이 될 수 있는 단어는 12개. 이 12개의 클래스를 구분하기 위해서는 멀티 클래스 분류가 필요하기에 손실함수로 교차 엔트로피 오차를 사용."
   ]
  },
  {
   "cell_type": "code",
   "execution_count": 17,
   "id": "crazy-cambridge",
   "metadata": {},
   "outputs": [
    {
     "name": "stdout",
     "output_type": "stream",
     "text": [
      "✅\n"
     ]
    }
   ],
   "source": [
    "optimizer=tf.keras.optimizers.Adam(1e-4)\n",
    "model_wav.compile(loss=tf.keras.losses.CategoricalCrossentropy(from_logits=True),\n",
    "             optimizer=optimizer,\n",
    "             metrics=['accuracy'])\n",
    "print(\"✅\")"
   ]
  },
  {
   "cell_type": "markdown",
   "id": "supported-enlargement",
   "metadata": {},
   "source": [
    "트레이닝    \n",
    "핏을 할 때, 콜백 함수를 사용해서 학습 중간중간 원하는 동작을 하도록 설정 가능.\n",
    "모델 재사용을 위해 콜백 함수 추가"
   ]
  },
  {
   "cell_type": "code",
   "execution_count": 21,
   "id": "continuing-found",
   "metadata": {},
   "outputs": [
    {
     "name": "stdout",
     "output_type": "stream",
     "text": [
      "✅\n"
     ]
    }
   ],
   "source": [
    "cp_callback = tf.keras.callbacks.ModelCheckpoint(checkpoint_dir,\n",
    "                                                 save_weights_only=True,\n",
    "                                                 monitor='val_loss',\n",
    "                                                 mode='auto',\n",
    "                                                 save_best_only=True,\n",
    "                                                 verbose=1)\n",
    "print(\"✅\")"
   ]
  },
  {
   "cell_type": "code",
   "execution_count": 22,
   "id": "unique-bradley",
   "metadata": {},
   "outputs": [
    {
     "name": "stdout",
     "output_type": "stream",
     "text": [
      "1423/1423 [==============================] - ETA: 0s - loss: 1.4371 - accuracy: 0.5190 ETA\n",
      "Epoch 00001: val_loss improved from inf to 1.01336, saving model to /home/aiffel-dj20/aiffel/speech_recognition/models/wav\n",
      "1423/1423 [==============================] - 148s 104ms/step - loss: 1.4371 - accuracy: 0.5190 - val_loss: 1.0134 - val_accuracy: 0.6877\n",
      "✅\n"
     ]
    }
   ],
   "source": [
    "# 배치 사이즈 32, 최대 에포크 10\n",
    "#30분 내외 소요 (메모리 사용량에 주의해 주세요.)\n",
    "history_wav = model_wav.fit(train_dataset, epochs=1, # max_epochs\n",
    "                    steps_per_epoch=len(train_wav) // batch_size,\n",
    "                    validation_data=test_dataset,\n",
    "                    validation_steps=len(test_wav) // batch_size,\n",
    "                    callbacks=[cp_callback]\n",
    "                    )\n",
    "print(\"✅\")"
   ]
  },
  {
   "cell_type": "markdown",
   "id": "scenic-blogger",
   "metadata": {},
   "source": [
    "# Step 5. 학습 후, 학습이 어떻게 진행됐는지 그래프로 출력"
   ]
  },
  {
   "cell_type": "markdown",
   "id": "foster-combine",
   "metadata": {},
   "source": [
    "- loss, accuracy를 그래프로 표현"
   ]
  },
  {
   "cell_type": "markdown",
   "id": "nervous-prescription",
   "metadata": {},
   "source": [
    "학습 결과 플롯    \n",
    "트레이닝 로스와 발리데이션 로스의 차이가 커지느 경우 오버피팅이 일어나는 것이기에 수정이 필요."
   ]
  },
  {
   "cell_type": "code",
   "execution_count": 23,
   "id": "angry-principal",
   "metadata": {},
   "outputs": [
    {
     "data": {
      "image/png": "[encoded data removed]",
      "text/plain": [
       "<Figure size 576x576 with 2 Axes>"
      ]
     },
     "metadata": {
      "needs_background": "light"
     },
     "output_type": "display_data"
    },
    {
     "name": "stdout",
     "output_type": "stream",
     "text": [
      "✅\n"
     ]
    }
   ],
   "source": [
    "import matplotlib.pyplot as plt\n",
    "\n",
    "acc = history_wav.history['accuracy']\n",
    "val_acc = history_wav.history['val_accuracy']\n",
    "\n",
    "loss=history_wav.history['loss']\n",
    "val_loss=history_wav.history['val_loss']\n",
    "\n",
    "epochs_range = range(len(acc))\n",
    "\n",
    "plt.figure(figsize=(8, 8))\n",
    "plt.subplot(1, 2, 1)\n",
    "plt.plot(epochs_range, acc, label='Training Accuracy')\n",
    "plt.plot(epochs_range, val_acc, label='Validation Accuracy')\n",
    "plt.legend(loc='lower right')\n",
    "plt.title('Training and Validation Accuracy')\n",
    "\n",
    "plt.subplot(1, 2, 2)\n",
    "plt.plot(epochs_range, loss, label='Training Loss')\n",
    "plt.plot(epochs_range, val_loss, label='Validation Loss')\n",
    "plt.legend(loc='upper right')\n",
    "plt.title('Training and Validation Loss')\n",
    "plt.show()\n",
    "print(\"✅\")"
   ]
  },
  {
   "cell_type": "markdown",
   "id": "western-catalog",
   "metadata": {},
   "source": [
    "테스트 데이터셋을 이용해서 모델의 성능을 평가.\n",
    "시험삼아 체크포인트 콜백 함수가 저장한 가중치를 다시 불러와서 테스트 준비."
   ]
  },
  {
   "cell_type": "markdown",
   "id": "dirty-basics",
   "metadata": {},
   "source": [
    "# Step 6. Test dataset을 이용해서 모델의 성능을 평가"
   ]
  },
  {
   "cell_type": "markdown",
   "id": "spare-cuisine",
   "metadata": {},
   "source": [
    "- 저장한 weight 불러오기\n",
    "- 모델의 예측값과 정답값이 얼마나 일치하는지 확인"
   ]
  },
  {
   "cell_type": "markdown",
   "id": "accredited-police",
   "metadata": {},
   "source": [
    "예측값과 실제 값이 얼마나 일치하는지 확인하기. "
   ]
  },
  {
   "cell_type": "code",
   "execution_count": 26,
   "id": "abandoned-skirt",
   "metadata": {},
   "outputs": [
    {
     "name": "stdout",
     "output_type": "stream",
     "text": [
      "✅\n"
     ]
    }
   ],
   "source": [
    "model_wav.load_weights(checkpoint_dir)\n",
    "print(\"✅\")"
   ]
  },
  {
   "cell_type": "code",
   "execution_count": 25,
   "id": "forced-stupid",
   "metadata": {},
   "outputs": [
    {
     "name": "stdout",
     "output_type": "stream",
     "text": [
      "159/159 [==============================] - 13s 79ms/step - loss: 1.0130 - accuracy: 0.6877\n",
      "✅\n"
     ]
    }
   ],
   "source": [
    "results = model_wav.evaluate(test_dataset)\n",
    "print(\"✅\")"
   ]
  },
  {
   "cell_type": "code",
   "execution_count": 28,
   "id": "looking-monster",
   "metadata": {},
   "outputs": [
    {
     "name": "stdout",
     "output_type": "stream",
     "text": [
      "loss value: 1.013\n",
      "accuracy value: 68.7673%\n",
      "✅\n"
     ]
    }
   ],
   "source": [
    "# loss\n",
    "print(\"loss value: {:.3f}\".format(results[0]))\n",
    "# accuracy\n",
    "print(\"accuracy value: {:.4f}%\".format(results[1]*100))\n",
    "print(\"✅\")"
   ]
  },
  {
   "cell_type": "markdown",
   "id": "local-variation",
   "metadata": {},
   "source": [
    "테스트 데이터셋을 골라 직접 들어보고 모델의 예측이 맞는지 확인."
   ]
  },
  {
   "cell_type": "code",
   "execution_count": 30,
   "id": "quantitative-projector",
   "metadata": {},
   "outputs": [
    {
     "name": "stdout",
     "output_type": "stream",
     "text": [
      "label :  yes\n"
     ]
    },
    {
     "data": {
      "text/html": [
       "\n",
       "                <audio  controls=\"controls\" >\n",
       "                    <source src=\"data:audio/wav;base64,UklGRqQ+AABXQVZFZm10IBAAAAABAAEAQB8AAIA+AAACABAAZGF0YYA+AAAAAP//AQAAAAAAAAAAAP//AAAAAAAAAAAAAP//AQAAAAAAAAD//wAAAAAAAP7//f8AAP//AAD+/wEAAQABAAEAAAABAAAAAAD////////+/wAAAQD//wAA/v8AAAAAAAABAAAA//8BAP//AAAAAP7/AAACAAEAAQABAAAAAAD/////AAABAP//AAAAAAEAAQAAAAEAAQAAAAAA///+/wAA//////7///8AAAEAAAACAAIAAQAAAAAAAAD///////8AAAAAAwAAAAUABQACAAEAAAAAAP//AAD8/wAA/////wIAAAABAAEAAAABAAAA//////v//f/6//j//P/7//7/AQAAAP////8AAAAA/v/9//v//f/+////AgAEAAUABwAIAAoABwAEAAUAAwADAAAAAwAEAAMABAAHAAcABQAGAAMAAQD9//v/9v/0//P/8f/x//D/9f/1//b/9P/1//X/9//3//f/9//7/wAAAgAJAA0AFQAZAB4AIAAiAB8AGgAbABMAEQAQAA0ADQASABEADQANAAsABQABAPv/8v/q/+D/1//S/8//yv/K/8z/zP/M/87/zf/Q/9L/1f/Y/9v/5P/v//n/BAASAB8AKwA5AEYAUABYAGEAaQBtAHIAcwBzAHIAbQBoAF8AVABBAC8AGQAAAOr/0f+4/5//h/9y/13/Tf9C/zf/L/8p/yv/L/83/0T/WP9w/4z/rf/S//j/HwBDAG0AkgC3ANgA8wAQASEBMgE8AUEBQgE+AS8BIQEKAeoAvwCRAFsAIgDi/6D/XP8X/9f+kf5b/if+Bf7o/d/94f3v/Q3+N/5z/rX+CP9g/8P/IQCIAOoASwGiAfUBNgJ3AqQCygLfAugC4QLIAqkCbQIvAssBaQHdAFgAs/8Q/1/+s/0V/YP8Dfyp+3L7VPtl+5P78/tm/P/8ov1d/g//0/+AADIB1QFvAvgCZAPWAxUEZgSFBLEErgSuBIoERQT8A30D7wJIAosBtADZ//b+AP4X/T78Xfu5+h76vPlx+YD5jvnv+XT6EPvp+7z8yP2o/sH/kAB8AT8C6wKLAxMEnAT7BGYFqQXjBQ4GFgb9BdcFcQUBBVAEmAOVAqwBhABw/2b+TP1u/JP78vpQ+hL6wfmz+dD5+/lM+rj6O/ux+1r8Bf2U/WH+Gv/A/4EALwHOAVsCEgNXAwAETwSrBAAFNAVzBV4FuQVGBUwF9wSCBPADTQOEAmkBzACa/7r+9P0T/W/8+Pt6+y/7IfsF+xH7Vftm+7n7HvxK/Lz8Nf2H/QT+qv71/qD/IAB/ABEBXgGuAfABKAIYAkUCLQL2ASMCuQHiAa4BtwHZAeMB/wE3AoACWALPAs8ClALGAqICCwLeAWUBiwA0AGn/av4w/uz8d/wm/C77/vok+5H65vpq+zL7DPzO/O/8//2y/gP/KgCpADAB8wH7AvICNASbBCkFcgXmBiQGDQZqB90FkQXQBXwE3AKRA0IB4//0/zP+v/wT/Wf7VvoL+735BPk++hr5L/l9+rv5S/qI+2P7/Ptj/Tb9K/41/0//UgD+AC0BKwLYAsEC+wMhBH4EJAWgBXwF8QV2BqcFWwa7BVQF4QSFBA4DnQKKAZ4At/93/l/9nPzd+/b6hfoL+lP6UPnr+Sr6s/nF+jb7//o+/Iz8AP22/Z3+if4AAOr/rABOAa4BSAIIA80DrAPuBMkE1wXWBZ0HawUzB1UHXAX0BYwFrQMwAyADPQA/ADT/N/1l/GT8Ofpg+in6GvmX+XH5JPnP+fD5SvoG+0/7z/uB/AP9l/2I/pv+pv85AMsAuQFtAiED3APVBOcE+AUgBiAHrgdoB20HsgebBjIGwAU9BFIDHwLdAEb/wf6w/OL7gvu1+rX5EvoN+aH53Pjy+Or5ZfmK+tn6H/sj/B39K/2//gr/sf94ADMBkAHbArsDuwMIBToFIQVoBpIGZwc9CIwHJAegBxQGpgWaBZED1wJIAhoA5v5T/jj8lPux+l35svh1+H73ofeC9//3MvgY+ar5JfqL+wf8vfyO/Sz+qf5LAOUAzQFwAvICqANyBD4FywW/BuQHPQhzCiQJSgirCqEHKwdRBy0EwgIvA/D/0P5h/hf8gvqd+sj4KviY+OP2G/cl9/n32vcF+Yf5+vlo+x781PzU/Vb+Xf9BAF0BIAGoAq4C+gMjBBQGHQYsCIwIFgvXDMkH5AxhCa8HIAi3BvECTAPAAIf9W/1E+y/4G/jC9170OPdK9fr0NfbG9ur23Phf+TH69vub/Fz9Xf5M/8D/NQFGAdwCpAJJBOwDUgYsBl8HwAqbCgcR/gkeDtcMZAltCmkJFAVgArACePu4/Br54PY99dj1gvK+89LzVvO78xb2kPUO+Nn5wfkY/OL8DP4//lEAeP9YAaMB6QIhA6kF2QSXCHEHEgw/C50Tog65DZEU/gdkDWAKVwafANwD1Pk5+qH5MfSv8xP0v/Ae8aH0qe/B9VX1DfZr+Fv7HvpL/h/+4/7Z/ygAaP/qADsA7gALArcBwgWfBuAIHg1cDloW4RAvEX0XhQpwEDMK+geB/pEAHvuu8nf5q+0N8N7vge2/7Zjyq++180T3d/WD+9r78/zh/wgATwDeAPsAOP97AWT/ZADlAkADcwj5BwoQTg/gHZMN6haQGiMHJxXRBwsFK/0fASLxaPSF83zo0O8l7Jfr0O5687/v0Pk6+Zf5xAG+/8f/ywRG/+P/aACT/Tv7wv4v+o/9r/9bBMgG6AuMFNsWAiVBDtskPxf2C8IWFQNCAZv3ifqX557vr+tE4pruIeky7cXxsPe89GX+ugDi+4cIpQAFAkgDJf74/P78Yfoc+Kr8tfobAlUHnwnZFPAX0S0sFvIeXyrOA5wXXAag+dDzY/Lv5Y3fge0w2y7nWO/Q6vL1xv9M/aP/og/XAFQE+w1j+Yj/Mf5J8W/zfPaO7tL1NPxq+1AK0hC4F8Ui6TXfL10bQjM7FqP/tA3H7ofgV+XW3VbS5OFO55PfLfud/A38eRAyBL8MygsbBBsCb/x++PHse/Nh6uns3vGL8kP/oAdBEjMafitfMRFHVB6ZJ8Ato+tSB6Pqr9XG1MzYYtTs05T0TOp0+4oTEA6KFYoczgH6DQAAYuvU9Cbla+M95Bzte+qh9Cf/LQOaE+0elCAHM70zKkreKuEGPzIr4SviIO8ExFbPCNgL5mrerQKaDUgDtSM7HL4IJxVFAZbv8O5u5xPbTeMv6o7l7vRxAFX/nQr7FDYbzR08J6Y0rDCAT37//Ai/Hlq7LeP14IjCFNNQ7zP4DPPeHrwfAQ4tKWMSSvw+7qrm7deyzc3lvNpq7WL/WfyZC/cP8xIREP4jAxzeH/QwhjXFPl3ijRl2A+qvVfPr2EHPKeJuAqoI7v0/K5gbEwPeF4T0bulr5UTVEdyz4GHpx/LWAmgHKAYWDhAMcQqcGawTLxvtK7g0GUfYBLb6TRfbx5HO7udw1cLYB/sKGbcGah0DL+AFy/gL/PXeysyT1/LgF95R800GTQezCZcQpQeEB4IPzRKlDIUiDCVNRNBGNNTEHr0DxakU5HbkkNub3b0VxiNYBFwndCdi8XTluu2F0kjCYuZU7tfwjwWCGFYMWgaKDF7/VAH5DtAJshRpLPA9NVRc8LMD5RjzsD7NJeOA2vzdlAaxL24XPBqxMGz/otPH46fVI7hf2nH3wPnZA4Ui4RcHAcsEfQBU+vAF4g3rFjww70fiYIbm5v+QGU6hVL+m5arj5dujEGlCpB3AFQkwifkMxsrPlNNAwG7VngntDUMHECY3HF76APPv/K33DgS9EmspAUDnYeA1yNfhFsraGZ44y4bn2ey371I5IETCF+kfSxZr0jGxD8uTyKTDLvt4HrAWCRgaJwUGVOcS7bj6//hMBEQfCzu/P0NiQR+R1TYOAsRGpqzXYvDp9pIHxUK7PNkNaBbP/vi+eblNx/nVveDkBQ8pzxjXFFYVHPdl5FjoivmQARsMCzNPQfJYK0ku5BrqH+4IpmO2fPBPBF8EAyySUJElRgG4A2Tbd63hszLXjOeO9v0lpjBKETAJTwEa5JrVEe8dB8oHOx1sRH1O/F8DKs7EfeRV1CqYncvkCXgY5xcoQmBPuA6U7qjrk8Xqpj3DZu3f+DgQzjNIJrwC7/1Y7vDVGdmJ/oENKBLVMcNLjExPXD8FoqZz5ynATpiJ5sQmvCiZI3dNykCd89jY4NGktHe8gNZZAvkWxxivLJkWuvbn6XbcZN3P3ykEYxdqHTEuz0qmTKNzfgABgAHwcr4BlNLjszlGPeAadUz1QVPqlsnazRnEfbo31OYYMBUfFIgr+xZ+8I7ixeMA2iDgIQJ3GtMecCTIO8RGdESGKyC/wKzT4WO/tsrvGUtDli9SJl8zJgu70FXBNM7e00zRx/9TKzMT9Q3vFg79I9oq4KHnEOY980kPQR9rHzkfLiyJPGA911GTrE6bxgZmuzvDvBVfUdkuzxQfM8AQU8ezvlHVlujk1pD7Ey+EFSYHiAW99hTd19lu7h3yfvfeDf0XaxQrF4UgpCkMLRZG4CXSlDbN5wKcu3DdSS2YTA8ZLhTRJTDy8sByzSLlEPWp6I4K+icuB4P5l/EK6lLieeUh+EIAyAAqC8wIHQbiES4ZcRt2NFVBOTvx5xOowOvW4KjGxgC1PIM1fBBVG7cP5t60xJfXffAT97D5ExIhGC/+n/bP7RvkhOYj7QX81ATpBWsGHALi/mIHmBeKHyorsjuFPUEa7buHu83vr9JM4kwiiUZrLWkOFRE09gjN1cWC31b2BQBLEtUcUhLS+PzgQNlL44XoGPQKCcAOMgxPAi77bvj/ALkUgiYHKsg1Aj0uJnbXWa5M32rjQeESEWg/+zSLE+cHn/al0xfFBNu8+PsIOBXrH8cWEv4l5mTWns2p5oz5FAbyGLYV1gho9wPvc/F89lQMFyUaMs415TepNNIFdrTisXHk5ecT980pXklsKq4Fnfca5YvLVMhc6JsI+xTOG9ggMw3Z88XfP9aj2a3qIgBRDvQRkQrY/vTyoO2I8cwB5Q7vGnkmOyoDI58szx6T2WC3itRi95b0FA/jON4tVQv48mjtAN++zivltAgpF6cWPRc6Ekn8iuWI39/hp+jI9gsF1BE3C6H+vfgc8vXsrfH2ADYPjRD7E+wc9h9+GaAkFylB7ezDAdeS76LxLAGiJwozYRfaATH0sOGc2m7dM/neELkSvxbrFIkFa+6D4Mnjyerw8Qv+mwoYDVcFh/ol9bfyUvMj+54G9g0vD1EKMhH6E6YLVBdbI2oHL+Wj6nvxVvES+l0TPhqfERML7/sf9e3pyejc8mP/lAqvC3MLoAYb+hHzSfAQ8qTznPUW/uj/pf8s/WH8Zfz299r54QBHAez/rAJoAwwBgv+TBOwNrRTGGrYn9iZOA7XroeW32prnXfg2D14h2hgnEEcBPvAE5friuO3L/tYKzgxJDxMM9vyx8uDtivGy8kD0RAHQAMMAkwCt/bn7Hvc/+hH+Iv/+BRwJogl4DeQTaB6lIAUiohUJ4OnBquKd9X76xRDnKlQoOgZ48s/sc+JQ3inv6wmrFf0SnBD0CFb77e1A7Kvzhfly/mkEngo+CQ0Cn/vx+L71nvKw9dn7cgGVApkCVQEy/Cv6zvv0/V4CNwZaDB0SWRYsFsANkQkR/mHt0+cC8oUCFwphDgkPXAga/nf15fRf9e33lwHZBqoG2ASQ/zD7R/mT+N779/+mAXoDdQEc+6z4dPmC+f37CgKYBLMCmAOC/sn1mPXa+hL+WP+yBQwHDAR6AZf+vf10/Yf/4QKIBOIF/wTRAcQBrgO7B/sKHggSCDoGq/7V+l30HPel/4kBTAX8BTQEqQBr+R74Tfhc+lQAiQJOBjUF5QFx/hb3yfcz+Dv5av8KA8YFSv63+Rn9k/fa9zb93v/gBEYClv62AL//l/6a/sf/fAM0BMMF/QiQCI4JFwcqBX0Cavwx/fr9xgCZAqQDoQT8ANz/+P0O/FD9Vv7Y/nn+Ev+jAFQA8P2G/zMByf1q/Tz+Wv19+sv5u/3rAF0AuQCcAScBJf74+pf8I/xs/C4AnAJAAioBqPxU/CwAqP5NAN4DDwWgBBAEPAXxBLwFdAVTAzgCxv2g/60B2P+GApIC1QNTATf9EP+k+hH4wP1yATwBif9//4MAkfxI/Cj/zf3d/Vb/PgCi/vv96fvR/Nr8Nfzb/gYAtgFoALv/2wDFABgCYAI4AioGdQa0BX4KfQp+AdL7Zvtu/BL+iv+SA2kHPQZWAVz8ofra/H77I/wgAYoC2gHa/wIBDQL5/J36cfxN/6n/8Pu1/pkBwv+L/vP8+v56AGr/rf0a/zQC5AAf/7H/GQKCAMH9zgBcBcQDrv++AakFCgNg/qQBYQUiBK4B7QIjBDb+DPzg/c3+kP77/UUBZwIP/D35AvsH/Cr9Aft/+8X97/50/5P6wfmm/kv8Dfw4/dv9VgEe/rD9YgPoAe7/RAHyAA8CCgC3AzAIcgPSAIwCKwQ/BM//M/5UALz8XP4oAUcB2AJbANT//v9t/ZL9UfvD+ycAfADvANL+GP8d/yD5NPoX/y4AUv57/an/8/6k/bP+Q/9D/9gAqQEYAZr+bP+/AjsBF/7t/eQAuQKwAYz/sv6q/Rr9pP70AIcCNAEsAL4CvgJX/lb6Hfz3/gYAaQHVAVIA3f9NAaAAHgDU/a0ABQO//8/+wPwF/egAbQDYADMD8f4cAlkDDAFAAfn8xQFxA3kBPAJ+ARgFeQbWBZwIHgdXCLoNBwsFCdsIQwm9BkABegQOA2L9z/5l/wz/yPxi/ScA0/0n/C3/pwAi/CT7bwE9BBv+vf71A5wDPv88+o78HP3q+Nz4b/o+/UUA0v36+n/4hvqS/p77ZvsE/30ARv8F/Ir9/P9g/sj+Ev4U/mX9pPdF9i34DvUb8ETuXPLz9Xz0J/VZ+dH/7wNXBPEFaga0A2cEzgTSAjkCrwQCCBEHnQbuBnkFRQQzBNMDgAPIBI0GegcJCDAGaAUrBB0Br/8kAD4FNga6ACr+5QEJBsgDXgGVBBQEggAAAYAAJgGyARH/iQDGBLkH9gX0AY4DFgSgAL374vqeAZYF/gRTA84CKASmATP82/mq+Tb7DAC0AkcE0AZuBZgAiPsG+339HvtX+Lb82QIwBkMDvwDyAT8A3P0m+rT4v/zs/mX92f7jAjkGQwOj/lT8Fvyw+5v5OPne/GMC7wAPAH7/uf/1++r3jfqx/Dn/5f70/hkBBQLHAEQAI/8WAXwBNgDu/1L+EgD6/4D/PACNAZkAJwCm/kz/c/+9+5j8Ff4TAtQB3v0P/gL/+/67/9/+KP9V/1z/s/9u/1MA4/+H//z+lf6d/YD+kv2Q/+//aQCPAfT/iwDS/g//G//N/wAAxAErAecBjgI3AAwBawDRApEC8wF+AqwB0gGuAdH/Ov/m/83+3//l//H/ngADASEAkP9r/8v+9f4vAGP/mP9RARoA0AAd/13/IgB4/23/yv5N/+7+8P9C/rf/awDz/2MBPACa/3r+SAAb/3P+hf64/rz+bP6W/zL/j//x/0AACQAu/67/wP+N/+QAwADkAFcA1gBk/rn+WgHt/+X+9v5bARQAoP+R//r+iACc/5L+S/1B/pb+cv4GACsAr/7//UUA+v57/8X/2f82AdH+ogDN/7f/WwC4AMwCngCqAMMCHwI3Aj4Bvf/pANIB9QDdAVgC9ABKAt3/dwHLAHT/JwEC/7f/nQCp/mT/c//N/7UAmf88ATb/qABCASn/wf/t/+f/eAAh//7/BQF9/w7/PP/Q/2r/5wADABgAfwAQAub/D/9SAYj+dv+wACUA3P+n/l0AqQFQ/0sAcACQ/t7/YwAUAcb+9wCpAAT/DAFB/qMASgBZAFUBsgB3/4v/gQH9/zMATQDy/jEAev9s/3EAuACk/3kADP8zABQCBf+EADIAwQD1/1gAUwETAV8AaP7b/+cBvQH1/q//wwBr/v//YwFMAFH/awAs/7cA/f8oAAwB5v+LAf7/4P8nAI4AewByADX/HwDmAHkB7AC5AGEAHQDW/2MAYwDh/78Apf8kAQgAYv+o/xz/1/9t/q//+wCX/fz+Tv9C/xoAqf9a/47+RP6E/yEAdv9iAej9of43/6X+ngAMACr/tQBgADX/3P4y/mj/vv4VAKj+vgG4APT/XAG//iUBpgCI/sn/lwBP/hH/mP61/4cAfP8mAeH+VP/BABEAdQAgAI7/i/9UAIwBmACs/2YAkgD8AJn+BwFl/zj/Nf8rAD0BAABzAeP+yQABAZUC1v+uADgAPgD2/zIAcQD7/cYAJP6wAOn/qQDc/2QAQACF/ykBWf55AKf+e/+c/1z9Yf9a/zL/WwDu/ygBfgHS/kn/uf8w/xwAHv8eAEz/2v4wAHn/gwBr/0j+bgFp/m3+OAJ5ABoCMP8m/j4BSwCGACAB5gDcAI3/0/+3ABMBjQB2AEcAAgFOAVsBLADA/3IBxP+VADwBHAJLAAL/ewJ8AYz/zAEFAQYA6gEiAXoCvgDt/+kBUwB4/xH/hgDJAFr/Q/9kANz+6v26/oL/F/8m/+X/yP8CAEAAif+z/iX/8f+XAKn+twA4/5z+3gBc/0sAzgBnABAAKv4kAO8AIP92AHz/EgA3AYH/nv/3AET+Q//K/wX/MQCV/8UAmv/g/+cA4v1k/9H/Tf+1AGv/iwAa/w4AigBiAC8AAgAzAI4Aff/8/7QBCgDm/73+tAAx//3+pwCn/57+fQEyAHoBKAFx/50Ba/4uAPj+/P/1/lH/gwCz/w8BZQDn/27/4v9PADcAHQAxANz/GAHL/1gAFgCiAAsBsQCeALr/B//y/woC1f9W/7MA9ABfAF8AWwAPAeT/mv44/xT/if9gAIb/1AAZ/1j/RgGB/mj/ff+KAE8AaP9A/5AAwgBD/00B2gBNADr+nf6mAGv/OAA3/4cALAAo/yoB5/8D/9L+lv8JAPwAGv/S/mn/TgB0AJAApQDy/ub/3f8QAGT/zP8kADQARv/NAMH/Xv7D/3v/sv8V/8D/UQAdAXf/YP8r/3P+9P8J/3f/4P9j/7L/tf8jAC8AkP9hAYcAuv+DALv/fQB4AKL+//+8AHL/TQDyAAwBOQEBAYIAOQB1/jQAZgCc/xQAbgC2ABAAqf/hAAMArP91Acv/2gBEAEn/Bf+g/zEAcwAjAdQAYf8l/0z/8v7L/93/dQDX/xoAmgCwAMT/1v/cAOoAzgCv/tkADAHK/nQAxP7GAKoAPwHIAGr/egBy/mMAYP85AP3/OwBhAGf/fgCZALoB+/48AOcAdP8JAPD/kgBUAHUACAC7AMMA2v4aAJMAaQBO/xQAAgFc/0YAIQCFALL/UwBWACwAsf6U/1cAWP9MAbkAagBe/18AWf+T/1YAKwAOAMH/hAA//4QA5f8H/3b/fv8mAQAAXP8R/+z+GgBJ/xT/qAAiANz+FQB//m3/RgC+/yAAbgDzAbv/u/84AD0A8v+qAAz/if8VAfX/+P8AAHgA0f6Y/wIApACR/0D/R/8zAFX/6wBrADj+mQCR/ggBAf8pAPT/rP9mAhr/SP/A/3wAAgDz/+v/EQAIAd7/T/+8ALD/AADi/1L+pgBZAPf/RgARAHYBEwD1/+cA4//5AKr/m/+rAA//NQHFAB4Az/+O/13/pAAKAEkAkf/H/RkACADrAaP/l/7q/oX+JwCEAKYAif9s/8gABf9AAP//Ev9gAJP/fADY/8UAqv+AADoAPQAI/4X/bQC4/tUA+f+EAUz/GACx/r//QQElAD8APf9GAMcAvgB3/x0Bzv/7/1P/hwDuADgA0/9nANAAhQCIAMf/SACy/1sAQwCDAAsAAwB3AA8AVv/M/7gA+gA9ALz/Df8iAA0Ao/8n/x4AZAGX/0j/T/9HAF7+MwB5APX+8//O/2L/BP/c//r/cP+2/8v/CACjAGcApwBG/nX/FwCh/1QA8v/h//D/ZQCH/8X/df/a/20AQQCQALYAUwCiADUAUACf/zn/hQDH/wgBtv9CAQcBSP/W/7z+BgEVAZn/Q//0/9EA+//qAEYABwDs/0P/lAHz/ssBEADL/6cBQP+OADQAtwBu/5sA6/9VAF7/+wDeACP/wADp/jYBnABc/yEA/v/i/0gAuP9NAYz/gv/+AIb/RgBd/zIAFP+x/2z/qv+L/yIA/gD1/y3/lf9JAFz/H/8M//r/mf9eAC0AJQDd/2X/b//P/sz/3QB5ALf/ov8EAGD/BQDN////CP8YAb4AC/9r/8z/owG2/3MAS////30AO//e/5UA6P9lAGf/IQApAPwAKAEj/koAGwDF/yAA0wANAKb/1P+d//3/8//e//3//P6i/1/+Df91AI//0v9z/1gACwBxAGP/+v+s/qsADgDy/toAYf/t/9n+HQC2/0wAu/90AKj/2v/cAO7/CQGJ/wH/gf8tAbj/0P/x/1wACQEjAJoAtf/K/1EAdP/L/9P/zP8XAQL/igADAcUAbwCd/n4Bi/8VAPb/dv/KAJL/1/8rAOb/EwD3/m3+jAGp/7r/ZwAMAJQAnQDDACL/PABfAMoARgAuAGwAQQCaAKIA0/+Z/zMB2f/f/8n+cgDaAG7/v/+X/9cAuv+n/8MAVgC0/3MABQCZ/7T/swBeAAwAOAACANwAJP/h/l0AngDCABkBev/p/t//5f9tAFD/ugD/ALD++f/q/1H/oQAKACIA1P8lAJP//P4VAHb/aQDr/3YAfv/y/zX/x/4QAf//KwBM/6YAYACTAAoAsf+tANj/df/P/mv/ZQC8AHcAyv/4/jUBgv8eALAAHQCQAAwAz/9M/2gARADw/+/+0gAUAMj/GQBN/y8BiwAjABAAEf/m/1sAj/8u/4X/CgGrABYADADQ/2YAc/8zAF4ATP9KABUA1f99/6P/1P+EAEwAzABMAJ/+lAAXAYwAff6h/00AnP/3/8f/tf8PAGX/Vv9OAIQAEwDs/6IAdAC+/2T/MwCs/wAAOP8bALb/fP8d/xn/rQFDAH7+HP/n/5YA0QHx/y///P/N/3j/dP/i/xX+PQFSAEgAFwAP/1EBef8k/qT+rgAK/24AaQDTAPf+iwCgAHT+ff9LANsAb/8IACP/DgEe/3cAGwBQAA0Aef/AAVH+eADTAEX/p/9YAJv/QQGPAEoAyABG/2j/Tv8OAEAA2QAqAB4Aev+V/5L/kABPAJkAugBUAC7/Xf+T/3MAXwDx/tkBiP9xAKcBdv8pAb/+ZgBiAR4AfgHc/br/0wBuAFABev/a/9oA8v8iAPL/tf9rAIIAPADRAPH/p//CAC4AUADN/2UAHgCe/5QAOwDuAIkAPP8B/18An/9WAD4Bc/9FAPD/0wAM/43/TABlAF8ArP+F/5H/rwAb/4EAk/9DAKUAhP9u/8T+ZADr/0AAJv/r/igApQAAAE7/vQBOAA8ArP+E/+L/7f83AEsAfgA0/sL+8/9h/5EAuv+t/x8Afv9y/4v/xP9hAOf/sgB/AM7/8f8F/8kAQv/j/+wAY//7//n/jP/F/9AAMv9HAFP/NQDLAPv/Tv8PANYAnf/N/5H/jgCd/0YAeP72/4MAo/2O/58AJgAKAAD/MwCd/64AGACy/pABWf/uADEA8wDk/9P82P+8AA8B1ABAADz/8QBW/6v/PACO//z/fv86AQ8B9f84/2YASQA9ABQAfwBUAEH/+v82AB8A7f+L/7wA5wBiAHD+g/9fAKcAYgD0/zwBcf8LAHD/ewD8/4AAVwDgAE7/1v7yALoA3//S/xn/IACRAXf+IwGo/30Aw/9Q/+gAIQCAAGkA6/8kADwAe/8dAKL/0f+JAPEAg/+9/tz/ogBf/1oA5f/MABQAOQC/ANv+k/49/woBmwA5ADX/KACv/53/g////5gAAQA/AB7/p/6C/2QA2QAxAJD/gQAAAFUAHgCJ/j0ANgDS/0sApABTADcAUwD1/or/RAAZAJf/ogCfAGsAMf84AJMAyv/q//X/hf8JAPoBIgCkAMP+cACfAM7+rf/J/6QAdQB4AKP+O/83AIUBtf9h/1X/JwCoAHD/FgD7/xEAqP4fAa//QACu/zoAcwCv/n8AQv/v/wEAkgD1/6AAUf6C//EBpwA8AdP9n/89AEL/2QDk/47/p//kAEUAov9v/78AKwAsAHIARP/o/3cASf9M/h0ANP+FAFkAy/+4AP7/4v9QAOX/QgBi/2wAKgB8/20BSf+c/xH/kQBNAG8ALgEaAF//sP5EAOsAXAF9/67/0f+PAfwA3f5FAJn/z/86AWwAWv+uADYAWgAKALn+3P+W/5r/EAGeAMf/hwD8/1oB3QAiAIsAT/6S/6cA0QC3/5z+k/9hAcD/Wv8zAKn/7QD5/yAAOwDL/yIAAgCYACABTP9q/7cA+P8kAPv/X//N/04Aw/+LAE0AEABGAJT/rv8zAMv/MQCFAJ4Ae/9Z/87/z//mANb/rwC2/h8A+v9TABsBkv59/woArf+GADX/Uf8RAff+7f+8/b0Anf9k/owBfP8lABkAjf8RAPD/RwDwABP+tf/J/3r+5P9G/+T/NABd/6L/8v/b/0MACQC0/03/X/4l/+T/hv+7/5r/awBA/xr/iwDiAHAAOf4kAHT/eADaAG//tgFJ/lX/4P8nACsAbv84ABgBbf8oACYCfv7Z/5L/GQCKAeP/ggASAZz/VQCTACQA8ABkAPD/+gCL/4//TACwAOAAWQCDAAkAov+aAJAALAAOACgAXwBmACAAg//aAez/AgGd/tT/7gCp/l0AgABDAPX/JAJnAIMA5AD4AHIA+v/G/4r/bv9AAF4A2f/N/+f/1f/F/zsA4//h/yoAVQA7AH0AQf/vACn/+v6CAC8AAQBk/xkA6f9A/8P/PgH5/gD/egAKAbL/P/+i/03/5f+z//L/9P+qACb/Jv92/8f+gABQ/7f/GQBl/8UAngAuAN//iQD2/3/+FwAB/4IAEgDx/hQAAwBXAAv/G//4/i8BkgDyAb7+Zf9rASz/OwCJALEALQHHAST/4v/h/5IAlwAQ/4T/vgDd//D/of+T/xIAOAD0AOUAiQB7/vb/3AB/APMAY//p/uf/RwDiACAA8v5q/4v/vwHwAXD+BP83AB8AEQB8AJD/XADm/1z+pgCuAFL/4/7v//sA9f4Z/+gAt/92AMgAEQHB/8f+5ABCAZ4AYQDp/kL94P9cACb/Df+//lkAKf/g/kgBHwEt/wQAUQFsAXkAiP+/AMYABADq/lMAmAL//8X9ev8BAU8CY/+I/gwAFAGTAUL/7/35/o8BAAG4/yv+MP9sAJP/uP49/5UAxv8E/vj+HAJCAfgA5P+6/kUAuwCtAGMAqACz/7b/JgAw//T+NP/4/wf/Sv8fABsAHAAO/8D/EwDn/8sAxv9w/5cAwAA8AFX/N/+T/yYAgADAACoAsf/m/rv9mP6KAB0AeP86/1z/8QAlAOr/FAACAGkAfQCKAFIA/v8LANoA/wCcAEQAHAA7ALQABwHoACAAEwAPABcAwQCPACMAi//Z//wAvADe/2EA2QBjAGf/Dv98/9r/s/+7//b/WgAHAM3+M/6r/Xf/SwDp/m/+yf7e/3f/cP6z/oH+vf7y/pr+vf75/jT/Gf9M/6n/7v/z/+H/of97/7D/RAAyABEApf9JACwA7/+EAAQA5QAjAaYAtP+u/+D/4f8TAAMARf+M/8//Qv+u/sv9IP7W/Sv+Jf7+/fv9BP4s/gL+Ef6H/Ub91Pwf/bz9+PwS/Lb78Psf/Db8Y/xp/ED8GPwM/IX75foC+5f83/6bAEoCUwNMAxQD7gJVA8EEnQZGCa8LyQ1jD+wPoA9gDtENxQ2vDsEODQ6ODe8MkwyHCzQKjAjOBroFXgQ/AsUAAgAE/xv+k/20/eX93v0V/uz9m/1g/Vr9g/3W/Wn9AP2o/Hf8gPx0/On82Pw+/PX7SfyZ/IL8QPyE/MX8/vzy/C39sf25/a79av3U/er9av0H/Sj9YP1b/Vv9IP0s/e38wvyH/A78vPuQ+3j7Ufve+o76Hfuz/HL+Wf+Z/yX/gv6b/Zn8RPx0/L38xPzU/D/9o/0E/kT+Zf56/vH+nv8nAH0AZQCsAB8BSgFbAd4AfQBOAOz/zv+b/4b/sf/L/8z/pv+y/yIAVgCiAPkAEQH7AOsA9wD3APQA+wC2AEEAegDaANkAqACEAJ0A8wBaAY8BPQEgAVMBYgFdAQMB5gDGAEkA9P/N/4v/Rv8p///+Bf9k/3D/IP8V/xb/HP9V/3//e/+L/7T/0/8LADMAOABCAHgAkQBxAGUATgBLAGYAlACuAJQAYwBKAHgAuADLANgA7wDgAM0A2wASAU8BZgF9AaUBqgG9AcMBigGEAcIB+gH4AesB8AHvAcUBqAGKASUBygCGAEQA5f9i/+j+uv7e/uT+s/5C/vH9J/52/oj+cf6B/p3+p/60/qL+gv6V/sf+2v7a/vD+Av8E/yr/Tf9M/1b/T/9I/z7/Uv92/3n/iv+I/37/b/9s/2n/av+J/6v/t/+4/7D/mf+x/9j/6v8DAP//+/8BAOb/u/++//b//f8AABYACgDv/8//5P8lAFQAbwBeAE0AVwCHAMUA1QDTAMoAywDhANkAygDoACUBdgGDAVIBJQEdATQBKgEPAdsAngCEAIwAigB8AIcArgC0AI8AYgAsAB4AJAAhAA0A/f/h/8D/xf/U/87/xf/N/8v/3//+/xwAUAB5AK8AzADKAMYA0AAVAWwBwgHaAdABAgIaAgwC6AGwAYsBhgGoAYIBQAEZAQEB9QDXAKQAWwA3ABMA2f+K/1//S/8t/xr/9v7K/qz+sP6p/oT+if6b/rL+2f7y/hD/Mv9c/33/iv9+/4z/tv/e//P/9v/4//X//f//////9P/m/+L/4v/f/9H/tv+f/6H/lf9u/zX/Dv8b/zn/VP9W/zn/Ff8S/xz/DP/1/uX+Af8h/0f/e/+O/5X/iv9+/4f/l/+2/7X/qv+t/6f/nP+R/33/Wf8n/wT/9P7b/uL+Af8j/0v/dv+f/7n/zf/P/7//t//O/wMAOgBaAG0AhQC7AOoAAAEZATIBWAF8AZkBvwHsARcCKgITAuwB7wELAh4CBwLQAakBmQGaAYkBXgEwAREB7wDEAK8AqACJAHEAXwBJAFIASwAxAA4AAAD4/+//2/+6/7D/tP/J/9n/uf+Q/4D/fv+E/4D/iv+T/6f/vf+3/63/oP+T/33/f/+I/43/lv+c/6P/jf9h/0f/Tv9s/4f/if+J/6H/w//X/97/2P/r/w0ADgDt/9z/8f8dAD4ANwAbAA8AKABTAGQARQA1ADYARgBXAFAAQgAjAAoACAARAAgA/v/y/+T/9P/y/9L/sf+q/8b/zP/A/77/yf/S/8f/vf+n/5//nf+T/47/d/98/4b/jv+d/5r/k/+B/2v/aP9e/2H/bf97/33/g/+g/6H/qf+j/5f/n/+w/77/2v/y//L//P/5//n/AAAAAPX/1f/A/8X/2P/g/9z/3//o//H/9f/0//T/+v8LAB4ALwBJAGIAdwB+AIMAiwCJAIEAbwBpAGkAaABoAGIAagB8AH4AcABkAF8AXgBUAEYAOQA4ADAAGgARABgAIgAmADwAQwBBAE4AUAA+ACwAMQAnAB8AHgAZABgADwADAPH/0v+u/5b/kP+P/6L/vv/J/87/1//T/8b/wf/F/77/t/+6/7P/qv+u/63/rP+t/6n/q/+Z/4H/cP9l/2T/bP9//5L/oP+g/5j/iv99/3f/ef9//4X/jP+W/6P/q/+3/7z/vf+8/8H/1//u//3/AAD//wEABgAJABIAGQAfACAAFQALAAEADAAlADkAPwAtACkAGAAEAAIABwAdADcASwBAADcAMAAqACsANAA8AEgAWgBpAHYAbwBoAGAAUQBMAE0AWwBsAHIAgACBAHkAagBXAEwAQwA2ACcAIgAfACYALgAxADgAOQA7ADcAOgA3ADUANgAzADcAPABEAEAARwA9ADoAOQAwADAALwBAAEMASgBZAEwANwArAB4AGQAkABgADAAOAAoABwAEAAEA9f/s/+3/5v/b/9T/zP/M/9H/0v/O/9b/5v/a/9D/0v+//7b/v/+8/77/yP/H/8f/zP/E/7r/uv+//8H/xP/M/9D/1//a/9f/3P/l/+T/6P/t/+r/7f/2//v//v8KABYAGQAWAAsAAgDz/9n/0v/W/+j//f8AAAMAAQAAAAAA9//t/+3/9f8AAAQADgASABYAIgAWABAAEgAPABUAFgAZACIAMQA8ADIALwAnABIADgAIAP3/+/8EAAMACAAdACUAIQAWABEAAgD8/wEA//8EABMAGwAdAB8AHgAVABEAFAAHAPz/BQADAAcAEgAeADMAOwBBADgAKgAfABkADQAPAA8ADwASABEAEQAIAAYA8v/u/+T/0f/L/9X/2//V/+z/7v/k/+D/2v/S/9f/3//g/+T/6v/p/+D/5f/x//j/AAAAAAEA///9//v/9P/4//b/+/8AAAAA/////wAA+//5//3/AAD///n/9/////3/AAAEAAMA+f/7/wEAAAAAAPz//P/5//r/8v/q/+j/7f/0//3/AAAAAP///v8GAAMAAAAAAAUACQACAAIABwAPABQAHgAeAB0AGwARABEABQABAAAAAAADAAkACwARABcAFAAWAA0ADgADAAAAAwABAAgACgAUABsAGAASAAsAAAD3/+3/5f/s/+P/6//7//7//P/6/wAA/v/6//b/7P/f/+r/5f/c/+L/3f/e/+H/5P/c/9f/1//W/9H/0//T/9T/2//b/+H/4f/k/+X/4f/m/+H/2v/g/+P/5P/m//H/8//y//7/AwAGABEAFwAXABgAHgAcABkAHgAgACEAHwAiABsAFQAUAAsAAwAAAAEAAQABAAAAAQABAAQA+v/5//7/9f/8////AQD//wIACQAIAAoACwAHAAkACwAKAA0ADgAVABMAFgAfABoAFgAXABYAEQARAA4ADwASABUAFAAWAB4AHQAcACAAHgAPABMAEQAIAAsAEQAWAA0AGAAaABUAGgARAAcAAAAAAPj/+P/+/wAA/f8GAAcAAAD8//P/7v/d/+f/5//u//f/+/8AAPr/AQD5//L/7P/s/+b/4v/o/+z/7P/y//j/7f/w/+n/6P/g/9//4//d/+j/7f/1//3//v/+/wEA+v/5//n/+/8AAAMACwAPABEADQAPAA8ACQAFAAYAAgADAAsABgACAAIABAAAAAAA9//3/+//6f/t/+L/6f/t/+//7f/q/+r/6v/n/+z/6f/s//b/9f8AAP7/BwAKAAgADQAJAAsACQAMAA4AEgAXAB0AHwAiACQAIAAfABYAFAATABIADwAUABcAGQAgABsAGgATABIACwAHAAcAAwAGAAsADAAOABAADwAUAAwACgAGAAAA/f/6//n/+P/8////AQACAAIAAAD9//P/6f/k/+L/5v/t//T//f8AAAIAAgAAAP3/9v/w/+n/6f/w//b//P8FAAYABgAHAAMA///6//n/7//u//D/9v/9/wEABAAEAAgABAAAAPv/+f/v/+z/8v/4//7/AgAJAAgADAAIAAAA+//3//H/6f/t/+7/8v/4//3//f/7//n/8v/u/+j/5//j/+f/7v/2//3/AgAJABAAEAAOAAwABQAEAAAACAARABoAJgAwADYANwA0ACkAIQAZABQADAAPABcAGQAjACcAKAAiABsAEAACAP//9//y//n//v8BAAgADAAOAAkAAgD///f/7//r//D/8//5/wAAAgAHAAoABwAAAAAA+//y//H/7v/r//L/+P/8/wIAAwACAAIA/f/2/+3/5P/g/+T/6v/w//z/AAABAAYAAQD5/+//5f/k/+X/6v/w//z/AAAAAAYAAAD///z/8v/p/+v/6//w//n//f8BAAUABAAAAAAA9//t/+v/6P/o/+///P8AAAIAAQAAAP3/8v/t/+f/5f/t//L/AAAGAA8AEAAJAAoAAAD//wAA//8HAA8AGgAnACkAKwAmACAAHAASABMADgATABsAHQAnACYAJAAjABcADAAFAP7//v8AAAAAAgAHAA4ADAAMAAYAAAD+//T/8//z//X//f8EAAYACgANAAoAAwD///n/7f/t//H/+f///wUADQASAAwACQABAPX/8v/k/+v/6//x////AwAPAAwAAwD///H/6f/i/9n/5P/r//T/AAAAAAAAAAD7//X/6f/l/+D/3//v/+///P8AAAAABQAAAP7/8P/t/+v/7f/z//r/AAABAAgABQAAAP3/9v/0//L/9v/9////BQAJAAkAAwD+//j/9//4//f///8CAAgAEAAQAA0ACQACAAAAAAD//wUADwATABwAIAAfABgAFQAQAAgACQAFAAkAEwAXAB0AHgAbABkAEwAOAAMAAgADAAEACQALAA8AEQAOAA0ACAACAAAAAAD/////AAAAAAQABgAIAAYABgAAAAEAAQAAAAAA/f8AAAAAAAAAAAAAAAACAAQAAAAAAAAA+//2//b/8//y//j/+/8AAP////8AAPj/9P/p/+b/4//n/+7/7f/5//r/+v/8//X/7f/p/+L/4v/m/+n/8f/y//v//P/7//f/9P/0/+v/7//u//H/+//8/wAAAAAAAP///f/+//v/+v///wIAAAAGAAQAAwAGAAMAAQAAAAAAAAAEAAYACgANAA0AEAAMAAoACQAFAAMABwAJAAsAEgAQABQAFgASAA4ADQAQAAgACgAHAAgADAAIABAADQARAA4ACgAIAAQABAD//wAA/////wAAAgAEAAcADAAGAAcAAwAAAAAA/f/9//n//f8AAAEAAAABAAcAAwABAAAA+//6//z/+f/+/wAAAAABAAAABAABAP3//P/0//j/9P/1//r/+f8AAAAA///9//v/+v/0/+//8f/z//v//P/+/wIA/v////7/9P/1/+7/8v/z//j/AgD//wUABgADAAEA/P/7//P/8f/3//n/AAADAAgACQAIAAUAAAD6//z/9f/1//r///8AAAEACwAIAAkABwAAAAAA/v/5//z/AAABAAQACQANAA0ADQAIAAIAAAAAAAAAAAADAAUABgAOAA4ADgANAAgACAABAAIAAwAAAAYABgALAAwADQASAAwABwAHAAEAAQAAAP//AwADAA0ADgAOABIACAAKAAEAAAD9//n////9/wAABQAGAAoACQAHAAQA/f/5//P/8v/1//f//f8AAAAABgABAAEA/P/2//X/6//s/+n/7P/y//j//v8AAP//AAD4//L/8f/s/+r/5//s/+//9f/5//v/+//6//z/9v/z//L/8P/x//X/9f/6//////8AAAAAAAD7/////v/9/wEA/f/9/wAAAAAAAAIABQACAAEAAwACAAIAAwAGAAgADAAKAAoACQALAAwACQAMAAgACgAMABAAEwAPABEAEgARABMADQAOABAADwANAA4AEgARABQAFQATABEAEAALAAkACgAIAAUACAAKAA0ADgALAAsADAALAAQABAABAAAAAAAAAAEAAAAFAAcABQAEAAAAAAD///v/+//2//b/+//6//7/AAD8//7//f/3//j/9P/w//D/8f/w//L/9//5//f/9//5//X/7//y//H/7v/x//L/8v/0//T/8//5//T/8//1//T/8//v//T/8v/y//b/9f/0//j/+P/x//P/8//3//r/9f/5//3/+//6//v/+f/3//b/9v/4//3//P/+/wAAAAD//////v/+/////f8AAAAAAQADAAcABwAJAAkABwAEAAYACAAKAAwADAARABAAFAAUABYAEAAQABQAEgAQABMAFwAWABoAGgAbABgAGAAWABMAEwASABMAEQAUABUAEwAUABIAEgARAAsACgAGAAcABQAIAAgACAAJAAQABgACAAAA/v/8//r/+P/5//j/+f/6//n/+P/4//P/7//t/+r/7P/r/+z/7f/x/+//7v/w/+r/7P/l/+f/5//j/+r/6//u/+//8P/w//H/8P/q/+3/6f/s//T/9f/0//n/+v/5//3/+v/4//n//P/8/wAA//8BAAIAAwAGAAAAAQADAAQABgAGAAcACAAPABAAEAATABEAEQASABIAEgASABMAFwAUABcAFwAZABsAFQAYABgAFQAYABQAFQAWABUAFQAWABgAGAAWABQAGAAVABAADwAQABAACwANAA8ADAAMAA4ADAADAAUABQACAAEAAAAAAAAAAAACAAEAAAAAAAAA/P/5//n/8//4//r/9//4//3//f/5//f/9f/0/+//8f/x/+v/8P/w//L/8//3//X/7//1//D/7f/u/+7/7f/v/+//8//1//T/9f/1//P/8P/y//H/7P/u//H/7v/z//f/+//8//3//P/1//L/9P/v/+v/8f/2//r//P8DAAIAAAAAAP3/9//1//f/9v/8////BAAKAA0ACwAHAAUAAQD/////AAAAAAUADAASABIAFQARAA8ADQAHAAYACQAKAAgADQAQABIAFwAZABYAFgAVABIACwAIAAwACwAKAA4AEAATABoAFwASABIAEgAIAAIAAAABAAQABAAIAAkADAAOABAACwACAAIAAAD///v/+P/8////AAABAAEABAACAAAA/v/5//P/8f/w//D/8f/3//3//f8AAP7/+//z//D/6//m/+n/6v/s//T/+P/7//v/+f/4//H/7v/p/+n/5//o/+7/7v/0//r//P/+//3//f/1//D/7f/n/+f/7f/x//v/AQAEAAgAAwABAP3/9v/s/+n/7v/1/wAABwAPABIAFAAQAAUA///6//b/+f/9/wEACwAUABoAGAAaABIACAAGAAEAAQACAAgADwARABcAGAAUABMAEwAOAAwACwAKAAgACgAPAA8AEAAPABEAEgATABAACwAJAAQABAAEAAYACQAMAA0ADAAKAAoABgAAAAAAAAAAAAMAAQAAAAQAAgAAAAAAAAD5//z/AAD9//z///8AAP///v/6//X/8//2//j/9v/6//z/+P/+//z/9P/w//P/8f/w//T/9f/3//r////6//j/+P/z//D/7v/u/+//8//5//3//f8AAP7/+//7//f/8v/s//T/9v/2//3/AAACAAQAAgAAAPj/9//5//X/9//8////AwALAAsACQADAAAAAAD///z/+v///wMACwAJAA0ADwANAAsAAwAAAAAAAAACAAEABgALAAsAEgARAA8ADAAGAAkABAABAAEAAQAGAAsADQAPAA8ADgAMAAYAAwD//wEAAgADAAUABgAJAAcACQAIAAMAAgACAAIAAwAAAAAAAQACAAEAAAABAAAA\" type=\"audio/wav\" />\n",
       "                    Your browser does not support the audio element.\n",
       "                </audio>\n",
       "              "
      ],
      "text/plain": [
       "<IPython.lib.display.Audio object>"
      ]
     },
     "execution_count": 30,
     "metadata": {},
     "output_type": "execute_result"
    }
   ],
   "source": [
    "inv_label_value = {v: k for k, v in label_value.items()}\n",
    "batch_index = np.random.choice(len(test_wav), size=1, replace=False)\n",
    "\n",
    "batch_xs = test_wav[batch_index]\n",
    "batch_ys = test_label[batch_index]\n",
    "y_pred_ = model_wav(batch_xs, training=False)\n",
    "\n",
    "print(\"label : \", str(inv_label_value[batch_ys[0]]))\n",
    "\n",
    "ipd.Audio(batch_xs.reshape(8000,), rate=8000)"
   ]
  },
  {
   "cell_type": "markdown",
   "id": "grand-malta",
   "metadata": {},
   "source": [
    "확인해본 테스트셋의 아벨과 우리 모델의 실제 예측 결과를 비교."
   ]
  },
  {
   "cell_type": "code",
   "execution_count": 31,
   "id": "enabling-multiple",
   "metadata": {},
   "outputs": [
    {
     "name": "stdout",
     "output_type": "stream",
     "text": [
      "y_pred: yes(Correct!)\n",
      "✅\n"
     ]
    }
   ],
   "source": [
    "if np.argmax(y_pred_) == batch_ys[0]:\n",
    "    print(\"y_pred: \" + str(inv_label_value[np.argmax(y_pred_)]) + '(Correct!)')\n",
    "else:\n",
    "    print(\"y_pred: \" + str(inv_label_value[np.argmax(y_pred_)]) + '(Incorrect!)')\n",
    "print(\"✅\")"
   ]
  },
  {
   "cell_type": "markdown",
   "id": "heard-moscow",
   "metadata": {},
   "source": [
    "## 스킵커넥션"
   ]
  },
  {
   "cell_type": "markdown",
   "id": "proud-enemy",
   "metadata": {},
   "source": [
    "데이터가 레이어를 뛰어넘어 레이어를 통과한 값에 더해주는 형식으로 구현됨. concat을 이용한 방식으로 구현."
   ]
  },
  {
   "cell_type": "markdown",
   "id": "painful-projection",
   "metadata": {},
   "source": [
    "현재 사용하는 데이터는 1타원 오디오 데이터이기 때문에 1차원 데이터를 처리하는 모델을 구성."
   ]
  },
  {
   "cell_type": "code",
   "execution_count": 32,
   "id": "educational-centre",
   "metadata": {},
   "outputs": [
    {
     "name": "stdout",
     "output_type": "stream",
     "text": [
      "Model: \"model_2\"\n",
      "__________________________________________________________________________________________________\n",
      "Layer (type)                    Output Shape         Param #     Connected to                     \n",
      "==================================================================================================\n",
      "input_6 (InputLayer)            [(None, 8000, 1)]    0                                            \n",
      "__________________________________________________________________________________________________\n",
      "conv1d_20 (Conv1D)              (None, 8000, 32)     320         input_6[0][0]                    \n",
      "__________________________________________________________________________________________________\n",
      "conv1d_21 (Conv1D)              (None, 8000, 32)     9248        conv1d_20[0][0]                  \n",
      "__________________________________________________________________________________________________\n",
      "max_pooling1d_8 (MaxPooling1D)  (None, 4000, 32)     0           conv1d_21[0][0]                  \n",
      "__________________________________________________________________________________________________\n",
      "conv1d_22 (Conv1D)              (None, 4000, 64)     18496       max_pooling1d_8[0][0]            \n",
      "__________________________________________________________________________________________________\n",
      "conv1d_23 (Conv1D)              (None, 4000, 64)     36928       conv1d_22[0][0]                  \n",
      "__________________________________________________________________________________________________\n",
      "tf_op_layer_concat (TensorFlowO [(None, 4000, 96)]   0           conv1d_23[0][0]                  \n",
      "                                                                 max_pooling1d_8[0][0]            \n",
      "__________________________________________________________________________________________________\n",
      "max_pooling1d_9 (MaxPooling1D)  (None, 2000, 96)     0           tf_op_layer_concat[0][0]         \n",
      "__________________________________________________________________________________________________\n",
      "conv1d_24 (Conv1D)              (None, 2000, 128)    110720      max_pooling1d_9[0][0]            \n",
      "__________________________________________________________________________________________________\n",
      "conv1d_25 (Conv1D)              (None, 2000, 128)    147584      conv1d_24[0][0]                  \n",
      "__________________________________________________________________________________________________\n",
      "conv1d_26 (Conv1D)              (None, 2000, 128)    147584      conv1d_25[0][0]                  \n",
      "__________________________________________________________________________________________________\n",
      "tf_op_layer_concat_1 (TensorFlo [(None, 2000, 224)]  0           conv1d_26[0][0]                  \n",
      "                                                                 max_pooling1d_9[0][0]            \n",
      "__________________________________________________________________________________________________\n",
      "max_pooling1d_10 (MaxPooling1D) (None, 1000, 224)    0           tf_op_layer_concat_1[0][0]       \n",
      "__________________________________________________________________________________________________\n",
      "conv1d_27 (Conv1D)              (None, 1000, 256)    516352      max_pooling1d_10[0][0]           \n",
      "__________________________________________________________________________________________________\n",
      "conv1d_28 (Conv1D)              (None, 1000, 256)    590080      conv1d_27[0][0]                  \n",
      "__________________________________________________________________________________________________\n",
      "conv1d_29 (Conv1D)              (None, 1000, 256)    590080      conv1d_28[0][0]                  \n",
      "__________________________________________________________________________________________________\n",
      "tf_op_layer_concat_2 (TensorFlo [(None, 1000, 480)]  0           conv1d_29[0][0]                  \n",
      "                                                                 max_pooling1d_10[0][0]           \n",
      "__________________________________________________________________________________________________\n",
      "max_pooling1d_11 (MaxPooling1D) (None, 500, 480)     0           tf_op_layer_concat_2[0][0]       \n",
      "__________________________________________________________________________________________________\n",
      "dropout_2 (Dropout)             (None, 500, 480)     0           max_pooling1d_11[0][0]           \n",
      "__________________________________________________________________________________________________\n",
      "flatten_2 (Flatten)             (None, 240000)       0           dropout_2[0][0]                  \n",
      "__________________________________________________________________________________________________\n",
      "dense_4 (Dense)                 (None, 256)          61440256    flatten_2[0][0]                  \n",
      "__________________________________________________________________________________________________\n",
      "batch_normalization_2 (BatchNor (None, 256)          1024        dense_4[0][0]                    \n",
      "__________________________________________________________________________________________________\n",
      "activation_2 (Activation)       (None, 256)          0           batch_normalization_2[0][0]      \n",
      "__________________________________________________________________________________________________\n",
      "dense_5 (Dense)                 (None, 12)           3084        activation_2[0][0]               \n",
      "==================================================================================================\n",
      "Total params: 63,611,756\n",
      "Trainable params: 63,611,244\n",
      "Non-trainable params: 512\n",
      "__________________________________________________________________________________________________\n"
     ]
    }
   ],
   "source": [
    "input_tensor = layers.Input(shape=(sr, 1))\n",
    "\n",
    "x = layers.Conv1D(32, 9, padding='same', activation='relu')(input_tensor)\n",
    "x = layers.Conv1D(32, 9, padding='same', activation='relu')(x)\n",
    "skip_1 = layers.MaxPool1D()(x)\n",
    "\n",
    "x = layers.Conv1D(64, 9, padding='same', activation='relu')(skip_1)\n",
    "x = layers.Conv1D(64, 9, padding='same', activation='relu')(x)\n",
    "x = tf.concat([x, skip_1], -1)\n",
    "skip_2 = layers.MaxPool1D()(x)\n",
    "\n",
    "x = layers.Conv1D(128, 9, padding='same', activation='relu')(skip_2)\n",
    "x = layers.Conv1D(128, 9, padding='same', activation='relu')(x)\n",
    "x = layers.Conv1D(128, 9, padding='same', activation='relu')(x)\n",
    "x = tf.concat([x, skip_2], -1)\n",
    "skip_3 = layers.MaxPool1D()(x)\n",
    "\n",
    "x = layers.Conv1D(256, 9, padding='same', activation='relu')(skip_3)\n",
    "x = layers.Conv1D(256, 9, padding='same', activation='relu')(x)\n",
    "x = layers.Conv1D(256, 9, padding='same', activation='relu')(x)\n",
    "x = tf.concat([x, skip_3], -1)\n",
    "x = layers.MaxPool1D()(x)\n",
    "x = layers.Dropout(0.3)(x)\n",
    "\n",
    "x = layers.Flatten()(x)\n",
    "x = layers.Dense(256)(x)\n",
    "x = layers.BatchNormalization()(x)\n",
    "x = layers.Activation('relu')(x)\n",
    "\n",
    "output_tensor = layers.Dense(12)(x)\n",
    "\n",
    "model_wav_skip = tf.keras.Model(input_tensor, output_tensor)\n",
    "\n",
    "model_wav_skip.summary()"
   ]
  },
  {
   "cell_type": "code",
   "execution_count": 33,
   "id": "communist-difficulty",
   "metadata": {},
   "outputs": [
    {
     "name": "stdout",
     "output_type": "stream",
     "text": [
      "✅\n"
     ]
    }
   ],
   "source": [
    "optimizer=tf.keras.optimizers.Adam(1e-4)\n",
    "model_wav_skip.compile(loss=tf.keras.losses.CategoricalCrossentropy(from_logits=True),\n",
    "             optimizer=optimizer,\n",
    "             metrics=['accuracy'])\n",
    "print(\"✅\")"
   ]
  },
  {
   "cell_type": "code",
   "execution_count": 34,
   "id": "stone-divorce",
   "metadata": {},
   "outputs": [
    {
     "name": "stdout",
     "output_type": "stream",
     "text": [
      "✅\n"
     ]
    }
   ],
   "source": [
    "# the save point\n",
    "checkpoint_dir = os.getenv('HOME')+'/aiffel/speech_recognition/models/wav_skip'\n",
    "\n",
    "cp_callback = tf.keras.callbacks.ModelCheckpoint(checkpoint_dir,\n",
    "                                                 save_weights_only=True,\n",
    "                                                 monitor='val_loss',\n",
    "                                                 mode='auto',\n",
    "                                                 save_best_only=True,\n",
    "                                                 verbose=1)\n",
    "print(\"✅\")"
   ]
  },
  {
   "cell_type": "code",
   "execution_count": 35,
   "id": "august-while",
   "metadata": {},
   "outputs": [
    {
     "name": "stdout",
     "output_type": "stream",
     "text": [
      "1423/1423 [==============================] - ETA: 0s - loss: 1.2441 - accuracy: 0.6003\n",
      "Epoch 00001: val_loss improved from inf to 0.89342, saving model to /home/aiffel-dj20/aiffel/speech_recognition/models/wav_skip\n",
      "1423/1423 [==============================] - 188s 132ms/step - loss: 1.2441 - accuracy: 0.6003 - val_loss: 0.8934 - val_accuracy: 0.7227\n",
      "✅\n"
     ]
    }
   ],
   "source": [
    "#30분 내외 소요\n",
    "history_wav_skip = model_wav_skip.fit(train_dataset, epochs=1, # max_epochs\n",
    "                    steps_per_epoch=len(train_wav) // batch_size,\n",
    "                    validation_data=test_dataset,\n",
    "                    validation_steps=len(test_wav) // batch_size,\n",
    "                    callbacks=[cp_callback]\n",
    "                    )\n",
    "print(\"✅\")"
   ]
  },
  {
   "cell_type": "code",
   "execution_count": 36,
   "id": "textile-decline",
   "metadata": {},
   "outputs": [
    {
     "data": {
      "image/png": "[encoded data removed]",
      "text/plain": [
       "<Figure size 576x576 with 2 Axes>"
      ]
     },
     "metadata": {
      "needs_background": "light"
     },
     "output_type": "display_data"
    },
    {
     "name": "stdout",
     "output_type": "stream",
     "text": [
      "✅\n"
     ]
    }
   ],
   "source": [
    "import matplotlib.pyplot as plt\n",
    "\n",
    "acc = history_wav_skip.history['accuracy']\n",
    "val_acc = history_wav_skip.history['val_accuracy']\n",
    "\n",
    "loss=history_wav_skip.history['loss']\n",
    "val_loss=history_wav_skip.history['val_loss']\n",
    "\n",
    "epochs_range = range(len(acc))\n",
    "\n",
    "plt.figure(figsize=(8, 8))\n",
    "plt.subplot(1, 2, 1)\n",
    "plt.plot(epochs_range, acc, label='Training Accuracy')\n",
    "plt.plot(epochs_range, val_acc, label='Validation Accuracy')\n",
    "plt.legend(loc='lower right')\n",
    "plt.title('Training and Validation Accuracy')\n",
    "\n",
    "plt.subplot(1, 2, 2)\n",
    "plt.plot(epochs_range, loss, label='Training Loss')\n",
    "plt.plot(epochs_range, val_loss, label='Validation Loss')\n",
    "plt.legend(loc='upper right')\n",
    "plt.title('Training and Validation Loss')\n",
    "plt.show()\n",
    "print(\"✅\")"
   ]
  },
  {
   "cell_type": "code",
   "execution_count": 37,
   "id": "joint-cycling",
   "metadata": {},
   "outputs": [
    {
     "name": "stdout",
     "output_type": "stream",
     "text": [
      "159/159 [==============================] - 7s 46ms/step - loss: 0.8930 - accuracy: 0.7228\n",
      "loss value: 0.893\n",
      "accuracy value: 72.2837%\n",
      "✅\n"
     ]
    }
   ],
   "source": [
    "# Evaluation \n",
    "\n",
    "model_wav_skip.load_weights(checkpoint_dir)\n",
    "results = model_wav_skip.evaluate(test_dataset)\n",
    "\n",
    "# loss\n",
    "print(\"loss value: {:.3f}\".format(results[0]))\n",
    "# accuracy\n",
    "print(\"accuracy value: {:.4f}%\".format(results[1]*100))\n",
    "print(\"✅\")"
   ]
  },
  {
   "cell_type": "code",
   "execution_count": 38,
   "id": "dirty-juice",
   "metadata": {},
   "outputs": [
    {
     "name": "stdout",
     "output_type": "stream",
     "text": [
      "label :  stop\n"
     ]
    },
    {
     "data": {
      "text/html": [
       "\n",
       "                <audio  controls=\"controls\" >\n",
       "                    <source src=\"data:audio/wav;base64,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\" type=\"audio/wav\" />\n",
       "                    Your browser does not support the audio element.\n",
       "                </audio>\n",
       "              "
      ],
      "text/plain": [
       "<IPython.lib.display.Audio object>"
      ]
     },
     "execution_count": 38,
     "metadata": {},
     "output_type": "execute_result"
    }
   ],
   "source": [
    "# Test \n",
    "\n",
    "inv_label_value = {v: k for k, v in label_value.items()}\n",
    "batch_index = np.random.choice(len(test_wav), size=1, replace=False)\n",
    "\n",
    "batch_xs = test_wav[batch_index]\n",
    "batch_ys = test_label[batch_index]\n",
    "y_pred_ = model_wav_skip(batch_xs, training=False)\n",
    "\n",
    "print(\"label : \", str(inv_label_value[batch_ys[0]]))\n",
    "\n",
    "ipd.Audio(batch_xs.reshape(8000,), rate=8000)"
   ]
  },
  {
   "cell_type": "code",
   "execution_count": 40,
   "id": "distinct-reform",
   "metadata": {},
   "outputs": [
    {
     "name": "stdout",
     "output_type": "stream",
     "text": [
      "y_pred: up(Incorrect!)\n",
      "✅\n"
     ]
    }
   ],
   "source": [
    "if np.argmax(y_pred_) == batch_ys[0]:\n",
    "    print(\"y_pred: \" + str(inv_label_value[np.argmax(y_pred_)]) + '(Correct!)')\n",
    "else:\n",
    "    print(\"y_pred: \" + str(inv_label_value[np.argmax(y_pred_)]) + '(Incorrect!)')\n",
    "print(\"✅\")"
   ]
  },
  {
   "cell_type": "markdown",
   "id": "increasing-chassis",
   "metadata": {},
   "source": [
    "음성 데이터를 1차원 시계열 데이터로 해석하는 waveform 해석을 통해 다루어옴.      \n",
    "우리가 다루는 waveform은 많은 음원의 파형이 합성된 복합파임.    \n",
    "푸리에 변환을 하면 다양한 파형들을 그 주파수 대역별로 나누어 별도로 해석 가능."
   ]
  },
  {
   "cell_type": "markdown",
   "id": "sharp-routine",
   "metadata": {},
   "source": [
    "스펙토그램은 wav 데이터를 해석하는 방법 중 하나로 일정 시간동안 wav 데이터 안의 다양한 주파수들이 얼마나 포함되어 있는지를 보여줌.\n",
    "STFT: 숏 타임 푸리에 트랜스폼. X축은 시간, Y축은 주파수를 나타내어 해당 시간/주파수에서 음파 강도에 따라 밝은색으로 표현됨.      \n",
    "wav 데이터가 단위 시간만큼 STFT을 진행해 매 순간의 주파수 데이터를 얻어서 스펙토그램을 완성함. "
   ]
  },
  {
   "cell_type": "code",
   "execution_count": 41,
   "id": "medical-newton",
   "metadata": {},
   "outputs": [
    {
     "name": "stdout",
     "output_type": "stream",
     "text": [
      "✅\n"
     ]
    }
   ],
   "source": [
    "import librosa\n",
    "\n",
    "def wav2spec(wav, fft_size=258): # spectrogram shape을 맞추기위해서 size 변형\n",
    "    D = np.abs(librosa.stft(wav, n_fft=fft_size))\n",
    "    return D\n",
    "print(\"✅\")"
   ]
  },
  {
   "cell_type": "code",
   "execution_count": 43,
   "id": "weird-combining",
   "metadata": {},
   "outputs": [
    {
     "name": "stdout",
     "output_type": "stream",
     "text": [
      "Waveform shape :  (8000,)\n",
      "Spectrogram shape :  (130, 126)\n"
     ]
    }
   ],
   "source": [
    "# 위에서 뽑았던 sample data\n",
    "spec = wav2spec(data)\n",
    "print(\"Waveform shape : \",data.shape)\n",
    "print(\"Spectrogram shape : \",spec.shape)"
   ]
  },
  {
   "cell_type": "markdown",
   "id": "adaptive-alaska",
   "metadata": {},
   "source": [
    "1차원 waveform 데이터가 2차원 스펙토그램으로 데이터 변환이 되어있음.    \n",
    "waveform 데이터 대신 스펙토그램 포매스로 모든 음성 데이터를 변환 한 후 음성인식 모델을 학습시킨다면 과연 waveform과 비교했을 때 성능이 더 나을까?"
   ]
  },
  {
   "cell_type": "code",
   "execution_count": 44,
   "id": "green-universe",
   "metadata": {},
   "outputs": [
    {
     "data": {
      "image/png": "[encoded data removed]",
      "text/plain": [
       "<Figure size 432x288 with 2 Axes>"
      ]
     },
     "metadata": {
      "needs_background": "light"
     },
     "output_type": "display_data"
    }
   ],
   "source": [
    "import librosa.display\n",
    "\n",
    "librosa.display.specshow(librosa.amplitude_to_db(spec, ref=np.max), x_axis='time')\n",
    "plt.title('Power spectrogram')\n",
    "plt.colorbar(format='%+2.0f dB')\n",
    "plt.xticks(range(0, 1))\n",
    "plt.tight_layout()\n",
    "plt.show()"
   ]
  },
  {
   "cell_type": "markdown",
   "id": "earned-assets",
   "metadata": {},
   "source": [
    "## Conv 2D Layer 적용"
   ]
  },
  {
   "cell_type": "markdown",
   "id": "heard-findings",
   "metadata": {},
   "source": [
    "학습을 위한 데이터 분리"
   ]
  },
  {
   "cell_type": "code",
   "execution_count": 56,
   "id": "committed-tuition",
   "metadata": {},
   "outputs": [
    {
     "name": "stdout",
     "output_type": "stream",
     "text": [
      "✅\n"
     ]
    }
   ],
   "source": [
    "# 학습을 위한 데이터 분리\n",
    "from sklearn.model_selection import train_test_split\n",
    "\n",
    "sr = 8000  # 1초동안 재생되는 샘플의 갯수\n",
    "\n",
    "train_wav, test_wav, train_label, test_label = train_test_split(speech_data[\"wav_vals\"], \n",
    "                                                                label_data, \n",
    "                                                                test_size=0.1,\n",
    "                                                                shuffle=True)\n",
    "\n",
    "train_wav = train_wav.reshape([-1, sr, 1]) # add channel for CNN\n",
    "test_wav = test_wav.reshape([-1, sr, 1])\n",
    "print(\"✅\")"
   ]
  },
  {
   "cell_type": "markdown",
   "id": "familiar-advocacy",
   "metadata": {},
   "source": [
    "나눠진 데이터 확인"
   ]
  },
  {
   "cell_type": "code",
   "execution_count": 57,
   "id": "individual-party",
   "metadata": {},
   "outputs": [
    {
     "name": "stdout",
     "output_type": "stream",
     "text": [
      "train data :  (45558, 8000, 1)\n",
      "train labels :  (45558,)\n",
      "test data :  (5062, 8000, 1)\n",
      "test labels :  (5062,)\n",
      "✅\n"
     ]
    }
   ],
   "source": [
    "print(\"train data : \", train_wav.shape)\n",
    "print(\"train labels : \", train_label.shape)\n",
    "print(\"test data : \", test_wav.shape)\n",
    "print(\"test labels : \", test_label.shape)\n",
    "print(\"✅\")"
   ]
  },
  {
   "cell_type": "markdown",
   "id": "understanding-accreditation",
   "metadata": {},
   "source": [
    "학습을 위한 파라미터 설정"
   ]
  },
  {
   "cell_type": "code",
   "execution_count": 58,
   "id": "aging-feeding",
   "metadata": {},
   "outputs": [
    {
     "data": {
      "text/plain": [
       "'/home/aiffel-dj20/aiffel/speech_recognition/models/wav'"
      ]
     },
     "execution_count": 58,
     "metadata": {},
     "output_type": "execute_result"
    }
   ],
   "source": [
    "batch_size = 32\n",
    "max_epochs = 1 # 10\n",
    "\n",
    "# the save point\n",
    "checkpoint_dir = os.getenv('HOME')+'/aiffel/speech_recognition/models/wav'\n",
    "\n",
    "checkpoint_dir"
   ]
  },
  {
   "cell_type": "markdown",
   "id": "chief-brighton",
   "metadata": {},
   "source": [
    "데이터셋 구성"
   ]
  },
  {
   "cell_type": "code",
   "execution_count": 59,
   "id": "automotive-mailman",
   "metadata": {},
   "outputs": [
    {
     "name": "stdout",
     "output_type": "stream",
     "text": [
      "✅\n"
     ]
    }
   ],
   "source": [
    "def one_hot_label(wav, label):\n",
    "    label = tf.one_hot(label, depth=12)\n",
    "    return wav, label\n",
    "print(\"✅\")"
   ]
  },
  {
   "cell_type": "code",
   "execution_count": 60,
   "id": "weird-animal",
   "metadata": {},
   "outputs": [
    {
     "name": "stdout",
     "output_type": "stream",
     "text": [
      "<BatchDataset shapes: ((None, 8000, 1), (None, 12)), types: (tf.float32, tf.float32)>\n",
      "<BatchDataset shapes: ((None, 8000, 1), (None, 12)), types: (tf.float32, tf.float32)>\n",
      "✅\n"
     ]
    }
   ],
   "source": [
    "import tensorflow as tf\n",
    "\n",
    "# for train\n",
    "train_dataset = tf.data.Dataset.from_tensor_slices((train_wav, train_label))\n",
    "train_dataset = train_dataset.map(one_hot_label)\n",
    "train_dataset = train_dataset.repeat().batch(batch_size=batch_size)\n",
    "print(train_dataset)\n",
    "\n",
    "# for test\n",
    "test_dataset = tf.data.Dataset.from_tensor_slices((test_wav, test_label))\n",
    "test_dataset = test_dataset.map(one_hot_label)\n",
    "test_dataset = test_dataset.batch(batch_size=batch_size)\n",
    "print(test_dataset)\n",
    "print(\"✅\")"
   ]
  },
  {
   "cell_type": "code",
   "execution_count": 51,
   "id": "mounted-dakota",
   "metadata": {},
   "outputs": [
    {
     "ename": "ValueError",
     "evalue": "Input 0 of layer conv2d_4 is incompatible with the layer: expected ndim=4, found ndim=3. Full shape received: [None, 8000, 1]",
     "output_type": "error",
     "traceback": [
      "\u001b[0;31m---------------------------------------------------------------------------\u001b[0m",
      "\u001b[0;31mValueError\u001b[0m                                Traceback (most recent call last)",
      "\u001b[0;32m<ipython-input-51-27dce12c8b37>\u001b[0m in \u001b[0;36m<module>\u001b[0;34m\u001b[0m\n\u001b[1;32m      3\u001b[0m \u001b[0minput_tensor\u001b[0m \u001b[0;34m=\u001b[0m \u001b[0mlayers\u001b[0m\u001b[0;34m.\u001b[0m\u001b[0mInput\u001b[0m\u001b[0;34m(\u001b[0m\u001b[0mshape\u001b[0m\u001b[0;34m=\u001b[0m\u001b[0;34m(\u001b[0m\u001b[0msr\u001b[0m\u001b[0;34m,\u001b[0m \u001b[0;36m1\u001b[0m\u001b[0;34m)\u001b[0m\u001b[0;34m)\u001b[0m\u001b[0;34m\u001b[0m\u001b[0;34m\u001b[0m\u001b[0m\n\u001b[1;32m      4\u001b[0m \u001b[0;34m\u001b[0m\u001b[0m\n\u001b[0;32m----> 5\u001b[0;31m \u001b[0mx\u001b[0m \u001b[0;34m=\u001b[0m \u001b[0mlayers\u001b[0m\u001b[0;34m.\u001b[0m\u001b[0mConv2D\u001b[0m\u001b[0;34m(\u001b[0m\u001b[0;36m32\u001b[0m\u001b[0;34m,\u001b[0m \u001b[0;36m3\u001b[0m\u001b[0;34m,\u001b[0m \u001b[0mpadding\u001b[0m\u001b[0;34m=\u001b[0m\u001b[0;34m'same'\u001b[0m\u001b[0;34m,\u001b[0m \u001b[0mactivation\u001b[0m\u001b[0;34m=\u001b[0m\u001b[0;34m'relu'\u001b[0m\u001b[0;34m)\u001b[0m\u001b[0;34m(\u001b[0m\u001b[0minput_tensor\u001b[0m\u001b[0;34m)\u001b[0m\u001b[0;34m\u001b[0m\u001b[0;34m\u001b[0m\u001b[0m\n\u001b[0m\u001b[1;32m      6\u001b[0m \u001b[0mx\u001b[0m \u001b[0;34m=\u001b[0m \u001b[0mlayers\u001b[0m\u001b[0;34m.\u001b[0m\u001b[0mConv2D\u001b[0m\u001b[0;34m(\u001b[0m\u001b[0;36m32\u001b[0m\u001b[0;34m,\u001b[0m \u001b[0;36m3\u001b[0m\u001b[0;34m,\u001b[0m \u001b[0mpadding\u001b[0m\u001b[0;34m=\u001b[0m\u001b[0;34m'same'\u001b[0m\u001b[0;34m,\u001b[0m \u001b[0mactivation\u001b[0m\u001b[0;34m=\u001b[0m\u001b[0;34m'relu'\u001b[0m\u001b[0;34m)\u001b[0m\u001b[0;34m(\u001b[0m\u001b[0mx\u001b[0m\u001b[0;34m)\u001b[0m\u001b[0;34m\u001b[0m\u001b[0;34m\u001b[0m\u001b[0m\n\u001b[1;32m      7\u001b[0m \u001b[0mx\u001b[0m \u001b[0;34m=\u001b[0m \u001b[0mlayers\u001b[0m\u001b[0;34m.\u001b[0m\u001b[0mMaxPool2D\u001b[0m\u001b[0;34m(\u001b[0m\u001b[0;34m)\u001b[0m\u001b[0;34m(\u001b[0m\u001b[0mx\u001b[0m\u001b[0;34m)\u001b[0m\u001b[0;34m\u001b[0m\u001b[0;34m\u001b[0m\u001b[0m\n",
      "\u001b[0;32m~/anaconda3/envs/aiffel/lib/python3.7/site-packages/tensorflow/python/keras/engine/base_layer.py\u001b[0m in \u001b[0;36m__call__\u001b[0;34m(self, *args, **kwargs)\u001b[0m\n\u001b[1;32m    884\u001b[0m         \u001b[0;31m# are casted, not before.\u001b[0m\u001b[0;34m\u001b[0m\u001b[0;34m\u001b[0m\u001b[0;34m\u001b[0m\u001b[0m\n\u001b[1;32m    885\u001b[0m         input_spec.assert_input_compatibility(self.input_spec, inputs,\n\u001b[0;32m--> 886\u001b[0;31m                                               self.name)\n\u001b[0m\u001b[1;32m    887\u001b[0m         if (any(isinstance(x, ragged_tensor.RaggedTensor) for x in input_list)\n\u001b[1;32m    888\u001b[0m             and self._supports_ragged_inputs is False):  # pylint: disable=g-bool-id-comparison\n",
      "\u001b[0;32m~/anaconda3/envs/aiffel/lib/python3.7/site-packages/tensorflow/python/keras/engine/input_spec.py\u001b[0m in \u001b[0;36massert_input_compatibility\u001b[0;34m(input_spec, inputs, layer_name)\u001b[0m\n\u001b[1;32m    178\u001b[0m                          \u001b[0;34m'expected ndim='\u001b[0m \u001b[0;34m+\u001b[0m \u001b[0mstr\u001b[0m\u001b[0;34m(\u001b[0m\u001b[0mspec\u001b[0m\u001b[0;34m.\u001b[0m\u001b[0mndim\u001b[0m\u001b[0;34m)\u001b[0m \u001b[0;34m+\u001b[0m \u001b[0;34m', found ndim='\u001b[0m \u001b[0;34m+\u001b[0m\u001b[0;34m\u001b[0m\u001b[0;34m\u001b[0m\u001b[0m\n\u001b[1;32m    179\u001b[0m                          \u001b[0mstr\u001b[0m\u001b[0;34m(\u001b[0m\u001b[0mndim\u001b[0m\u001b[0;34m)\u001b[0m \u001b[0;34m+\u001b[0m \u001b[0;34m'. Full shape received: '\u001b[0m \u001b[0;34m+\u001b[0m\u001b[0;34m\u001b[0m\u001b[0;34m\u001b[0m\u001b[0m\n\u001b[0;32m--> 180\u001b[0;31m                          str(x.shape.as_list()))\n\u001b[0m\u001b[1;32m    181\u001b[0m     \u001b[0;32mif\u001b[0m \u001b[0mspec\u001b[0m\u001b[0;34m.\u001b[0m\u001b[0mmax_ndim\u001b[0m \u001b[0;32mis\u001b[0m \u001b[0;32mnot\u001b[0m \u001b[0;32mNone\u001b[0m\u001b[0;34m:\u001b[0m\u001b[0;34m\u001b[0m\u001b[0;34m\u001b[0m\u001b[0m\n\u001b[1;32m    182\u001b[0m       \u001b[0mndim\u001b[0m \u001b[0;34m=\u001b[0m \u001b[0mx\u001b[0m\u001b[0;34m.\u001b[0m\u001b[0mshape\u001b[0m\u001b[0;34m.\u001b[0m\u001b[0mndims\u001b[0m\u001b[0;34m\u001b[0m\u001b[0;34m\u001b[0m\u001b[0m\n",
      "\u001b[0;31mValueError\u001b[0m: Input 0 of layer conv2d_4 is incompatible with the layer: expected ndim=4, found ndim=3. Full shape received: [None, 8000, 1]"
     ]
    }
   ],
   "source": [
    "from tensorflow.keras import layers\n",
    "\n",
    "input_tensor = layers.Input(shape=(sr, 1))\n",
    "\n",
    "x = layers.Conv2D(32, 3, padding='same', activation='relu')(input_tensor)\n",
    "x = layers.Conv2D(32, 3, padding='same', activation='relu')(x)\n",
    "x = layers.MaxPool2D()(x)\n",
    "\n",
    "x = layers.Conv2D(64, 3, padding='same', activation='relu')(x)\n",
    "x = layers.Conv2D(64, 3, padding='same', activation='relu')(x)\n",
    "x = layers.MaxPool2D()(x)\n",
    "\n",
    "x = layers.Conv2D(128, 3, padding='same', activation='relu')(x)\n",
    "x = layers.Conv2D(128, 3, padding='same', activation='relu')(x)\n",
    "x = layers.Conv2D(128, 3, padding='same', activation='relu')(x)\n",
    "x = layers.MaxPool2D()(x)\n",
    "\n",
    "x = layers.Conv2D(256, 3, padding='same', activation='relu')(x)\n",
    "x = layers.Conv2D(256, 3, padding='same', activation='relu')(x)\n",
    "x = layers.Conv2D(256, 3, padding='same', activation='relu')(x)\n",
    "x = layers.MaxPool2D()(x)\n",
    "x = layers.Dropout(0.3)(x)\n",
    "\n",
    "x = layers.Flatten()(x)\n",
    "x = layers.Dense(256)(x)\n",
    "x = layers.BatchNormalization()(x)\n",
    "x = layers.Activation('relu')(x)\n",
    "\n",
    "output_tensor = layers.Dense(12)(x)\n",
    "\n",
    "model_wav = tf.keras.Model(input_tensor, output_tensor)\n",
    "\n",
    "model_wav.summary()"
   ]
  },
  {
   "cell_type": "code",
   "execution_count": null,
   "id": "silent-brazilian",
   "metadata": {},
   "outputs": [],
   "source": []
  },
  {
   "cell_type": "code",
   "execution_count": null,
   "id": "duplicate-participant",
   "metadata": {},
   "outputs": [],
   "source": []
  }
 ],
 "metadata": {
  "kernelspec": {
   "display_name": "aiffel",
   "language": "python",
   "name": "aiffel"
  },
  "language_info": {
   "codemirror_mode": {
    "name": "ipython",
    "version": 3
   },
   "file_extension": ".py",
   "mimetype": "text/x-python",
   "name": "python",
   "nbconvert_exporter": "python",
   "pygments_lexer": "ipython3",
   "version": "3.7.9"
  }
 },
 "nbformat": 4,
 "nbformat_minor": 5
}

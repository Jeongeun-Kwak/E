{
 "cells": [
  {
   "cell_type": "markdown",
   "id": "naval-honolulu",
   "metadata": {},
   "source": [
    "# (E8) Movielens 영화 추천 실습"
   ]
  },
  {
   "cell_type": "markdown",
   "id": "concrete-external",
   "metadata": {},
   "source": [
    "일시: 2021. 02. 02"
   ]
  },
  {
   "cell_type": "markdown",
   "id": "representative-rebel",
   "metadata": {},
   "source": [
    "## MF 모델 학습 방법으로 내가 좋아할만한 영화 추천 시스템을 제작해보자!"
   ]
  },
  {
   "cell_type": "markdown",
   "id": "practical-contact",
   "metadata": {},
   "source": [
    "> **추천 시스템이란?**    \n",
    "나와 비슷한 다른사용자들이 좋아하는 것과 비슷한 것을 추천해 주는 것.    \n",
    "\n",
    "> **협업 필터링 방식**    \n",
    "다수의 사용자가 아이템을 구매한 이력정보만으로 사용자 간 유사성 및 아이템 간 유사성을 파악.    \n",
    "아이템과 사용자 간의 행동/관계에 주목하고 아이템의 고유속성은 주목 X.\n",
    "\n",
    "> **콘텐츠 기반 필터링**    \n",
    "아이템 고유의 정보를 바탕으로 아이템 간 유사성을 파악.    \n",
    "아이템과 사용자 간의 괸계에 주목 X -> 개인화된 추천 제공이 어려움."
   ]
  },
  {
   "cell_type": "markdown",
   "id": "accurate-meter",
   "metadata": {},
   "source": [
    "*****"
   ]
  },
  {
   "cell_type": "markdown",
   "id": "variable-antibody",
   "metadata": {},
   "source": [
    "# Step 1. 데이터 준비와 전처리"
   ]
  },
  {
   "cell_type": "markdown",
   "id": "nasty-veteran",
   "metadata": {},
   "source": [
    "> **데이터는 ```MovieLens 1M Dataset```을 사용.     \n",
    "이번 프로젝트에서는 별점을 시청 횟수로 해석하고, 유저가 별점을 3점 미만으로 준 데이터는 선호하지 않는다고 가정하고 제외함.**"
   ]
  },
  {
   "cell_type": "code",
   "execution_count": 1,
   "id": "growing-algebra",
   "metadata": {},
   "outputs": [
    {
     "data": {
      "text/html": [
       "<div>\n",
       "<style scoped>\n",
       "    .dataframe tbody tr th:only-of-type {\n",
       "        vertical-align: middle;\n",
       "    }\n",
       "\n",
       "    .dataframe tbody tr th {\n",
       "        vertical-align: top;\n",
       "    }\n",
       "\n",
       "    .dataframe thead th {\n",
       "        text-align: right;\n",
       "    }\n",
       "</style>\n",
       "<table border=\"1\" class=\"dataframe\">\n",
       "  <thead>\n",
       "    <tr style=\"text-align: right;\">\n",
       "      <th></th>\n",
       "      <th>user_id</th>\n",
       "      <th>movie_id</th>\n",
       "      <th>rating</th>\n",
       "      <th>timestamp</th>\n",
       "    </tr>\n",
       "  </thead>\n",
       "  <tbody>\n",
       "    <tr>\n",
       "      <th>0</th>\n",
       "      <td>1</td>\n",
       "      <td>1193</td>\n",
       "      <td>5</td>\n",
       "      <td>978300760</td>\n",
       "    </tr>\n",
       "    <tr>\n",
       "      <th>1</th>\n",
       "      <td>1</td>\n",
       "      <td>661</td>\n",
       "      <td>3</td>\n",
       "      <td>978302109</td>\n",
       "    </tr>\n",
       "    <tr>\n",
       "      <th>2</th>\n",
       "      <td>1</td>\n",
       "      <td>914</td>\n",
       "      <td>3</td>\n",
       "      <td>978301968</td>\n",
       "    </tr>\n",
       "    <tr>\n",
       "      <th>3</th>\n",
       "      <td>1</td>\n",
       "      <td>3408</td>\n",
       "      <td>4</td>\n",
       "      <td>978300275</td>\n",
       "    </tr>\n",
       "    <tr>\n",
       "      <th>4</th>\n",
       "      <td>1</td>\n",
       "      <td>2355</td>\n",
       "      <td>5</td>\n",
       "      <td>978824291</td>\n",
       "    </tr>\n",
       "  </tbody>\n",
       "</table>\n",
       "</div>"
      ],
      "text/plain": [
       "   user_id  movie_id  rating  timestamp\n",
       "0        1      1193       5  978300760\n",
       "1        1       661       3  978302109\n",
       "2        1       914       3  978301968\n",
       "3        1      3408       4  978300275\n",
       "4        1      2355       5  978824291"
      ]
     },
     "execution_count": 1,
     "metadata": {},
     "output_type": "execute_result"
    }
   ],
   "source": [
    "# rating.dat 안에는 인덱싱이 완료된 사용자-영화-평점 데이터가 정리되어 있음.\n",
    "import pandas as pd\n",
    "import os\n",
    "\n",
    "rating_file_path=os.getenv('HOME') + '/aiffel/recommendata_iu/data/ml-1m/ratings.dat'\n",
    "ratings_cols = ['user_id', 'movie_id', 'rating', 'timestamp']\n",
    "ratings = pd.read_csv(rating_file_path, sep='::', names=ratings_cols, engine='python')\n",
    "orginal_data_size = len(ratings)\n",
    "\n",
    "ratings.head()"
   ]
  },
  {
   "cell_type": "code",
   "execution_count": 2,
   "id": "statewide-collaboration",
   "metadata": {},
   "outputs": [
    {
     "name": "stdout",
     "output_type": "stream",
     "text": [
      "orginal_data_size: 1000209, filtered_data_size: 836478\n",
      "Ratio of Remaining Data is 83.63%\n"
     ]
    }
   ],
   "source": [
    "# 3점 이상만 남김.\n",
    "ratings = ratings[ratings['rating']>=3]\n",
    "filtered_data_size = len(ratings)\n",
    "\n",
    "print(f'orginal_data_size: {orginal_data_size}, filtered_data_size: {filtered_data_size}')\n",
    "print(f'Ratio of Remaining Data is {filtered_data_size / orginal_data_size:.2%}')"
   ]
  },
  {
   "cell_type": "code",
   "execution_count": 3,
   "id": "sunrise-closer",
   "metadata": {},
   "outputs": [
    {
     "data": {
      "text/plain": [
       "0          5\n",
       "1          3\n",
       "2          3\n",
       "3          4\n",
       "4          5\n",
       "          ..\n",
       "1000203    3\n",
       "1000205    5\n",
       "1000206    5\n",
       "1000207    4\n",
       "1000208    4\n",
       "Name: count, Length: 836478, dtype: int64"
      ]
     },
     "execution_count": 3,
     "metadata": {},
     "output_type": "execute_result"
    }
   ],
   "source": [
    "# rating 컬럼의 이름을 시청횟수로 보기위해 count로 바꿈.\n",
    "ratings.rename(columns={'rating':'count'}, inplace=True)\n",
    "ratings['count']"
   ]
  },
  {
   "cell_type": "code",
   "execution_count": 4,
   "id": "posted-frontier",
   "metadata": {},
   "outputs": [
    {
     "data": {
      "text/html": [
       "<div>\n",
       "<style scoped>\n",
       "    .dataframe tbody tr th:only-of-type {\n",
       "        vertical-align: middle;\n",
       "    }\n",
       "\n",
       "    .dataframe tbody tr th {\n",
       "        vertical-align: top;\n",
       "    }\n",
       "\n",
       "    .dataframe thead th {\n",
       "        text-align: right;\n",
       "    }\n",
       "</style>\n",
       "<table border=\"1\" class=\"dataframe\">\n",
       "  <thead>\n",
       "    <tr style=\"text-align: right;\">\n",
       "      <th></th>\n",
       "      <th>movie_id</th>\n",
       "      <th>title</th>\n",
       "      <th>genre</th>\n",
       "    </tr>\n",
       "  </thead>\n",
       "  <tbody>\n",
       "    <tr>\n",
       "      <th>0</th>\n",
       "      <td>1</td>\n",
       "      <td>Toy Story (1995)</td>\n",
       "      <td>Animation|Children's|Comedy</td>\n",
       "    </tr>\n",
       "    <tr>\n",
       "      <th>1</th>\n",
       "      <td>2</td>\n",
       "      <td>Jumanji (1995)</td>\n",
       "      <td>Adventure|Children's|Fantasy</td>\n",
       "    </tr>\n",
       "    <tr>\n",
       "      <th>2</th>\n",
       "      <td>3</td>\n",
       "      <td>Grumpier Old Men (1995)</td>\n",
       "      <td>Comedy|Romance</td>\n",
       "    </tr>\n",
       "    <tr>\n",
       "      <th>3</th>\n",
       "      <td>4</td>\n",
       "      <td>Waiting to Exhale (1995)</td>\n",
       "      <td>Comedy|Drama</td>\n",
       "    </tr>\n",
       "    <tr>\n",
       "      <th>4</th>\n",
       "      <td>5</td>\n",
       "      <td>Father of the Bride Part II (1995)</td>\n",
       "      <td>Comedy</td>\n",
       "    </tr>\n",
       "  </tbody>\n",
       "</table>\n",
       "</div>"
      ],
      "text/plain": [
       "   movie_id                               title                         genre\n",
       "0         1                    Toy Story (1995)   Animation|Children's|Comedy\n",
       "1         2                      Jumanji (1995)  Adventure|Children's|Fantasy\n",
       "2         3             Grumpier Old Men (1995)                Comedy|Romance\n",
       "3         4            Waiting to Exhale (1995)                  Comedy|Drama\n",
       "4         5  Father of the Bride Part II (1995)                        Comedy"
      ]
     },
     "execution_count": 4,
     "metadata": {},
     "output_type": "execute_result"
    }
   ],
   "source": [
    "# 영화 제목을 보기 위해 메타 데이터를 읽어옴.\n",
    "movie_file_path=os.getenv('HOME') + '/aiffel/recommendata_iu/data/ml-1m/movies.dat'\n",
    "cols = ['movie_id', 'title', 'genre'] \n",
    "movies = pd.read_csv(movie_file_path, sep='::', names=cols, engine='python', encoding = 'latin1')\n",
    "\n",
    "movies.head()"
   ]
  },
  {
   "cell_type": "code",
   "execution_count": 5,
   "id": "suitable-lodge",
   "metadata": {},
   "outputs": [
    {
     "data": {
      "text/html": [
       "<div>\n",
       "<style scoped>\n",
       "    .dataframe tbody tr th:only-of-type {\n",
       "        vertical-align: middle;\n",
       "    }\n",
       "\n",
       "    .dataframe tbody tr th {\n",
       "        vertical-align: top;\n",
       "    }\n",
       "\n",
       "    .dataframe thead th {\n",
       "        text-align: right;\n",
       "    }\n",
       "</style>\n",
       "<table border=\"1\" class=\"dataframe\">\n",
       "  <thead>\n",
       "    <tr style=\"text-align: right;\">\n",
       "      <th></th>\n",
       "      <th>user_id</th>\n",
       "      <th>movie_id</th>\n",
       "      <th>count</th>\n",
       "      <th>title</th>\n",
       "      <th>genre</th>\n",
       "    </tr>\n",
       "  </thead>\n",
       "  <tbody>\n",
       "    <tr>\n",
       "      <th>0</th>\n",
       "      <td>1</td>\n",
       "      <td>1193</td>\n",
       "      <td>5</td>\n",
       "      <td>One Flew Over the Cuckoo's Nest (1975)</td>\n",
       "      <td>Drama</td>\n",
       "    </tr>\n",
       "    <tr>\n",
       "      <th>1</th>\n",
       "      <td>2</td>\n",
       "      <td>1193</td>\n",
       "      <td>5</td>\n",
       "      <td>One Flew Over the Cuckoo's Nest (1975)</td>\n",
       "      <td>Drama</td>\n",
       "    </tr>\n",
       "    <tr>\n",
       "      <th>2</th>\n",
       "      <td>12</td>\n",
       "      <td>1193</td>\n",
       "      <td>4</td>\n",
       "      <td>One Flew Over the Cuckoo's Nest (1975)</td>\n",
       "      <td>Drama</td>\n",
       "    </tr>\n",
       "    <tr>\n",
       "      <th>3</th>\n",
       "      <td>15</td>\n",
       "      <td>1193</td>\n",
       "      <td>4</td>\n",
       "      <td>One Flew Over the Cuckoo's Nest (1975)</td>\n",
       "      <td>Drama</td>\n",
       "    </tr>\n",
       "    <tr>\n",
       "      <th>4</th>\n",
       "      <td>17</td>\n",
       "      <td>1193</td>\n",
       "      <td>5</td>\n",
       "      <td>One Flew Over the Cuckoo's Nest (1975)</td>\n",
       "      <td>Drama</td>\n",
       "    </tr>\n",
       "    <tr>\n",
       "      <th>...</th>\n",
       "      <td>...</td>\n",
       "      <td>...</td>\n",
       "      <td>...</td>\n",
       "      <td>...</td>\n",
       "      <td>...</td>\n",
       "    </tr>\n",
       "    <tr>\n",
       "      <th>836473</th>\n",
       "      <td>5851</td>\n",
       "      <td>3607</td>\n",
       "      <td>5</td>\n",
       "      <td>One Little Indian (1973)</td>\n",
       "      <td>Comedy|Drama|Western</td>\n",
       "    </tr>\n",
       "    <tr>\n",
       "      <th>836474</th>\n",
       "      <td>5854</td>\n",
       "      <td>3026</td>\n",
       "      <td>4</td>\n",
       "      <td>Slaughterhouse (1987)</td>\n",
       "      <td>Horror</td>\n",
       "    </tr>\n",
       "    <tr>\n",
       "      <th>836475</th>\n",
       "      <td>5854</td>\n",
       "      <td>690</td>\n",
       "      <td>3</td>\n",
       "      <td>Promise, The (Versprechen, Das) (1994)</td>\n",
       "      <td>Romance</td>\n",
       "    </tr>\n",
       "    <tr>\n",
       "      <th>836476</th>\n",
       "      <td>5938</td>\n",
       "      <td>2909</td>\n",
       "      <td>4</td>\n",
       "      <td>Five Wives, Three Secretaries and Me (1998)</td>\n",
       "      <td>Documentary</td>\n",
       "    </tr>\n",
       "    <tr>\n",
       "      <th>836477</th>\n",
       "      <td>5948</td>\n",
       "      <td>1360</td>\n",
       "      <td>5</td>\n",
       "      <td>Identification of a Woman (Identificazione di ...</td>\n",
       "      <td>Drama</td>\n",
       "    </tr>\n",
       "  </tbody>\n",
       "</table>\n",
       "<p>836478 rows × 5 columns</p>\n",
       "</div>"
      ],
      "text/plain": [
       "        user_id  movie_id  count  \\\n",
       "0             1      1193      5   \n",
       "1             2      1193      5   \n",
       "2            12      1193      4   \n",
       "3            15      1193      4   \n",
       "4            17      1193      5   \n",
       "...         ...       ...    ...   \n",
       "836473     5851      3607      5   \n",
       "836474     5854      3026      4   \n",
       "836475     5854       690      3   \n",
       "836476     5938      2909      4   \n",
       "836477     5948      1360      5   \n",
       "\n",
       "                                                    title  \\\n",
       "0                  One Flew Over the Cuckoo's Nest (1975)   \n",
       "1                  One Flew Over the Cuckoo's Nest (1975)   \n",
       "2                  One Flew Over the Cuckoo's Nest (1975)   \n",
       "3                  One Flew Over the Cuckoo's Nest (1975)   \n",
       "4                  One Flew Over the Cuckoo's Nest (1975)   \n",
       "...                                                   ...   \n",
       "836473                           One Little Indian (1973)   \n",
       "836474                              Slaughterhouse (1987)   \n",
       "836475             Promise, The (Versprechen, Das) (1994)   \n",
       "836476        Five Wives, Three Secretaries and Me (1998)   \n",
       "836477  Identification of a Woman (Identificazione di ...   \n",
       "\n",
       "                       genre  \n",
       "0                      Drama  \n",
       "1                      Drama  \n",
       "2                      Drama  \n",
       "3                      Drama  \n",
       "4                      Drama  \n",
       "...                      ...  \n",
       "836473  Comedy|Drama|Western  \n",
       "836474                Horror  \n",
       "836475               Romance  \n",
       "836476           Documentary  \n",
       "836477                 Drama  \n",
       "\n",
       "[836478 rows x 5 columns]"
      ]
     },
     "execution_count": 5,
     "metadata": {},
     "output_type": "execute_result"
    }
   ],
   "source": [
    "# 프레임을 통합해서 보는 것이 처리가 수월할 것 같아 병합.\n",
    "all = pd.merge(ratings, movies, how = 'inner', on = None)\n",
    "changed_all = all.drop(['timestamp'], axis = 1) # 필요없는 열 삭제.\n",
    "changed_all"
   ]
  },
  {
   "cell_type": "markdown",
   "id": "august-regard",
   "metadata": {},
   "source": [
    "****"
   ]
  },
  {
   "cell_type": "markdown",
   "id": "vanilla-athens",
   "metadata": {},
   "source": [
    "# Step 2. 분석하기"
   ]
  },
  {
   "cell_type": "code",
   "execution_count": 6,
   "id": "appropriate-recruitment",
   "metadata": {},
   "outputs": [
    {
     "name": "stdout",
     "output_type": "stream",
     "text": [
      "<ratings에 있는 유니크한 영화 개수> \n",
      " 3628\n",
      "<ratings에 있는 유니크한 사용자 수> \n",
      " 6039\n",
      "<가장 인기있는 영화 30개(인기순)>\n",
      "title\n",
      "American Beauty (1999)                                   3211\n",
      "Star Wars: Episode IV - A New Hope (1977)                2910\n",
      "Star Wars: Episode V - The Empire Strikes Back (1980)    2885\n",
      "Star Wars: Episode VI - Return of the Jedi (1983)        2716\n",
      "Saving Private Ryan (1998)                               2561\n",
      "Terminator 2: Judgment Day (1991)                        2509\n",
      "Silence of the Lambs, The (1991)                         2498\n",
      "Raiders of the Lost Ark (1981)                           2473\n",
      "Back to the Future (1985)                                2460\n",
      "Matrix, The (1999)                                       2434\n",
      "Jurassic Park (1993)                                     2413\n",
      "Sixth Sense, The (1999)                                  2385\n",
      "Fargo (1996)                                             2371\n",
      "Braveheart (1995)                                        2314\n",
      "Men in Black (1997)                                      2297\n",
      "Schindler's List (1993)                                  2257\n",
      "Princess Bride, The (1987)                               2252\n",
      "Shakespeare in Love (1998)                               2213\n",
      "L.A. Confidential (1997)                                 2210\n",
      "Shawshank Redemption, The (1994)                         2194\n",
      "Godfather, The (1972)                                    2167\n",
      "Groundhog Day (1993)                                     2121\n",
      "E.T. the Extra-Terrestrial (1982)                        2102\n",
      "Being John Malkovich (1999)                              2066\n",
      "Ghostbusters (1984)                                      2051\n",
      "Pulp Fiction (1994)                                      2030\n",
      "Forrest Gump (1994)                                      2022\n",
      "Terminator, The (1984)                                   2019\n",
      "Toy Story (1995)                                         2000\n",
      "Fugitive, The (1993)                                     1941\n",
      "Name: user_id, dtype: int64\n"
     ]
    }
   ],
   "source": [
    "print('<ratings에 있는 유니크한 영화 개수> \\n', changed_all['title'].nunique()) \n",
    "print('<ratings에 있는 유니크한 사용자 수> \\n', changed_all['user_id'].nunique()) \n",
    "print('<가장 인기있는 영화 30개(인기순)>')\n",
    "movies_count = all.groupby('title')['user_id'].count() #유저가 향하는 영화 추출.\n",
    "print(movies_count.sort_values(ascending=False).head(30))"
   ]
  },
  {
   "cell_type": "markdown",
   "id": "recorded-discussion",
   "metadata": {},
   "source": [
    "> **정말 유명한 영화들만 있는 것보니 맞게 나온 것 같음.     \n",
    "특히 아메리칸 뷰티는 총 89회의 수상과 160회 후보에 지명된 성공적인 영화.**"
   ]
  },
  {
   "cell_type": "markdown",
   "id": "peripheral-incentive",
   "metadata": {},
   "source": [
    "*****"
   ]
  },
  {
   "cell_type": "markdown",
   "id": "practical-occurrence",
   "metadata": {},
   "source": [
    "# Step 3. 내가 선호하는 영화 5가지 골라서 rating에 추가하기"
   ]
  },
  {
   "cell_type": "code",
   "execution_count": 7,
   "id": "burning-variance",
   "metadata": {},
   "outputs": [
    {
     "data": {
      "text/html": [
       "<div>\n",
       "<style scoped>\n",
       "    .dataframe tbody tr th:only-of-type {\n",
       "        vertical-align: middle;\n",
       "    }\n",
       "\n",
       "    .dataframe tbody tr th {\n",
       "        vertical-align: top;\n",
       "    }\n",
       "\n",
       "    .dataframe thead th {\n",
       "        text-align: right;\n",
       "    }\n",
       "</style>\n",
       "<table border=\"1\" class=\"dataframe\">\n",
       "  <thead>\n",
       "    <tr style=\"text-align: right;\">\n",
       "      <th></th>\n",
       "      <th>user_id</th>\n",
       "      <th>movie_id</th>\n",
       "      <th>count</th>\n",
       "      <th>title</th>\n",
       "      <th>genre</th>\n",
       "    </tr>\n",
       "  </thead>\n",
       "  <tbody>\n",
       "    <tr>\n",
       "      <th>577561</th>\n",
       "      <td>19</td>\n",
       "      <td>1982</td>\n",
       "      <td>5</td>\n",
       "      <td>Halloween (1978)</td>\n",
       "      <td>Horror</td>\n",
       "    </tr>\n",
       "    <tr>\n",
       "      <th>577562</th>\n",
       "      <td>33</td>\n",
       "      <td>1982</td>\n",
       "      <td>5</td>\n",
       "      <td>Halloween (1978)</td>\n",
       "      <td>Horror</td>\n",
       "    </tr>\n",
       "    <tr>\n",
       "      <th>577563</th>\n",
       "      <td>46</td>\n",
       "      <td>1982</td>\n",
       "      <td>5</td>\n",
       "      <td>Halloween (1978)</td>\n",
       "      <td>Horror</td>\n",
       "    </tr>\n",
       "    <tr>\n",
       "      <th>577564</th>\n",
       "      <td>53</td>\n",
       "      <td>1982</td>\n",
       "      <td>5</td>\n",
       "      <td>Halloween (1978)</td>\n",
       "      <td>Horror</td>\n",
       "    </tr>\n",
       "    <tr>\n",
       "      <th>577565</th>\n",
       "      <td>58</td>\n",
       "      <td>1982</td>\n",
       "      <td>4</td>\n",
       "      <td>Halloween (1978)</td>\n",
       "      <td>Horror</td>\n",
       "    </tr>\n",
       "    <tr>\n",
       "      <th>...</th>\n",
       "      <td>...</td>\n",
       "      <td>...</td>\n",
       "      <td>...</td>\n",
       "      <td>...</td>\n",
       "      <td>...</td>\n",
       "    </tr>\n",
       "    <tr>\n",
       "      <th>719878</th>\n",
       "      <td>5654</td>\n",
       "      <td>2107</td>\n",
       "      <td>3</td>\n",
       "      <td>Halloween: H20 (1998)</td>\n",
       "      <td>Horror|Thriller</td>\n",
       "    </tr>\n",
       "    <tr>\n",
       "      <th>719879</th>\n",
       "      <td>5663</td>\n",
       "      <td>2107</td>\n",
       "      <td>3</td>\n",
       "      <td>Halloween: H20 (1998)</td>\n",
       "      <td>Horror|Thriller</td>\n",
       "    </tr>\n",
       "    <tr>\n",
       "      <th>719880</th>\n",
       "      <td>5675</td>\n",
       "      <td>2107</td>\n",
       "      <td>3</td>\n",
       "      <td>Halloween: H20 (1998)</td>\n",
       "      <td>Horror|Thriller</td>\n",
       "    </tr>\n",
       "    <tr>\n",
       "      <th>719881</th>\n",
       "      <td>5788</td>\n",
       "      <td>2107</td>\n",
       "      <td>3</td>\n",
       "      <td>Halloween: H20 (1998)</td>\n",
       "      <td>Horror|Thriller</td>\n",
       "    </tr>\n",
       "    <tr>\n",
       "      <th>719882</th>\n",
       "      <td>5929</td>\n",
       "      <td>2107</td>\n",
       "      <td>4</td>\n",
       "      <td>Halloween: H20 (1998)</td>\n",
       "      <td>Horror|Thriller</td>\n",
       "    </tr>\n",
       "  </tbody>\n",
       "</table>\n",
       "<p>889 rows × 5 columns</p>\n",
       "</div>"
      ],
      "text/plain": [
       "        user_id  movie_id  count                  title            genre\n",
       "577561       19      1982      5       Halloween (1978)           Horror\n",
       "577562       33      1982      5       Halloween (1978)           Horror\n",
       "577563       46      1982      5       Halloween (1978)           Horror\n",
       "577564       53      1982      5       Halloween (1978)           Horror\n",
       "577565       58      1982      4       Halloween (1978)           Horror\n",
       "...         ...       ...    ...                    ...              ...\n",
       "719878     5654      2107      3  Halloween: H20 (1998)  Horror|Thriller\n",
       "719879     5663      2107      3  Halloween: H20 (1998)  Horror|Thriller\n",
       "719880     5675      2107      3  Halloween: H20 (1998)  Horror|Thriller\n",
       "719881     5788      2107      3  Halloween: H20 (1998)  Horror|Thriller\n",
       "719882     5929      2107      4  Halloween: H20 (1998)  Horror|Thriller\n",
       "\n",
       "[889 rows x 5 columns]"
      ]
     },
     "execution_count": 7,
     "metadata": {},
     "output_type": "execute_result"
    }
   ],
   "source": [
    "# 무슨 영화제목이 있는지 살펴보기.\n",
    "# 영화가 너무 많으니 제목을 str.contains() 함수를 사용하여 검색해 영화의 존재여부를 파악하겠음.\n",
    "changed_all[changed_all['title'].str.contains('Halloween')]"
   ]
  },
  {
   "cell_type": "code",
   "execution_count": 8,
   "id": "interesting-combining",
   "metadata": {},
   "outputs": [
    {
     "data": {
      "text/html": [
       "<div>\n",
       "<style scoped>\n",
       "    .dataframe tbody tr th:only-of-type {\n",
       "        vertical-align: middle;\n",
       "    }\n",
       "\n",
       "    .dataframe tbody tr th {\n",
       "        vertical-align: top;\n",
       "    }\n",
       "\n",
       "    .dataframe thead th {\n",
       "        text-align: right;\n",
       "    }\n",
       "</style>\n",
       "<table border=\"1\" class=\"dataframe\">\n",
       "  <thead>\n",
       "    <tr style=\"text-align: right;\">\n",
       "      <th></th>\n",
       "      <th>user_id</th>\n",
       "      <th>movie_id</th>\n",
       "      <th>count</th>\n",
       "      <th>title</th>\n",
       "      <th>genre</th>\n",
       "    </tr>\n",
       "  </thead>\n",
       "  <tbody>\n",
       "    <tr>\n",
       "      <th>836473</th>\n",
       "      <td>5851</td>\n",
       "      <td>3607</td>\n",
       "      <td>5</td>\n",
       "      <td>One Little Indian (1973)</td>\n",
       "      <td>Comedy|Drama|Western</td>\n",
       "    </tr>\n",
       "    <tr>\n",
       "      <th>836474</th>\n",
       "      <td>5854</td>\n",
       "      <td>3026</td>\n",
       "      <td>4</td>\n",
       "      <td>Slaughterhouse (1987)</td>\n",
       "      <td>Horror</td>\n",
       "    </tr>\n",
       "    <tr>\n",
       "      <th>836475</th>\n",
       "      <td>5854</td>\n",
       "      <td>690</td>\n",
       "      <td>3</td>\n",
       "      <td>Promise, The (Versprechen, Das) (1994)</td>\n",
       "      <td>Romance</td>\n",
       "    </tr>\n",
       "    <tr>\n",
       "      <th>836476</th>\n",
       "      <td>5938</td>\n",
       "      <td>2909</td>\n",
       "      <td>4</td>\n",
       "      <td>Five Wives, Three Secretaries and Me (1998)</td>\n",
       "      <td>Documentary</td>\n",
       "    </tr>\n",
       "    <tr>\n",
       "      <th>836477</th>\n",
       "      <td>5948</td>\n",
       "      <td>1360</td>\n",
       "      <td>5</td>\n",
       "      <td>Identification of a Woman (Identificazione di ...</td>\n",
       "      <td>Drama</td>\n",
       "    </tr>\n",
       "    <tr>\n",
       "      <th>0</th>\n",
       "      <td>Jeongeun</td>\n",
       "      <td>593</td>\n",
       "      <td>5</td>\n",
       "      <td>Silence of the Lambs, The (1991)</td>\n",
       "      <td>Horror</td>\n",
       "    </tr>\n",
       "    <tr>\n",
       "      <th>1</th>\n",
       "      <td>Jeongeun</td>\n",
       "      <td>1347</td>\n",
       "      <td>5</td>\n",
       "      <td>Nightmare on Elm Street, A (1984)</td>\n",
       "      <td>Horror</td>\n",
       "    </tr>\n",
       "    <tr>\n",
       "      <th>2</th>\n",
       "      <td>Jeongeun</td>\n",
       "      <td>1974</td>\n",
       "      <td>5</td>\n",
       "      <td>Friday the 13th (1980)</td>\n",
       "      <td>Horror</td>\n",
       "    </tr>\n",
       "    <tr>\n",
       "      <th>3</th>\n",
       "      <td>Jeongeun</td>\n",
       "      <td>1982</td>\n",
       "      <td>5</td>\n",
       "      <td>Halloween (1978)</td>\n",
       "      <td>Horror</td>\n",
       "    </tr>\n",
       "    <tr>\n",
       "      <th>4</th>\n",
       "      <td>Jeongeun</td>\n",
       "      <td>1258</td>\n",
       "      <td>5</td>\n",
       "      <td>Shining, The (1980)</td>\n",
       "      <td>Horror</td>\n",
       "    </tr>\n",
       "  </tbody>\n",
       "</table>\n",
       "</div>"
      ],
      "text/plain": [
       "         user_id movie_id  count  \\\n",
       "836473      5851     3607      5   \n",
       "836474      5854     3026      4   \n",
       "836475      5854      690      3   \n",
       "836476      5938     2909      4   \n",
       "836477      5948     1360      5   \n",
       "0       Jeongeun      593      5   \n",
       "1       Jeongeun     1347      5   \n",
       "2       Jeongeun     1974      5   \n",
       "3       Jeongeun     1982      5   \n",
       "4       Jeongeun     1258      5   \n",
       "\n",
       "                                                    title  \\\n",
       "836473                           One Little Indian (1973)   \n",
       "836474                              Slaughterhouse (1987)   \n",
       "836475             Promise, The (Versprechen, Das) (1994)   \n",
       "836476        Five Wives, Three Secretaries and Me (1998)   \n",
       "836477  Identification of a Woman (Identificazione di ...   \n",
       "0                        Silence of the Lambs, The (1991)   \n",
       "1                       Nightmare on Elm Street, A (1984)   \n",
       "2                                  Friday the 13th (1980)   \n",
       "3                                        Halloween (1978)   \n",
       "4                                     Shining, The (1980)   \n",
       "\n",
       "                       genre  \n",
       "836473  Comedy|Drama|Western  \n",
       "836474                Horror  \n",
       "836475               Romance  \n",
       "836476           Documentary  \n",
       "836477                 Drama  \n",
       "0                     Horror  \n",
       "1                     Horror  \n",
       "2                     Horror  \n",
       "3                     Horror  \n",
       "4                     Horror  "
      ]
     },
     "execution_count": 8,
     "metadata": {},
     "output_type": "execute_result"
    }
   ],
   "source": [
    "# 내가 선호하는 영화 데이터를 추가.\n",
    "my_favorite = ['Silence of the Lambs, The (1991)' , 'Nightmare on Elm Street, A (1984)' ,'Friday the 13th (1980)' ,'Halloween (1978)' ,'Shining, The (1980)']\n",
    "\n",
    "# 'Jeongeun'이라는 user_id의 해당 영화들 시청횟수(별점)는 5라고 가정.\n",
    "my_playlist = pd.DataFrame({'user_id': ['Jeongeun']*5, 'movie_id' : ['593', '1347', '1974', '1982', '1258'],'title': my_favorite, 'count':5, 'genre':'Horror'})\n",
    "\n",
    "if not changed_all.isin({'user_id':['Jeongeun']})['user_id'].any():  # user_id에 'Jeongeun'이라는 데이터가 없다면,\n",
    "    changed_all = changed_all.append(my_playlist)                           # 위에 임의로 만든 my_favorite 데이터를 추가해주기. \n",
    "\n",
    "changed_all.tail(10)       # 잘 추가되었는지 확인해보기."
   ]
  },
  {
   "cell_type": "code",
   "execution_count": 9,
   "id": "indirect-reviewer",
   "metadata": {},
   "outputs": [],
   "source": [
    "# 고유한 유저, 영화를 찾아내는 코드\n",
    "user_unique = changed_all['user_id'].unique()\n",
    "title_unique = changed_all['title'].unique()\n",
    "\n",
    "user_to_idx = {v:k for k,v in enumerate(user_unique)}\n",
    "title_to_idx = {v:k for k,v in enumerate(title_unique)}"
   ]
  },
  {
   "cell_type": "code",
   "execution_count": 10,
   "id": "stuffed-antibody",
   "metadata": {},
   "outputs": [
    {
     "name": "stdout",
     "output_type": "stream",
     "text": [
      "6039\n",
      "121\n"
     ]
    }
   ],
   "source": [
    "# 인덱싱이 잘 되었는지 확인. \n",
    "print(user_to_idx['Jeongeun']) # O.K.   \n",
    "print(title_to_idx['Silence of the Lambs, The (1991)']) # O.K"
   ]
  },
  {
   "cell_type": "code",
   "execution_count": 11,
   "id": "hungarian-cincinnati",
   "metadata": {},
   "outputs": [
    {
     "name": "stdout",
     "output_type": "stream",
     "text": [
      "user_id column indexing OK!!\n",
      "title column indexing OK!!\n"
     ]
    },
    {
     "data": {
      "text/html": [
       "<div>\n",
       "<style scoped>\n",
       "    .dataframe tbody tr th:only-of-type {\n",
       "        vertical-align: middle;\n",
       "    }\n",
       "\n",
       "    .dataframe tbody tr th {\n",
       "        vertical-align: top;\n",
       "    }\n",
       "\n",
       "    .dataframe thead th {\n",
       "        text-align: right;\n",
       "    }\n",
       "</style>\n",
       "<table border=\"1\" class=\"dataframe\">\n",
       "  <thead>\n",
       "    <tr style=\"text-align: right;\">\n",
       "      <th></th>\n",
       "      <th>user_id</th>\n",
       "      <th>movie_id</th>\n",
       "      <th>count</th>\n",
       "      <th>title</th>\n",
       "      <th>genre</th>\n",
       "    </tr>\n",
       "  </thead>\n",
       "  <tbody>\n",
       "    <tr>\n",
       "      <th>0</th>\n",
       "      <td>0</td>\n",
       "      <td>1193</td>\n",
       "      <td>5</td>\n",
       "      <td>0</td>\n",
       "      <td>Drama</td>\n",
       "    </tr>\n",
       "    <tr>\n",
       "      <th>1</th>\n",
       "      <td>1</td>\n",
       "      <td>1193</td>\n",
       "      <td>5</td>\n",
       "      <td>0</td>\n",
       "      <td>Drama</td>\n",
       "    </tr>\n",
       "    <tr>\n",
       "      <th>2</th>\n",
       "      <td>2</td>\n",
       "      <td>1193</td>\n",
       "      <td>4</td>\n",
       "      <td>0</td>\n",
       "      <td>Drama</td>\n",
       "    </tr>\n",
       "    <tr>\n",
       "      <th>3</th>\n",
       "      <td>3</td>\n",
       "      <td>1193</td>\n",
       "      <td>4</td>\n",
       "      <td>0</td>\n",
       "      <td>Drama</td>\n",
       "    </tr>\n",
       "    <tr>\n",
       "      <th>4</th>\n",
       "      <td>4</td>\n",
       "      <td>1193</td>\n",
       "      <td>5</td>\n",
       "      <td>0</td>\n",
       "      <td>Drama</td>\n",
       "    </tr>\n",
       "    <tr>\n",
       "      <th>...</th>\n",
       "      <td>...</td>\n",
       "      <td>...</td>\n",
       "      <td>...</td>\n",
       "      <td>...</td>\n",
       "      <td>...</td>\n",
       "    </tr>\n",
       "    <tr>\n",
       "      <th>0</th>\n",
       "      <td>6039</td>\n",
       "      <td>593</td>\n",
       "      <td>5</td>\n",
       "      <td>121</td>\n",
       "      <td>Horror</td>\n",
       "    </tr>\n",
       "    <tr>\n",
       "      <th>1</th>\n",
       "      <td>6039</td>\n",
       "      <td>1347</td>\n",
       "      <td>5</td>\n",
       "      <td>1596</td>\n",
       "      <td>Horror</td>\n",
       "    </tr>\n",
       "    <tr>\n",
       "      <th>2</th>\n",
       "      <td>6039</td>\n",
       "      <td>1974</td>\n",
       "      <td>5</td>\n",
       "      <td>1015</td>\n",
       "      <td>Horror</td>\n",
       "    </tr>\n",
       "    <tr>\n",
       "      <th>3</th>\n",
       "      <td>6039</td>\n",
       "      <td>1982</td>\n",
       "      <td>5</td>\n",
       "      <td>1016</td>\n",
       "      <td>Horror</td>\n",
       "    </tr>\n",
       "    <tr>\n",
       "      <th>4</th>\n",
       "      <td>6039</td>\n",
       "      <td>1258</td>\n",
       "      <td>5</td>\n",
       "      <td>993</td>\n",
       "      <td>Horror</td>\n",
       "    </tr>\n",
       "  </tbody>\n",
       "</table>\n",
       "<p>836483 rows × 5 columns</p>\n",
       "</div>"
      ],
      "text/plain": [
       "    user_id movie_id  count  title   genre\n",
       "0         0     1193      5      0   Drama\n",
       "1         1     1193      5      0   Drama\n",
       "2         2     1193      4      0   Drama\n",
       "3         3     1193      4      0   Drama\n",
       "4         4     1193      5      0   Drama\n",
       "..      ...      ...    ...    ...     ...\n",
       "0      6039      593      5    121  Horror\n",
       "1      6039     1347      5   1596  Horror\n",
       "2      6039     1974      5   1015  Horror\n",
       "3      6039     1982      5   1016  Horror\n",
       "4      6039     1258      5    993  Horror\n",
       "\n",
       "[836483 rows x 5 columns]"
      ]
     },
     "execution_count": 11,
     "metadata": {},
     "output_type": "execute_result"
    }
   ],
   "source": [
    "# indexing을 통해 데이터 컬럼 내 값을 바꾸는 코드\n",
    "\n",
    "# get(x) 함수: x라는 Key에 대응되는 Value를 반환. \n",
    "# map() 함수는 반복가능한 iterable객체를 받아서, 각 요소에 함수를 적용.\n",
    "\n",
    "# user_to_idx.get을 통해 user_id 컬럼의 모든 값을 인덱싱한 Series를 구하기. \n",
    "# 혹시 정상적으로 인덱싱되지 않은 row가 있다면 인덱스가 NaN이 될 테니 dropna()로 제거. \n",
    "temp_user_data = changed_all['user_id'].map(user_to_idx.get).dropna()\n",
    "if len(temp_user_data) == len(changed_all):   # 모든 row가 정상적으로 인덱싱되었다면,\n",
    "    print('user_id column indexing OK!!')\n",
    "    changed_all['user_id'] = temp_user_data   # data['user_id']을 인덱싱된 Series로 교체. \n",
    "else:\n",
    "    print('user_id column indexing Fail!!')\n",
    "\n",
    "# title_to_idx을 통해 title 컬럼도 동일한 방식으로 인덱싱해 줍니다. \n",
    "temp_title_data = changed_all['title'].map(title_to_idx.get).dropna()\n",
    "if len(temp_title_data) == len(changed_all):\n",
    "    print('title column indexing OK!!')\n",
    "    changed_all['title'] = temp_title_data\n",
    "else:\n",
    "    print('title column indexing Fail!!')\n",
    "\n",
    "changed_all"
   ]
  },
  {
   "cell_type": "markdown",
   "id": "excess-mouse",
   "metadata": {},
   "source": [
    "*****"
   ]
  },
  {
   "cell_type": "markdown",
   "id": "indonesian-aurora",
   "metadata": {},
   "source": [
    "> |      |   |   |\n",
    "|------|---|---|\n",
    "|명시적|좋아요, 별점 등|\n",
    "|암묵적|플레이 횟수, 시청 횟수 등|\n",
    "\n",
    "**--> 시청 횟수가 5에 가까울수록 해당 영화를 더 좋아한다고 판단.**"
   ]
  },
  {
   "cell_type": "markdown",
   "id": "certain-clearance",
   "metadata": {},
   "source": [
    "*****"
   ]
  },
  {
   "cell_type": "markdown",
   "id": "silver-clinic",
   "metadata": {},
   "source": [
    "# Step 4. CSR matrix 구현하기"
   ]
  },
  {
   "cell_type": "code",
   "execution_count": 12,
   "id": "second-prospect",
   "metadata": {},
   "outputs": [
    {
     "data": {
      "text/plain": [
       "<6040x3628 sparse matrix of type '<class 'numpy.int64'>'\n",
       "\twith 836483 stored elements in Compressed Sparse Row format>"
      ]
     },
     "execution_count": 12,
     "metadata": {},
     "output_type": "execute_result"
    }
   ],
   "source": [
    "from scipy.sparse import csr_matrix\n",
    "\n",
    "num_user = changed_all['user_id'].nunique()\n",
    "num_title = changed_all['title'].nunique()\n",
    "csr_data = csr_matrix((changed_all['count'], (changed_all.user_id, changed_all.title)), shape = (num_user, num_title))\n",
    "csr_data"
   ]
  },
  {
   "cell_type": "markdown",
   "id": "funny-production",
   "metadata": {},
   "source": [
    "*****"
   ]
  },
  {
   "cell_type": "markdown",
   "id": "failing-southwest",
   "metadata": {},
   "source": [
    "# Step 5. MF 모델 구성 및 훈련하기"
   ]
  },
  {
   "cell_type": "code",
   "execution_count": 13,
   "id": "eleven-operator",
   "metadata": {},
   "outputs": [],
   "source": [
    "# implicit 패키지: 암묵적인 데이셋을 사용하는 다양한 모델을 빠르게 학습할 수 있음.\n",
    "# als(AlternatingLeastSquares) 모델을 사용할 것.\n",
    "# 한쪽을 고정시키고 다른 쪽을 학습하는 방식을 번갈아 수행.\n",
    "\n",
    "from implicit.als import AlternatingLeastSquares\n",
    "import os\n",
    "import numpy as np\n",
    "\n",
    "os.environ['OPENBLAS_NUM_THREADS']='1'\n",
    "os.environ['KMP_DUPLICATE_LIB_OK']='True'\n",
    "os.environ['MKL_NUM_THREADS']='1'"
   ]
  },
  {
   "cell_type": "code",
   "execution_count": 14,
   "id": "appropriate-attachment",
   "metadata": {},
   "outputs": [],
   "source": [
    "# Implicit AlternatingLeastSquares 모델의 선언\n",
    "# <클래스 __init__ 파라미터>\n",
    "# factors: 유저와 아이템의 벡터를 몇 차원으로 할 것인지(과적합 요소)\n",
    "# reguarization: 과적합을 방지하기 위해 정규화 값을 얼마나 쓸 것인지\n",
    "# use GPU: GPU를 사용할 것인지\n",
    "# iteration: 데이터를 얼마나 반복해서 학습할 것인지(과적합 요소)\n",
    "als_model = AlternatingLeastSquares(factors=200, \n",
    "                                    regularization=0.01, \n",
    "                                    use_gpu=False, \n",
    "                                    iterations=20, \n",
    "                                    dtype=np.float32)"
   ]
  },
  {
   "cell_type": "code",
   "execution_count": 15,
   "id": "final-philip",
   "metadata": {},
   "outputs": [
    {
     "data": {
      "text/plain": [
       "<3628x6040 sparse matrix of type '<class 'numpy.int64'>'\n",
       "\twith 836483 stored elements in Compressed Sparse Column format>"
      ]
     },
     "execution_count": 15,
     "metadata": {},
     "output_type": "execute_result"
    }
   ],
   "source": [
    "# als 모델은 input으로 (item X user 꼴의 matrix를 받기 때문에 Transpose 필요.)\n",
    "csr_data_transpose = csr_data.T\n",
    "csr_data_transpose"
   ]
  },
  {
   "cell_type": "code",
   "execution_count": 16,
   "id": "deadly-science",
   "metadata": {},
   "outputs": [
    {
     "data": {
      "application/vnd.jupyter.widget-view+json": {
       "model_id": "16fddb49d168415b8478627e1fea6dbc",
       "version_major": 2,
       "version_minor": 0
      },
      "text/plain": [
       "  0%|          | 0/20 [00:00<?, ?it/s]"
      ]
     },
     "metadata": {},
     "output_type": "display_data"
    }
   ],
   "source": [
    "# 모델 훈련\n",
    "als_model.fit(csr_data_transpose)"
   ]
  },
  {
   "cell_type": "markdown",
   "id": "inclusive-brush",
   "metadata": {},
   "source": [
    "*****"
   ]
  },
  {
   "cell_type": "markdown",
   "id": "narrative-shaft",
   "metadata": {},
   "source": [
    "# Step 6. 모델이 예측한 나의 선호도를 파악해보기"
   ]
  },
  {
   "cell_type": "markdown",
   "id": "tired-litigation",
   "metadata": {},
   "source": [
    "> **내가 선호하는 5가지 영화 중 하나와 그 외의 영화 하나를 골라 훈련된 모델이 예측한 나의 선호도를 파악하기.**"
   ]
  },
  {
   "cell_type": "code",
   "execution_count": 17,
   "id": "textile-triple",
   "metadata": {},
   "outputs": [],
   "source": [
    "# 모델이 나의 벡터와 양들의 침묵 벡터를 어떻게 만들고 있는지?\n",
    "# 두 벡터를 곱하면 어떤 값이 나오는지?\n",
    "je, hannibal = user_to_idx['Jeongeun'], title_to_idx['Silence of the Lambs, The (1991)']\n",
    "je_vector, hannibal_vector = als_model.user_factors[je], als_model.item_factors[hannibal]"
   ]
  },
  {
   "cell_type": "code",
   "execution_count": 18,
   "id": "agricultural-municipality",
   "metadata": {},
   "outputs": [
    {
     "data": {
      "text/plain": [
       "array([-2.24876314e-01,  2.52989829e-01,  4.51686680e-01,  1.18981443e-01,\n",
       "       -5.38300335e-01,  2.28627577e-01,  1.49531960e-02,  4.60380793e-01,\n",
       "       -4.23153728e-01, -8.40134472e-02,  9.40670744e-02,  2.73073651e-02,\n",
       "        2.69394249e-01, -4.24735188e-01,  4.20425922e-01, -5.98962367e-01,\n",
       "        1.07404292e+00, -5.02606094e-01,  2.28568017e-01,  9.52712372e-02,\n",
       "       -7.84393072e-01, -2.52932042e-01, -5.98913670e-01,  9.94185656e-02,\n",
       "       -4.52209897e-02, -1.13811865e-01,  8.36396124e-03, -2.51660049e-01,\n",
       "       -2.90288895e-01,  1.69362456e-01,  7.45073408e-02, -5.74864209e-01,\n",
       "       -1.68727592e-01,  6.02653742e-01,  6.42999947e-01,  6.40340924e-01,\n",
       "       -4.72548008e-01, -2.58442104e-01,  3.62725109e-01, -4.02045362e-02,\n",
       "       -1.48359969e-01,  4.18911800e-02, -2.71700602e-02, -8.70293453e-02,\n",
       "       -1.25431478e-01,  2.62761861e-01,  2.63441861e-01, -5.44630848e-02,\n",
       "       -8.75019208e-02,  3.50106299e-01, -1.13851048e-01,  7.01303124e-01,\n",
       "       -4.21949863e-01,  3.53066295e-01, -2.58787483e-01, -1.23139501e-01,\n",
       "        1.01717353e+00,  2.35852804e-02, -4.37132984e-01,  3.01368888e-02,\n",
       "        1.63230404e-01,  4.98892993e-01, -3.48875999e-01,  2.14831620e-01,\n",
       "       -6.00582898e-01,  2.16611013e-01,  4.32491452e-01,  3.15183818e-01,\n",
       "        6.71597123e-01,  4.49345320e-01, -3.49590480e-01, -2.60664046e-01,\n",
       "       -2.01041251e-01, -7.95644641e-01, -5.86918950e-01, -7.22026587e-01,\n",
       "       -2.87500709e-01, -2.96051383e-01, -9.83277559e-01,  3.70897293e-01,\n",
       "       -6.04808442e-02, -5.58924198e-01,  8.54475424e-02, -7.84495234e-01,\n",
       "       -7.36031085e-02, -1.63375467e-01, -2.77971715e-01, -2.43050680e-01,\n",
       "        6.70139566e-02, -3.97996128e-01,  2.90003926e-01,  5.23176670e-01,\n",
       "        6.23741806e-01,  1.95832461e-01, -1.22863814e-01, -7.69779906e-02,\n",
       "        3.04677099e-01,  8.49557877e-01,  4.73717451e-01,  6.66788340e-01,\n",
       "       -4.92336988e-01, -3.42342220e-02, -1.88138366e-01,  1.45415157e-01,\n",
       "       -2.73643702e-01, -3.73210579e-01,  2.48938337e-01,  2.24102333e-01,\n",
       "        1.30508438e-01,  5.54255009e-01,  1.21753953e-01,  1.50845826e-01,\n",
       "        2.97861807e-02,  2.58488446e-01, -1.29946381e-01,  3.58051449e-01,\n",
       "        4.03022110e-01, -3.96445692e-01,  2.79046565e-01,  5.46229668e-02,\n",
       "       -1.91737100e-01, -5.00852525e-01, -2.61524022e-01,  4.87648472e-02,\n",
       "        5.26316345e-01,  1.34781878e-02, -1.93137050e-01,  2.22967133e-01,\n",
       "        3.33838373e-01,  3.25587004e-01, -6.16454661e-01,  1.28844902e-01,\n",
       "        4.59231138e-01, -6.46149158e-01,  2.95147598e-01,  4.65375483e-02,\n",
       "       -6.81928933e-01,  4.20117766e-01,  1.16805173e-01, -2.53944069e-01,\n",
       "        2.42883876e-01, -1.12724587e-01,  4.52640802e-02, -1.88933089e-01,\n",
       "        4.45363931e-02,  3.94526213e-01, -1.88592121e-01,  3.60801935e-01,\n",
       "        1.79132998e-01,  3.94306093e-01, -4.21716601e-01,  2.24152785e-02,\n",
       "        4.12091017e-02,  8.81554484e-01,  3.56837660e-01, -2.73712933e-01,\n",
       "       -3.12352955e-01,  1.83412239e-01, -1.51820779e-01,  4.92381543e-01,\n",
       "        3.17761838e-01,  6.06681347e-01, -3.75893146e-01,  1.71999291e-01,\n",
       "       -8.69916379e-03,  1.33853093e-01, -5.27833104e-01,  1.08783565e-01,\n",
       "        3.69893491e-01, -4.75030750e-01, -3.83406937e-01, -1.48716196e-01,\n",
       "       -2.97567863e-02,  5.53818978e-02, -1.23688392e-01, -1.74204215e-01,\n",
       "        6.37240708e-02,  6.76472902e-01, -4.94118571e-01,  3.07162311e-02,\n",
       "       -4.61831778e-01, -2.94886559e-01,  4.40397859e-01,  8.26141000e-01,\n",
       "        6.75659120e-01,  2.73889989e-01,  8.16640183e-02,  2.15790361e-01,\n",
       "       -5.78204572e-01, -9.32656054e-04, -4.10243869e-01, -3.54016364e-01,\n",
       "       -6.21330917e-01, -2.34421298e-01, -4.88828808e-01, -7.82485425e-01,\n",
       "       -1.77755132e-01,  2.85080284e-01,  1.43178940e-01,  5.04327178e-01],\n",
       "      dtype=float32)"
      ]
     },
     "execution_count": 18,
     "metadata": {},
     "output_type": "execute_result"
    }
   ],
   "source": [
    "# 사용자 특성 벡터.\n",
    "je_vector"
   ]
  },
  {
   "cell_type": "code",
   "execution_count": 19,
   "id": "distributed-minutes",
   "metadata": {},
   "outputs": [
    {
     "data": {
      "text/plain": [
       "array([-1.14167854e-02,  3.47935446e-02,  1.59750171e-02,  2.00154111e-02,\n",
       "       -1.25384554e-02,  1.61368828e-02,  2.07039490e-02,  3.93672623e-02,\n",
       "        8.76043178e-03,  4.40277951e-03,  2.19393596e-02,  4.88438411e-03,\n",
       "        1.78304929e-02, -2.12246533e-02, -2.47934717e-03, -1.41159426e-02,\n",
       "        3.80273275e-02, -8.07626639e-03,  9.37246345e-03,  4.81730551e-02,\n",
       "       -1.01090316e-02, -1.13326227e-02, -1.33096743e-02, -1.71973296e-02,\n",
       "        1.72781721e-02,  1.33744841e-02, -1.83969494e-02, -3.00927199e-02,\n",
       "       -7.37066567e-03, -3.79429897e-03,  5.69224358e-02, -1.11099863e-02,\n",
       "       -2.45095454e-02,  2.87383664e-02,  2.90545151e-02,  4.21362743e-03,\n",
       "       -3.08069238e-03, -3.52568254e-02,  2.48408469e-04,  2.65479903e-03,\n",
       "        2.48706173e-02,  8.11007898e-03,  2.28848886e-02, -1.43425288e-02,\n",
       "       -1.36599634e-02, -2.51755342e-02,  6.68636523e-03,  1.18027050e-02,\n",
       "        1.07763391e-02, -2.33492604e-03,  1.07876514e-03,  1.49315251e-02,\n",
       "       -7.19137723e-03, -8.79184343e-03,  1.32472123e-04,  2.49631982e-02,\n",
       "        3.64653096e-02,  1.31768137e-02, -2.36404175e-03, -1.90589987e-02,\n",
       "       -3.40523850e-03,  1.10120862e-03, -1.99972652e-02,  7.95757957e-03,\n",
       "       -2.13733986e-02, -2.30480265e-02,  4.84324805e-02,  2.06215195e-02,\n",
       "        3.26144211e-02,  1.20137995e-02, -1.03549100e-02, -3.47276987e-03,\n",
       "       -1.19783320e-02, -2.82542389e-02, -4.40049823e-03, -1.73364710e-02,\n",
       "       -2.94540655e-02, -1.48887420e-02,  1.56108653e-02, -1.14229729e-03,\n",
       "        2.92352699e-02, -1.40895024e-02,  1.27230994e-02, -3.51927849e-03,\n",
       "       -6.82758819e-03, -5.49256289e-03, -1.48703866e-02,  1.93860773e-02,\n",
       "        9.64641105e-03, -8.83783028e-03,  2.18668766e-02,  3.54873873e-02,\n",
       "        4.12177145e-02,  1.12426253e-02, -2.05585994e-02,  1.16885686e-02,\n",
       "        8.40793364e-03,  2.94569749e-02,  2.39913240e-02,  3.21518048e-03,\n",
       "       -1.90077827e-03, -1.14983814e-02,  3.06501407e-02,  1.91743183e-03,\n",
       "        2.67108139e-02, -3.15393806e-02, -8.67010746e-03,  2.46605799e-02,\n",
       "        4.65773530e-02,  2.56753936e-02,  4.20079157e-02, -1.19363096e-06,\n",
       "       -1.15802148e-02, -4.90537845e-03, -1.24844369e-02, -7.03710038e-03,\n",
       "        2.91662253e-02,  1.54618146e-02,  1.09410537e-02,  2.93766595e-02,\n",
       "        1.06985886e-02, -3.82628143e-02, -1.26636901e-03,  2.17537750e-02,\n",
       "        4.56145853e-02,  6.92757266e-03, -1.28212543e-02,  1.79471150e-02,\n",
       "        2.86321696e-02,  1.66123211e-02, -2.87881400e-03,  2.24108342e-02,\n",
       "        1.22866379e-02, -1.76292080e-02, -4.70676133e-03,  2.54539913e-03,\n",
       "       -5.44633577e-03,  3.21581475e-02,  1.06744654e-02, -2.06124932e-02,\n",
       "       -2.26121699e-03,  1.21046975e-02,  4.12427494e-03, -9.02453624e-03,\n",
       "        2.00279821e-02, -1.26099540e-02,  2.53814869e-02,  3.19080167e-02,\n",
       "        1.83963981e-02,  1.52676208e-02, -9.17977653e-04, -2.32696952e-03,\n",
       "       -6.09878590e-03,  2.68097799e-02, -9.35930759e-03, -2.64178794e-02,\n",
       "       -1.77664049e-02,  6.55792141e-03, -1.13124587e-02,  2.28855610e-02,\n",
       "        2.41644643e-02,  3.14510874e-02, -5.03519457e-03,  6.61670091e-03,\n",
       "        3.20288613e-02, -7.13529112e-03, -4.27672779e-03,  4.20771316e-02,\n",
       "        2.21475363e-02,  1.66848442e-03, -1.15974830e-03, -2.51605585e-02,\n",
       "       -2.65840441e-03,  2.62923609e-03, -1.77981034e-02,  8.26570112e-03,\n",
       "        1.43847885e-02,  1.12168146e-02, -2.97245570e-04, -1.19734965e-02,\n",
       "        1.03210034e-02,  8.06241529e-04,  3.42163071e-02,  9.00266599e-03,\n",
       "        2.12134384e-02,  2.10854076e-02,  1.56117314e-02, -4.75495635e-03,\n",
       "       -2.57669128e-02,  4.82869986e-03,  1.48807568e-02,  1.62162557e-02,\n",
       "       -3.63454670e-02,  2.25509014e-02, -1.90309330e-03,  3.18807270e-03,\n",
       "       -9.54617932e-03,  1.54803619e-02, -3.53663554e-03, -1.68598946e-02],\n",
       "      dtype=float32)"
      ]
     },
     "execution_count": 19,
     "metadata": {},
     "output_type": "execute_result"
    }
   ],
   "source": [
    "# 영화의 특성 벡터.\n",
    "hannibal_vector"
   ]
  },
  {
   "cell_type": "markdown",
   "id": "guided-realtor",
   "metadata": {},
   "source": [
    "*****"
   ]
  },
  {
   "cell_type": "markdown",
   "id": "supreme-school",
   "metadata": {},
   "source": [
    "> **양들의 침묵을 제외한 내가 선호하는 영화들의 특성벡터 4개와      \n",
    "내가 선호하지 않는 장르의 영화들의 특성벡터 5개를 뽑아 비교해보기.**"
   ]
  },
  {
   "cell_type": "code",
   "execution_count": 20,
   "id": "partial-career",
   "metadata": {},
   "outputs": [],
   "source": [
    "# 내가 선호하는 영화들.\n",
    "freddy, jason, michael, jack = title_to_idx['Nightmare on Elm Street, A (1984)'], title_to_idx['Friday the 13th (1980)'], title_to_idx['Halloween (1978)'], title_to_idx['Shining, The (1980)']\n",
    "freddy_vector, jason_vector, michael_vector, jack_vector = als_model.item_factors[freddy], als_model.item_factors[jason], als_model.item_factors[michael], als_model.item_factors[jack]"
   ]
  },
  {
   "cell_type": "code",
   "execution_count": 21,
   "id": "specified-maine",
   "metadata": {},
   "outputs": [],
   "source": [
    "# 내가 선호하지 않는 영화들.\n",
    "documentary, romance, action, drama, noir = title_to_idx['Five Wives, Three Secretaries and Me (1998)'], title_to_idx['Shakespeare in Love (1998)'], title_to_idx['Terminator, The (1984)'], title_to_idx['Cry, the Beloved Country (1995)'], title_to_idx['Godfather: Part II, The (1974)']\n",
    "documentary_vector, romance_vector, action_vector, drama_vector, noir_vector = als_model.item_factors[documentary], als_model.item_factors[romance], als_model.item_factors[action], als_model.item_factors[drama], als_model.item_factors[noir]"
   ]
  },
  {
   "cell_type": "code",
   "execution_count": 22,
   "id": "statewide-mission",
   "metadata": {},
   "outputs": [
    {
     "name": "stdout",
     "output_type": "stream",
     "text": [
      "나의 '양들의 침묵' 선호도 :  0.7829621\n",
      "나의 '나이트메어' 선호도 :  0.48310548\n",
      "나의 '13일의 금요일' 선호도 :  0.36932218\n",
      "나의 '할로윈' 선호도 :  0.4918215\n",
      "나의 '더 샤이닝' 선호도 :  0.65013444\n"
     ]
    }
   ],
   "source": [
    "# 내가 선호하는 영화들의 선호도.\n",
    "print('나의 \\'양들의 침묵\\' 선호도 : ', np.dot(je_vector, hannibal_vector))\n",
    "print('나의 \\'나이트메어\\' 선호도 : ',np.dot(je_vector, freddy_vector)) \n",
    "print('나의 \\'13일의 금요일\\' 선호도 : ',np.dot(je_vector, jason_vector))\n",
    "print('나의 \\'할로윈\\' 선호도 : ',np.dot(je_vector, michael_vector))\n",
    "print('나의 \\'더 샤이닝\\' 선호도 : ',np.dot(je_vector, jack_vector))"
   ]
  },
  {
   "cell_type": "code",
   "execution_count": 23,
   "id": "organic-niger",
   "metadata": {},
   "outputs": [
    {
     "name": "stdout",
     "output_type": "stream",
     "text": [
      "나의 '다큐멘터리 영화' 선호도 :  -0.0013576323\n",
      "나의 '로맨스 영화' 선호도 :  -0.08967075\n",
      "나의 '액션 영화' 선호도 :  0.109267816\n",
      "나의 '드라마 영화' 선호도 :  0.01802406\n",
      "나의 '느와르 영화' 선호도 :  -0.021028342\n"
     ]
    }
   ],
   "source": [
    "# 내가 선호하지 않는 영화들의 선호도.\n",
    "print('나의 \\'다큐멘터리 영화\\' 선호도 : ',np.dot(je_vector, documentary_vector))\n",
    "print('나의 \\'로맨스 영화\\' 선호도 : ',np.dot(je_vector, romance_vector))\n",
    "print('나의 \\'액션 영화\\' 선호도 : ',np.dot(je_vector, action_vector))\n",
    "print('나의 \\'드라마 영화\\' 선호도 : ',np.dot(je_vector, drama_vector))\n",
    "print('나의 \\'느와르 영화\\' 선호도 : ',np.dot(je_vector, noir_vector))"
   ]
  },
  {
   "cell_type": "markdown",
   "id": "european-benefit",
   "metadata": {},
   "source": [
    "> **내가 좋아하는 영화는 대부분 Horro 장르이기 때문에 Romance 장르의 영화는 선호도가 떨어짐을 확인할 수 있음.**"
   ]
  },
  {
   "cell_type": "markdown",
   "id": "corrected-hollow",
   "metadata": {},
   "source": [
    "*****"
   ]
  },
  {
   "cell_type": "markdown",
   "id": "urban-circle",
   "metadata": {},
   "source": [
    "# Step 7. 내가 좋아하는 영화와 비슷한 영화 추천 받기"
   ]
  },
  {
   "cell_type": "code",
   "execution_count": 24,
   "id": "critical-rochester",
   "metadata": {},
   "outputs": [
    {
     "data": {
      "text/plain": [
       "[(1681, 0.9999999),\n",
       " (1399, 0.68574643),\n",
       " (2170, 0.6345794),\n",
       " (2148, 0.6276704),\n",
       " (883, 0.620286),\n",
       " (2084, 0.60858554),\n",
       " (1782, 0.6046609),\n",
       " (1390, 0.5987861),\n",
       " (889, 0.5918769),\n",
       " (2843, 0.5887726),\n",
       " (1404, 0.587454),\n",
       " (990, 0.584716),\n",
       " (1680, 0.58236605),\n",
       " (1100, 0.567998),\n",
       " (1596, 0.56296474)]"
      ]
     },
     "execution_count": 24,
     "metadata": {},
     "output_type": "execute_result"
    }
   ],
   "source": [
    "favorite_movie = 'Re-Animator (1985)' # 좀비 영화.\n",
    "title_id = title_to_idx[favorite_movie]\n",
    "similar_movie = als_model.similar_items(title_id, N=15)\n",
    "similar_movie"
   ]
  },
  {
   "cell_type": "code",
   "execution_count": 25,
   "id": "contemporary-illinois",
   "metadata": {},
   "outputs": [
    {
     "data": {
      "text/plain": [
       "['Re-Animator (1985)',\n",
       " 'Howling, The (1980)',\n",
       " 'Fog, The (1980)',\n",
       " 'Bride of Re-Animator (1990)',\n",
       " 'Phantasm (1979)',\n",
       " 'Phantasm II (1988)',\n",
       " 'Fright Night (1985)',\n",
       " 'Near Dark (1987)',\n",
       " 'Hidden, The (1987)',\n",
       " 'Believers, The (1987)',\n",
       " 'Texas Chainsaw Massacre, The (1974)',\n",
       " 'American Werewolf in London, An (1981)',\n",
       " 'Cemetery Man (Dellamorte Dellamore) (1994)',\n",
       " 'House (1986)',\n",
       " 'Nightmare on Elm Street, A (1984)']"
      ]
     },
     "execution_count": 25,
     "metadata": {},
     "output_type": "execute_result"
    }
   ],
   "source": [
    "# title_to_idx 를 뒤집어, index로부터 영화제목을 얻는 dict를 생성. \n",
    "idx_to_title = {v:k for k,v in title_to_idx.items()}\n",
    "[idx_to_title[i[0]] for i in similar_movie]"
   ]
  },
  {
   "cell_type": "code",
   "execution_count": 26,
   "id": "designing-boating",
   "metadata": {},
   "outputs": [],
   "source": [
    "# 비슷한 영화를 찾아오는 함수로 만들기\n",
    "def get_similar_movie(title_name: str):\n",
    "    title_id = title_to_idx[title_name]\n",
    "    similar_movie = als_model.similar_items(title_id)\n",
    "    similar_movie = [idx_to_title[i[0]] for i in similar_movie]\n",
    "    return similar_movie"
   ]
  },
  {
   "cell_type": "code",
   "execution_count": 27,
   "id": "thrown-broadcast",
   "metadata": {},
   "outputs": [
    {
     "data": {
      "text/plain": [
       "['Cemetery Man (Dellamorte Dellamore) (1994)',\n",
       " 'Two Thousand Maniacs! (1964)',\n",
       " 'Castle Freak (1995)',\n",
       " 'Braindead (1992)',\n",
       " 'Night of the Creeps (1986)',\n",
       " 'Fury, The (1978)',\n",
       " 'Hello Mary Lou: Prom Night II (1987)',\n",
       " 'Bride of Re-Animator (1990)',\n",
       " 'Addiction, The (1995)',\n",
       " 'Burnt Offerings (1976)']"
      ]
     },
     "execution_count": 27,
     "metadata": {},
     "output_type": "execute_result"
    }
   ],
   "source": [
    "get_similar_movie('Cemetery Man (Dellamorte Dellamore) (1994)')"
   ]
  },
  {
   "cell_type": "markdown",
   "id": "aging-offset",
   "metadata": {},
   "source": [
    "*****"
   ]
  },
  {
   "cell_type": "markdown",
   "id": "cleared-windsor",
   "metadata": {},
   "source": [
    "# Step 8. 내가 가장 좋아할 만한 영화들 추천 받기"
   ]
  },
  {
   "cell_type": "code",
   "execution_count": 28,
   "id": "exterior-premiere",
   "metadata": {},
   "outputs": [
    {
     "data": {
      "text/plain": [
       "[(374, 0.43771115),\n",
       " (1022, 0.34361854),\n",
       " (990, 0.33906084),\n",
       " (1007, 0.3237748),\n",
       " (316, 0.2980287),\n",
       " (913, 0.29191294),\n",
       " (534, 0.28861868),\n",
       " (997, 0.26789856),\n",
       " (1028, 0.26455316),\n",
       " (51, 0.25265038),\n",
       " (279, 0.22879031),\n",
       " (1714, 0.22860396),\n",
       " (1782, 0.21641704),\n",
       " (1358, 0.21601106),\n",
       " (726, 0.21339615),\n",
       " (157, 0.21151893),\n",
       " (197, 0.20425157),\n",
       " (247, 0.20389494),\n",
       " (257, 0.19703986),\n",
       " (1141, 0.19698623)]"
      ]
     },
     "execution_count": 28,
     "metadata": {},
     "output_type": "execute_result"
    }
   ],
   "source": [
    "user = user_to_idx['Jeongeun']\n",
    "\n",
    "# recommend에서는 user*item CSR Matrix를 받음.\n",
    "movie_recommended = als_model.recommend(user, csr_data, N=20, filter_already_liked_items=True)\n",
    "movie_recommended"
   ]
  },
  {
   "cell_type": "code",
   "execution_count": 29,
   "id": "revolutionary-arbitration",
   "metadata": {
    "scrolled": true
   },
   "outputs": [
    {
     "data": {
      "text/plain": [
       "['Exorcist, The (1973)',\n",
       " 'Poltergeist (1982)',\n",
       " 'American Werewolf in London, An (1981)',\n",
       " 'Omen, The (1976)',\n",
       " 'Misery (1990)',\n",
       " 'Fly, The (1986)',\n",
       " 'Carrie (1976)',\n",
       " 'Scream (1996)',\n",
       " 'Psycho (1960)',\n",
       " 'Fargo (1996)',\n",
       " \"Jacob's Ladder (1990)\",\n",
       " 'Christine (1983)',\n",
       " 'Fright Night (1985)',\n",
       " 'Birds, The (1963)',\n",
       " 'Blair Witch Project, The (1999)',\n",
       " 'Shawshank Redemption, The (1994)',\n",
       " 'Jaws (1975)',\n",
       " 'Creepshow (1982)',\n",
       " 'Night of the Living Dead (1968)',\n",
       " 'Dead Zone, The (1983)']"
      ]
     },
     "execution_count": 29,
     "metadata": {},
     "output_type": "execute_result"
    }
   ],
   "source": [
    "[idx_to_title[i[0]] for i in movie_recommended]"
   ]
  },
  {
   "cell_type": "markdown",
   "id": "simplified-cassette",
   "metadata": {},
   "source": [
    "> **왜 엑소시스트를 추천해줬을까? 어떤 영화들이 이 추천에 영향을 주었나?**"
   ]
  },
  {
   "cell_type": "code",
   "execution_count": 30,
   "id": "careful-labor",
   "metadata": {},
   "outputs": [],
   "source": [
    "another = title_to_idx['Exorcist, The (1973)']\n",
    "explain = als_model.explain(user, csr_data, itemid=another)"
   ]
  },
  {
   "cell_type": "code",
   "execution_count": 31,
   "id": "olive-functionality",
   "metadata": {},
   "outputs": [
    {
     "data": {
      "text/plain": [
       "[('Shining, The (1980)', 0.19885064551368292),\n",
       " ('Halloween (1978)', 0.16460009669893208),\n",
       " ('Nightmare on Elm Street, A (1984)', 0.057775806759432585),\n",
       " ('Silence of the Lambs, The (1991)', 0.006229317776487897),\n",
       " ('Friday the 13th (1980)', 0.003893823659122113)]"
      ]
     },
     "execution_count": 31,
     "metadata": {},
     "output_type": "execute_result"
    }
   ],
   "source": [
    "# 추천한 콘텐츠의 점수에 기여한 다른 콘텐츠와 기여도(합이 콘텐츠의 점수)를 반환.\n",
    "[(idx_to_title[i[0]], i[1]) for i in explain[1]] "
   ]
  },
  {
   "cell_type": "markdown",
   "id": "detailed-pierre",
   "metadata": {},
   "source": [
    "> **기여한 영화가 5개 밖에 나오지 않는 이유는 내 유저 아이디로 저장된 영화가 5편 밖에 없기 때문.**"
   ]
  },
  {
   "cell_type": "markdown",
   "id": "fuzzy-glass",
   "metadata": {},
   "source": [
    "*****"
   ]
  },
  {
   "cell_type": "markdown",
   "id": "developmental-dictionary",
   "metadata": {},
   "source": [
    "# 루브릭 평가"
   ]
  },
  {
   "cell_type": "markdown",
   "id": "complex-slide",
   "metadata": {},
   "source": [
    "|평가문항|상세기준|\n",
    "|:------|:------|\n",
    "|1. CSR matrix가 정상적으로 만들어졌다.|사용자와 아이템 개수를 바탕으로 정확한 사이즈로 만들었다.|\n",
    "|2. MF 모델이 정상적으로 훈련되어 그럴듯한 추천이 이루어졌다.|사용자와 아이템 벡터 내적수치가 의미있게 형성되었다.|\n",
    "|3. 비슷한 영화 찾기와 유저에게 추천하기의 과정이 정상적으로 진행되었다.|MF모델이 예측한 유저 선호도 및 아이템간 유사도, 기여도가 의미있게 측정되었다.|"
   ]
  },
  {
   "cell_type": "markdown",
   "id": "daily-grace",
   "metadata": {},
   "source": [
    "> **1. changed_all['count']라는 시청횟수 데이터를 changed_all.user_id, changed_all.title이라는 유저와 영화 개수를 바탕으로 정확한 사이즈의 CSR Matrix를 만들었다.**"
   ]
  },
  {
   "cell_type": "markdown",
   "id": "controlled-bathroom",
   "metadata": {},
   "source": [
    "> **2. 하이퍼 파라미터인 factors와 iterations가 처음에는 100과 15로 설정되어 있었다. 이때는 나의 벡터와 영화의 벡터의 내적(선호도)이 0.5 미만이었다. 그래서 위 두 파라미터를 각각 200과 20으로 바꾸어서 양들의 침묵의 경우에는 선호도가 0.7 이상을 넘길 수 있었다.**    \n",
    ">\n",
    "> **선호하는 영화와 선호하지 않는 영화들의 선호도를 비교해보면 그 차이를 더욱 확연하게 알 수 있다. 선호하는 영화의 경우, 선호도가 0.5 주변에 있거나 그 이상이지만 선호하지 않는 영화의 경우에는 0 주변에 있고 몇몇은 음수임을 알 수 있다.**\n",
    ">\n",
    "> **1에 가까울수록 선호도가 높은 것으로 간주하기로 했는데, 13일의 금요일과 할로윈이 각각 0.4와 0.3 대로 낮은 선호도를 표시하고 있어서 약간 의외라고 생각하고 있다.**"
   ]
  },
  {
   "cell_type": "markdown",
   "id": "productive-manitoba",
   "metadata": {},
   "source": [
    "> **3.나는 선호하는 영화를 모두 호러 영화로 골랐다. 추천받은 비슷한 영화들도 대부분 호러 영화인 것으로 확인되었다. 따라서 선호도는 의미있게 측정된 것으로 보인다.**\n",
    ">\n",
    "> **내가 추천받은 영화에 대한 기여도는 생각보다 낮게 나왔다. 비슷한 장르인 것을 감안하면 의외인 결과였다. 추측하건데, 내가 추천받은 영화는 '엑소시스트'였기에 호러 장르지만 동시에 귀신이 나오는 영화였다.     \n",
    "하지만 내가 선호한다고 말한 영화는 살인마가 나오는 슬래셔 무비나 스릴러에 가까운 호러 영화였기에 상대적으로 주인공으로 내새우는 인물이 달라 기여도가 낮게 나온 것 같다.** "
   ]
  },
  {
   "cell_type": "markdown",
   "id": "fallen-stroke",
   "metadata": {},
   "source": [
    "*****"
   ]
  },
  {
   "cell_type": "markdown",
   "id": "wicked-strength",
   "metadata": {},
   "source": [
    "# 회고"
   ]
  },
  {
   "cell_type": "markdown",
   "id": "selective-collectible",
   "metadata": {},
   "source": [
    " **이번 프로젝트를 통해서 도메인이 얼마나 중요한지 다시금 깨달았다. 나는 영화를 좋아하는터라 이번 도메인이 영화라서 정말 재밌었다. 결과가 제대로 나왔는지 아닌지 내가 보고 판단할 수 있으니 프로젝트를 진행하는 것이 한결 수월했다.**     \n",
    "\n",
    " **CSR Matrix를 처음 접했을 땐 정말 어려웠다. 그래도 손으로 행렬을 그리면서 하니 이해가 됐다. 0과 같은 빈 공간을 절약해서 필요한 정보만 넣는다니 얼마나 효율적인지! 이런걸 직접 생각해 낸 사람도 신기하고, 그 방법을 추천시스템에 적용할 생각을 했다는 것도 놀라웠다.**\n",
    " \n",
    " **내가 Flask 같은 것을 사용할 줄 알았다면, 영화를 입력해서 비슷한 영화를 추천해주는 웹 페이지(?)같은 것을 만들어봐도 좋을 거란 생각이 들었다. 하지만 항상 걸리는 것은 나의 코딩 실력이다.**\n",
    " \n",
    "**그래도 이번 프로젝트는 정말 재밌었고,정말 왓챠나 넷플릭스에서 볼법한 실무적인 프로젝트를 해낸 것 같아 마음이 참 뿌듯하다.**"
   ]
  }
 ],
 "metadata": {
  "kernelspec": {
   "display_name": "Python 3",
   "language": "python",
   "name": "python3"
  },
  "language_info": {
   "codemirror_mode": {
    "name": "ipython",
    "version": 3
   },
   "file_extension": ".py",
   "mimetype": "text/x-python",
   "name": "python",
   "nbconvert_exporter": "python",
   "pygments_lexer": "ipython3",
   "version": "3.7.9"
  }
 },
 "nbformat": 4,
 "nbformat_minor": 5
}
